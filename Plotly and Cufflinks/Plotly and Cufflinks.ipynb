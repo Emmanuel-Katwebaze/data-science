{
 "cells": [
  {
   "cell_type": "code",
   "execution_count": 1,
   "id": "a7308984",
   "metadata": {},
   "outputs": [],
   "source": [
    "import pandas as pd\n",
    "import numpy as np\n",
    "%matplotlib inline"
   ]
  },
  {
   "cell_type": "code",
   "execution_count": 2,
   "id": "8b238101",
   "metadata": {},
   "outputs": [],
   "source": [
    "from plotly import __version__"
   ]
  },
  {
   "cell_type": "code",
   "execution_count": 3,
   "id": "c3df4164",
   "metadata": {},
   "outputs": [
    {
     "name": "stdout",
     "output_type": "stream",
     "text": [
      "5.9.0\n"
     ]
    }
   ],
   "source": [
    "print(__version__)"
   ]
  },
  {
   "cell_type": "code",
   "execution_count": 4,
   "id": "3adc84ca",
   "metadata": {},
   "outputs": [],
   "source": [
    "import cufflinks as cf"
   ]
  },
  {
   "cell_type": "code",
   "execution_count": 5,
   "id": "eb36b2e9",
   "metadata": {},
   "outputs": [],
   "source": [
    "from plotly.offline import download_plotlyjs,init_notebook_mode,plot,iplot"
   ]
  },
  {
   "cell_type": "code",
   "execution_count": 6,
   "id": "2aad3422",
   "metadata": {},
   "outputs": [
    {
     "data": {
      "text/html": [
       "        <script type=\"text/javascript\">\n",
       "        window.PlotlyConfig = {MathJaxConfig: 'local'};\n",
       "        if (window.MathJax && window.MathJax.Hub && window.MathJax.Hub.Config) {window.MathJax.Hub.Config({SVG: {font: \"STIX-Web\"}});}\n",
       "        if (typeof require !== 'undefined') {\n",
       "        require.undef(\"plotly\");\n",
       "        requirejs.config({\n",
       "            paths: {\n",
       "                'plotly': ['https://cdn.plot.ly/plotly-2.12.1.min']\n",
       "            }\n",
       "        });\n",
       "        require(['plotly'], function(Plotly) {\n",
       "            window._Plotly = Plotly;\n",
       "        });\n",
       "        }\n",
       "        </script>\n",
       "        "
      ]
     },
     "metadata": {},
     "output_type": "display_data"
    }
   ],
   "source": [
    "init_notebook_mode(connected=True)"
   ]
  },
  {
   "cell_type": "code",
   "execution_count": 7,
   "id": "bc0daeeb",
   "metadata": {},
   "outputs": [
    {
     "data": {
      "text/html": [
       "        <script type=\"text/javascript\">\n",
       "        window.PlotlyConfig = {MathJaxConfig: 'local'};\n",
       "        if (window.MathJax && window.MathJax.Hub && window.MathJax.Hub.Config) {window.MathJax.Hub.Config({SVG: {font: \"STIX-Web\"}});}\n",
       "        if (typeof require !== 'undefined') {\n",
       "        require.undef(\"plotly\");\n",
       "        requirejs.config({\n",
       "            paths: {\n",
       "                'plotly': ['https://cdn.plot.ly/plotly-2.12.1.min']\n",
       "            }\n",
       "        });\n",
       "        require(['plotly'], function(Plotly) {\n",
       "            window._Plotly = Plotly;\n",
       "        });\n",
       "        }\n",
       "        </script>\n",
       "        "
      ]
     },
     "metadata": {},
     "output_type": "display_data"
    }
   ],
   "source": [
    "cf.go_offline()"
   ]
  },
  {
   "cell_type": "code",
   "execution_count": 8,
   "id": "a882ef9f",
   "metadata": {},
   "outputs": [],
   "source": [
    "# Data\n",
    "df = pd.DataFrame(np.random.randn(100, 4), columns='A B C D'.split())"
   ]
  },
  {
   "cell_type": "code",
   "execution_count": 9,
   "id": "37f89ec8",
   "metadata": {},
   "outputs": [
    {
     "data": {
      "text/html": [
       "<div>\n",
       "<style scoped>\n",
       "    .dataframe tbody tr th:only-of-type {\n",
       "        vertical-align: middle;\n",
       "    }\n",
       "\n",
       "    .dataframe tbody tr th {\n",
       "        vertical-align: top;\n",
       "    }\n",
       "\n",
       "    .dataframe thead th {\n",
       "        text-align: right;\n",
       "    }\n",
       "</style>\n",
       "<table border=\"1\" class=\"dataframe\">\n",
       "  <thead>\n",
       "    <tr style=\"text-align: right;\">\n",
       "      <th></th>\n",
       "      <th>A</th>\n",
       "      <th>B</th>\n",
       "      <th>C</th>\n",
       "      <th>D</th>\n",
       "    </tr>\n",
       "  </thead>\n",
       "  <tbody>\n",
       "    <tr>\n",
       "      <th>0</th>\n",
       "      <td>0.435397</td>\n",
       "      <td>0.760389</td>\n",
       "      <td>1.750684</td>\n",
       "      <td>0.867496</td>\n",
       "    </tr>\n",
       "    <tr>\n",
       "      <th>1</th>\n",
       "      <td>0.158194</td>\n",
       "      <td>-0.301477</td>\n",
       "      <td>-0.055259</td>\n",
       "      <td>-0.151691</td>\n",
       "    </tr>\n",
       "    <tr>\n",
       "      <th>2</th>\n",
       "      <td>0.628793</td>\n",
       "      <td>-0.810432</td>\n",
       "      <td>0.617096</td>\n",
       "      <td>1.483312</td>\n",
       "    </tr>\n",
       "    <tr>\n",
       "      <th>3</th>\n",
       "      <td>-0.264011</td>\n",
       "      <td>1.158310</td>\n",
       "      <td>-0.111592</td>\n",
       "      <td>-1.407451</td>\n",
       "    </tr>\n",
       "    <tr>\n",
       "      <th>4</th>\n",
       "      <td>-1.832481</td>\n",
       "      <td>0.662599</td>\n",
       "      <td>0.511682</td>\n",
       "      <td>1.680984</td>\n",
       "    </tr>\n",
       "  </tbody>\n",
       "</table>\n",
       "</div>"
      ],
      "text/plain": [
       "          A         B         C         D\n",
       "0  0.435397  0.760389  1.750684  0.867496\n",
       "1  0.158194 -0.301477 -0.055259 -0.151691\n",
       "2  0.628793 -0.810432  0.617096  1.483312\n",
       "3 -0.264011  1.158310 -0.111592 -1.407451\n",
       "4 -1.832481  0.662599  0.511682  1.680984"
      ]
     },
     "execution_count": 9,
     "metadata": {},
     "output_type": "execute_result"
    }
   ],
   "source": [
    "df.head()"
   ]
  },
  {
   "cell_type": "code",
   "execution_count": 10,
   "id": "f0b7e278",
   "metadata": {},
   "outputs": [],
   "source": [
    "df2 = pd.DataFrame({'Category': ['A', 'B', 'C'], 'Values': [32, 43, 50]})"
   ]
  },
  {
   "cell_type": "code",
   "execution_count": 11,
   "id": "07bbe17c",
   "metadata": {},
   "outputs": [
    {
     "data": {
      "text/html": [
       "<div>\n",
       "<style scoped>\n",
       "    .dataframe tbody tr th:only-of-type {\n",
       "        vertical-align: middle;\n",
       "    }\n",
       "\n",
       "    .dataframe tbody tr th {\n",
       "        vertical-align: top;\n",
       "    }\n",
       "\n",
       "    .dataframe thead th {\n",
       "        text-align: right;\n",
       "    }\n",
       "</style>\n",
       "<table border=\"1\" class=\"dataframe\">\n",
       "  <thead>\n",
       "    <tr style=\"text-align: right;\">\n",
       "      <th></th>\n",
       "      <th>Category</th>\n",
       "      <th>Values</th>\n",
       "    </tr>\n",
       "  </thead>\n",
       "  <tbody>\n",
       "    <tr>\n",
       "      <th>0</th>\n",
       "      <td>A</td>\n",
       "      <td>32</td>\n",
       "    </tr>\n",
       "    <tr>\n",
       "      <th>1</th>\n",
       "      <td>B</td>\n",
       "      <td>43</td>\n",
       "    </tr>\n",
       "    <tr>\n",
       "      <th>2</th>\n",
       "      <td>C</td>\n",
       "      <td>50</td>\n",
       "    </tr>\n",
       "  </tbody>\n",
       "</table>\n",
       "</div>"
      ],
      "text/plain": [
       "  Category  Values\n",
       "0        A      32\n",
       "1        B      43\n",
       "2        C      50"
      ]
     },
     "execution_count": 11,
     "metadata": {},
     "output_type": "execute_result"
    }
   ],
   "source": [
    "df2"
   ]
  },
  {
   "cell_type": "code",
   "execution_count": 12,
   "id": "5918c2aa",
   "metadata": {},
   "outputs": [
    {
     "data": {
      "text/plain": [
       "<AxesSubplot:>"
      ]
     },
     "execution_count": 12,
     "metadata": {},
     "output_type": "execute_result"
    },
    {
     "data": {
      "image/png": "[encoded data removed]",
      "text/plain": [
       "<Figure size 640x480 with 1 Axes>"
      ]
     },
     "metadata": {},
     "output_type": "display_data"
    }
   ],
   "source": [
    "df.plot()"
   ]
  },
  {
   "cell_type": "code",
   "execution_count": 13,
   "id": "f92452da",
   "metadata": {},
   "outputs": [
    {
     "data": {
      "application/vnd.plotly.v1+json": {
       "config": {
        "linkText": "Export to plot.ly",
        "plotlyServerURL": "https://plot.ly",
        "showLink": true
       },
       "data": [
        {
         "line": {
          "color": "rgba(255, 153, 51, 1.0)",
          "dash": "solid",
          "shape": "linear",
          "width": 1.3
         },
         "mode": "lines",
         "name": "A",
         "text": "",
         "type": "scatter",
         "x": [
          0,
          1,
          2,
          3,
          4,
          5,
          6,
          7,
          8,
          9,
          10,
          11,
          12,
          13,
          14,
          15,
          16,
          17,
          18,
          19,
          20,
          21,
          22,
          23,
          24,
          25,
          26,
          27,
          28,
          29,
          30,
          31,
          32,
          33,
          34,
          35,
          36,
          37,
          38,
          39,
          40,
          41,
          42,
          43,
          44,
          45,
          46,
          47,
          48,
          49,
          50,
          51,
          52,
          53,
          54,
          55,
          56,
          57,
          58,
          59,
          60,
          61,
          62,
          63,
          64,
          65,
          66,
          67,
          68,
          69,
          70,
          71,
          72,
          73,
          74,
          75,
          76,
          77,
          78,
          79,
          80,
          81,
          82,
          83,
          84,
          85,
          86,
          87,
          88,
          89,
          90,
          91,
          92,
          93,
          94,
          95,
          96,
          97,
          98,
          99
         ],
         "y": [
          0.43539700148335236,
          0.15819395423214852,
          0.62879333196527,
          -0.26401107422169673,
          -1.8324809705325915,
          0.7704629872779027,
          1.7497298283959724,
          -1.0015334595201602,
          -1.718240559825639,
          0.628596523719882,
          -0.42019354274908316,
          2.7136701685643403,
          -0.9378495172398871,
          0.6598021382631747,
          1.6184775733872263,
          1.3954033785382987,
          1.405495874826309,
          -1.166616968739883,
          2.365923532026527,
          1.1133259856604942,
          -1.6813679639527261,
          -0.04667403900552732,
          -0.6363654890464304,
          -1.5425012567014285,
          -1.012741270794969,
          0.12132634073101281,
          1.595602460076769,
          1.7305965984334635,
          -1.9217891095448971,
          1.1860294383645715,
          0.26201847879465384,
          -1.2055378111750752,
          2.3438810173248927,
          1.2086288002904493,
          -1.8314084636430585,
          1.7619781396825958,
          2.1031817281439817,
          -2.5307453072827966,
          1.2761298243307624,
          -1.772353423710465,
          -0.636420642902602,
          -1.930564293340949,
          -1.0610308479700656,
          -0.450655785586209,
          -2.1425651099825824,
          -1.0903966470383508,
          -0.5620779766373142,
          -0.770744501166946,
          0.317708947982711,
          0.1318688172018447,
          -1.2201324264384652,
          -0.19136686704154338,
          -0.06257792497623924,
          0.5936190711859071,
          1.1391272098088527,
          0.7464631766024825,
          -0.8977662361522014,
          0.14140290562352897,
          0.3256123427724348,
          0.9112030544266069,
          0.8357966193733269,
          1.7487601057521938,
          -0.49373510396354875,
          -0.6666213874172607,
          1.1831818138576176,
          -1.0182097832516077,
          -0.04630874727601642,
          -0.9836337689727818,
          1.9926142232426531,
          0.7440871065414701,
          0.28972919333565683,
          -0.5480211897462933,
          0.8413311240763615,
          -0.6346241128971083,
          -0.4398922253755513,
          -0.28149585930036625,
          0.6490498459345291,
          -0.23584960142982708,
          -1.5937987594535374,
          0.051213682792660656,
          -0.374994885556381,
          0.7207560378542024,
          0.5394156502485068,
          1.1572917713327477,
          -2.5643244253052964,
          -0.10181612060765612,
          0.11183773067467831,
          1.1028927065391063,
          -1.3752211222891688,
          2.16105987106691,
          -0.7898043390090209,
          1.6487450904111807,
          -1.7240798592526558,
          0.4254960002374844,
          0.2156919556300176,
          0.2031078608182616,
          0.21648296318241012,
          0.6718965344393238,
          -1.8998227182750862,
          -0.017153916755728384
         ]
        },
        {
         "line": {
          "color": "rgba(55, 128, 191, 1.0)",
          "dash": "solid",
          "shape": "linear",
          "width": 1.3
         },
         "mode": "lines",
         "name": "B",
         "text": "",
         "type": "scatter",
         "x": [
          0,
          1,
          2,
          3,
          4,
          5,
          6,
          7,
          8,
          9,
          10,
          11,
          12,
          13,
          14,
          15,
          16,
          17,
          18,
          19,
          20,
          21,
          22,
          23,
          24,
          25,
          26,
          27,
          28,
          29,
          30,
          31,
          32,
          33,
          34,
          35,
          36,
          37,
          38,
          39,
          40,
          41,
          42,
          43,
          44,
          45,
          46,
          47,
          48,
          49,
          50,
          51,
          52,
          53,
          54,
          55,
          56,
          57,
          58,
          59,
          60,
          61,
          62,
          63,
          64,
          65,
          66,
          67,
          68,
          69,
          70,
          71,
          72,
          73,
          74,
          75,
          76,
          77,
          78,
          79,
          80,
          81,
          82,
          83,
          84,
          85,
          86,
          87,
          88,
          89,
          90,
          91,
          92,
          93,
          94,
          95,
          96,
          97,
          98,
          99
         ],
         "y": [
          0.760388682451242,
          -0.3014770718387929,
          -0.8104320504480762,
          1.1583102446320703,
          0.66259937418456,
          -0.8731559685701944,
          -0.10732150644350782,
          -1.4845842008871466,
          -1.1868462655772307,
          1.613590761177109,
          -1.9381099315529704,
          -0.29380824929788424,
          1.3599307756073165,
          -0.36836520730565253,
          -0.3269586169498003,
          -0.8722022296216736,
          1.7599609916589511,
          2.412515853128903,
          -1.1138794684306152,
          1.5653823254598276,
          1.7614719313614335,
          -1.2290358322794215,
          2.6522230722984435,
          1.0163014618558739,
          0.6293809696480948,
          -1.5146156122233023,
          0.016940034354393264,
          0.0032133467236007663,
          -0.5981712356892535,
          0.020951829720675653,
          1.9963821917383087,
          1.0740671422306807,
          0.17809074697460173,
          0.04485989073294413,
          -0.4227495550182459,
          -0.32645695274430736,
          0.698607870034912,
          0.6330148722372047,
          0.2875584885528013,
          1.1234133729510283,
          0.24214275695220294,
          -0.9745143810694096,
          -0.09487224825524246,
          -0.05206076437308604,
          0.1700768924108305,
          1.300218316913883,
          -0.14751521656419564,
          -0.30080352426550006,
          -0.8520916792252314,
          1.1620463903000628,
          1.2476009203676264,
          -0.629125183496713,
          -0.3785357939583569,
          -0.914900498176864,
          0.15739646399040055,
          -0.08110020866252839,
          1.2781757771914946,
          1.9785521600539933,
          -0.07924996180658282,
          -0.17064150415758025,
          -0.33892612512205456,
          -0.8766265534473259,
          -0.8696592484215764,
          1.1323493113477194,
          -1.7050942234370272,
          -0.600405565715628,
          -0.1789375334228437,
          0.2764438144488436,
          -1.3979390762783197,
          1.3262592652981067,
          0.703525942698256,
          1.411777371228823,
          -1.6110804563893522,
          0.39705885749036557,
          -0.24578206196537786,
          -1.0140463874894474,
          0.35097105186424615,
          0.22520868769189759,
          0.11269335584705568,
          -0.6275979165028887,
          0.830374106714317,
          0.21139937581431129,
          -0.5613355709825517,
          0.5599973868588114,
          0.10923587614740028,
          -0.21228235369384083,
          0.9848944487618184,
          0.15230352046132178,
          -0.24908169790355753,
          -0.5547350602916322,
          -0.26024067645453,
          -0.12512543124851477,
          1.4959303828793944,
          -0.8075642744958867,
          -0.7868387528914741,
          0.11502021583953378,
          1.052635171665947,
          -2.005202626886498,
          0.36358094296755,
          -1.292869329621461
         ]
        },
        {
         "line": {
          "color": "rgba(50, 171, 96, 1.0)",
          "dash": "solid",
          "shape": "linear",
          "width": 1.3
         },
         "mode": "lines",
         "name": "C",
         "text": "",
         "type": "scatter",
         "x": [
          0,
          1,
          2,
          3,
          4,
          5,
          6,
          7,
          8,
          9,
          10,
          11,
          12,
          13,
          14,
          15,
          16,
          17,
          18,
          19,
          20,
          21,
          22,
          23,
          24,
          25,
          26,
          27,
          28,
          29,
          30,
          31,
          32,
          33,
          34,
          35,
          36,
          37,
          38,
          39,
          40,
          41,
          42,
          43,
          44,
          45,
          46,
          47,
          48,
          49,
          50,
          51,
          52,
          53,
          54,
          55,
          56,
          57,
          58,
          59,
          60,
          61,
          62,
          63,
          64,
          65,
          66,
          67,
          68,
          69,
          70,
          71,
          72,
          73,
          74,
          75,
          76,
          77,
          78,
          79,
          80,
          81,
          82,
          83,
          84,
          85,
          86,
          87,
          88,
          89,
          90,
          91,
          92,
          93,
          94,
          95,
          96,
          97,
          98,
          99
         ],
         "y": [
          1.7506839868116808,
          -0.05525851995596629,
          0.6170957201984968,
          -0.1115916319829114,
          0.5116816361868437,
          -2.2152101125435837,
          0.3315284364893782,
          0.12061261355873394,
          0.5657298475690731,
          0.528530005982104,
          1.3505673671144591,
          -1.1948625165823614,
          0.1861245268017284,
          1.466340663888806,
          -1.2496218278444502,
          -0.042254756026113054,
          0.5746877175630754,
          -1.4166594196141769,
          -1.1968199850030214,
          -0.8183800016923555,
          -0.5647855815888667,
          1.6581385906754473,
          -0.7466315211949155,
          0.1952774246638472,
          -1.4104910973740832,
          1.4284226905547313,
          -0.7664668283501381,
          -1.0838001767570018,
          0.7010686784174124,
          -0.1023297922421422,
          -1.2886240495582049,
          -0.7061207593027529,
          2.897502161129242,
          0.9010808303981163,
          0.5016339407709492,
          0.9970946254454802,
          -0.47115995979066305,
          -0.1973994499002884,
          1.7604450496094302,
          -0.6051709023066923,
          0.9185178513752467,
          -0.8971569837423113,
          1.092970248153521,
          -2.8136003677014547,
          -0.4576797890519921,
          0.6447060998883003,
          -0.8028938635150691,
          0.003505585948315358,
          0.3383690386122811,
          1.198436831143238,
          2.771847156459742,
          -2.254330916431132,
          0.9530849486491482,
          0.6857462587854266,
          2.026903317173535,
          0.21174591471811552,
          0.22119891318704257,
          -0.05312608477809972,
          -0.7409850974978949,
          1.892017237178089,
          -0.15679681385950367,
          -0.17109223041264868,
          1.6471337568749136,
          0.21920988201479505,
          -0.048131328941061535,
          0.006603176246051127,
          -1.20402950851814,
          1.2085801022634717,
          -0.22433096462997068,
          -1.0454463934053035,
          0.1220757939666129,
          1.3928722662278032,
          -1.508180765613294,
          0.9753571596335696,
          1.0784228637983067,
          0.7306926141166368,
          0.791267501618441,
          -0.8911164913797028,
          -1.1300915430771676,
          -0.06772167392315274,
          -1.5982042392029663,
          -1.1891695259259196,
          0.761386083379142,
          -0.4009140073390794,
          0.2095063908492791,
          0.06821644400313408,
          -0.6041624031835817,
          -0.03061682006821153,
          -0.1142173127149515,
          -1.6513277968691016,
          -1.0150656386360692,
          1.020045683034253,
          -1.839457892151129,
          0.6104771664127984,
          1.2816301431717376,
          -0.5420794843175418,
          0.36656788811570845,
          -0.7064686605718921,
          0.5004953964617794,
          1.0191968371752167
         ]
        },
        {
         "line": {
          "color": "rgba(128, 0, 128, 1.0)",
          "dash": "solid",
          "shape": "linear",
          "width": 1.3
         },
         "mode": "lines",
         "name": "D",
         "text": "",
         "type": "scatter",
         "x": [
          0,
          1,
          2,
          3,
          4,
          5,
          6,
          7,
          8,
          9,
          10,
          11,
          12,
          13,
          14,
          15,
          16,
          17,
          18,
          19,
          20,
          21,
          22,
          23,
          24,
          25,
          26,
          27,
          28,
          29,
          30,
          31,
          32,
          33,
          34,
          35,
          36,
          37,
          38,
          39,
          40,
          41,
          42,
          43,
          44,
          45,
          46,
          47,
          48,
          49,
          50,
          51,
          52,
          53,
          54,
          55,
          56,
          57,
          58,
          59,
          60,
          61,
          62,
          63,
          64,
          65,
          66,
          67,
          68,
          69,
          70,
          71,
          72,
          73,
          74,
          75,
          76,
          77,
          78,
          79,
          80,
          81,
          82,
          83,
          84,
          85,
          86,
          87,
          88,
          89,
          90,
          91,
          92,
          93,
          94,
          95,
          96,
          97,
          98,
          99
         ],
         "y": [
          0.8674962935144439,
          -0.15169061237904777,
          1.4833116835967546,
          -1.4074514343551905,
          1.6809840507857228,
          -0.7824343697157726,
          -1.1380900973944608,
          -1.1684071193234065,
          -0.0878769934933399,
          -0.18802903883875,
          1.1054096358312044,
          -0.24648969074191718,
          -0.5241680651347467,
          0.035331855455702256,
          0.015225596692327365,
          -0.6060087395337597,
          -0.9434835248285206,
          0.1497847075865502,
          0.1522093133466193,
          1.4150504705341356,
          0.6358530188099831,
          0.41411480056120253,
          0.5012150075195608,
          1.0918677517923927,
          -1.0110630912716843,
          0.7501167863796132,
          0.22526828659737172,
          -0.3928236835144014,
          0.05139529009097846,
          -1.5088301646601956,
          -0.006479746879657132,
          -1.3783917816596891,
          0.4028905799711096,
          -1.239179450863049,
          1.718021008393491,
          0.5505466944824268,
          -0.14824266673830355,
          1.4971862088434158,
          1.7856499631672211,
          -1.5121481986483902,
          -0.6158928496562914,
          -1.553905392676682,
          -0.4806126433270155,
          0.8549312578480122,
          -0.04568548986192174,
          -0.09289049173836152,
          0.6322409552767246,
          -0.5599033007259137,
          -0.3037859876969862,
          0.16983967055496837,
          0.1709607920225609,
          -0.34886082288164394,
          -1.3692790368586323,
          0.7885755016061133,
          -0.07133724885285725,
          -0.3575113346043425,
          0.8439328842517401,
          1.004879695851903,
          -0.36505763244114714,
          0.34469487183119296,
          0.08414626368852046,
          -1.0809642257758973,
          -2.544189181053026,
          -0.011664663423132037,
          -0.6412660010849413,
          0.849998385732044,
          1.622056962493663,
          0.9356600649157409,
          -0.897115091137332,
          0.7381536272834047,
          -0.8793215655655365,
          0.2889625791761557,
          1.554875265954636,
          -0.48248282999102315,
          -0.5391204960250202,
          0.3763552292283802,
          1.8407821584581037,
          0.3211550805423586,
          1.201203797763351,
          0.39424029396382054,
          0.5878383417101924,
          0.6698006096665847,
          -0.8586992507168567,
          -1.6366547297430356,
          0.054812542476560415,
          0.19531981977357643,
          -0.5023449008405783,
          1.359709951480831,
          -0.7040273728122117,
          -2.51023297090885,
          1.774352674744687,
          0.04172615855687068,
          0.35652881894014826,
          0.914906888607246,
          0.27973928313574714,
          -0.6987222670653883,
          -2.0880394552582535,
          0.032666666094802205,
          -0.8203891211559984,
          0.8018099020438711
         ]
        }
       ],
       "layout": {
        "legend": {
         "bgcolor": "#F5F6F9",
         "font": {
          "color": "#4D5663"
         }
        },
        "paper_bgcolor": "#F5F6F9",
        "plot_bgcolor": "#F5F6F9",
        "template": {
         "data": {
          "bar": [
           {
            "error_x": {
             "color": "#2a3f5f"
            },
            "error_y": {
             "color": "#2a3f5f"
            },
            "marker": {
             "line": {
              "color": "#E5ECF6",
              "width": 0.5
             },
             "pattern": {
              "fillmode": "overlay",
              "size": 10,
              "solidity": 0.2
             }
            },
            "type": "bar"
           }
          ],
          "barpolar": [
           {
            "marker": {
             "line": {
              "color": "#E5ECF6",
              "width": 0.5
             },
             "pattern": {
              "fillmode": "overlay",
              "size": 10,
              "solidity": 0.2
             }
            },
            "type": "barpolar"
           }
          ],
          "carpet": [
           {
            "aaxis": {
             "endlinecolor": "#2a3f5f",
             "gridcolor": "white",
             "linecolor": "white",
             "minorgridcolor": "white",
             "startlinecolor": "#2a3f5f"
            },
            "baxis": {
             "endlinecolor": "#2a3f5f",
             "gridcolor": "white",
             "linecolor": "white",
             "minorgridcolor": "white",
             "startlinecolor": "#2a3f5f"
            },
            "type": "carpet"
           }
          ],
          "choropleth": [
           {
            "colorbar": {
             "outlinewidth": 0,
             "ticks": ""
            },
            "type": "choropleth"
           }
          ],
          "contour": [
           {
            "colorbar": {
             "outlinewidth": 0,
             "ticks": ""
            },
            "colorscale": [
             [
              0,
              "#0d0887"
             ],
             [
              0.1111111111111111,
              "#46039f"
             ],
             [
              0.2222222222222222,
              "#7201a8"
             ],
             [
              0.3333333333333333,
              "#9c179e"
             ],
             [
              0.4444444444444444,
              "#bd3786"
             ],
             [
              0.5555555555555556,
              "#d8576b"
             ],
             [
              0.6666666666666666,
              "#ed7953"
             ],
             [
              0.7777777777777778,
              "#fb9f3a"
             ],
             [
              0.8888888888888888,
              "#fdca26"
             ],
             [
              1,
              "#f0f921"
             ]
            ],
            "type": "contour"
           }
          ],
          "contourcarpet": [
           {
            "colorbar": {
             "outlinewidth": 0,
             "ticks": ""
            },
            "type": "contourcarpet"
           }
          ],
          "heatmap": [
           {
            "colorbar": {
             "outlinewidth": 0,
             "ticks": ""
            },
            "colorscale": [
             [
              0,
              "#0d0887"
             ],
             [
              0.1111111111111111,
              "#46039f"
             ],
             [
              0.2222222222222222,
              "#7201a8"
             ],
             [
              0.3333333333333333,
              "#9c179e"
             ],
             [
              0.4444444444444444,
              "#bd3786"
             ],
             [
              0.5555555555555556,
              "#d8576b"
             ],
             [
              0.6666666666666666,
              "#ed7953"
             ],
             [
              0.7777777777777778,
              "#fb9f3a"
             ],
             [
              0.8888888888888888,
              "#fdca26"
             ],
             [
              1,
              "#f0f921"
             ]
            ],
            "type": "heatmap"
           }
          ],
          "heatmapgl": [
           {
            "colorbar": {
             "outlinewidth": 0,
             "ticks": ""
            },
            "colorscale": [
             [
              0,
              "#0d0887"
             ],
             [
              0.1111111111111111,
              "#46039f"
             ],
             [
              0.2222222222222222,
              "#7201a8"
             ],
             [
              0.3333333333333333,
              "#9c179e"
             ],
             [
              0.4444444444444444,
              "#bd3786"
             ],
             [
              0.5555555555555556,
              "#d8576b"
             ],
             [
              0.6666666666666666,
              "#ed7953"
             ],
             [
              0.7777777777777778,
              "#fb9f3a"
             ],
             [
              0.8888888888888888,
              "#fdca26"
             ],
             [
              1,
              "#f0f921"
             ]
            ],
            "type": "heatmapgl"
           }
          ],
          "histogram": [
           {
            "marker": {
             "pattern": {
              "fillmode": "overlay",
              "size": 10,
              "solidity": 0.2
             }
            },
            "type": "histogram"
           }
          ],
          "histogram2d": [
           {
            "colorbar": {
             "outlinewidth": 0,
             "ticks": ""
            },
            "colorscale": [
             [
              0,
              "#0d0887"
             ],
             [
              0.1111111111111111,
              "#46039f"
             ],
             [
              0.2222222222222222,
              "#7201a8"
             ],
             [
              0.3333333333333333,
              "#9c179e"
             ],
             [
              0.4444444444444444,
              "#bd3786"
             ],
             [
              0.5555555555555556,
              "#d8576b"
             ],
             [
              0.6666666666666666,
              "#ed7953"
             ],
             [
              0.7777777777777778,
              "#fb9f3a"
             ],
             [
              0.8888888888888888,
              "#fdca26"
             ],
             [
              1,
              "#f0f921"
             ]
            ],
            "type": "histogram2d"
           }
          ],
          "histogram2dcontour": [
           {
            "colorbar": {
             "outlinewidth": 0,
             "ticks": ""
            },
            "colorscale": [
             [
              0,
              "#0d0887"
             ],
             [
              0.1111111111111111,
              "#46039f"
             ],
             [
              0.2222222222222222,
              "#7201a8"
             ],
             [
              0.3333333333333333,
              "#9c179e"
             ],
             [
              0.4444444444444444,
              "#bd3786"
             ],
             [
              0.5555555555555556,
              "#d8576b"
             ],
             [
              0.6666666666666666,
              "#ed7953"
             ],
             [
              0.7777777777777778,
              "#fb9f3a"
             ],
             [
              0.8888888888888888,
              "#fdca26"
             ],
             [
              1,
              "#f0f921"
             ]
            ],
            "type": "histogram2dcontour"
           }
          ],
          "mesh3d": [
           {
            "colorbar": {
             "outlinewidth": 0,
             "ticks": ""
            },
            "type": "mesh3d"
           }
          ],
          "parcoords": [
           {
            "line": {
             "colorbar": {
              "outlinewidth": 0,
              "ticks": ""
             }
            },
            "type": "parcoords"
           }
          ],
          "pie": [
           {
            "automargin": true,
            "type": "pie"
           }
          ],
          "scatter": [
           {
            "fillpattern": {
             "fillmode": "overlay",
             "size": 10,
             "solidity": 0.2
            },
            "type": "scatter"
           }
          ],
          "scatter3d": [
           {
            "line": {
             "colorbar": {
              "outlinewidth": 0,
              "ticks": ""
             }
            },
            "marker": {
             "colorbar": {
              "outlinewidth": 0,
              "ticks": ""
             }
            },
            "type": "scatter3d"
           }
          ],
          "scattercarpet": [
           {
            "marker": {
             "colorbar": {
              "outlinewidth": 0,
              "ticks": ""
             }
            },
            "type": "scattercarpet"
           }
          ],
          "scattergeo": [
           {
            "marker": {
             "colorbar": {
              "outlinewidth": 0,
              "ticks": ""
             }
            },
            "type": "scattergeo"
           }
          ],
          "scattergl": [
           {
            "marker": {
             "colorbar": {
              "outlinewidth": 0,
              "ticks": ""
             }
            },
            "type": "scattergl"
           }
          ],
          "scattermapbox": [
           {
            "marker": {
             "colorbar": {
              "outlinewidth": 0,
              "ticks": ""
             }
            },
            "type": "scattermapbox"
           }
          ],
          "scatterpolar": [
           {
            "marker": {
             "colorbar": {
              "outlinewidth": 0,
              "ticks": ""
             }
            },
            "type": "scatterpolar"
           }
          ],
          "scatterpolargl": [
           {
            "marker": {
             "colorbar": {
              "outlinewidth": 0,
              "ticks": ""
             }
            },
            "type": "scatterpolargl"
           }
          ],
          "scatterternary": [
           {
            "marker": {
             "colorbar": {
              "outlinewidth": 0,
              "ticks": ""
             }
            },
            "type": "scatterternary"
           }
          ],
          "surface": [
           {
            "colorbar": {
             "outlinewidth": 0,
             "ticks": ""
            },
            "colorscale": [
             [
              0,
              "#0d0887"
             ],
             [
              0.1111111111111111,
              "#46039f"
             ],
             [
              0.2222222222222222,
              "#7201a8"
             ],
             [
              0.3333333333333333,
              "#9c179e"
             ],
             [
              0.4444444444444444,
              "#bd3786"
             ],
             [
              0.5555555555555556,
              "#d8576b"
             ],
             [
              0.6666666666666666,
              "#ed7953"
             ],
             [
              0.7777777777777778,
              "#fb9f3a"
             ],
             [
              0.8888888888888888,
              "#fdca26"
             ],
             [
              1,
              "#f0f921"
             ]
            ],
            "type": "surface"
           }
          ],
          "table": [
           {
            "cells": {
             "fill": {
              "color": "#EBF0F8"
             },
             "line": {
              "color": "white"
             }
            },
            "header": {
             "fill": {
              "color": "#C8D4E3"
             },
             "line": {
              "color": "white"
             }
            },
            "type": "table"
           }
          ]
         },
         "layout": {
          "annotationdefaults": {
           "arrowcolor": "#2a3f5f",
           "arrowhead": 0,
           "arrowwidth": 1
          },
          "autotypenumbers": "strict",
          "coloraxis": {
           "colorbar": {
            "outlinewidth": 0,
            "ticks": ""
           }
          },
          "colorscale": {
           "diverging": [
            [
             0,
             "#8e0152"
            ],
            [
             0.1,
             "#c51b7d"
            ],
            [
             0.2,
             "#de77ae"
            ],
            [
             0.3,
             "#f1b6da"
            ],
            [
             0.4,
             "#fde0ef"
            ],
            [
             0.5,
             "#f7f7f7"
            ],
            [
             0.6,
             "#e6f5d0"
            ],
            [
             0.7,
             "#b8e186"
            ],
            [
             0.8,
             "#7fbc41"
            ],
            [
             0.9,
             "#4d9221"
            ],
            [
             1,
             "#276419"
            ]
           ],
           "sequential": [
            [
             0,
             "#0d0887"
            ],
            [
             0.1111111111111111,
             "#46039f"
            ],
            [
             0.2222222222222222,
             "#7201a8"
            ],
            [
             0.3333333333333333,
             "#9c179e"
            ],
            [
             0.4444444444444444,
             "#bd3786"
            ],
            [
             0.5555555555555556,
             "#d8576b"
            ],
            [
             0.6666666666666666,
             "#ed7953"
            ],
            [
             0.7777777777777778,
             "#fb9f3a"
            ],
            [
             0.8888888888888888,
             "#fdca26"
            ],
            [
             1,
             "#f0f921"
            ]
           ],
           "sequentialminus": [
            [
             0,
             "#0d0887"
            ],
            [
             0.1111111111111111,
             "#46039f"
            ],
            [
             0.2222222222222222,
             "#7201a8"
            ],
            [
             0.3333333333333333,
             "#9c179e"
            ],
            [
             0.4444444444444444,
             "#bd3786"
            ],
            [
             0.5555555555555556,
             "#d8576b"
            ],
            [
             0.6666666666666666,
             "#ed7953"
            ],
            [
             0.7777777777777778,
             "#fb9f3a"
            ],
            [
             0.8888888888888888,
             "#fdca26"
            ],
            [
             1,
             "#f0f921"
            ]
           ]
          },
          "colorway": [
           "#636efa",
           "#EF553B",
           "#00cc96",
           "#ab63fa",
           "#FFA15A",
           "#19d3f3",
           "#FF6692",
           "#B6E880",
           "#FF97FF",
           "#FECB52"
          ],
          "font": {
           "color": "#2a3f5f"
          },
          "geo": {
           "bgcolor": "white",
           "lakecolor": "white",
           "landcolor": "#E5ECF6",
           "showlakes": true,
           "showland": true,
           "subunitcolor": "white"
          },
          "hoverlabel": {
           "align": "left"
          },
          "hovermode": "closest",
          "mapbox": {
           "style": "light"
          },
          "paper_bgcolor": "white",
          "plot_bgcolor": "#E5ECF6",
          "polar": {
           "angularaxis": {
            "gridcolor": "white",
            "linecolor": "white",
            "ticks": ""
           },
           "bgcolor": "#E5ECF6",
           "radialaxis": {
            "gridcolor": "white",
            "linecolor": "white",
            "ticks": ""
           }
          },
          "scene": {
           "xaxis": {
            "backgroundcolor": "#E5ECF6",
            "gridcolor": "white",
            "gridwidth": 2,
            "linecolor": "white",
            "showbackground": true,
            "ticks": "",
            "zerolinecolor": "white"
           },
           "yaxis": {
            "backgroundcolor": "#E5ECF6",
            "gridcolor": "white",
            "gridwidth": 2,
            "linecolor": "white",
            "showbackground": true,
            "ticks": "",
            "zerolinecolor": "white"
           },
           "zaxis": {
            "backgroundcolor": "#E5ECF6",
            "gridcolor": "white",
            "gridwidth": 2,
            "linecolor": "white",
            "showbackground": true,
            "ticks": "",
            "zerolinecolor": "white"
           }
          },
          "shapedefaults": {
           "line": {
            "color": "#2a3f5f"
           }
          },
          "ternary": {
           "aaxis": {
            "gridcolor": "white",
            "linecolor": "white",
            "ticks": ""
           },
           "baxis": {
            "gridcolor": "white",
            "linecolor": "white",
            "ticks": ""
           },
           "bgcolor": "#E5ECF6",
           "caxis": {
            "gridcolor": "white",
            "linecolor": "white",
            "ticks": ""
           }
          },
          "title": {
           "x": 0.05
          },
          "xaxis": {
           "automargin": true,
           "gridcolor": "white",
           "linecolor": "white",
           "ticks": "",
           "title": {
            "standoff": 15
           },
           "zerolinecolor": "white",
           "zerolinewidth": 2
          },
          "yaxis": {
           "automargin": true,
           "gridcolor": "white",
           "linecolor": "white",
           "ticks": "",
           "title": {
            "standoff": 15
           },
           "zerolinecolor": "white",
           "zerolinewidth": 2
          }
         }
        },
        "title": {
         "font": {
          "color": "#4D5663"
         }
        },
        "xaxis": {
         "gridcolor": "#E1E5ED",
         "showgrid": true,
         "tickfont": {
          "color": "#4D5663"
         },
         "title": {
          "font": {
           "color": "#4D5663"
          },
          "text": ""
         },
         "zerolinecolor": "#E1E5ED"
        },
        "yaxis": {
         "gridcolor": "#E1E5ED",
         "showgrid": true,
         "tickfont": {
          "color": "#4D5663"
         },
         "title": {
          "font": {
           "color": "#4D5663"
          },
          "text": ""
         },
         "zerolinecolor": "#E1E5ED"
        }
       }
      },
      "text/html": [
       "<div>                            <div id=\"c1f9d9f0-966d-421f-a363-a9dc0759c5ab\" class=\"plotly-graph-div\" style=\"height:525px; width:100%;\"></div>            <script type=\"text/javascript\">                require([\"plotly\"], function(Plotly) {                    window.PLOTLYENV=window.PLOTLYENV || {};\n",
       "                    window.PLOTLYENV.BASE_URL='https://plot.ly';                                    if (document.getElementById(\"c1f9d9f0-966d-421f-a363-a9dc0759c5ab\")) {                    Plotly.newPlot(                        \"c1f9d9f0-966d-421f-a363-a9dc0759c5ab\",                        [{\"line\":{\"color\":\"rgba(255, 153, 51, 1.0)\",\"dash\":\"solid\",\"shape\":\"linear\",\"width\":1.3},\"mode\":\"lines\",\"name\":\"A\",\"text\":\"\",\"x\":[0,1,2,3,4,5,6,7,8,9,10,11,12,13,14,15,16,17,18,19,20,21,22,23,24,25,26,27,28,29,30,31,32,33,34,35,36,37,38,39,40,41,42,43,44,45,46,47,48,49,50,51,52,53,54,55,56,57,58,59,60,61,62,63,64,65,66,67,68,69,70,71,72,73,74,75,76,77,78,79,80,81,82,83,84,85,86,87,88,89,90,91,92,93,94,95,96,97,98,99],\"y\":[0.43539700148335236,0.15819395423214852,0.62879333196527,-0.26401107422169673,-1.8324809705325915,0.7704629872779027,1.7497298283959724,-1.0015334595201602,-1.718240559825639,0.628596523719882,-0.42019354274908316,2.7136701685643403,-0.9378495172398871,0.6598021382631747,1.6184775733872263,1.3954033785382987,1.405495874826309,-1.166616968739883,2.365923532026527,1.1133259856604942,-1.6813679639527261,-0.04667403900552732,-0.6363654890464304,-1.5425012567014285,-1.012741270794969,0.12132634073101281,1.595602460076769,1.7305965984334635,-1.9217891095448971,1.1860294383645715,0.26201847879465384,-1.2055378111750752,2.3438810173248927,1.2086288002904493,-1.8314084636430585,1.7619781396825958,2.1031817281439817,-2.5307453072827966,1.2761298243307624,-1.772353423710465,-0.636420642902602,-1.930564293340949,-1.0610308479700656,-0.450655785586209,-2.1425651099825824,-1.0903966470383508,-0.5620779766373142,-0.770744501166946,0.317708947982711,0.1318688172018447,-1.2201324264384652,-0.19136686704154338,-0.06257792497623924,0.5936190711859071,1.1391272098088527,0.7464631766024825,-0.8977662361522014,0.14140290562352897,0.3256123427724348,0.9112030544266069,0.8357966193733269,1.7487601057521938,-0.49373510396354875,-0.6666213874172607,1.1831818138576176,-1.0182097832516077,-0.04630874727601642,-0.9836337689727818,1.9926142232426531,0.7440871065414701,0.28972919333565683,-0.5480211897462933,0.8413311240763615,-0.6346241128971083,-0.4398922253755513,-0.28149585930036625,0.6490498459345291,-0.23584960142982708,-1.5937987594535374,0.051213682792660656,-0.374994885556381,0.7207560378542024,0.5394156502485068,1.1572917713327477,-2.5643244253052964,-0.10181612060765612,0.11183773067467831,1.1028927065391063,-1.3752211222891688,2.16105987106691,-0.7898043390090209,1.6487450904111807,-1.7240798592526558,0.4254960002374844,0.2156919556300176,0.2031078608182616,0.21648296318241012,0.6718965344393238,-1.8998227182750862,-0.017153916755728384],\"type\":\"scatter\"},{\"line\":{\"color\":\"rgba(55, 128, 191, 1.0)\",\"dash\":\"solid\",\"shape\":\"linear\",\"width\":1.3},\"mode\":\"lines\",\"name\":\"B\",\"text\":\"\",\"x\":[0,1,2,3,4,5,6,7,8,9,10,11,12,13,14,15,16,17,18,19,20,21,22,23,24,25,26,27,28,29,30,31,32,33,34,35,36,37,38,39,40,41,42,43,44,45,46,47,48,49,50,51,52,53,54,55,56,57,58,59,60,61,62,63,64,65,66,67,68,69,70,71,72,73,74,75,76,77,78,79,80,81,82,83,84,85,86,87,88,89,90,91,92,93,94,95,96,97,98,99],\"y\":[0.760388682451242,-0.3014770718387929,-0.8104320504480762,1.1583102446320703,0.66259937418456,-0.8731559685701944,-0.10732150644350782,-1.4845842008871466,-1.1868462655772307,1.613590761177109,-1.9381099315529704,-0.29380824929788424,1.3599307756073165,-0.36836520730565253,-0.3269586169498003,-0.8722022296216736,1.7599609916589511,2.412515853128903,-1.1138794684306152,1.5653823254598276,1.7614719313614335,-1.2290358322794215,2.6522230722984435,1.0163014618558739,0.6293809696480948,-1.5146156122233023,0.016940034354393264,0.0032133467236007663,-0.5981712356892535,0.020951829720675653,1.9963821917383087,1.0740671422306807,0.17809074697460173,0.04485989073294413,-0.4227495550182459,-0.32645695274430736,0.698607870034912,0.6330148722372047,0.2875584885528013,1.1234133729510283,0.24214275695220294,-0.9745143810694096,-0.09487224825524246,-0.05206076437308604,0.1700768924108305,1.300218316913883,-0.14751521656419564,-0.30080352426550006,-0.8520916792252314,1.1620463903000628,1.2476009203676264,-0.629125183496713,-0.3785357939583569,-0.914900498176864,0.15739646399040055,-0.08110020866252839,1.2781757771914946,1.9785521600539933,-0.07924996180658282,-0.17064150415758025,-0.33892612512205456,-0.8766265534473259,-0.8696592484215764,1.1323493113477194,-1.7050942234370272,-0.600405565715628,-0.1789375334228437,0.2764438144488436,-1.3979390762783197,1.3262592652981067,0.703525942698256,1.411777371228823,-1.6110804563893522,0.39705885749036557,-0.24578206196537786,-1.0140463874894474,0.35097105186424615,0.22520868769189759,0.11269335584705568,-0.6275979165028887,0.830374106714317,0.21139937581431129,-0.5613355709825517,0.5599973868588114,0.10923587614740028,-0.21228235369384083,0.9848944487618184,0.15230352046132178,-0.24908169790355753,-0.5547350602916322,-0.26024067645453,-0.12512543124851477,1.4959303828793944,-0.8075642744958867,-0.7868387528914741,0.11502021583953378,1.052635171665947,-2.005202626886498,0.36358094296755,-1.292869329621461],\"type\":\"scatter\"},{\"line\":{\"color\":\"rgba(50, 171, 96, 1.0)\",\"dash\":\"solid\",\"shape\":\"linear\",\"width\":1.3},\"mode\":\"lines\",\"name\":\"C\",\"text\":\"\",\"x\":[0,1,2,3,4,5,6,7,8,9,10,11,12,13,14,15,16,17,18,19,20,21,22,23,24,25,26,27,28,29,30,31,32,33,34,35,36,37,38,39,40,41,42,43,44,45,46,47,48,49,50,51,52,53,54,55,56,57,58,59,60,61,62,63,64,65,66,67,68,69,70,71,72,73,74,75,76,77,78,79,80,81,82,83,84,85,86,87,88,89,90,91,92,93,94,95,96,97,98,99],\"y\":[1.7506839868116808,-0.05525851995596629,0.6170957201984968,-0.1115916319829114,0.5116816361868437,-2.2152101125435837,0.3315284364893782,0.12061261355873394,0.5657298475690731,0.528530005982104,1.3505673671144591,-1.1948625165823614,0.1861245268017284,1.466340663888806,-1.2496218278444502,-0.042254756026113054,0.5746877175630754,-1.4166594196141769,-1.1968199850030214,-0.8183800016923555,-0.5647855815888667,1.6581385906754473,-0.7466315211949155,0.1952774246638472,-1.4104910973740832,1.4284226905547313,-0.7664668283501381,-1.0838001767570018,0.7010686784174124,-0.1023297922421422,-1.2886240495582049,-0.7061207593027529,2.897502161129242,0.9010808303981163,0.5016339407709492,0.9970946254454802,-0.47115995979066305,-0.1973994499002884,1.7604450496094302,-0.6051709023066923,0.9185178513752467,-0.8971569837423113,1.092970248153521,-2.8136003677014547,-0.4576797890519921,0.6447060998883003,-0.8028938635150691,0.003505585948315358,0.3383690386122811,1.198436831143238,2.771847156459742,-2.254330916431132,0.9530849486491482,0.6857462587854266,2.026903317173535,0.21174591471811552,0.22119891318704257,-0.05312608477809972,-0.7409850974978949,1.892017237178089,-0.15679681385950367,-0.17109223041264868,1.6471337568749136,0.21920988201479505,-0.048131328941061535,0.006603176246051127,-1.20402950851814,1.2085801022634717,-0.22433096462997068,-1.0454463934053035,0.1220757939666129,1.3928722662278032,-1.508180765613294,0.9753571596335696,1.0784228637983067,0.7306926141166368,0.791267501618441,-0.8911164913797028,-1.1300915430771676,-0.06772167392315274,-1.5982042392029663,-1.1891695259259196,0.761386083379142,-0.4009140073390794,0.2095063908492791,0.06821644400313408,-0.6041624031835817,-0.03061682006821153,-0.1142173127149515,-1.6513277968691016,-1.0150656386360692,1.020045683034253,-1.839457892151129,0.6104771664127984,1.2816301431717376,-0.5420794843175418,0.36656788811570845,-0.7064686605718921,0.5004953964617794,1.0191968371752167],\"type\":\"scatter\"},{\"line\":{\"color\":\"rgba(128, 0, 128, 1.0)\",\"dash\":\"solid\",\"shape\":\"linear\",\"width\":1.3},\"mode\":\"lines\",\"name\":\"D\",\"text\":\"\",\"x\":[0,1,2,3,4,5,6,7,8,9,10,11,12,13,14,15,16,17,18,19,20,21,22,23,24,25,26,27,28,29,30,31,32,33,34,35,36,37,38,39,40,41,42,43,44,45,46,47,48,49,50,51,52,53,54,55,56,57,58,59,60,61,62,63,64,65,66,67,68,69,70,71,72,73,74,75,76,77,78,79,80,81,82,83,84,85,86,87,88,89,90,91,92,93,94,95,96,97,98,99],\"y\":[0.8674962935144439,-0.15169061237904777,1.4833116835967546,-1.4074514343551905,1.6809840507857228,-0.7824343697157726,-1.1380900973944608,-1.1684071193234065,-0.0878769934933399,-0.18802903883875,1.1054096358312044,-0.24648969074191718,-0.5241680651347467,0.035331855455702256,0.015225596692327365,-0.6060087395337597,-0.9434835248285206,0.1497847075865502,0.1522093133466193,1.4150504705341356,0.6358530188099831,0.41411480056120253,0.5012150075195608,1.0918677517923927,-1.0110630912716843,0.7501167863796132,0.22526828659737172,-0.3928236835144014,0.05139529009097846,-1.5088301646601956,-0.006479746879657132,-1.3783917816596891,0.4028905799711096,-1.239179450863049,1.718021008393491,0.5505466944824268,-0.14824266673830355,1.4971862088434158,1.7856499631672211,-1.5121481986483902,-0.6158928496562914,-1.553905392676682,-0.4806126433270155,0.8549312578480122,-0.04568548986192174,-0.09289049173836152,0.6322409552767246,-0.5599033007259137,-0.3037859876969862,0.16983967055496837,0.1709607920225609,-0.34886082288164394,-1.3692790368586323,0.7885755016061133,-0.07133724885285725,-0.3575113346043425,0.8439328842517401,1.004879695851903,-0.36505763244114714,0.34469487183119296,0.08414626368852046,-1.0809642257758973,-2.544189181053026,-0.011664663423132037,-0.6412660010849413,0.849998385732044,1.622056962493663,0.9356600649157409,-0.897115091137332,0.7381536272834047,-0.8793215655655365,0.2889625791761557,1.554875265954636,-0.48248282999102315,-0.5391204960250202,0.3763552292283802,1.8407821584581037,0.3211550805423586,1.201203797763351,0.39424029396382054,0.5878383417101924,0.6698006096665847,-0.8586992507168567,-1.6366547297430356,0.054812542476560415,0.19531981977357643,-0.5023449008405783,1.359709951480831,-0.7040273728122117,-2.51023297090885,1.774352674744687,0.04172615855687068,0.35652881894014826,0.914906888607246,0.27973928313574714,-0.6987222670653883,-2.0880394552582535,0.032666666094802205,-0.8203891211559984,0.8018099020438711],\"type\":\"scatter\"}],                        {\"legend\":{\"bgcolor\":\"#F5F6F9\",\"font\":{\"color\":\"#4D5663\"}},\"paper_bgcolor\":\"#F5F6F9\",\"plot_bgcolor\":\"#F5F6F9\",\"template\":{\"data\":{\"barpolar\":[{\"marker\":{\"line\":{\"color\":\"#E5ECF6\",\"width\":0.5},\"pattern\":{\"fillmode\":\"overlay\",\"size\":10,\"solidity\":0.2}},\"type\":\"barpolar\"}],\"bar\":[{\"error_x\":{\"color\":\"#2a3f5f\"},\"error_y\":{\"color\":\"#2a3f5f\"},\"marker\":{\"line\":{\"color\":\"#E5ECF6\",\"width\":0.5},\"pattern\":{\"fillmode\":\"overlay\",\"size\":10,\"solidity\":0.2}},\"type\":\"bar\"}],\"carpet\":[{\"aaxis\":{\"endlinecolor\":\"#2a3f5f\",\"gridcolor\":\"white\",\"linecolor\":\"white\",\"minorgridcolor\":\"white\",\"startlinecolor\":\"#2a3f5f\"},\"baxis\":{\"endlinecolor\":\"#2a3f5f\",\"gridcolor\":\"white\",\"linecolor\":\"white\",\"minorgridcolor\":\"white\",\"startlinecolor\":\"#2a3f5f\"},\"type\":\"carpet\"}],\"choropleth\":[{\"colorbar\":{\"outlinewidth\":0,\"ticks\":\"\"},\"type\":\"choropleth\"}],\"contourcarpet\":[{\"colorbar\":{\"outlinewidth\":0,\"ticks\":\"\"},\"type\":\"contourcarpet\"}],\"contour\":[{\"colorbar\":{\"outlinewidth\":0,\"ticks\":\"\"},\"colorscale\":[[0.0,\"#0d0887\"],[0.1111111111111111,\"#46039f\"],[0.2222222222222222,\"#7201a8\"],[0.3333333333333333,\"#9c179e\"],[0.4444444444444444,\"#bd3786\"],[0.5555555555555556,\"#d8576b\"],[0.6666666666666666,\"#ed7953\"],[0.7777777777777778,\"#fb9f3a\"],[0.8888888888888888,\"#fdca26\"],[1.0,\"#f0f921\"]],\"type\":\"contour\"}],\"heatmapgl\":[{\"colorbar\":{\"outlinewidth\":0,\"ticks\":\"\"},\"colorscale\":[[0.0,\"#0d0887\"],[0.1111111111111111,\"#46039f\"],[0.2222222222222222,\"#7201a8\"],[0.3333333333333333,\"#9c179e\"],[0.4444444444444444,\"#bd3786\"],[0.5555555555555556,\"#d8576b\"],[0.6666666666666666,\"#ed7953\"],[0.7777777777777778,\"#fb9f3a\"],[0.8888888888888888,\"#fdca26\"],[1.0,\"#f0f921\"]],\"type\":\"heatmapgl\"}],\"heatmap\":[{\"colorbar\":{\"outlinewidth\":0,\"ticks\":\"\"},\"colorscale\":[[0.0,\"#0d0887\"],[0.1111111111111111,\"#46039f\"],[0.2222222222222222,\"#7201a8\"],[0.3333333333333333,\"#9c179e\"],[0.4444444444444444,\"#bd3786\"],[0.5555555555555556,\"#d8576b\"],[0.6666666666666666,\"#ed7953\"],[0.7777777777777778,\"#fb9f3a\"],[0.8888888888888888,\"#fdca26\"],[1.0,\"#f0f921\"]],\"type\":\"heatmap\"}],\"histogram2dcontour\":[{\"colorbar\":{\"outlinewidth\":0,\"ticks\":\"\"},\"colorscale\":[[0.0,\"#0d0887\"],[0.1111111111111111,\"#46039f\"],[0.2222222222222222,\"#7201a8\"],[0.3333333333333333,\"#9c179e\"],[0.4444444444444444,\"#bd3786\"],[0.5555555555555556,\"#d8576b\"],[0.6666666666666666,\"#ed7953\"],[0.7777777777777778,\"#fb9f3a\"],[0.8888888888888888,\"#fdca26\"],[1.0,\"#f0f921\"]],\"type\":\"histogram2dcontour\"}],\"histogram2d\":[{\"colorbar\":{\"outlinewidth\":0,\"ticks\":\"\"},\"colorscale\":[[0.0,\"#0d0887\"],[0.1111111111111111,\"#46039f\"],[0.2222222222222222,\"#7201a8\"],[0.3333333333333333,\"#9c179e\"],[0.4444444444444444,\"#bd3786\"],[0.5555555555555556,\"#d8576b\"],[0.6666666666666666,\"#ed7953\"],[0.7777777777777778,\"#fb9f3a\"],[0.8888888888888888,\"#fdca26\"],[1.0,\"#f0f921\"]],\"type\":\"histogram2d\"}],\"histogram\":[{\"marker\":{\"pattern\":{\"fillmode\":\"overlay\",\"size\":10,\"solidity\":0.2}},\"type\":\"histogram\"}],\"mesh3d\":[{\"colorbar\":{\"outlinewidth\":0,\"ticks\":\"\"},\"type\":\"mesh3d\"}],\"parcoords\":[{\"line\":{\"colorbar\":{\"outlinewidth\":0,\"ticks\":\"\"}},\"type\":\"parcoords\"}],\"pie\":[{\"automargin\":true,\"type\":\"pie\"}],\"scatter3d\":[{\"line\":{\"colorbar\":{\"outlinewidth\":0,\"ticks\":\"\"}},\"marker\":{\"colorbar\":{\"outlinewidth\":0,\"ticks\":\"\"}},\"type\":\"scatter3d\"}],\"scattercarpet\":[{\"marker\":{\"colorbar\":{\"outlinewidth\":0,\"ticks\":\"\"}},\"type\":\"scattercarpet\"}],\"scattergeo\":[{\"marker\":{\"colorbar\":{\"outlinewidth\":0,\"ticks\":\"\"}},\"type\":\"scattergeo\"}],\"scattergl\":[{\"marker\":{\"colorbar\":{\"outlinewidth\":0,\"ticks\":\"\"}},\"type\":\"scattergl\"}],\"scattermapbox\":[{\"marker\":{\"colorbar\":{\"outlinewidth\":0,\"ticks\":\"\"}},\"type\":\"scattermapbox\"}],\"scatterpolargl\":[{\"marker\":{\"colorbar\":{\"outlinewidth\":0,\"ticks\":\"\"}},\"type\":\"scatterpolargl\"}],\"scatterpolar\":[{\"marker\":{\"colorbar\":{\"outlinewidth\":0,\"ticks\":\"\"}},\"type\":\"scatterpolar\"}],\"scatter\":[{\"fillpattern\":{\"fillmode\":\"overlay\",\"size\":10,\"solidity\":0.2},\"type\":\"scatter\"}],\"scatterternary\":[{\"marker\":{\"colorbar\":{\"outlinewidth\":0,\"ticks\":\"\"}},\"type\":\"scatterternary\"}],\"surface\":[{\"colorbar\":{\"outlinewidth\":0,\"ticks\":\"\"},\"colorscale\":[[0.0,\"#0d0887\"],[0.1111111111111111,\"#46039f\"],[0.2222222222222222,\"#7201a8\"],[0.3333333333333333,\"#9c179e\"],[0.4444444444444444,\"#bd3786\"],[0.5555555555555556,\"#d8576b\"],[0.6666666666666666,\"#ed7953\"],[0.7777777777777778,\"#fb9f3a\"],[0.8888888888888888,\"#fdca26\"],[1.0,\"#f0f921\"]],\"type\":\"surface\"}],\"table\":[{\"cells\":{\"fill\":{\"color\":\"#EBF0F8\"},\"line\":{\"color\":\"white\"}},\"header\":{\"fill\":{\"color\":\"#C8D4E3\"},\"line\":{\"color\":\"white\"}},\"type\":\"table\"}]},\"layout\":{\"annotationdefaults\":{\"arrowcolor\":\"#2a3f5f\",\"arrowhead\":0,\"arrowwidth\":1},\"autotypenumbers\":\"strict\",\"coloraxis\":{\"colorbar\":{\"outlinewidth\":0,\"ticks\":\"\"}},\"colorscale\":{\"diverging\":[[0,\"#8e0152\"],[0.1,\"#c51b7d\"],[0.2,\"#de77ae\"],[0.3,\"#f1b6da\"],[0.4,\"#fde0ef\"],[0.5,\"#f7f7f7\"],[0.6,\"#e6f5d0\"],[0.7,\"#b8e186\"],[0.8,\"#7fbc41\"],[0.9,\"#4d9221\"],[1,\"#276419\"]],\"sequential\":[[0.0,\"#0d0887\"],[0.1111111111111111,\"#46039f\"],[0.2222222222222222,\"#7201a8\"],[0.3333333333333333,\"#9c179e\"],[0.4444444444444444,\"#bd3786\"],[0.5555555555555556,\"#d8576b\"],[0.6666666666666666,\"#ed7953\"],[0.7777777777777778,\"#fb9f3a\"],[0.8888888888888888,\"#fdca26\"],[1.0,\"#f0f921\"]],\"sequentialminus\":[[0.0,\"#0d0887\"],[0.1111111111111111,\"#46039f\"],[0.2222222222222222,\"#7201a8\"],[0.3333333333333333,\"#9c179e\"],[0.4444444444444444,\"#bd3786\"],[0.5555555555555556,\"#d8576b\"],[0.6666666666666666,\"#ed7953\"],[0.7777777777777778,\"#fb9f3a\"],[0.8888888888888888,\"#fdca26\"],[1.0,\"#f0f921\"]]},\"colorway\":[\"#636efa\",\"#EF553B\",\"#00cc96\",\"#ab63fa\",\"#FFA15A\",\"#19d3f3\",\"#FF6692\",\"#B6E880\",\"#FF97FF\",\"#FECB52\"],\"font\":{\"color\":\"#2a3f5f\"},\"geo\":{\"bgcolor\":\"white\",\"lakecolor\":\"white\",\"landcolor\":\"#E5ECF6\",\"showlakes\":true,\"showland\":true,\"subunitcolor\":\"white\"},\"hoverlabel\":{\"align\":\"left\"},\"hovermode\":\"closest\",\"mapbox\":{\"style\":\"light\"},\"paper_bgcolor\":\"white\",\"plot_bgcolor\":\"#E5ECF6\",\"polar\":{\"angularaxis\":{\"gridcolor\":\"white\",\"linecolor\":\"white\",\"ticks\":\"\"},\"bgcolor\":\"#E5ECF6\",\"radialaxis\":{\"gridcolor\":\"white\",\"linecolor\":\"white\",\"ticks\":\"\"}},\"scene\":{\"xaxis\":{\"backgroundcolor\":\"#E5ECF6\",\"gridcolor\":\"white\",\"gridwidth\":2,\"linecolor\":\"white\",\"showbackground\":true,\"ticks\":\"\",\"zerolinecolor\":\"white\"},\"yaxis\":{\"backgroundcolor\":\"#E5ECF6\",\"gridcolor\":\"white\",\"gridwidth\":2,\"linecolor\":\"white\",\"showbackground\":true,\"ticks\":\"\",\"zerolinecolor\":\"white\"},\"zaxis\":{\"backgroundcolor\":\"#E5ECF6\",\"gridcolor\":\"white\",\"gridwidth\":2,\"linecolor\":\"white\",\"showbackground\":true,\"ticks\":\"\",\"zerolinecolor\":\"white\"}},\"shapedefaults\":{\"line\":{\"color\":\"#2a3f5f\"}},\"ternary\":{\"aaxis\":{\"gridcolor\":\"white\",\"linecolor\":\"white\",\"ticks\":\"\"},\"baxis\":{\"gridcolor\":\"white\",\"linecolor\":\"white\",\"ticks\":\"\"},\"bgcolor\":\"#E5ECF6\",\"caxis\":{\"gridcolor\":\"white\",\"linecolor\":\"white\",\"ticks\":\"\"}},\"title\":{\"x\":0.05},\"xaxis\":{\"automargin\":true,\"gridcolor\":\"white\",\"linecolor\":\"white\",\"ticks\":\"\",\"title\":{\"standoff\":15},\"zerolinecolor\":\"white\",\"zerolinewidth\":2},\"yaxis\":{\"automargin\":true,\"gridcolor\":\"white\",\"linecolor\":\"white\",\"ticks\":\"\",\"title\":{\"standoff\":15},\"zerolinecolor\":\"white\",\"zerolinewidth\":2}}},\"title\":{\"font\":{\"color\":\"#4D5663\"}},\"xaxis\":{\"gridcolor\":\"#E1E5ED\",\"showgrid\":true,\"tickfont\":{\"color\":\"#4D5663\"},\"title\":{\"font\":{\"color\":\"#4D5663\"},\"text\":\"\"},\"zerolinecolor\":\"#E1E5ED\"},\"yaxis\":{\"gridcolor\":\"#E1E5ED\",\"showgrid\":true,\"tickfont\":{\"color\":\"#4D5663\"},\"title\":{\"font\":{\"color\":\"#4D5663\"},\"text\":\"\"},\"zerolinecolor\":\"#E1E5ED\"}},                        {\"showLink\": true, \"linkText\": \"Export to plot.ly\", \"plotlyServerURL\": \"https://plot.ly\", \"responsive\": true}                    ).then(function(){\n",
       "                            \n",
       "var gd = document.getElementById('c1f9d9f0-966d-421f-a363-a9dc0759c5ab');\n",
       "var x = new MutationObserver(function (mutations, observer) {{\n",
       "        var display = window.getComputedStyle(gd).display;\n",
       "        if (!display || display === 'none') {{\n",
       "            console.log([gd, 'removed!']);\n",
       "            Plotly.purge(gd);\n",
       "            observer.disconnect();\n",
       "        }}\n",
       "}});\n",
       "\n",
       "// Listen for the removal of the full notebook cells\n",
       "var notebookContainer = gd.closest('#notebook-container');\n",
       "if (notebookContainer) {{\n",
       "    x.observe(notebookContainer, {childList: true});\n",
       "}}\n",
       "\n",
       "// Listen for the clearing of the current output cell\n",
       "var outputEl = gd.closest('.output');\n",
       "if (outputEl) {{\n",
       "    x.observe(outputEl, {childList: true});\n",
       "}}\n",
       "\n",
       "                        })                };                });            </script>        </div>"
      ]
     },
     "metadata": {},
     "output_type": "display_data"
    }
   ],
   "source": [
    "df.iplot()"
   ]
  },
  {
   "cell_type": "code",
   "execution_count": 14,
   "id": "800ceafd",
   "metadata": {},
   "outputs": [
    {
     "data": {
      "application/vnd.plotly.v1+json": {
       "config": {
        "linkText": "Export to plot.ly",
        "plotlyServerURL": "https://plot.ly",
        "showLink": true
       },
       "data": [
        {
         "line": {
          "color": "rgba(255, 153, 51, 1.0)",
          "dash": "solid",
          "shape": "linear",
          "width": 1.3
         },
         "mode": "lines",
         "name": "B",
         "text": "",
         "type": "scatter",
         "x": [
          0.43539700148335236,
          0.15819395423214852,
          0.62879333196527,
          -0.26401107422169673,
          -1.8324809705325915,
          0.7704629872779027,
          1.7497298283959724,
          -1.0015334595201602,
          -1.718240559825639,
          0.628596523719882,
          -0.42019354274908316,
          2.7136701685643403,
          -0.9378495172398871,
          0.6598021382631747,
          1.6184775733872263,
          1.3954033785382987,
          1.405495874826309,
          -1.166616968739883,
          2.365923532026527,
          1.1133259856604942,
          -1.6813679639527261,
          -0.04667403900552732,
          -0.6363654890464304,
          -1.5425012567014285,
          -1.012741270794969,
          0.12132634073101281,
          1.595602460076769,
          1.7305965984334635,
          -1.9217891095448971,
          1.1860294383645715,
          0.26201847879465384,
          -1.2055378111750752,
          2.3438810173248927,
          1.2086288002904493,
          -1.8314084636430585,
          1.7619781396825958,
          2.1031817281439817,
          -2.5307453072827966,
          1.2761298243307624,
          -1.772353423710465,
          -0.636420642902602,
          -1.930564293340949,
          -1.0610308479700656,
          -0.450655785586209,
          -2.1425651099825824,
          -1.0903966470383508,
          -0.5620779766373142,
          -0.770744501166946,
          0.317708947982711,
          0.1318688172018447,
          -1.2201324264384652,
          -0.19136686704154338,
          -0.06257792497623924,
          0.5936190711859071,
          1.1391272098088527,
          0.7464631766024825,
          -0.8977662361522014,
          0.14140290562352897,
          0.3256123427724348,
          0.9112030544266069,
          0.8357966193733269,
          1.7487601057521938,
          -0.49373510396354875,
          -0.6666213874172607,
          1.1831818138576176,
          -1.0182097832516077,
          -0.04630874727601642,
          -0.9836337689727818,
          1.9926142232426531,
          0.7440871065414701,
          0.28972919333565683,
          -0.5480211897462933,
          0.8413311240763615,
          -0.6346241128971083,
          -0.4398922253755513,
          -0.28149585930036625,
          0.6490498459345291,
          -0.23584960142982708,
          -1.5937987594535374,
          0.051213682792660656,
          -0.374994885556381,
          0.7207560378542024,
          0.5394156502485068,
          1.1572917713327477,
          -2.5643244253052964,
          -0.10181612060765612,
          0.11183773067467831,
          1.1028927065391063,
          -1.3752211222891688,
          2.16105987106691,
          -0.7898043390090209,
          1.6487450904111807,
          -1.7240798592526558,
          0.4254960002374844,
          0.2156919556300176,
          0.2031078608182616,
          0.21648296318241012,
          0.6718965344393238,
          -1.8998227182750862,
          -0.017153916755728384
         ],
         "y": [
          0.760388682451242,
          -0.3014770718387929,
          -0.8104320504480762,
          1.1583102446320703,
          0.66259937418456,
          -0.8731559685701944,
          -0.10732150644350782,
          -1.4845842008871466,
          -1.1868462655772307,
          1.613590761177109,
          -1.9381099315529704,
          -0.29380824929788424,
          1.3599307756073165,
          -0.36836520730565253,
          -0.3269586169498003,
          -0.8722022296216736,
          1.7599609916589511,
          2.412515853128903,
          -1.1138794684306152,
          1.5653823254598276,
          1.7614719313614335,
          -1.2290358322794215,
          2.6522230722984435,
          1.0163014618558739,
          0.6293809696480948,
          -1.5146156122233023,
          0.016940034354393264,
          0.0032133467236007663,
          -0.5981712356892535,
          0.020951829720675653,
          1.9963821917383087,
          1.0740671422306807,
          0.17809074697460173,
          0.04485989073294413,
          -0.4227495550182459,
          -0.32645695274430736,
          0.698607870034912,
          0.6330148722372047,
          0.2875584885528013,
          1.1234133729510283,
          0.24214275695220294,
          -0.9745143810694096,
          -0.09487224825524246,
          -0.05206076437308604,
          0.1700768924108305,
          1.300218316913883,
          -0.14751521656419564,
          -0.30080352426550006,
          -0.8520916792252314,
          1.1620463903000628,
          1.2476009203676264,
          -0.629125183496713,
          -0.3785357939583569,
          -0.914900498176864,
          0.15739646399040055,
          -0.08110020866252839,
          1.2781757771914946,
          1.9785521600539933,
          -0.07924996180658282,
          -0.17064150415758025,
          -0.33892612512205456,
          -0.8766265534473259,
          -0.8696592484215764,
          1.1323493113477194,
          -1.7050942234370272,
          -0.600405565715628,
          -0.1789375334228437,
          0.2764438144488436,
          -1.3979390762783197,
          1.3262592652981067,
          0.703525942698256,
          1.411777371228823,
          -1.6110804563893522,
          0.39705885749036557,
          -0.24578206196537786,
          -1.0140463874894474,
          0.35097105186424615,
          0.22520868769189759,
          0.11269335584705568,
          -0.6275979165028887,
          0.830374106714317,
          0.21139937581431129,
          -0.5613355709825517,
          0.5599973868588114,
          0.10923587614740028,
          -0.21228235369384083,
          0.9848944487618184,
          0.15230352046132178,
          -0.24908169790355753,
          -0.5547350602916322,
          -0.26024067645453,
          -0.12512543124851477,
          1.4959303828793944,
          -0.8075642744958867,
          -0.7868387528914741,
          0.11502021583953378,
          1.052635171665947,
          -2.005202626886498,
          0.36358094296755,
          -1.292869329621461
         ]
        }
       ],
       "layout": {
        "legend": {
         "bgcolor": "#F5F6F9",
         "font": {
          "color": "#4D5663"
         }
        },
        "paper_bgcolor": "#F5F6F9",
        "plot_bgcolor": "#F5F6F9",
        "template": {
         "data": {
          "bar": [
           {
            "error_x": {
             "color": "#2a3f5f"
            },
            "error_y": {
             "color": "#2a3f5f"
            },
            "marker": {
             "line": {
              "color": "#E5ECF6",
              "width": 0.5
             },
             "pattern": {
              "fillmode": "overlay",
              "size": 10,
              "solidity": 0.2
             }
            },
            "type": "bar"
           }
          ],
          "barpolar": [
           {
            "marker": {
             "line": {
              "color": "#E5ECF6",
              "width": 0.5
             },
             "pattern": {
              "fillmode": "overlay",
              "size": 10,
              "solidity": 0.2
             }
            },
            "type": "barpolar"
           }
          ],
          "carpet": [
           {
            "aaxis": {
             "endlinecolor": "#2a3f5f",
             "gridcolor": "white",
             "linecolor": "white",
             "minorgridcolor": "white",
             "startlinecolor": "#2a3f5f"
            },
            "baxis": {
             "endlinecolor": "#2a3f5f",
             "gridcolor": "white",
             "linecolor": "white",
             "minorgridcolor": "white",
             "startlinecolor": "#2a3f5f"
            },
            "type": "carpet"
           }
          ],
          "choropleth": [
           {
            "colorbar": {
             "outlinewidth": 0,
             "ticks": ""
            },
            "type": "choropleth"
           }
          ],
          "contour": [
           {
            "colorbar": {
             "outlinewidth": 0,
             "ticks": ""
            },
            "colorscale": [
             [
              0,
              "#0d0887"
             ],
             [
              0.1111111111111111,
              "#46039f"
             ],
             [
              0.2222222222222222,
              "#7201a8"
             ],
             [
              0.3333333333333333,
              "#9c179e"
             ],
             [
              0.4444444444444444,
              "#bd3786"
             ],
             [
              0.5555555555555556,
              "#d8576b"
             ],
             [
              0.6666666666666666,
              "#ed7953"
             ],
             [
              0.7777777777777778,
              "#fb9f3a"
             ],
             [
              0.8888888888888888,
              "#fdca26"
             ],
             [
              1,
              "#f0f921"
             ]
            ],
            "type": "contour"
           }
          ],
          "contourcarpet": [
           {
            "colorbar": {
             "outlinewidth": 0,
             "ticks": ""
            },
            "type": "contourcarpet"
           }
          ],
          "heatmap": [
           {
            "colorbar": {
             "outlinewidth": 0,
             "ticks": ""
            },
            "colorscale": [
             [
              0,
              "#0d0887"
             ],
             [
              0.1111111111111111,
              "#46039f"
             ],
             [
              0.2222222222222222,
              "#7201a8"
             ],
             [
              0.3333333333333333,
              "#9c179e"
             ],
             [
              0.4444444444444444,
              "#bd3786"
             ],
             [
              0.5555555555555556,
              "#d8576b"
             ],
             [
              0.6666666666666666,
              "#ed7953"
             ],
             [
              0.7777777777777778,
              "#fb9f3a"
             ],
             [
              0.8888888888888888,
              "#fdca26"
             ],
             [
              1,
              "#f0f921"
             ]
            ],
            "type": "heatmap"
           }
          ],
          "heatmapgl": [
           {
            "colorbar": {
             "outlinewidth": 0,
             "ticks": ""
            },
            "colorscale": [
             [
              0,
              "#0d0887"
             ],
             [
              0.1111111111111111,
              "#46039f"
             ],
             [
              0.2222222222222222,
              "#7201a8"
             ],
             [
              0.3333333333333333,
              "#9c179e"
             ],
             [
              0.4444444444444444,
              "#bd3786"
             ],
             [
              0.5555555555555556,
              "#d8576b"
             ],
             [
              0.6666666666666666,
              "#ed7953"
             ],
             [
              0.7777777777777778,
              "#fb9f3a"
             ],
             [
              0.8888888888888888,
              "#fdca26"
             ],
             [
              1,
              "#f0f921"
             ]
            ],
            "type": "heatmapgl"
           }
          ],
          "histogram": [
           {
            "marker": {
             "pattern": {
              "fillmode": "overlay",
              "size": 10,
              "solidity": 0.2
             }
            },
            "type": "histogram"
           }
          ],
          "histogram2d": [
           {
            "colorbar": {
             "outlinewidth": 0,
             "ticks": ""
            },
            "colorscale": [
             [
              0,
              "#0d0887"
             ],
             [
              0.1111111111111111,
              "#46039f"
             ],
             [
              0.2222222222222222,
              "#7201a8"
             ],
             [
              0.3333333333333333,
              "#9c179e"
             ],
             [
              0.4444444444444444,
              "#bd3786"
             ],
             [
              0.5555555555555556,
              "#d8576b"
             ],
             [
              0.6666666666666666,
              "#ed7953"
             ],
             [
              0.7777777777777778,
              "#fb9f3a"
             ],
             [
              0.8888888888888888,
              "#fdca26"
             ],
             [
              1,
              "#f0f921"
             ]
            ],
            "type": "histogram2d"
           }
          ],
          "histogram2dcontour": [
           {
            "colorbar": {
             "outlinewidth": 0,
             "ticks": ""
            },
            "colorscale": [
             [
              0,
              "#0d0887"
             ],
             [
              0.1111111111111111,
              "#46039f"
             ],
             [
              0.2222222222222222,
              "#7201a8"
             ],
             [
              0.3333333333333333,
              "#9c179e"
             ],
             [
              0.4444444444444444,
              "#bd3786"
             ],
             [
              0.5555555555555556,
              "#d8576b"
             ],
             [
              0.6666666666666666,
              "#ed7953"
             ],
             [
              0.7777777777777778,
              "#fb9f3a"
             ],
             [
              0.8888888888888888,
              "#fdca26"
             ],
             [
              1,
              "#f0f921"
             ]
            ],
            "type": "histogram2dcontour"
           }
          ],
          "mesh3d": [
           {
            "colorbar": {
             "outlinewidth": 0,
             "ticks": ""
            },
            "type": "mesh3d"
           }
          ],
          "parcoords": [
           {
            "line": {
             "colorbar": {
              "outlinewidth": 0,
              "ticks": ""
             }
            },
            "type": "parcoords"
           }
          ],
          "pie": [
           {
            "automargin": true,
            "type": "pie"
           }
          ],
          "scatter": [
           {
            "fillpattern": {
             "fillmode": "overlay",
             "size": 10,
             "solidity": 0.2
            },
            "type": "scatter"
           }
          ],
          "scatter3d": [
           {
            "line": {
             "colorbar": {
              "outlinewidth": 0,
              "ticks": ""
             }
            },
            "marker": {
             "colorbar": {
              "outlinewidth": 0,
              "ticks": ""
             }
            },
            "type": "scatter3d"
           }
          ],
          "scattercarpet": [
           {
            "marker": {
             "colorbar": {
              "outlinewidth": 0,
              "ticks": ""
             }
            },
            "type": "scattercarpet"
           }
          ],
          "scattergeo": [
           {
            "marker": {
             "colorbar": {
              "outlinewidth": 0,
              "ticks": ""
             }
            },
            "type": "scattergeo"
           }
          ],
          "scattergl": [
           {
            "marker": {
             "colorbar": {
              "outlinewidth": 0,
              "ticks": ""
             }
            },
            "type": "scattergl"
           }
          ],
          "scattermapbox": [
           {
            "marker": {
             "colorbar": {
              "outlinewidth": 0,
              "ticks": ""
             }
            },
            "type": "scattermapbox"
           }
          ],
          "scatterpolar": [
           {
            "marker": {
             "colorbar": {
              "outlinewidth": 0,
              "ticks": ""
             }
            },
            "type": "scatterpolar"
           }
          ],
          "scatterpolargl": [
           {
            "marker": {
             "colorbar": {
              "outlinewidth": 0,
              "ticks": ""
             }
            },
            "type": "scatterpolargl"
           }
          ],
          "scatterternary": [
           {
            "marker": {
             "colorbar": {
              "outlinewidth": 0,
              "ticks": ""
             }
            },
            "type": "scatterternary"
           }
          ],
          "surface": [
           {
            "colorbar": {
             "outlinewidth": 0,
             "ticks": ""
            },
            "colorscale": [
             [
              0,
              "#0d0887"
             ],
             [
              0.1111111111111111,
              "#46039f"
             ],
             [
              0.2222222222222222,
              "#7201a8"
             ],
             [
              0.3333333333333333,
              "#9c179e"
             ],
             [
              0.4444444444444444,
              "#bd3786"
             ],
             [
              0.5555555555555556,
              "#d8576b"
             ],
             [
              0.6666666666666666,
              "#ed7953"
             ],
             [
              0.7777777777777778,
              "#fb9f3a"
             ],
             [
              0.8888888888888888,
              "#fdca26"
             ],
             [
              1,
              "#f0f921"
             ]
            ],
            "type": "surface"
           }
          ],
          "table": [
           {
            "cells": {
             "fill": {
              "color": "#EBF0F8"
             },
             "line": {
              "color": "white"
             }
            },
            "header": {
             "fill": {
              "color": "#C8D4E3"
             },
             "line": {
              "color": "white"
             }
            },
            "type": "table"
           }
          ]
         },
         "layout": {
          "annotationdefaults": {
           "arrowcolor": "#2a3f5f",
           "arrowhead": 0,
           "arrowwidth": 1
          },
          "autotypenumbers": "strict",
          "coloraxis": {
           "colorbar": {
            "outlinewidth": 0,
            "ticks": ""
           }
          },
          "colorscale": {
           "diverging": [
            [
             0,
             "#8e0152"
            ],
            [
             0.1,
             "#c51b7d"
            ],
            [
             0.2,
             "#de77ae"
            ],
            [
             0.3,
             "#f1b6da"
            ],
            [
             0.4,
             "#fde0ef"
            ],
            [
             0.5,
             "#f7f7f7"
            ],
            [
             0.6,
             "#e6f5d0"
            ],
            [
             0.7,
             "#b8e186"
            ],
            [
             0.8,
             "#7fbc41"
            ],
            [
             0.9,
             "#4d9221"
            ],
            [
             1,
             "#276419"
            ]
           ],
           "sequential": [
            [
             0,
             "#0d0887"
            ],
            [
             0.1111111111111111,
             "#46039f"
            ],
            [
             0.2222222222222222,
             "#7201a8"
            ],
            [
             0.3333333333333333,
             "#9c179e"
            ],
            [
             0.4444444444444444,
             "#bd3786"
            ],
            [
             0.5555555555555556,
             "#d8576b"
            ],
            [
             0.6666666666666666,
             "#ed7953"
            ],
            [
             0.7777777777777778,
             "#fb9f3a"
            ],
            [
             0.8888888888888888,
             "#fdca26"
            ],
            [
             1,
             "#f0f921"
            ]
           ],
           "sequentialminus": [
            [
             0,
             "#0d0887"
            ],
            [
             0.1111111111111111,
             "#46039f"
            ],
            [
             0.2222222222222222,
             "#7201a8"
            ],
            [
             0.3333333333333333,
             "#9c179e"
            ],
            [
             0.4444444444444444,
             "#bd3786"
            ],
            [
             0.5555555555555556,
             "#d8576b"
            ],
            [
             0.6666666666666666,
             "#ed7953"
            ],
            [
             0.7777777777777778,
             "#fb9f3a"
            ],
            [
             0.8888888888888888,
             "#fdca26"
            ],
            [
             1,
             "#f0f921"
            ]
           ]
          },
          "colorway": [
           "#636efa",
           "#EF553B",
           "#00cc96",
           "#ab63fa",
           "#FFA15A",
           "#19d3f3",
           "#FF6692",
           "#B6E880",
           "#FF97FF",
           "#FECB52"
          ],
          "font": {
           "color": "#2a3f5f"
          },
          "geo": {
           "bgcolor": "white",
           "lakecolor": "white",
           "landcolor": "#E5ECF6",
           "showlakes": true,
           "showland": true,
           "subunitcolor": "white"
          },
          "hoverlabel": {
           "align": "left"
          },
          "hovermode": "closest",
          "mapbox": {
           "style": "light"
          },
          "paper_bgcolor": "white",
          "plot_bgcolor": "#E5ECF6",
          "polar": {
           "angularaxis": {
            "gridcolor": "white",
            "linecolor": "white",
            "ticks": ""
           },
           "bgcolor": "#E5ECF6",
           "radialaxis": {
            "gridcolor": "white",
            "linecolor": "white",
            "ticks": ""
           }
          },
          "scene": {
           "xaxis": {
            "backgroundcolor": "#E5ECF6",
            "gridcolor": "white",
            "gridwidth": 2,
            "linecolor": "white",
            "showbackground": true,
            "ticks": "",
            "zerolinecolor": "white"
           },
           "yaxis": {
            "backgroundcolor": "#E5ECF6",
            "gridcolor": "white",
            "gridwidth": 2,
            "linecolor": "white",
            "showbackground": true,
            "ticks": "",
            "zerolinecolor": "white"
           },
           "zaxis": {
            "backgroundcolor": "#E5ECF6",
            "gridcolor": "white",
            "gridwidth": 2,
            "linecolor": "white",
            "showbackground": true,
            "ticks": "",
            "zerolinecolor": "white"
           }
          },
          "shapedefaults": {
           "line": {
            "color": "#2a3f5f"
           }
          },
          "ternary": {
           "aaxis": {
            "gridcolor": "white",
            "linecolor": "white",
            "ticks": ""
           },
           "baxis": {
            "gridcolor": "white",
            "linecolor": "white",
            "ticks": ""
           },
           "bgcolor": "#E5ECF6",
           "caxis": {
            "gridcolor": "white",
            "linecolor": "white",
            "ticks": ""
           }
          },
          "title": {
           "x": 0.05
          },
          "xaxis": {
           "automargin": true,
           "gridcolor": "white",
           "linecolor": "white",
           "ticks": "",
           "title": {
            "standoff": 15
           },
           "zerolinecolor": "white",
           "zerolinewidth": 2
          },
          "yaxis": {
           "automargin": true,
           "gridcolor": "white",
           "linecolor": "white",
           "ticks": "",
           "title": {
            "standoff": 15
           },
           "zerolinecolor": "white",
           "zerolinewidth": 2
          }
         }
        },
        "title": {
         "font": {
          "color": "#4D5663"
         }
        },
        "xaxis": {
         "gridcolor": "#E1E5ED",
         "showgrid": true,
         "tickfont": {
          "color": "#4D5663"
         },
         "title": {
          "font": {
           "color": "#4D5663"
          },
          "text": ""
         },
         "zerolinecolor": "#E1E5ED"
        },
        "yaxis": {
         "gridcolor": "#E1E5ED",
         "showgrid": true,
         "tickfont": {
          "color": "#4D5663"
         },
         "title": {
          "font": {
           "color": "#4D5663"
          },
          "text": ""
         },
         "zerolinecolor": "#E1E5ED"
        }
       }
      },
      "text/html": [
       "<div>                            <div id=\"4f53bd3b-c762-4a31-b174-3afaa88d8d56\" class=\"plotly-graph-div\" style=\"height:525px; width:100%;\"></div>            <script type=\"text/javascript\">                require([\"plotly\"], function(Plotly) {                    window.PLOTLYENV=window.PLOTLYENV || {};\n",
       "                    window.PLOTLYENV.BASE_URL='https://plot.ly';                                    if (document.getElementById(\"4f53bd3b-c762-4a31-b174-3afaa88d8d56\")) {                    Plotly.newPlot(                        \"4f53bd3b-c762-4a31-b174-3afaa88d8d56\",                        [{\"line\":{\"color\":\"rgba(255, 153, 51, 1.0)\",\"dash\":\"solid\",\"shape\":\"linear\",\"width\":1.3},\"mode\":\"lines\",\"name\":\"B\",\"text\":\"\",\"x\":[0.43539700148335236,0.15819395423214852,0.62879333196527,-0.26401107422169673,-1.8324809705325915,0.7704629872779027,1.7497298283959724,-1.0015334595201602,-1.718240559825639,0.628596523719882,-0.42019354274908316,2.7136701685643403,-0.9378495172398871,0.6598021382631747,1.6184775733872263,1.3954033785382987,1.405495874826309,-1.166616968739883,2.365923532026527,1.1133259856604942,-1.6813679639527261,-0.04667403900552732,-0.6363654890464304,-1.5425012567014285,-1.012741270794969,0.12132634073101281,1.595602460076769,1.7305965984334635,-1.9217891095448971,1.1860294383645715,0.26201847879465384,-1.2055378111750752,2.3438810173248927,1.2086288002904493,-1.8314084636430585,1.7619781396825958,2.1031817281439817,-2.5307453072827966,1.2761298243307624,-1.772353423710465,-0.636420642902602,-1.930564293340949,-1.0610308479700656,-0.450655785586209,-2.1425651099825824,-1.0903966470383508,-0.5620779766373142,-0.770744501166946,0.317708947982711,0.1318688172018447,-1.2201324264384652,-0.19136686704154338,-0.06257792497623924,0.5936190711859071,1.1391272098088527,0.7464631766024825,-0.8977662361522014,0.14140290562352897,0.3256123427724348,0.9112030544266069,0.8357966193733269,1.7487601057521938,-0.49373510396354875,-0.6666213874172607,1.1831818138576176,-1.0182097832516077,-0.04630874727601642,-0.9836337689727818,1.9926142232426531,0.7440871065414701,0.28972919333565683,-0.5480211897462933,0.8413311240763615,-0.6346241128971083,-0.4398922253755513,-0.28149585930036625,0.6490498459345291,-0.23584960142982708,-1.5937987594535374,0.051213682792660656,-0.374994885556381,0.7207560378542024,0.5394156502485068,1.1572917713327477,-2.5643244253052964,-0.10181612060765612,0.11183773067467831,1.1028927065391063,-1.3752211222891688,2.16105987106691,-0.7898043390090209,1.6487450904111807,-1.7240798592526558,0.4254960002374844,0.2156919556300176,0.2031078608182616,0.21648296318241012,0.6718965344393238,-1.8998227182750862,-0.017153916755728384],\"y\":[0.760388682451242,-0.3014770718387929,-0.8104320504480762,1.1583102446320703,0.66259937418456,-0.8731559685701944,-0.10732150644350782,-1.4845842008871466,-1.1868462655772307,1.613590761177109,-1.9381099315529704,-0.29380824929788424,1.3599307756073165,-0.36836520730565253,-0.3269586169498003,-0.8722022296216736,1.7599609916589511,2.412515853128903,-1.1138794684306152,1.5653823254598276,1.7614719313614335,-1.2290358322794215,2.6522230722984435,1.0163014618558739,0.6293809696480948,-1.5146156122233023,0.016940034354393264,0.0032133467236007663,-0.5981712356892535,0.020951829720675653,1.9963821917383087,1.0740671422306807,0.17809074697460173,0.04485989073294413,-0.4227495550182459,-0.32645695274430736,0.698607870034912,0.6330148722372047,0.2875584885528013,1.1234133729510283,0.24214275695220294,-0.9745143810694096,-0.09487224825524246,-0.05206076437308604,0.1700768924108305,1.300218316913883,-0.14751521656419564,-0.30080352426550006,-0.8520916792252314,1.1620463903000628,1.2476009203676264,-0.629125183496713,-0.3785357939583569,-0.914900498176864,0.15739646399040055,-0.08110020866252839,1.2781757771914946,1.9785521600539933,-0.07924996180658282,-0.17064150415758025,-0.33892612512205456,-0.8766265534473259,-0.8696592484215764,1.1323493113477194,-1.7050942234370272,-0.600405565715628,-0.1789375334228437,0.2764438144488436,-1.3979390762783197,1.3262592652981067,0.703525942698256,1.411777371228823,-1.6110804563893522,0.39705885749036557,-0.24578206196537786,-1.0140463874894474,0.35097105186424615,0.22520868769189759,0.11269335584705568,-0.6275979165028887,0.830374106714317,0.21139937581431129,-0.5613355709825517,0.5599973868588114,0.10923587614740028,-0.21228235369384083,0.9848944487618184,0.15230352046132178,-0.24908169790355753,-0.5547350602916322,-0.26024067645453,-0.12512543124851477,1.4959303828793944,-0.8075642744958867,-0.7868387528914741,0.11502021583953378,1.052635171665947,-2.005202626886498,0.36358094296755,-1.292869329621461],\"type\":\"scatter\"}],                        {\"legend\":{\"bgcolor\":\"#F5F6F9\",\"font\":{\"color\":\"#4D5663\"}},\"paper_bgcolor\":\"#F5F6F9\",\"plot_bgcolor\":\"#F5F6F9\",\"template\":{\"data\":{\"barpolar\":[{\"marker\":{\"line\":{\"color\":\"#E5ECF6\",\"width\":0.5},\"pattern\":{\"fillmode\":\"overlay\",\"size\":10,\"solidity\":0.2}},\"type\":\"barpolar\"}],\"bar\":[{\"error_x\":{\"color\":\"#2a3f5f\"},\"error_y\":{\"color\":\"#2a3f5f\"},\"marker\":{\"line\":{\"color\":\"#E5ECF6\",\"width\":0.5},\"pattern\":{\"fillmode\":\"overlay\",\"size\":10,\"solidity\":0.2}},\"type\":\"bar\"}],\"carpet\":[{\"aaxis\":{\"endlinecolor\":\"#2a3f5f\",\"gridcolor\":\"white\",\"linecolor\":\"white\",\"minorgridcolor\":\"white\",\"startlinecolor\":\"#2a3f5f\"},\"baxis\":{\"endlinecolor\":\"#2a3f5f\",\"gridcolor\":\"white\",\"linecolor\":\"white\",\"minorgridcolor\":\"white\",\"startlinecolor\":\"#2a3f5f\"},\"type\":\"carpet\"}],\"choropleth\":[{\"colorbar\":{\"outlinewidth\":0,\"ticks\":\"\"},\"type\":\"choropleth\"}],\"contourcarpet\":[{\"colorbar\":{\"outlinewidth\":0,\"ticks\":\"\"},\"type\":\"contourcarpet\"}],\"contour\":[{\"colorbar\":{\"outlinewidth\":0,\"ticks\":\"\"},\"colorscale\":[[0.0,\"#0d0887\"],[0.1111111111111111,\"#46039f\"],[0.2222222222222222,\"#7201a8\"],[0.3333333333333333,\"#9c179e\"],[0.4444444444444444,\"#bd3786\"],[0.5555555555555556,\"#d8576b\"],[0.6666666666666666,\"#ed7953\"],[0.7777777777777778,\"#fb9f3a\"],[0.8888888888888888,\"#fdca26\"],[1.0,\"#f0f921\"]],\"type\":\"contour\"}],\"heatmapgl\":[{\"colorbar\":{\"outlinewidth\":0,\"ticks\":\"\"},\"colorscale\":[[0.0,\"#0d0887\"],[0.1111111111111111,\"#46039f\"],[0.2222222222222222,\"#7201a8\"],[0.3333333333333333,\"#9c179e\"],[0.4444444444444444,\"#bd3786\"],[0.5555555555555556,\"#d8576b\"],[0.6666666666666666,\"#ed7953\"],[0.7777777777777778,\"#fb9f3a\"],[0.8888888888888888,\"#fdca26\"],[1.0,\"#f0f921\"]],\"type\":\"heatmapgl\"}],\"heatmap\":[{\"colorbar\":{\"outlinewidth\":0,\"ticks\":\"\"},\"colorscale\":[[0.0,\"#0d0887\"],[0.1111111111111111,\"#46039f\"],[0.2222222222222222,\"#7201a8\"],[0.3333333333333333,\"#9c179e\"],[0.4444444444444444,\"#bd3786\"],[0.5555555555555556,\"#d8576b\"],[0.6666666666666666,\"#ed7953\"],[0.7777777777777778,\"#fb9f3a\"],[0.8888888888888888,\"#fdca26\"],[1.0,\"#f0f921\"]],\"type\":\"heatmap\"}],\"histogram2dcontour\":[{\"colorbar\":{\"outlinewidth\":0,\"ticks\":\"\"},\"colorscale\":[[0.0,\"#0d0887\"],[0.1111111111111111,\"#46039f\"],[0.2222222222222222,\"#7201a8\"],[0.3333333333333333,\"#9c179e\"],[0.4444444444444444,\"#bd3786\"],[0.5555555555555556,\"#d8576b\"],[0.6666666666666666,\"#ed7953\"],[0.7777777777777778,\"#fb9f3a\"],[0.8888888888888888,\"#fdca26\"],[1.0,\"#f0f921\"]],\"type\":\"histogram2dcontour\"}],\"histogram2d\":[{\"colorbar\":{\"outlinewidth\":0,\"ticks\":\"\"},\"colorscale\":[[0.0,\"#0d0887\"],[0.1111111111111111,\"#46039f\"],[0.2222222222222222,\"#7201a8\"],[0.3333333333333333,\"#9c179e\"],[0.4444444444444444,\"#bd3786\"],[0.5555555555555556,\"#d8576b\"],[0.6666666666666666,\"#ed7953\"],[0.7777777777777778,\"#fb9f3a\"],[0.8888888888888888,\"#fdca26\"],[1.0,\"#f0f921\"]],\"type\":\"histogram2d\"}],\"histogram\":[{\"marker\":{\"pattern\":{\"fillmode\":\"overlay\",\"size\":10,\"solidity\":0.2}},\"type\":\"histogram\"}],\"mesh3d\":[{\"colorbar\":{\"outlinewidth\":0,\"ticks\":\"\"},\"type\":\"mesh3d\"}],\"parcoords\":[{\"line\":{\"colorbar\":{\"outlinewidth\":0,\"ticks\":\"\"}},\"type\":\"parcoords\"}],\"pie\":[{\"automargin\":true,\"type\":\"pie\"}],\"scatter3d\":[{\"line\":{\"colorbar\":{\"outlinewidth\":0,\"ticks\":\"\"}},\"marker\":{\"colorbar\":{\"outlinewidth\":0,\"ticks\":\"\"}},\"type\":\"scatter3d\"}],\"scattercarpet\":[{\"marker\":{\"colorbar\":{\"outlinewidth\":0,\"ticks\":\"\"}},\"type\":\"scattercarpet\"}],\"scattergeo\":[{\"marker\":{\"colorbar\":{\"outlinewidth\":0,\"ticks\":\"\"}},\"type\":\"scattergeo\"}],\"scattergl\":[{\"marker\":{\"colorbar\":{\"outlinewidth\":0,\"ticks\":\"\"}},\"type\":\"scattergl\"}],\"scattermapbox\":[{\"marker\":{\"colorbar\":{\"outlinewidth\":0,\"ticks\":\"\"}},\"type\":\"scattermapbox\"}],\"scatterpolargl\":[{\"marker\":{\"colorbar\":{\"outlinewidth\":0,\"ticks\":\"\"}},\"type\":\"scatterpolargl\"}],\"scatterpolar\":[{\"marker\":{\"colorbar\":{\"outlinewidth\":0,\"ticks\":\"\"}},\"type\":\"scatterpolar\"}],\"scatter\":[{\"fillpattern\":{\"fillmode\":\"overlay\",\"size\":10,\"solidity\":0.2},\"type\":\"scatter\"}],\"scatterternary\":[{\"marker\":{\"colorbar\":{\"outlinewidth\":0,\"ticks\":\"\"}},\"type\":\"scatterternary\"}],\"surface\":[{\"colorbar\":{\"outlinewidth\":0,\"ticks\":\"\"},\"colorscale\":[[0.0,\"#0d0887\"],[0.1111111111111111,\"#46039f\"],[0.2222222222222222,\"#7201a8\"],[0.3333333333333333,\"#9c179e\"],[0.4444444444444444,\"#bd3786\"],[0.5555555555555556,\"#d8576b\"],[0.6666666666666666,\"#ed7953\"],[0.7777777777777778,\"#fb9f3a\"],[0.8888888888888888,\"#fdca26\"],[1.0,\"#f0f921\"]],\"type\":\"surface\"}],\"table\":[{\"cells\":{\"fill\":{\"color\":\"#EBF0F8\"},\"line\":{\"color\":\"white\"}},\"header\":{\"fill\":{\"color\":\"#C8D4E3\"},\"line\":{\"color\":\"white\"}},\"type\":\"table\"}]},\"layout\":{\"annotationdefaults\":{\"arrowcolor\":\"#2a3f5f\",\"arrowhead\":0,\"arrowwidth\":1},\"autotypenumbers\":\"strict\",\"coloraxis\":{\"colorbar\":{\"outlinewidth\":0,\"ticks\":\"\"}},\"colorscale\":{\"diverging\":[[0,\"#8e0152\"],[0.1,\"#c51b7d\"],[0.2,\"#de77ae\"],[0.3,\"#f1b6da\"],[0.4,\"#fde0ef\"],[0.5,\"#f7f7f7\"],[0.6,\"#e6f5d0\"],[0.7,\"#b8e186\"],[0.8,\"#7fbc41\"],[0.9,\"#4d9221\"],[1,\"#276419\"]],\"sequential\":[[0.0,\"#0d0887\"],[0.1111111111111111,\"#46039f\"],[0.2222222222222222,\"#7201a8\"],[0.3333333333333333,\"#9c179e\"],[0.4444444444444444,\"#bd3786\"],[0.5555555555555556,\"#d8576b\"],[0.6666666666666666,\"#ed7953\"],[0.7777777777777778,\"#fb9f3a\"],[0.8888888888888888,\"#fdca26\"],[1.0,\"#f0f921\"]],\"sequentialminus\":[[0.0,\"#0d0887\"],[0.1111111111111111,\"#46039f\"],[0.2222222222222222,\"#7201a8\"],[0.3333333333333333,\"#9c179e\"],[0.4444444444444444,\"#bd3786\"],[0.5555555555555556,\"#d8576b\"],[0.6666666666666666,\"#ed7953\"],[0.7777777777777778,\"#fb9f3a\"],[0.8888888888888888,\"#fdca26\"],[1.0,\"#f0f921\"]]},\"colorway\":[\"#636efa\",\"#EF553B\",\"#00cc96\",\"#ab63fa\",\"#FFA15A\",\"#19d3f3\",\"#FF6692\",\"#B6E880\",\"#FF97FF\",\"#FECB52\"],\"font\":{\"color\":\"#2a3f5f\"},\"geo\":{\"bgcolor\":\"white\",\"lakecolor\":\"white\",\"landcolor\":\"#E5ECF6\",\"showlakes\":true,\"showland\":true,\"subunitcolor\":\"white\"},\"hoverlabel\":{\"align\":\"left\"},\"hovermode\":\"closest\",\"mapbox\":{\"style\":\"light\"},\"paper_bgcolor\":\"white\",\"plot_bgcolor\":\"#E5ECF6\",\"polar\":{\"angularaxis\":{\"gridcolor\":\"white\",\"linecolor\":\"white\",\"ticks\":\"\"},\"bgcolor\":\"#E5ECF6\",\"radialaxis\":{\"gridcolor\":\"white\",\"linecolor\":\"white\",\"ticks\":\"\"}},\"scene\":{\"xaxis\":{\"backgroundcolor\":\"#E5ECF6\",\"gridcolor\":\"white\",\"gridwidth\":2,\"linecolor\":\"white\",\"showbackground\":true,\"ticks\":\"\",\"zerolinecolor\":\"white\"},\"yaxis\":{\"backgroundcolor\":\"#E5ECF6\",\"gridcolor\":\"white\",\"gridwidth\":2,\"linecolor\":\"white\",\"showbackground\":true,\"ticks\":\"\",\"zerolinecolor\":\"white\"},\"zaxis\":{\"backgroundcolor\":\"#E5ECF6\",\"gridcolor\":\"white\",\"gridwidth\":2,\"linecolor\":\"white\",\"showbackground\":true,\"ticks\":\"\",\"zerolinecolor\":\"white\"}},\"shapedefaults\":{\"line\":{\"color\":\"#2a3f5f\"}},\"ternary\":{\"aaxis\":{\"gridcolor\":\"white\",\"linecolor\":\"white\",\"ticks\":\"\"},\"baxis\":{\"gridcolor\":\"white\",\"linecolor\":\"white\",\"ticks\":\"\"},\"bgcolor\":\"#E5ECF6\",\"caxis\":{\"gridcolor\":\"white\",\"linecolor\":\"white\",\"ticks\":\"\"}},\"title\":{\"x\":0.05},\"xaxis\":{\"automargin\":true,\"gridcolor\":\"white\",\"linecolor\":\"white\",\"ticks\":\"\",\"title\":{\"standoff\":15},\"zerolinecolor\":\"white\",\"zerolinewidth\":2},\"yaxis\":{\"automargin\":true,\"gridcolor\":\"white\",\"linecolor\":\"white\",\"ticks\":\"\",\"title\":{\"standoff\":15},\"zerolinecolor\":\"white\",\"zerolinewidth\":2}}},\"title\":{\"font\":{\"color\":\"#4D5663\"}},\"xaxis\":{\"gridcolor\":\"#E1E5ED\",\"showgrid\":true,\"tickfont\":{\"color\":\"#4D5663\"},\"title\":{\"font\":{\"color\":\"#4D5663\"},\"text\":\"\"},\"zerolinecolor\":\"#E1E5ED\"},\"yaxis\":{\"gridcolor\":\"#E1E5ED\",\"showgrid\":true,\"tickfont\":{\"color\":\"#4D5663\"},\"title\":{\"font\":{\"color\":\"#4D5663\"},\"text\":\"\"},\"zerolinecolor\":\"#E1E5ED\"}},                        {\"showLink\": true, \"linkText\": \"Export to plot.ly\", \"plotlyServerURL\": \"https://plot.ly\", \"responsive\": true}                    ).then(function(){\n",
       "                            \n",
       "var gd = document.getElementById('4f53bd3b-c762-4a31-b174-3afaa88d8d56');\n",
       "var x = new MutationObserver(function (mutations, observer) {{\n",
       "        var display = window.getComputedStyle(gd).display;\n",
       "        if (!display || display === 'none') {{\n",
       "            console.log([gd, 'removed!']);\n",
       "            Plotly.purge(gd);\n",
       "            observer.disconnect();\n",
       "        }}\n",
       "}});\n",
       "\n",
       "// Listen for the removal of the full notebook cells\n",
       "var notebookContainer = gd.closest('#notebook-container');\n",
       "if (notebookContainer) {{\n",
       "    x.observe(notebookContainer, {childList: true});\n",
       "}}\n",
       "\n",
       "// Listen for the clearing of the current output cell\n",
       "var outputEl = gd.closest('.output');\n",
       "if (outputEl) {{\n",
       "    x.observe(outputEl, {childList: true});\n",
       "}}\n",
       "\n",
       "                        })                };                });            </script>        </div>"
      ]
     },
     "metadata": {},
     "output_type": "display_data"
    }
   ],
   "source": [
    "df.iplot(kind='scatter', x='A', y='B')"
   ]
  },
  {
   "cell_type": "code",
   "execution_count": 15,
   "id": "d6afc1a6",
   "metadata": {},
   "outputs": [
    {
     "data": {
      "application/vnd.plotly.v1+json": {
       "config": {
        "linkText": "Export to plot.ly",
        "plotlyServerURL": "https://plot.ly",
        "showLink": true
       },
       "data": [
        {
         "line": {
          "color": "rgba(255, 153, 51, 1.0)",
          "dash": "solid",
          "shape": "linear",
          "width": 1.3
         },
         "marker": {
          "size": 12,
          "symbol": "circle"
         },
         "mode": "markers",
         "name": "B",
         "text": "",
         "type": "scatter",
         "x": [
          0.43539700148335236,
          0.15819395423214852,
          0.62879333196527,
          -0.26401107422169673,
          -1.8324809705325915,
          0.7704629872779027,
          1.7497298283959724,
          -1.0015334595201602,
          -1.718240559825639,
          0.628596523719882,
          -0.42019354274908316,
          2.7136701685643403,
          -0.9378495172398871,
          0.6598021382631747,
          1.6184775733872263,
          1.3954033785382987,
          1.405495874826309,
          -1.166616968739883,
          2.365923532026527,
          1.1133259856604942,
          -1.6813679639527261,
          -0.04667403900552732,
          -0.6363654890464304,
          -1.5425012567014285,
          -1.012741270794969,
          0.12132634073101281,
          1.595602460076769,
          1.7305965984334635,
          -1.9217891095448971,
          1.1860294383645715,
          0.26201847879465384,
          -1.2055378111750752,
          2.3438810173248927,
          1.2086288002904493,
          -1.8314084636430585,
          1.7619781396825958,
          2.1031817281439817,
          -2.5307453072827966,
          1.2761298243307624,
          -1.772353423710465,
          -0.636420642902602,
          -1.930564293340949,
          -1.0610308479700656,
          -0.450655785586209,
          -2.1425651099825824,
          -1.0903966470383508,
          -0.5620779766373142,
          -0.770744501166946,
          0.317708947982711,
          0.1318688172018447,
          -1.2201324264384652,
          -0.19136686704154338,
          -0.06257792497623924,
          0.5936190711859071,
          1.1391272098088527,
          0.7464631766024825,
          -0.8977662361522014,
          0.14140290562352897,
          0.3256123427724348,
          0.9112030544266069,
          0.8357966193733269,
          1.7487601057521938,
          -0.49373510396354875,
          -0.6666213874172607,
          1.1831818138576176,
          -1.0182097832516077,
          -0.04630874727601642,
          -0.9836337689727818,
          1.9926142232426531,
          0.7440871065414701,
          0.28972919333565683,
          -0.5480211897462933,
          0.8413311240763615,
          -0.6346241128971083,
          -0.4398922253755513,
          -0.28149585930036625,
          0.6490498459345291,
          -0.23584960142982708,
          -1.5937987594535374,
          0.051213682792660656,
          -0.374994885556381,
          0.7207560378542024,
          0.5394156502485068,
          1.1572917713327477,
          -2.5643244253052964,
          -0.10181612060765612,
          0.11183773067467831,
          1.1028927065391063,
          -1.3752211222891688,
          2.16105987106691,
          -0.7898043390090209,
          1.6487450904111807,
          -1.7240798592526558,
          0.4254960002374844,
          0.2156919556300176,
          0.2031078608182616,
          0.21648296318241012,
          0.6718965344393238,
          -1.8998227182750862,
          -0.017153916755728384
         ],
         "y": [
          0.760388682451242,
          -0.3014770718387929,
          -0.8104320504480762,
          1.1583102446320703,
          0.66259937418456,
          -0.8731559685701944,
          -0.10732150644350782,
          -1.4845842008871466,
          -1.1868462655772307,
          1.613590761177109,
          -1.9381099315529704,
          -0.29380824929788424,
          1.3599307756073165,
          -0.36836520730565253,
          -0.3269586169498003,
          -0.8722022296216736,
          1.7599609916589511,
          2.412515853128903,
          -1.1138794684306152,
          1.5653823254598276,
          1.7614719313614335,
          -1.2290358322794215,
          2.6522230722984435,
          1.0163014618558739,
          0.6293809696480948,
          -1.5146156122233023,
          0.016940034354393264,
          0.0032133467236007663,
          -0.5981712356892535,
          0.020951829720675653,
          1.9963821917383087,
          1.0740671422306807,
          0.17809074697460173,
          0.04485989073294413,
          -0.4227495550182459,
          -0.32645695274430736,
          0.698607870034912,
          0.6330148722372047,
          0.2875584885528013,
          1.1234133729510283,
          0.24214275695220294,
          -0.9745143810694096,
          -0.09487224825524246,
          -0.05206076437308604,
          0.1700768924108305,
          1.300218316913883,
          -0.14751521656419564,
          -0.30080352426550006,
          -0.8520916792252314,
          1.1620463903000628,
          1.2476009203676264,
          -0.629125183496713,
          -0.3785357939583569,
          -0.914900498176864,
          0.15739646399040055,
          -0.08110020866252839,
          1.2781757771914946,
          1.9785521600539933,
          -0.07924996180658282,
          -0.17064150415758025,
          -0.33892612512205456,
          -0.8766265534473259,
          -0.8696592484215764,
          1.1323493113477194,
          -1.7050942234370272,
          -0.600405565715628,
          -0.1789375334228437,
          0.2764438144488436,
          -1.3979390762783197,
          1.3262592652981067,
          0.703525942698256,
          1.411777371228823,
          -1.6110804563893522,
          0.39705885749036557,
          -0.24578206196537786,
          -1.0140463874894474,
          0.35097105186424615,
          0.22520868769189759,
          0.11269335584705568,
          -0.6275979165028887,
          0.830374106714317,
          0.21139937581431129,
          -0.5613355709825517,
          0.5599973868588114,
          0.10923587614740028,
          -0.21228235369384083,
          0.9848944487618184,
          0.15230352046132178,
          -0.24908169790355753,
          -0.5547350602916322,
          -0.26024067645453,
          -0.12512543124851477,
          1.4959303828793944,
          -0.8075642744958867,
          -0.7868387528914741,
          0.11502021583953378,
          1.052635171665947,
          -2.005202626886498,
          0.36358094296755,
          -1.292869329621461
         ]
        }
       ],
       "layout": {
        "legend": {
         "bgcolor": "#F5F6F9",
         "font": {
          "color": "#4D5663"
         }
        },
        "paper_bgcolor": "#F5F6F9",
        "plot_bgcolor": "#F5F6F9",
        "template": {
         "data": {
          "bar": [
           {
            "error_x": {
             "color": "#2a3f5f"
            },
            "error_y": {
             "color": "#2a3f5f"
            },
            "marker": {
             "line": {
              "color": "#E5ECF6",
              "width": 0.5
             },
             "pattern": {
              "fillmode": "overlay",
              "size": 10,
              "solidity": 0.2
             }
            },
            "type": "bar"
           }
          ],
          "barpolar": [
           {
            "marker": {
             "line": {
              "color": "#E5ECF6",
              "width": 0.5
             },
             "pattern": {
              "fillmode": "overlay",
              "size": 10,
              "solidity": 0.2
             }
            },
            "type": "barpolar"
           }
          ],
          "carpet": [
           {
            "aaxis": {
             "endlinecolor": "#2a3f5f",
             "gridcolor": "white",
             "linecolor": "white",
             "minorgridcolor": "white",
             "startlinecolor": "#2a3f5f"
            },
            "baxis": {
             "endlinecolor": "#2a3f5f",
             "gridcolor": "white",
             "linecolor": "white",
             "minorgridcolor": "white",
             "startlinecolor": "#2a3f5f"
            },
            "type": "carpet"
           }
          ],
          "choropleth": [
           {
            "colorbar": {
             "outlinewidth": 0,
             "ticks": ""
            },
            "type": "choropleth"
           }
          ],
          "contour": [
           {
            "colorbar": {
             "outlinewidth": 0,
             "ticks": ""
            },
            "colorscale": [
             [
              0,
              "#0d0887"
             ],
             [
              0.1111111111111111,
              "#46039f"
             ],
             [
              0.2222222222222222,
              "#7201a8"
             ],
             [
              0.3333333333333333,
              "#9c179e"
             ],
             [
              0.4444444444444444,
              "#bd3786"
             ],
             [
              0.5555555555555556,
              "#d8576b"
             ],
             [
              0.6666666666666666,
              "#ed7953"
             ],
             [
              0.7777777777777778,
              "#fb9f3a"
             ],
             [
              0.8888888888888888,
              "#fdca26"
             ],
             [
              1,
              "#f0f921"
             ]
            ],
            "type": "contour"
           }
          ],
          "contourcarpet": [
           {
            "colorbar": {
             "outlinewidth": 0,
             "ticks": ""
            },
            "type": "contourcarpet"
           }
          ],
          "heatmap": [
           {
            "colorbar": {
             "outlinewidth": 0,
             "ticks": ""
            },
            "colorscale": [
             [
              0,
              "#0d0887"
             ],
             [
              0.1111111111111111,
              "#46039f"
             ],
             [
              0.2222222222222222,
              "#7201a8"
             ],
             [
              0.3333333333333333,
              "#9c179e"
             ],
             [
              0.4444444444444444,
              "#bd3786"
             ],
             [
              0.5555555555555556,
              "#d8576b"
             ],
             [
              0.6666666666666666,
              "#ed7953"
             ],
             [
              0.7777777777777778,
              "#fb9f3a"
             ],
             [
              0.8888888888888888,
              "#fdca26"
             ],
             [
              1,
              "#f0f921"
             ]
            ],
            "type": "heatmap"
           }
          ],
          "heatmapgl": [
           {
            "colorbar": {
             "outlinewidth": 0,
             "ticks": ""
            },
            "colorscale": [
             [
              0,
              "#0d0887"
             ],
             [
              0.1111111111111111,
              "#46039f"
             ],
             [
              0.2222222222222222,
              "#7201a8"
             ],
             [
              0.3333333333333333,
              "#9c179e"
             ],
             [
              0.4444444444444444,
              "#bd3786"
             ],
             [
              0.5555555555555556,
              "#d8576b"
             ],
             [
              0.6666666666666666,
              "#ed7953"
             ],
             [
              0.7777777777777778,
              "#fb9f3a"
             ],
             [
              0.8888888888888888,
              "#fdca26"
             ],
             [
              1,
              "#f0f921"
             ]
            ],
            "type": "heatmapgl"
           }
          ],
          "histogram": [
           {
            "marker": {
             "pattern": {
              "fillmode": "overlay",
              "size": 10,
              "solidity": 0.2
             }
            },
            "type": "histogram"
           }
          ],
          "histogram2d": [
           {
            "colorbar": {
             "outlinewidth": 0,
             "ticks": ""
            },
            "colorscale": [
             [
              0,
              "#0d0887"
             ],
             [
              0.1111111111111111,
              "#46039f"
             ],
             [
              0.2222222222222222,
              "#7201a8"
             ],
             [
              0.3333333333333333,
              "#9c179e"
             ],
             [
              0.4444444444444444,
              "#bd3786"
             ],
             [
              0.5555555555555556,
              "#d8576b"
             ],
             [
              0.6666666666666666,
              "#ed7953"
             ],
             [
              0.7777777777777778,
              "#fb9f3a"
             ],
             [
              0.8888888888888888,
              "#fdca26"
             ],
             [
              1,
              "#f0f921"
             ]
            ],
            "type": "histogram2d"
           }
          ],
          "histogram2dcontour": [
           {
            "colorbar": {
             "outlinewidth": 0,
             "ticks": ""
            },
            "colorscale": [
             [
              0,
              "#0d0887"
             ],
             [
              0.1111111111111111,
              "#46039f"
             ],
             [
              0.2222222222222222,
              "#7201a8"
             ],
             [
              0.3333333333333333,
              "#9c179e"
             ],
             [
              0.4444444444444444,
              "#bd3786"
             ],
             [
              0.5555555555555556,
              "#d8576b"
             ],
             [
              0.6666666666666666,
              "#ed7953"
             ],
             [
              0.7777777777777778,
              "#fb9f3a"
             ],
             [
              0.8888888888888888,
              "#fdca26"
             ],
             [
              1,
              "#f0f921"
             ]
            ],
            "type": "histogram2dcontour"
           }
          ],
          "mesh3d": [
           {
            "colorbar": {
             "outlinewidth": 0,
             "ticks": ""
            },
            "type": "mesh3d"
           }
          ],
          "parcoords": [
           {
            "line": {
             "colorbar": {
              "outlinewidth": 0,
              "ticks": ""
             }
            },
            "type": "parcoords"
           }
          ],
          "pie": [
           {
            "automargin": true,
            "type": "pie"
           }
          ],
          "scatter": [
           {
            "fillpattern": {
             "fillmode": "overlay",
             "size": 10,
             "solidity": 0.2
            },
            "type": "scatter"
           }
          ],
          "scatter3d": [
           {
            "line": {
             "colorbar": {
              "outlinewidth": 0,
              "ticks": ""
             }
            },
            "marker": {
             "colorbar": {
              "outlinewidth": 0,
              "ticks": ""
             }
            },
            "type": "scatter3d"
           }
          ],
          "scattercarpet": [
           {
            "marker": {
             "colorbar": {
              "outlinewidth": 0,
              "ticks": ""
             }
            },
            "type": "scattercarpet"
           }
          ],
          "scattergeo": [
           {
            "marker": {
             "colorbar": {
              "outlinewidth": 0,
              "ticks": ""
             }
            },
            "type": "scattergeo"
           }
          ],
          "scattergl": [
           {
            "marker": {
             "colorbar": {
              "outlinewidth": 0,
              "ticks": ""
             }
            },
            "type": "scattergl"
           }
          ],
          "scattermapbox": [
           {
            "marker": {
             "colorbar": {
              "outlinewidth": 0,
              "ticks": ""
             }
            },
            "type": "scattermapbox"
           }
          ],
          "scatterpolar": [
           {
            "marker": {
             "colorbar": {
              "outlinewidth": 0,
              "ticks": ""
             }
            },
            "type": "scatterpolar"
           }
          ],
          "scatterpolargl": [
           {
            "marker": {
             "colorbar": {
              "outlinewidth": 0,
              "ticks": ""
             }
            },
            "type": "scatterpolargl"
           }
          ],
          "scatterternary": [
           {
            "marker": {
             "colorbar": {
              "outlinewidth": 0,
              "ticks": ""
             }
            },
            "type": "scatterternary"
           }
          ],
          "surface": [
           {
            "colorbar": {
             "outlinewidth": 0,
             "ticks": ""
            },
            "colorscale": [
             [
              0,
              "#0d0887"
             ],
             [
              0.1111111111111111,
              "#46039f"
             ],
             [
              0.2222222222222222,
              "#7201a8"
             ],
             [
              0.3333333333333333,
              "#9c179e"
             ],
             [
              0.4444444444444444,
              "#bd3786"
             ],
             [
              0.5555555555555556,
              "#d8576b"
             ],
             [
              0.6666666666666666,
              "#ed7953"
             ],
             [
              0.7777777777777778,
              "#fb9f3a"
             ],
             [
              0.8888888888888888,
              "#fdca26"
             ],
             [
              1,
              "#f0f921"
             ]
            ],
            "type": "surface"
           }
          ],
          "table": [
           {
            "cells": {
             "fill": {
              "color": "#EBF0F8"
             },
             "line": {
              "color": "white"
             }
            },
            "header": {
             "fill": {
              "color": "#C8D4E3"
             },
             "line": {
              "color": "white"
             }
            },
            "type": "table"
           }
          ]
         },
         "layout": {
          "annotationdefaults": {
           "arrowcolor": "#2a3f5f",
           "arrowhead": 0,
           "arrowwidth": 1
          },
          "autotypenumbers": "strict",
          "coloraxis": {
           "colorbar": {
            "outlinewidth": 0,
            "ticks": ""
           }
          },
          "colorscale": {
           "diverging": [
            [
             0,
             "#8e0152"
            ],
            [
             0.1,
             "#c51b7d"
            ],
            [
             0.2,
             "#de77ae"
            ],
            [
             0.3,
             "#f1b6da"
            ],
            [
             0.4,
             "#fde0ef"
            ],
            [
             0.5,
             "#f7f7f7"
            ],
            [
             0.6,
             "#e6f5d0"
            ],
            [
             0.7,
             "#b8e186"
            ],
            [
             0.8,
             "#7fbc41"
            ],
            [
             0.9,
             "#4d9221"
            ],
            [
             1,
             "#276419"
            ]
           ],
           "sequential": [
            [
             0,
             "#0d0887"
            ],
            [
             0.1111111111111111,
             "#46039f"
            ],
            [
             0.2222222222222222,
             "#7201a8"
            ],
            [
             0.3333333333333333,
             "#9c179e"
            ],
            [
             0.4444444444444444,
             "#bd3786"
            ],
            [
             0.5555555555555556,
             "#d8576b"
            ],
            [
             0.6666666666666666,
             "#ed7953"
            ],
            [
             0.7777777777777778,
             "#fb9f3a"
            ],
            [
             0.8888888888888888,
             "#fdca26"
            ],
            [
             1,
             "#f0f921"
            ]
           ],
           "sequentialminus": [
            [
             0,
             "#0d0887"
            ],
            [
             0.1111111111111111,
             "#46039f"
            ],
            [
             0.2222222222222222,
             "#7201a8"
            ],
            [
             0.3333333333333333,
             "#9c179e"
            ],
            [
             0.4444444444444444,
             "#bd3786"
            ],
            [
             0.5555555555555556,
             "#d8576b"
            ],
            [
             0.6666666666666666,
             "#ed7953"
            ],
            [
             0.7777777777777778,
             "#fb9f3a"
            ],
            [
             0.8888888888888888,
             "#fdca26"
            ],
            [
             1,
             "#f0f921"
            ]
           ]
          },
          "colorway": [
           "#636efa",
           "#EF553B",
           "#00cc96",
           "#ab63fa",
           "#FFA15A",
           "#19d3f3",
           "#FF6692",
           "#B6E880",
           "#FF97FF",
           "#FECB52"
          ],
          "font": {
           "color": "#2a3f5f"
          },
          "geo": {
           "bgcolor": "white",
           "lakecolor": "white",
           "landcolor": "#E5ECF6",
           "showlakes": true,
           "showland": true,
           "subunitcolor": "white"
          },
          "hoverlabel": {
           "align": "left"
          },
          "hovermode": "closest",
          "mapbox": {
           "style": "light"
          },
          "paper_bgcolor": "white",
          "plot_bgcolor": "#E5ECF6",
          "polar": {
           "angularaxis": {
            "gridcolor": "white",
            "linecolor": "white",
            "ticks": ""
           },
           "bgcolor": "#E5ECF6",
           "radialaxis": {
            "gridcolor": "white",
            "linecolor": "white",
            "ticks": ""
           }
          },
          "scene": {
           "xaxis": {
            "backgroundcolor": "#E5ECF6",
            "gridcolor": "white",
            "gridwidth": 2,
            "linecolor": "white",
            "showbackground": true,
            "ticks": "",
            "zerolinecolor": "white"
           },
           "yaxis": {
            "backgroundcolor": "#E5ECF6",
            "gridcolor": "white",
            "gridwidth": 2,
            "linecolor": "white",
            "showbackground": true,
            "ticks": "",
            "zerolinecolor": "white"
           },
           "zaxis": {
            "backgroundcolor": "#E5ECF6",
            "gridcolor": "white",
            "gridwidth": 2,
            "linecolor": "white",
            "showbackground": true,
            "ticks": "",
            "zerolinecolor": "white"
           }
          },
          "shapedefaults": {
           "line": {
            "color": "#2a3f5f"
           }
          },
          "ternary": {
           "aaxis": {
            "gridcolor": "white",
            "linecolor": "white",
            "ticks": ""
           },
           "baxis": {
            "gridcolor": "white",
            "linecolor": "white",
            "ticks": ""
           },
           "bgcolor": "#E5ECF6",
           "caxis": {
            "gridcolor": "white",
            "linecolor": "white",
            "ticks": ""
           }
          },
          "title": {
           "x": 0.05
          },
          "xaxis": {
           "automargin": true,
           "gridcolor": "white",
           "linecolor": "white",
           "ticks": "",
           "title": {
            "standoff": 15
           },
           "zerolinecolor": "white",
           "zerolinewidth": 2
          },
          "yaxis": {
           "automargin": true,
           "gridcolor": "white",
           "linecolor": "white",
           "ticks": "",
           "title": {
            "standoff": 15
           },
           "zerolinecolor": "white",
           "zerolinewidth": 2
          }
         }
        },
        "title": {
         "font": {
          "color": "#4D5663"
         }
        },
        "xaxis": {
         "gridcolor": "#E1E5ED",
         "showgrid": true,
         "tickfont": {
          "color": "#4D5663"
         },
         "title": {
          "font": {
           "color": "#4D5663"
          },
          "text": ""
         },
         "zerolinecolor": "#E1E5ED"
        },
        "yaxis": {
         "gridcolor": "#E1E5ED",
         "showgrid": true,
         "tickfont": {
          "color": "#4D5663"
         },
         "title": {
          "font": {
           "color": "#4D5663"
          },
          "text": ""
         },
         "zerolinecolor": "#E1E5ED"
        }
       }
      },
      "text/html": [
       "<div>                            <div id=\"6efb5b89-99f6-4aed-b5f8-d2932ca097aa\" class=\"plotly-graph-div\" style=\"height:525px; width:100%;\"></div>            <script type=\"text/javascript\">                require([\"plotly\"], function(Plotly) {                    window.PLOTLYENV=window.PLOTLYENV || {};\n",
       "                    window.PLOTLYENV.BASE_URL='https://plot.ly';                                    if (document.getElementById(\"6efb5b89-99f6-4aed-b5f8-d2932ca097aa\")) {                    Plotly.newPlot(                        \"6efb5b89-99f6-4aed-b5f8-d2932ca097aa\",                        [{\"line\":{\"color\":\"rgba(255, 153, 51, 1.0)\",\"dash\":\"solid\",\"shape\":\"linear\",\"width\":1.3},\"marker\":{\"size\":12,\"symbol\":\"circle\"},\"mode\":\"markers\",\"name\":\"B\",\"text\":\"\",\"x\":[0.43539700148335236,0.15819395423214852,0.62879333196527,-0.26401107422169673,-1.8324809705325915,0.7704629872779027,1.7497298283959724,-1.0015334595201602,-1.718240559825639,0.628596523719882,-0.42019354274908316,2.7136701685643403,-0.9378495172398871,0.6598021382631747,1.6184775733872263,1.3954033785382987,1.405495874826309,-1.166616968739883,2.365923532026527,1.1133259856604942,-1.6813679639527261,-0.04667403900552732,-0.6363654890464304,-1.5425012567014285,-1.012741270794969,0.12132634073101281,1.595602460076769,1.7305965984334635,-1.9217891095448971,1.1860294383645715,0.26201847879465384,-1.2055378111750752,2.3438810173248927,1.2086288002904493,-1.8314084636430585,1.7619781396825958,2.1031817281439817,-2.5307453072827966,1.2761298243307624,-1.772353423710465,-0.636420642902602,-1.930564293340949,-1.0610308479700656,-0.450655785586209,-2.1425651099825824,-1.0903966470383508,-0.5620779766373142,-0.770744501166946,0.317708947982711,0.1318688172018447,-1.2201324264384652,-0.19136686704154338,-0.06257792497623924,0.5936190711859071,1.1391272098088527,0.7464631766024825,-0.8977662361522014,0.14140290562352897,0.3256123427724348,0.9112030544266069,0.8357966193733269,1.7487601057521938,-0.49373510396354875,-0.6666213874172607,1.1831818138576176,-1.0182097832516077,-0.04630874727601642,-0.9836337689727818,1.9926142232426531,0.7440871065414701,0.28972919333565683,-0.5480211897462933,0.8413311240763615,-0.6346241128971083,-0.4398922253755513,-0.28149585930036625,0.6490498459345291,-0.23584960142982708,-1.5937987594535374,0.051213682792660656,-0.374994885556381,0.7207560378542024,0.5394156502485068,1.1572917713327477,-2.5643244253052964,-0.10181612060765612,0.11183773067467831,1.1028927065391063,-1.3752211222891688,2.16105987106691,-0.7898043390090209,1.6487450904111807,-1.7240798592526558,0.4254960002374844,0.2156919556300176,0.2031078608182616,0.21648296318241012,0.6718965344393238,-1.8998227182750862,-0.017153916755728384],\"y\":[0.760388682451242,-0.3014770718387929,-0.8104320504480762,1.1583102446320703,0.66259937418456,-0.8731559685701944,-0.10732150644350782,-1.4845842008871466,-1.1868462655772307,1.613590761177109,-1.9381099315529704,-0.29380824929788424,1.3599307756073165,-0.36836520730565253,-0.3269586169498003,-0.8722022296216736,1.7599609916589511,2.412515853128903,-1.1138794684306152,1.5653823254598276,1.7614719313614335,-1.2290358322794215,2.6522230722984435,1.0163014618558739,0.6293809696480948,-1.5146156122233023,0.016940034354393264,0.0032133467236007663,-0.5981712356892535,0.020951829720675653,1.9963821917383087,1.0740671422306807,0.17809074697460173,0.04485989073294413,-0.4227495550182459,-0.32645695274430736,0.698607870034912,0.6330148722372047,0.2875584885528013,1.1234133729510283,0.24214275695220294,-0.9745143810694096,-0.09487224825524246,-0.05206076437308604,0.1700768924108305,1.300218316913883,-0.14751521656419564,-0.30080352426550006,-0.8520916792252314,1.1620463903000628,1.2476009203676264,-0.629125183496713,-0.3785357939583569,-0.914900498176864,0.15739646399040055,-0.08110020866252839,1.2781757771914946,1.9785521600539933,-0.07924996180658282,-0.17064150415758025,-0.33892612512205456,-0.8766265534473259,-0.8696592484215764,1.1323493113477194,-1.7050942234370272,-0.600405565715628,-0.1789375334228437,0.2764438144488436,-1.3979390762783197,1.3262592652981067,0.703525942698256,1.411777371228823,-1.6110804563893522,0.39705885749036557,-0.24578206196537786,-1.0140463874894474,0.35097105186424615,0.22520868769189759,0.11269335584705568,-0.6275979165028887,0.830374106714317,0.21139937581431129,-0.5613355709825517,0.5599973868588114,0.10923587614740028,-0.21228235369384083,0.9848944487618184,0.15230352046132178,-0.24908169790355753,-0.5547350602916322,-0.26024067645453,-0.12512543124851477,1.4959303828793944,-0.8075642744958867,-0.7868387528914741,0.11502021583953378,1.052635171665947,-2.005202626886498,0.36358094296755,-1.292869329621461],\"type\":\"scatter\"}],                        {\"legend\":{\"bgcolor\":\"#F5F6F9\",\"font\":{\"color\":\"#4D5663\"}},\"paper_bgcolor\":\"#F5F6F9\",\"plot_bgcolor\":\"#F5F6F9\",\"template\":{\"data\":{\"barpolar\":[{\"marker\":{\"line\":{\"color\":\"#E5ECF6\",\"width\":0.5},\"pattern\":{\"fillmode\":\"overlay\",\"size\":10,\"solidity\":0.2}},\"type\":\"barpolar\"}],\"bar\":[{\"error_x\":{\"color\":\"#2a3f5f\"},\"error_y\":{\"color\":\"#2a3f5f\"},\"marker\":{\"line\":{\"color\":\"#E5ECF6\",\"width\":0.5},\"pattern\":{\"fillmode\":\"overlay\",\"size\":10,\"solidity\":0.2}},\"type\":\"bar\"}],\"carpet\":[{\"aaxis\":{\"endlinecolor\":\"#2a3f5f\",\"gridcolor\":\"white\",\"linecolor\":\"white\",\"minorgridcolor\":\"white\",\"startlinecolor\":\"#2a3f5f\"},\"baxis\":{\"endlinecolor\":\"#2a3f5f\",\"gridcolor\":\"white\",\"linecolor\":\"white\",\"minorgridcolor\":\"white\",\"startlinecolor\":\"#2a3f5f\"},\"type\":\"carpet\"}],\"choropleth\":[{\"colorbar\":{\"outlinewidth\":0,\"ticks\":\"\"},\"type\":\"choropleth\"}],\"contourcarpet\":[{\"colorbar\":{\"outlinewidth\":0,\"ticks\":\"\"},\"type\":\"contourcarpet\"}],\"contour\":[{\"colorbar\":{\"outlinewidth\":0,\"ticks\":\"\"},\"colorscale\":[[0.0,\"#0d0887\"],[0.1111111111111111,\"#46039f\"],[0.2222222222222222,\"#7201a8\"],[0.3333333333333333,\"#9c179e\"],[0.4444444444444444,\"#bd3786\"],[0.5555555555555556,\"#d8576b\"],[0.6666666666666666,\"#ed7953\"],[0.7777777777777778,\"#fb9f3a\"],[0.8888888888888888,\"#fdca26\"],[1.0,\"#f0f921\"]],\"type\":\"contour\"}],\"heatmapgl\":[{\"colorbar\":{\"outlinewidth\":0,\"ticks\":\"\"},\"colorscale\":[[0.0,\"#0d0887\"],[0.1111111111111111,\"#46039f\"],[0.2222222222222222,\"#7201a8\"],[0.3333333333333333,\"#9c179e\"],[0.4444444444444444,\"#bd3786\"],[0.5555555555555556,\"#d8576b\"],[0.6666666666666666,\"#ed7953\"],[0.7777777777777778,\"#fb9f3a\"],[0.8888888888888888,\"#fdca26\"],[1.0,\"#f0f921\"]],\"type\":\"heatmapgl\"}],\"heatmap\":[{\"colorbar\":{\"outlinewidth\":0,\"ticks\":\"\"},\"colorscale\":[[0.0,\"#0d0887\"],[0.1111111111111111,\"#46039f\"],[0.2222222222222222,\"#7201a8\"],[0.3333333333333333,\"#9c179e\"],[0.4444444444444444,\"#bd3786\"],[0.5555555555555556,\"#d8576b\"],[0.6666666666666666,\"#ed7953\"],[0.7777777777777778,\"#fb9f3a\"],[0.8888888888888888,\"#fdca26\"],[1.0,\"#f0f921\"]],\"type\":\"heatmap\"}],\"histogram2dcontour\":[{\"colorbar\":{\"outlinewidth\":0,\"ticks\":\"\"},\"colorscale\":[[0.0,\"#0d0887\"],[0.1111111111111111,\"#46039f\"],[0.2222222222222222,\"#7201a8\"],[0.3333333333333333,\"#9c179e\"],[0.4444444444444444,\"#bd3786\"],[0.5555555555555556,\"#d8576b\"],[0.6666666666666666,\"#ed7953\"],[0.7777777777777778,\"#fb9f3a\"],[0.8888888888888888,\"#fdca26\"],[1.0,\"#f0f921\"]],\"type\":\"histogram2dcontour\"}],\"histogram2d\":[{\"colorbar\":{\"outlinewidth\":0,\"ticks\":\"\"},\"colorscale\":[[0.0,\"#0d0887\"],[0.1111111111111111,\"#46039f\"],[0.2222222222222222,\"#7201a8\"],[0.3333333333333333,\"#9c179e\"],[0.4444444444444444,\"#bd3786\"],[0.5555555555555556,\"#d8576b\"],[0.6666666666666666,\"#ed7953\"],[0.7777777777777778,\"#fb9f3a\"],[0.8888888888888888,\"#fdca26\"],[1.0,\"#f0f921\"]],\"type\":\"histogram2d\"}],\"histogram\":[{\"marker\":{\"pattern\":{\"fillmode\":\"overlay\",\"size\":10,\"solidity\":0.2}},\"type\":\"histogram\"}],\"mesh3d\":[{\"colorbar\":{\"outlinewidth\":0,\"ticks\":\"\"},\"type\":\"mesh3d\"}],\"parcoords\":[{\"line\":{\"colorbar\":{\"outlinewidth\":0,\"ticks\":\"\"}},\"type\":\"parcoords\"}],\"pie\":[{\"automargin\":true,\"type\":\"pie\"}],\"scatter3d\":[{\"line\":{\"colorbar\":{\"outlinewidth\":0,\"ticks\":\"\"}},\"marker\":{\"colorbar\":{\"outlinewidth\":0,\"ticks\":\"\"}},\"type\":\"scatter3d\"}],\"scattercarpet\":[{\"marker\":{\"colorbar\":{\"outlinewidth\":0,\"ticks\":\"\"}},\"type\":\"scattercarpet\"}],\"scattergeo\":[{\"marker\":{\"colorbar\":{\"outlinewidth\":0,\"ticks\":\"\"}},\"type\":\"scattergeo\"}],\"scattergl\":[{\"marker\":{\"colorbar\":{\"outlinewidth\":0,\"ticks\":\"\"}},\"type\":\"scattergl\"}],\"scattermapbox\":[{\"marker\":{\"colorbar\":{\"outlinewidth\":0,\"ticks\":\"\"}},\"type\":\"scattermapbox\"}],\"scatterpolargl\":[{\"marker\":{\"colorbar\":{\"outlinewidth\":0,\"ticks\":\"\"}},\"type\":\"scatterpolargl\"}],\"scatterpolar\":[{\"marker\":{\"colorbar\":{\"outlinewidth\":0,\"ticks\":\"\"}},\"type\":\"scatterpolar\"}],\"scatter\":[{\"fillpattern\":{\"fillmode\":\"overlay\",\"size\":10,\"solidity\":0.2},\"type\":\"scatter\"}],\"scatterternary\":[{\"marker\":{\"colorbar\":{\"outlinewidth\":0,\"ticks\":\"\"}},\"type\":\"scatterternary\"}],\"surface\":[{\"colorbar\":{\"outlinewidth\":0,\"ticks\":\"\"},\"colorscale\":[[0.0,\"#0d0887\"],[0.1111111111111111,\"#46039f\"],[0.2222222222222222,\"#7201a8\"],[0.3333333333333333,\"#9c179e\"],[0.4444444444444444,\"#bd3786\"],[0.5555555555555556,\"#d8576b\"],[0.6666666666666666,\"#ed7953\"],[0.7777777777777778,\"#fb9f3a\"],[0.8888888888888888,\"#fdca26\"],[1.0,\"#f0f921\"]],\"type\":\"surface\"}],\"table\":[{\"cells\":{\"fill\":{\"color\":\"#EBF0F8\"},\"line\":{\"color\":\"white\"}},\"header\":{\"fill\":{\"color\":\"#C8D4E3\"},\"line\":{\"color\":\"white\"}},\"type\":\"table\"}]},\"layout\":{\"annotationdefaults\":{\"arrowcolor\":\"#2a3f5f\",\"arrowhead\":0,\"arrowwidth\":1},\"autotypenumbers\":\"strict\",\"coloraxis\":{\"colorbar\":{\"outlinewidth\":0,\"ticks\":\"\"}},\"colorscale\":{\"diverging\":[[0,\"#8e0152\"],[0.1,\"#c51b7d\"],[0.2,\"#de77ae\"],[0.3,\"#f1b6da\"],[0.4,\"#fde0ef\"],[0.5,\"#f7f7f7\"],[0.6,\"#e6f5d0\"],[0.7,\"#b8e186\"],[0.8,\"#7fbc41\"],[0.9,\"#4d9221\"],[1,\"#276419\"]],\"sequential\":[[0.0,\"#0d0887\"],[0.1111111111111111,\"#46039f\"],[0.2222222222222222,\"#7201a8\"],[0.3333333333333333,\"#9c179e\"],[0.4444444444444444,\"#bd3786\"],[0.5555555555555556,\"#d8576b\"],[0.6666666666666666,\"#ed7953\"],[0.7777777777777778,\"#fb9f3a\"],[0.8888888888888888,\"#fdca26\"],[1.0,\"#f0f921\"]],\"sequentialminus\":[[0.0,\"#0d0887\"],[0.1111111111111111,\"#46039f\"],[0.2222222222222222,\"#7201a8\"],[0.3333333333333333,\"#9c179e\"],[0.4444444444444444,\"#bd3786\"],[0.5555555555555556,\"#d8576b\"],[0.6666666666666666,\"#ed7953\"],[0.7777777777777778,\"#fb9f3a\"],[0.8888888888888888,\"#fdca26\"],[1.0,\"#f0f921\"]]},\"colorway\":[\"#636efa\",\"#EF553B\",\"#00cc96\",\"#ab63fa\",\"#FFA15A\",\"#19d3f3\",\"#FF6692\",\"#B6E880\",\"#FF97FF\",\"#FECB52\"],\"font\":{\"color\":\"#2a3f5f\"},\"geo\":{\"bgcolor\":\"white\",\"lakecolor\":\"white\",\"landcolor\":\"#E5ECF6\",\"showlakes\":true,\"showland\":true,\"subunitcolor\":\"white\"},\"hoverlabel\":{\"align\":\"left\"},\"hovermode\":\"closest\",\"mapbox\":{\"style\":\"light\"},\"paper_bgcolor\":\"white\",\"plot_bgcolor\":\"#E5ECF6\",\"polar\":{\"angularaxis\":{\"gridcolor\":\"white\",\"linecolor\":\"white\",\"ticks\":\"\"},\"bgcolor\":\"#E5ECF6\",\"radialaxis\":{\"gridcolor\":\"white\",\"linecolor\":\"white\",\"ticks\":\"\"}},\"scene\":{\"xaxis\":{\"backgroundcolor\":\"#E5ECF6\",\"gridcolor\":\"white\",\"gridwidth\":2,\"linecolor\":\"white\",\"showbackground\":true,\"ticks\":\"\",\"zerolinecolor\":\"white\"},\"yaxis\":{\"backgroundcolor\":\"#E5ECF6\",\"gridcolor\":\"white\",\"gridwidth\":2,\"linecolor\":\"white\",\"showbackground\":true,\"ticks\":\"\",\"zerolinecolor\":\"white\"},\"zaxis\":{\"backgroundcolor\":\"#E5ECF6\",\"gridcolor\":\"white\",\"gridwidth\":2,\"linecolor\":\"white\",\"showbackground\":true,\"ticks\":\"\",\"zerolinecolor\":\"white\"}},\"shapedefaults\":{\"line\":{\"color\":\"#2a3f5f\"}},\"ternary\":{\"aaxis\":{\"gridcolor\":\"white\",\"linecolor\":\"white\",\"ticks\":\"\"},\"baxis\":{\"gridcolor\":\"white\",\"linecolor\":\"white\",\"ticks\":\"\"},\"bgcolor\":\"#E5ECF6\",\"caxis\":{\"gridcolor\":\"white\",\"linecolor\":\"white\",\"ticks\":\"\"}},\"title\":{\"x\":0.05},\"xaxis\":{\"automargin\":true,\"gridcolor\":\"white\",\"linecolor\":\"white\",\"ticks\":\"\",\"title\":{\"standoff\":15},\"zerolinecolor\":\"white\",\"zerolinewidth\":2},\"yaxis\":{\"automargin\":true,\"gridcolor\":\"white\",\"linecolor\":\"white\",\"ticks\":\"\",\"title\":{\"standoff\":15},\"zerolinecolor\":\"white\",\"zerolinewidth\":2}}},\"title\":{\"font\":{\"color\":\"#4D5663\"}},\"xaxis\":{\"gridcolor\":\"#E1E5ED\",\"showgrid\":true,\"tickfont\":{\"color\":\"#4D5663\"},\"title\":{\"font\":{\"color\":\"#4D5663\"},\"text\":\"\"},\"zerolinecolor\":\"#E1E5ED\"},\"yaxis\":{\"gridcolor\":\"#E1E5ED\",\"showgrid\":true,\"tickfont\":{\"color\":\"#4D5663\"},\"title\":{\"font\":{\"color\":\"#4D5663\"},\"text\":\"\"},\"zerolinecolor\":\"#E1E5ED\"}},                        {\"showLink\": true, \"linkText\": \"Export to plot.ly\", \"plotlyServerURL\": \"https://plot.ly\", \"responsive\": true}                    ).then(function(){\n",
       "                            \n",
       "var gd = document.getElementById('6efb5b89-99f6-4aed-b5f8-d2932ca097aa');\n",
       "var x = new MutationObserver(function (mutations, observer) {{\n",
       "        var display = window.getComputedStyle(gd).display;\n",
       "        if (!display || display === 'none') {{\n",
       "            console.log([gd, 'removed!']);\n",
       "            Plotly.purge(gd);\n",
       "            observer.disconnect();\n",
       "        }}\n",
       "}});\n",
       "\n",
       "// Listen for the removal of the full notebook cells\n",
       "var notebookContainer = gd.closest('#notebook-container');\n",
       "if (notebookContainer) {{\n",
       "    x.observe(notebookContainer, {childList: true});\n",
       "}}\n",
       "\n",
       "// Listen for the clearing of the current output cell\n",
       "var outputEl = gd.closest('.output');\n",
       "if (outputEl) {{\n",
       "    x.observe(outputEl, {childList: true});\n",
       "}}\n",
       "\n",
       "                        })                };                });            </script>        </div>"
      ]
     },
     "metadata": {},
     "output_type": "display_data"
    }
   ],
   "source": [
    "df.iplot(kind='scatter', x='A', y='B', mode='markers')"
   ]
  },
  {
   "cell_type": "code",
   "execution_count": 16,
   "id": "01594769",
   "metadata": {},
   "outputs": [
    {
     "data": {
      "application/vnd.plotly.v1+json": {
       "config": {
        "linkText": "Export to plot.ly",
        "plotlyServerURL": "https://plot.ly",
        "showLink": true
       },
       "data": [
        {
         "line": {
          "color": "rgba(255, 153, 51, 1.0)",
          "dash": "solid",
          "shape": "linear",
          "width": 1.3
         },
         "marker": {
          "size": 20,
          "symbol": "circle"
         },
         "mode": "markers",
         "name": "B",
         "text": "",
         "type": "scatter",
         "x": [
          0.43539700148335236,
          0.15819395423214852,
          0.62879333196527,
          -0.26401107422169673,
          -1.8324809705325915,
          0.7704629872779027,
          1.7497298283959724,
          -1.0015334595201602,
          -1.718240559825639,
          0.628596523719882,
          -0.42019354274908316,
          2.7136701685643403,
          -0.9378495172398871,
          0.6598021382631747,
          1.6184775733872263,
          1.3954033785382987,
          1.405495874826309,
          -1.166616968739883,
          2.365923532026527,
          1.1133259856604942,
          -1.6813679639527261,
          -0.04667403900552732,
          -0.6363654890464304,
          -1.5425012567014285,
          -1.012741270794969,
          0.12132634073101281,
          1.595602460076769,
          1.7305965984334635,
          -1.9217891095448971,
          1.1860294383645715,
          0.26201847879465384,
          -1.2055378111750752,
          2.3438810173248927,
          1.2086288002904493,
          -1.8314084636430585,
          1.7619781396825958,
          2.1031817281439817,
          -2.5307453072827966,
          1.2761298243307624,
          -1.772353423710465,
          -0.636420642902602,
          -1.930564293340949,
          -1.0610308479700656,
          -0.450655785586209,
          -2.1425651099825824,
          -1.0903966470383508,
          -0.5620779766373142,
          -0.770744501166946,
          0.317708947982711,
          0.1318688172018447,
          -1.2201324264384652,
          -0.19136686704154338,
          -0.06257792497623924,
          0.5936190711859071,
          1.1391272098088527,
          0.7464631766024825,
          -0.8977662361522014,
          0.14140290562352897,
          0.3256123427724348,
          0.9112030544266069,
          0.8357966193733269,
          1.7487601057521938,
          -0.49373510396354875,
          -0.6666213874172607,
          1.1831818138576176,
          -1.0182097832516077,
          -0.04630874727601642,
          -0.9836337689727818,
          1.9926142232426531,
          0.7440871065414701,
          0.28972919333565683,
          -0.5480211897462933,
          0.8413311240763615,
          -0.6346241128971083,
          -0.4398922253755513,
          -0.28149585930036625,
          0.6490498459345291,
          -0.23584960142982708,
          -1.5937987594535374,
          0.051213682792660656,
          -0.374994885556381,
          0.7207560378542024,
          0.5394156502485068,
          1.1572917713327477,
          -2.5643244253052964,
          -0.10181612060765612,
          0.11183773067467831,
          1.1028927065391063,
          -1.3752211222891688,
          2.16105987106691,
          -0.7898043390090209,
          1.6487450904111807,
          -1.7240798592526558,
          0.4254960002374844,
          0.2156919556300176,
          0.2031078608182616,
          0.21648296318241012,
          0.6718965344393238,
          -1.8998227182750862,
          -0.017153916755728384
         ],
         "y": [
          0.760388682451242,
          -0.3014770718387929,
          -0.8104320504480762,
          1.1583102446320703,
          0.66259937418456,
          -0.8731559685701944,
          -0.10732150644350782,
          -1.4845842008871466,
          -1.1868462655772307,
          1.613590761177109,
          -1.9381099315529704,
          -0.29380824929788424,
          1.3599307756073165,
          -0.36836520730565253,
          -0.3269586169498003,
          -0.8722022296216736,
          1.7599609916589511,
          2.412515853128903,
          -1.1138794684306152,
          1.5653823254598276,
          1.7614719313614335,
          -1.2290358322794215,
          2.6522230722984435,
          1.0163014618558739,
          0.6293809696480948,
          -1.5146156122233023,
          0.016940034354393264,
          0.0032133467236007663,
          -0.5981712356892535,
          0.020951829720675653,
          1.9963821917383087,
          1.0740671422306807,
          0.17809074697460173,
          0.04485989073294413,
          -0.4227495550182459,
          -0.32645695274430736,
          0.698607870034912,
          0.6330148722372047,
          0.2875584885528013,
          1.1234133729510283,
          0.24214275695220294,
          -0.9745143810694096,
          -0.09487224825524246,
          -0.05206076437308604,
          0.1700768924108305,
          1.300218316913883,
          -0.14751521656419564,
          -0.30080352426550006,
          -0.8520916792252314,
          1.1620463903000628,
          1.2476009203676264,
          -0.629125183496713,
          -0.3785357939583569,
          -0.914900498176864,
          0.15739646399040055,
          -0.08110020866252839,
          1.2781757771914946,
          1.9785521600539933,
          -0.07924996180658282,
          -0.17064150415758025,
          -0.33892612512205456,
          -0.8766265534473259,
          -0.8696592484215764,
          1.1323493113477194,
          -1.7050942234370272,
          -0.600405565715628,
          -0.1789375334228437,
          0.2764438144488436,
          -1.3979390762783197,
          1.3262592652981067,
          0.703525942698256,
          1.411777371228823,
          -1.6110804563893522,
          0.39705885749036557,
          -0.24578206196537786,
          -1.0140463874894474,
          0.35097105186424615,
          0.22520868769189759,
          0.11269335584705568,
          -0.6275979165028887,
          0.830374106714317,
          0.21139937581431129,
          -0.5613355709825517,
          0.5599973868588114,
          0.10923587614740028,
          -0.21228235369384083,
          0.9848944487618184,
          0.15230352046132178,
          -0.24908169790355753,
          -0.5547350602916322,
          -0.26024067645453,
          -0.12512543124851477,
          1.4959303828793944,
          -0.8075642744958867,
          -0.7868387528914741,
          0.11502021583953378,
          1.052635171665947,
          -2.005202626886498,
          0.36358094296755,
          -1.292869329621461
         ]
        }
       ],
       "layout": {
        "legend": {
         "bgcolor": "#F5F6F9",
         "font": {
          "color": "#4D5663"
         }
        },
        "paper_bgcolor": "#F5F6F9",
        "plot_bgcolor": "#F5F6F9",
        "template": {
         "data": {
          "bar": [
           {
            "error_x": {
             "color": "#2a3f5f"
            },
            "error_y": {
             "color": "#2a3f5f"
            },
            "marker": {
             "line": {
              "color": "#E5ECF6",
              "width": 0.5
             },
             "pattern": {
              "fillmode": "overlay",
              "size": 10,
              "solidity": 0.2
             }
            },
            "type": "bar"
           }
          ],
          "barpolar": [
           {
            "marker": {
             "line": {
              "color": "#E5ECF6",
              "width": 0.5
             },
             "pattern": {
              "fillmode": "overlay",
              "size": 10,
              "solidity": 0.2
             }
            },
            "type": "barpolar"
           }
          ],
          "carpet": [
           {
            "aaxis": {
             "endlinecolor": "#2a3f5f",
             "gridcolor": "white",
             "linecolor": "white",
             "minorgridcolor": "white",
             "startlinecolor": "#2a3f5f"
            },
            "baxis": {
             "endlinecolor": "#2a3f5f",
             "gridcolor": "white",
             "linecolor": "white",
             "minorgridcolor": "white",
             "startlinecolor": "#2a3f5f"
            },
            "type": "carpet"
           }
          ],
          "choropleth": [
           {
            "colorbar": {
             "outlinewidth": 0,
             "ticks": ""
            },
            "type": "choropleth"
           }
          ],
          "contour": [
           {
            "colorbar": {
             "outlinewidth": 0,
             "ticks": ""
            },
            "colorscale": [
             [
              0,
              "#0d0887"
             ],
             [
              0.1111111111111111,
              "#46039f"
             ],
             [
              0.2222222222222222,
              "#7201a8"
             ],
             [
              0.3333333333333333,
              "#9c179e"
             ],
             [
              0.4444444444444444,
              "#bd3786"
             ],
             [
              0.5555555555555556,
              "#d8576b"
             ],
             [
              0.6666666666666666,
              "#ed7953"
             ],
             [
              0.7777777777777778,
              "#fb9f3a"
             ],
             [
              0.8888888888888888,
              "#fdca26"
             ],
             [
              1,
              "#f0f921"
             ]
            ],
            "type": "contour"
           }
          ],
          "contourcarpet": [
           {
            "colorbar": {
             "outlinewidth": 0,
             "ticks": ""
            },
            "type": "contourcarpet"
           }
          ],
          "heatmap": [
           {
            "colorbar": {
             "outlinewidth": 0,
             "ticks": ""
            },
            "colorscale": [
             [
              0,
              "#0d0887"
             ],
             [
              0.1111111111111111,
              "#46039f"
             ],
             [
              0.2222222222222222,
              "#7201a8"
             ],
             [
              0.3333333333333333,
              "#9c179e"
             ],
             [
              0.4444444444444444,
              "#bd3786"
             ],
             [
              0.5555555555555556,
              "#d8576b"
             ],
             [
              0.6666666666666666,
              "#ed7953"
             ],
             [
              0.7777777777777778,
              "#fb9f3a"
             ],
             [
              0.8888888888888888,
              "#fdca26"
             ],
             [
              1,
              "#f0f921"
             ]
            ],
            "type": "heatmap"
           }
          ],
          "heatmapgl": [
           {
            "colorbar": {
             "outlinewidth": 0,
             "ticks": ""
            },
            "colorscale": [
             [
              0,
              "#0d0887"
             ],
             [
              0.1111111111111111,
              "#46039f"
             ],
             [
              0.2222222222222222,
              "#7201a8"
             ],
             [
              0.3333333333333333,
              "#9c179e"
             ],
             [
              0.4444444444444444,
              "#bd3786"
             ],
             [
              0.5555555555555556,
              "#d8576b"
             ],
             [
              0.6666666666666666,
              "#ed7953"
             ],
             [
              0.7777777777777778,
              "#fb9f3a"
             ],
             [
              0.8888888888888888,
              "#fdca26"
             ],
             [
              1,
              "#f0f921"
             ]
            ],
            "type": "heatmapgl"
           }
          ],
          "histogram": [
           {
            "marker": {
             "pattern": {
              "fillmode": "overlay",
              "size": 10,
              "solidity": 0.2
             }
            },
            "type": "histogram"
           }
          ],
          "histogram2d": [
           {
            "colorbar": {
             "outlinewidth": 0,
             "ticks": ""
            },
            "colorscale": [
             [
              0,
              "#0d0887"
             ],
             [
              0.1111111111111111,
              "#46039f"
             ],
             [
              0.2222222222222222,
              "#7201a8"
             ],
             [
              0.3333333333333333,
              "#9c179e"
             ],
             [
              0.4444444444444444,
              "#bd3786"
             ],
             [
              0.5555555555555556,
              "#d8576b"
             ],
             [
              0.6666666666666666,
              "#ed7953"
             ],
             [
              0.7777777777777778,
              "#fb9f3a"
             ],
             [
              0.8888888888888888,
              "#fdca26"
             ],
             [
              1,
              "#f0f921"
             ]
            ],
            "type": "histogram2d"
           }
          ],
          "histogram2dcontour": [
           {
            "colorbar": {
             "outlinewidth": 0,
             "ticks": ""
            },
            "colorscale": [
             [
              0,
              "#0d0887"
             ],
             [
              0.1111111111111111,
              "#46039f"
             ],
             [
              0.2222222222222222,
              "#7201a8"
             ],
             [
              0.3333333333333333,
              "#9c179e"
             ],
             [
              0.4444444444444444,
              "#bd3786"
             ],
             [
              0.5555555555555556,
              "#d8576b"
             ],
             [
              0.6666666666666666,
              "#ed7953"
             ],
             [
              0.7777777777777778,
              "#fb9f3a"
             ],
             [
              0.8888888888888888,
              "#fdca26"
             ],
             [
              1,
              "#f0f921"
             ]
            ],
            "type": "histogram2dcontour"
           }
          ],
          "mesh3d": [
           {
            "colorbar": {
             "outlinewidth": 0,
             "ticks": ""
            },
            "type": "mesh3d"
           }
          ],
          "parcoords": [
           {
            "line": {
             "colorbar": {
              "outlinewidth": 0,
              "ticks": ""
             }
            },
            "type": "parcoords"
           }
          ],
          "pie": [
           {
            "automargin": true,
            "type": "pie"
           }
          ],
          "scatter": [
           {
            "fillpattern": {
             "fillmode": "overlay",
             "size": 10,
             "solidity": 0.2
            },
            "type": "scatter"
           }
          ],
          "scatter3d": [
           {
            "line": {
             "colorbar": {
              "outlinewidth": 0,
              "ticks": ""
             }
            },
            "marker": {
             "colorbar": {
              "outlinewidth": 0,
              "ticks": ""
             }
            },
            "type": "scatter3d"
           }
          ],
          "scattercarpet": [
           {
            "marker": {
             "colorbar": {
              "outlinewidth": 0,
              "ticks": ""
             }
            },
            "type": "scattercarpet"
           }
          ],
          "scattergeo": [
           {
            "marker": {
             "colorbar": {
              "outlinewidth": 0,
              "ticks": ""
             }
            },
            "type": "scattergeo"
           }
          ],
          "scattergl": [
           {
            "marker": {
             "colorbar": {
              "outlinewidth": 0,
              "ticks": ""
             }
            },
            "type": "scattergl"
           }
          ],
          "scattermapbox": [
           {
            "marker": {
             "colorbar": {
              "outlinewidth": 0,
              "ticks": ""
             }
            },
            "type": "scattermapbox"
           }
          ],
          "scatterpolar": [
           {
            "marker": {
             "colorbar": {
              "outlinewidth": 0,
              "ticks": ""
             }
            },
            "type": "scatterpolar"
           }
          ],
          "scatterpolargl": [
           {
            "marker": {
             "colorbar": {
              "outlinewidth": 0,
              "ticks": ""
             }
            },
            "type": "scatterpolargl"
           }
          ],
          "scatterternary": [
           {
            "marker": {
             "colorbar": {
              "outlinewidth": 0,
              "ticks": ""
             }
            },
            "type": "scatterternary"
           }
          ],
          "surface": [
           {
            "colorbar": {
             "outlinewidth": 0,
             "ticks": ""
            },
            "colorscale": [
             [
              0,
              "#0d0887"
             ],
             [
              0.1111111111111111,
              "#46039f"
             ],
             [
              0.2222222222222222,
              "#7201a8"
             ],
             [
              0.3333333333333333,
              "#9c179e"
             ],
             [
              0.4444444444444444,
              "#bd3786"
             ],
             [
              0.5555555555555556,
              "#d8576b"
             ],
             [
              0.6666666666666666,
              "#ed7953"
             ],
             [
              0.7777777777777778,
              "#fb9f3a"
             ],
             [
              0.8888888888888888,
              "#fdca26"
             ],
             [
              1,
              "#f0f921"
             ]
            ],
            "type": "surface"
           }
          ],
          "table": [
           {
            "cells": {
             "fill": {
              "color": "#EBF0F8"
             },
             "line": {
              "color": "white"
             }
            },
            "header": {
             "fill": {
              "color": "#C8D4E3"
             },
             "line": {
              "color": "white"
             }
            },
            "type": "table"
           }
          ]
         },
         "layout": {
          "annotationdefaults": {
           "arrowcolor": "#2a3f5f",
           "arrowhead": 0,
           "arrowwidth": 1
          },
          "autotypenumbers": "strict",
          "coloraxis": {
           "colorbar": {
            "outlinewidth": 0,
            "ticks": ""
           }
          },
          "colorscale": {
           "diverging": [
            [
             0,
             "#8e0152"
            ],
            [
             0.1,
             "#c51b7d"
            ],
            [
             0.2,
             "#de77ae"
            ],
            [
             0.3,
             "#f1b6da"
            ],
            [
             0.4,
             "#fde0ef"
            ],
            [
             0.5,
             "#f7f7f7"
            ],
            [
             0.6,
             "#e6f5d0"
            ],
            [
             0.7,
             "#b8e186"
            ],
            [
             0.8,
             "#7fbc41"
            ],
            [
             0.9,
             "#4d9221"
            ],
            [
             1,
             "#276419"
            ]
           ],
           "sequential": [
            [
             0,
             "#0d0887"
            ],
            [
             0.1111111111111111,
             "#46039f"
            ],
            [
             0.2222222222222222,
             "#7201a8"
            ],
            [
             0.3333333333333333,
             "#9c179e"
            ],
            [
             0.4444444444444444,
             "#bd3786"
            ],
            [
             0.5555555555555556,
             "#d8576b"
            ],
            [
             0.6666666666666666,
             "#ed7953"
            ],
            [
             0.7777777777777778,
             "#fb9f3a"
            ],
            [
             0.8888888888888888,
             "#fdca26"
            ],
            [
             1,
             "#f0f921"
            ]
           ],
           "sequentialminus": [
            [
             0,
             "#0d0887"
            ],
            [
             0.1111111111111111,
             "#46039f"
            ],
            [
             0.2222222222222222,
             "#7201a8"
            ],
            [
             0.3333333333333333,
             "#9c179e"
            ],
            [
             0.4444444444444444,
             "#bd3786"
            ],
            [
             0.5555555555555556,
             "#d8576b"
            ],
            [
             0.6666666666666666,
             "#ed7953"
            ],
            [
             0.7777777777777778,
             "#fb9f3a"
            ],
            [
             0.8888888888888888,
             "#fdca26"
            ],
            [
             1,
             "#f0f921"
            ]
           ]
          },
          "colorway": [
           "#636efa",
           "#EF553B",
           "#00cc96",
           "#ab63fa",
           "#FFA15A",
           "#19d3f3",
           "#FF6692",
           "#B6E880",
           "#FF97FF",
           "#FECB52"
          ],
          "font": {
           "color": "#2a3f5f"
          },
          "geo": {
           "bgcolor": "white",
           "lakecolor": "white",
           "landcolor": "#E5ECF6",
           "showlakes": true,
           "showland": true,
           "subunitcolor": "white"
          },
          "hoverlabel": {
           "align": "left"
          },
          "hovermode": "closest",
          "mapbox": {
           "style": "light"
          },
          "paper_bgcolor": "white",
          "plot_bgcolor": "#E5ECF6",
          "polar": {
           "angularaxis": {
            "gridcolor": "white",
            "linecolor": "white",
            "ticks": ""
           },
           "bgcolor": "#E5ECF6",
           "radialaxis": {
            "gridcolor": "white",
            "linecolor": "white",
            "ticks": ""
           }
          },
          "scene": {
           "xaxis": {
            "backgroundcolor": "#E5ECF6",
            "gridcolor": "white",
            "gridwidth": 2,
            "linecolor": "white",
            "showbackground": true,
            "ticks": "",
            "zerolinecolor": "white"
           },
           "yaxis": {
            "backgroundcolor": "#E5ECF6",
            "gridcolor": "white",
            "gridwidth": 2,
            "linecolor": "white",
            "showbackground": true,
            "ticks": "",
            "zerolinecolor": "white"
           },
           "zaxis": {
            "backgroundcolor": "#E5ECF6",
            "gridcolor": "white",
            "gridwidth": 2,
            "linecolor": "white",
            "showbackground": true,
            "ticks": "",
            "zerolinecolor": "white"
           }
          },
          "shapedefaults": {
           "line": {
            "color": "#2a3f5f"
           }
          },
          "ternary": {
           "aaxis": {
            "gridcolor": "white",
            "linecolor": "white",
            "ticks": ""
           },
           "baxis": {
            "gridcolor": "white",
            "linecolor": "white",
            "ticks": ""
           },
           "bgcolor": "#E5ECF6",
           "caxis": {
            "gridcolor": "white",
            "linecolor": "white",
            "ticks": ""
           }
          },
          "title": {
           "x": 0.05
          },
          "xaxis": {
           "automargin": true,
           "gridcolor": "white",
           "linecolor": "white",
           "ticks": "",
           "title": {
            "standoff": 15
           },
           "zerolinecolor": "white",
           "zerolinewidth": 2
          },
          "yaxis": {
           "automargin": true,
           "gridcolor": "white",
           "linecolor": "white",
           "ticks": "",
           "title": {
            "standoff": 15
           },
           "zerolinecolor": "white",
           "zerolinewidth": 2
          }
         }
        },
        "title": {
         "font": {
          "color": "#4D5663"
         }
        },
        "xaxis": {
         "gridcolor": "#E1E5ED",
         "showgrid": true,
         "tickfont": {
          "color": "#4D5663"
         },
         "title": {
          "font": {
           "color": "#4D5663"
          },
          "text": ""
         },
         "zerolinecolor": "#E1E5ED"
        },
        "yaxis": {
         "gridcolor": "#E1E5ED",
         "showgrid": true,
         "tickfont": {
          "color": "#4D5663"
         },
         "title": {
          "font": {
           "color": "#4D5663"
          },
          "text": ""
         },
         "zerolinecolor": "#E1E5ED"
        }
       }
      },
      "text/html": [
       "<div>                            <div id=\"562530c8-33af-4af4-a58a-da647fffd359\" class=\"plotly-graph-div\" style=\"height:525px; width:100%;\"></div>            <script type=\"text/javascript\">                require([\"plotly\"], function(Plotly) {                    window.PLOTLYENV=window.PLOTLYENV || {};\n",
       "                    window.PLOTLYENV.BASE_URL='https://plot.ly';                                    if (document.getElementById(\"562530c8-33af-4af4-a58a-da647fffd359\")) {                    Plotly.newPlot(                        \"562530c8-33af-4af4-a58a-da647fffd359\",                        [{\"line\":{\"color\":\"rgba(255, 153, 51, 1.0)\",\"dash\":\"solid\",\"shape\":\"linear\",\"width\":1.3},\"marker\":{\"size\":20,\"symbol\":\"circle\"},\"mode\":\"markers\",\"name\":\"B\",\"text\":\"\",\"x\":[0.43539700148335236,0.15819395423214852,0.62879333196527,-0.26401107422169673,-1.8324809705325915,0.7704629872779027,1.7497298283959724,-1.0015334595201602,-1.718240559825639,0.628596523719882,-0.42019354274908316,2.7136701685643403,-0.9378495172398871,0.6598021382631747,1.6184775733872263,1.3954033785382987,1.405495874826309,-1.166616968739883,2.365923532026527,1.1133259856604942,-1.6813679639527261,-0.04667403900552732,-0.6363654890464304,-1.5425012567014285,-1.012741270794969,0.12132634073101281,1.595602460076769,1.7305965984334635,-1.9217891095448971,1.1860294383645715,0.26201847879465384,-1.2055378111750752,2.3438810173248927,1.2086288002904493,-1.8314084636430585,1.7619781396825958,2.1031817281439817,-2.5307453072827966,1.2761298243307624,-1.772353423710465,-0.636420642902602,-1.930564293340949,-1.0610308479700656,-0.450655785586209,-2.1425651099825824,-1.0903966470383508,-0.5620779766373142,-0.770744501166946,0.317708947982711,0.1318688172018447,-1.2201324264384652,-0.19136686704154338,-0.06257792497623924,0.5936190711859071,1.1391272098088527,0.7464631766024825,-0.8977662361522014,0.14140290562352897,0.3256123427724348,0.9112030544266069,0.8357966193733269,1.7487601057521938,-0.49373510396354875,-0.6666213874172607,1.1831818138576176,-1.0182097832516077,-0.04630874727601642,-0.9836337689727818,1.9926142232426531,0.7440871065414701,0.28972919333565683,-0.5480211897462933,0.8413311240763615,-0.6346241128971083,-0.4398922253755513,-0.28149585930036625,0.6490498459345291,-0.23584960142982708,-1.5937987594535374,0.051213682792660656,-0.374994885556381,0.7207560378542024,0.5394156502485068,1.1572917713327477,-2.5643244253052964,-0.10181612060765612,0.11183773067467831,1.1028927065391063,-1.3752211222891688,2.16105987106691,-0.7898043390090209,1.6487450904111807,-1.7240798592526558,0.4254960002374844,0.2156919556300176,0.2031078608182616,0.21648296318241012,0.6718965344393238,-1.8998227182750862,-0.017153916755728384],\"y\":[0.760388682451242,-0.3014770718387929,-0.8104320504480762,1.1583102446320703,0.66259937418456,-0.8731559685701944,-0.10732150644350782,-1.4845842008871466,-1.1868462655772307,1.613590761177109,-1.9381099315529704,-0.29380824929788424,1.3599307756073165,-0.36836520730565253,-0.3269586169498003,-0.8722022296216736,1.7599609916589511,2.412515853128903,-1.1138794684306152,1.5653823254598276,1.7614719313614335,-1.2290358322794215,2.6522230722984435,1.0163014618558739,0.6293809696480948,-1.5146156122233023,0.016940034354393264,0.0032133467236007663,-0.5981712356892535,0.020951829720675653,1.9963821917383087,1.0740671422306807,0.17809074697460173,0.04485989073294413,-0.4227495550182459,-0.32645695274430736,0.698607870034912,0.6330148722372047,0.2875584885528013,1.1234133729510283,0.24214275695220294,-0.9745143810694096,-0.09487224825524246,-0.05206076437308604,0.1700768924108305,1.300218316913883,-0.14751521656419564,-0.30080352426550006,-0.8520916792252314,1.1620463903000628,1.2476009203676264,-0.629125183496713,-0.3785357939583569,-0.914900498176864,0.15739646399040055,-0.08110020866252839,1.2781757771914946,1.9785521600539933,-0.07924996180658282,-0.17064150415758025,-0.33892612512205456,-0.8766265534473259,-0.8696592484215764,1.1323493113477194,-1.7050942234370272,-0.600405565715628,-0.1789375334228437,0.2764438144488436,-1.3979390762783197,1.3262592652981067,0.703525942698256,1.411777371228823,-1.6110804563893522,0.39705885749036557,-0.24578206196537786,-1.0140463874894474,0.35097105186424615,0.22520868769189759,0.11269335584705568,-0.6275979165028887,0.830374106714317,0.21139937581431129,-0.5613355709825517,0.5599973868588114,0.10923587614740028,-0.21228235369384083,0.9848944487618184,0.15230352046132178,-0.24908169790355753,-0.5547350602916322,-0.26024067645453,-0.12512543124851477,1.4959303828793944,-0.8075642744958867,-0.7868387528914741,0.11502021583953378,1.052635171665947,-2.005202626886498,0.36358094296755,-1.292869329621461],\"type\":\"scatter\"}],                        {\"legend\":{\"bgcolor\":\"#F5F6F9\",\"font\":{\"color\":\"#4D5663\"}},\"paper_bgcolor\":\"#F5F6F9\",\"plot_bgcolor\":\"#F5F6F9\",\"template\":{\"data\":{\"barpolar\":[{\"marker\":{\"line\":{\"color\":\"#E5ECF6\",\"width\":0.5},\"pattern\":{\"fillmode\":\"overlay\",\"size\":10,\"solidity\":0.2}},\"type\":\"barpolar\"}],\"bar\":[{\"error_x\":{\"color\":\"#2a3f5f\"},\"error_y\":{\"color\":\"#2a3f5f\"},\"marker\":{\"line\":{\"color\":\"#E5ECF6\",\"width\":0.5},\"pattern\":{\"fillmode\":\"overlay\",\"size\":10,\"solidity\":0.2}},\"type\":\"bar\"}],\"carpet\":[{\"aaxis\":{\"endlinecolor\":\"#2a3f5f\",\"gridcolor\":\"white\",\"linecolor\":\"white\",\"minorgridcolor\":\"white\",\"startlinecolor\":\"#2a3f5f\"},\"baxis\":{\"endlinecolor\":\"#2a3f5f\",\"gridcolor\":\"white\",\"linecolor\":\"white\",\"minorgridcolor\":\"white\",\"startlinecolor\":\"#2a3f5f\"},\"type\":\"carpet\"}],\"choropleth\":[{\"colorbar\":{\"outlinewidth\":0,\"ticks\":\"\"},\"type\":\"choropleth\"}],\"contourcarpet\":[{\"colorbar\":{\"outlinewidth\":0,\"ticks\":\"\"},\"type\":\"contourcarpet\"}],\"contour\":[{\"colorbar\":{\"outlinewidth\":0,\"ticks\":\"\"},\"colorscale\":[[0.0,\"#0d0887\"],[0.1111111111111111,\"#46039f\"],[0.2222222222222222,\"#7201a8\"],[0.3333333333333333,\"#9c179e\"],[0.4444444444444444,\"#bd3786\"],[0.5555555555555556,\"#d8576b\"],[0.6666666666666666,\"#ed7953\"],[0.7777777777777778,\"#fb9f3a\"],[0.8888888888888888,\"#fdca26\"],[1.0,\"#f0f921\"]],\"type\":\"contour\"}],\"heatmapgl\":[{\"colorbar\":{\"outlinewidth\":0,\"ticks\":\"\"},\"colorscale\":[[0.0,\"#0d0887\"],[0.1111111111111111,\"#46039f\"],[0.2222222222222222,\"#7201a8\"],[0.3333333333333333,\"#9c179e\"],[0.4444444444444444,\"#bd3786\"],[0.5555555555555556,\"#d8576b\"],[0.6666666666666666,\"#ed7953\"],[0.7777777777777778,\"#fb9f3a\"],[0.8888888888888888,\"#fdca26\"],[1.0,\"#f0f921\"]],\"type\":\"heatmapgl\"}],\"heatmap\":[{\"colorbar\":{\"outlinewidth\":0,\"ticks\":\"\"},\"colorscale\":[[0.0,\"#0d0887\"],[0.1111111111111111,\"#46039f\"],[0.2222222222222222,\"#7201a8\"],[0.3333333333333333,\"#9c179e\"],[0.4444444444444444,\"#bd3786\"],[0.5555555555555556,\"#d8576b\"],[0.6666666666666666,\"#ed7953\"],[0.7777777777777778,\"#fb9f3a\"],[0.8888888888888888,\"#fdca26\"],[1.0,\"#f0f921\"]],\"type\":\"heatmap\"}],\"histogram2dcontour\":[{\"colorbar\":{\"outlinewidth\":0,\"ticks\":\"\"},\"colorscale\":[[0.0,\"#0d0887\"],[0.1111111111111111,\"#46039f\"],[0.2222222222222222,\"#7201a8\"],[0.3333333333333333,\"#9c179e\"],[0.4444444444444444,\"#bd3786\"],[0.5555555555555556,\"#d8576b\"],[0.6666666666666666,\"#ed7953\"],[0.7777777777777778,\"#fb9f3a\"],[0.8888888888888888,\"#fdca26\"],[1.0,\"#f0f921\"]],\"type\":\"histogram2dcontour\"}],\"histogram2d\":[{\"colorbar\":{\"outlinewidth\":0,\"ticks\":\"\"},\"colorscale\":[[0.0,\"#0d0887\"],[0.1111111111111111,\"#46039f\"],[0.2222222222222222,\"#7201a8\"],[0.3333333333333333,\"#9c179e\"],[0.4444444444444444,\"#bd3786\"],[0.5555555555555556,\"#d8576b\"],[0.6666666666666666,\"#ed7953\"],[0.7777777777777778,\"#fb9f3a\"],[0.8888888888888888,\"#fdca26\"],[1.0,\"#f0f921\"]],\"type\":\"histogram2d\"}],\"histogram\":[{\"marker\":{\"pattern\":{\"fillmode\":\"overlay\",\"size\":10,\"solidity\":0.2}},\"type\":\"histogram\"}],\"mesh3d\":[{\"colorbar\":{\"outlinewidth\":0,\"ticks\":\"\"},\"type\":\"mesh3d\"}],\"parcoords\":[{\"line\":{\"colorbar\":{\"outlinewidth\":0,\"ticks\":\"\"}},\"type\":\"parcoords\"}],\"pie\":[{\"automargin\":true,\"type\":\"pie\"}],\"scatter3d\":[{\"line\":{\"colorbar\":{\"outlinewidth\":0,\"ticks\":\"\"}},\"marker\":{\"colorbar\":{\"outlinewidth\":0,\"ticks\":\"\"}},\"type\":\"scatter3d\"}],\"scattercarpet\":[{\"marker\":{\"colorbar\":{\"outlinewidth\":0,\"ticks\":\"\"}},\"type\":\"scattercarpet\"}],\"scattergeo\":[{\"marker\":{\"colorbar\":{\"outlinewidth\":0,\"ticks\":\"\"}},\"type\":\"scattergeo\"}],\"scattergl\":[{\"marker\":{\"colorbar\":{\"outlinewidth\":0,\"ticks\":\"\"}},\"type\":\"scattergl\"}],\"scattermapbox\":[{\"marker\":{\"colorbar\":{\"outlinewidth\":0,\"ticks\":\"\"}},\"type\":\"scattermapbox\"}],\"scatterpolargl\":[{\"marker\":{\"colorbar\":{\"outlinewidth\":0,\"ticks\":\"\"}},\"type\":\"scatterpolargl\"}],\"scatterpolar\":[{\"marker\":{\"colorbar\":{\"outlinewidth\":0,\"ticks\":\"\"}},\"type\":\"scatterpolar\"}],\"scatter\":[{\"fillpattern\":{\"fillmode\":\"overlay\",\"size\":10,\"solidity\":0.2},\"type\":\"scatter\"}],\"scatterternary\":[{\"marker\":{\"colorbar\":{\"outlinewidth\":0,\"ticks\":\"\"}},\"type\":\"scatterternary\"}],\"surface\":[{\"colorbar\":{\"outlinewidth\":0,\"ticks\":\"\"},\"colorscale\":[[0.0,\"#0d0887\"],[0.1111111111111111,\"#46039f\"],[0.2222222222222222,\"#7201a8\"],[0.3333333333333333,\"#9c179e\"],[0.4444444444444444,\"#bd3786\"],[0.5555555555555556,\"#d8576b\"],[0.6666666666666666,\"#ed7953\"],[0.7777777777777778,\"#fb9f3a\"],[0.8888888888888888,\"#fdca26\"],[1.0,\"#f0f921\"]],\"type\":\"surface\"}],\"table\":[{\"cells\":{\"fill\":{\"color\":\"#EBF0F8\"},\"line\":{\"color\":\"white\"}},\"header\":{\"fill\":{\"color\":\"#C8D4E3\"},\"line\":{\"color\":\"white\"}},\"type\":\"table\"}]},\"layout\":{\"annotationdefaults\":{\"arrowcolor\":\"#2a3f5f\",\"arrowhead\":0,\"arrowwidth\":1},\"autotypenumbers\":\"strict\",\"coloraxis\":{\"colorbar\":{\"outlinewidth\":0,\"ticks\":\"\"}},\"colorscale\":{\"diverging\":[[0,\"#8e0152\"],[0.1,\"#c51b7d\"],[0.2,\"#de77ae\"],[0.3,\"#f1b6da\"],[0.4,\"#fde0ef\"],[0.5,\"#f7f7f7\"],[0.6,\"#e6f5d0\"],[0.7,\"#b8e186\"],[0.8,\"#7fbc41\"],[0.9,\"#4d9221\"],[1,\"#276419\"]],\"sequential\":[[0.0,\"#0d0887\"],[0.1111111111111111,\"#46039f\"],[0.2222222222222222,\"#7201a8\"],[0.3333333333333333,\"#9c179e\"],[0.4444444444444444,\"#bd3786\"],[0.5555555555555556,\"#d8576b\"],[0.6666666666666666,\"#ed7953\"],[0.7777777777777778,\"#fb9f3a\"],[0.8888888888888888,\"#fdca26\"],[1.0,\"#f0f921\"]],\"sequentialminus\":[[0.0,\"#0d0887\"],[0.1111111111111111,\"#46039f\"],[0.2222222222222222,\"#7201a8\"],[0.3333333333333333,\"#9c179e\"],[0.4444444444444444,\"#bd3786\"],[0.5555555555555556,\"#d8576b\"],[0.6666666666666666,\"#ed7953\"],[0.7777777777777778,\"#fb9f3a\"],[0.8888888888888888,\"#fdca26\"],[1.0,\"#f0f921\"]]},\"colorway\":[\"#636efa\",\"#EF553B\",\"#00cc96\",\"#ab63fa\",\"#FFA15A\",\"#19d3f3\",\"#FF6692\",\"#B6E880\",\"#FF97FF\",\"#FECB52\"],\"font\":{\"color\":\"#2a3f5f\"},\"geo\":{\"bgcolor\":\"white\",\"lakecolor\":\"white\",\"landcolor\":\"#E5ECF6\",\"showlakes\":true,\"showland\":true,\"subunitcolor\":\"white\"},\"hoverlabel\":{\"align\":\"left\"},\"hovermode\":\"closest\",\"mapbox\":{\"style\":\"light\"},\"paper_bgcolor\":\"white\",\"plot_bgcolor\":\"#E5ECF6\",\"polar\":{\"angularaxis\":{\"gridcolor\":\"white\",\"linecolor\":\"white\",\"ticks\":\"\"},\"bgcolor\":\"#E5ECF6\",\"radialaxis\":{\"gridcolor\":\"white\",\"linecolor\":\"white\",\"ticks\":\"\"}},\"scene\":{\"xaxis\":{\"backgroundcolor\":\"#E5ECF6\",\"gridcolor\":\"white\",\"gridwidth\":2,\"linecolor\":\"white\",\"showbackground\":true,\"ticks\":\"\",\"zerolinecolor\":\"white\"},\"yaxis\":{\"backgroundcolor\":\"#E5ECF6\",\"gridcolor\":\"white\",\"gridwidth\":2,\"linecolor\":\"white\",\"showbackground\":true,\"ticks\":\"\",\"zerolinecolor\":\"white\"},\"zaxis\":{\"backgroundcolor\":\"#E5ECF6\",\"gridcolor\":\"white\",\"gridwidth\":2,\"linecolor\":\"white\",\"showbackground\":true,\"ticks\":\"\",\"zerolinecolor\":\"white\"}},\"shapedefaults\":{\"line\":{\"color\":\"#2a3f5f\"}},\"ternary\":{\"aaxis\":{\"gridcolor\":\"white\",\"linecolor\":\"white\",\"ticks\":\"\"},\"baxis\":{\"gridcolor\":\"white\",\"linecolor\":\"white\",\"ticks\":\"\"},\"bgcolor\":\"#E5ECF6\",\"caxis\":{\"gridcolor\":\"white\",\"linecolor\":\"white\",\"ticks\":\"\"}},\"title\":{\"x\":0.05},\"xaxis\":{\"automargin\":true,\"gridcolor\":\"white\",\"linecolor\":\"white\",\"ticks\":\"\",\"title\":{\"standoff\":15},\"zerolinecolor\":\"white\",\"zerolinewidth\":2},\"yaxis\":{\"automargin\":true,\"gridcolor\":\"white\",\"linecolor\":\"white\",\"ticks\":\"\",\"title\":{\"standoff\":15},\"zerolinecolor\":\"white\",\"zerolinewidth\":2}}},\"title\":{\"font\":{\"color\":\"#4D5663\"}},\"xaxis\":{\"gridcolor\":\"#E1E5ED\",\"showgrid\":true,\"tickfont\":{\"color\":\"#4D5663\"},\"title\":{\"font\":{\"color\":\"#4D5663\"},\"text\":\"\"},\"zerolinecolor\":\"#E1E5ED\"},\"yaxis\":{\"gridcolor\":\"#E1E5ED\",\"showgrid\":true,\"tickfont\":{\"color\":\"#4D5663\"},\"title\":{\"font\":{\"color\":\"#4D5663\"},\"text\":\"\"},\"zerolinecolor\":\"#E1E5ED\"}},                        {\"showLink\": true, \"linkText\": \"Export to plot.ly\", \"plotlyServerURL\": \"https://plot.ly\", \"responsive\": true}                    ).then(function(){\n",
       "                            \n",
       "var gd = document.getElementById('562530c8-33af-4af4-a58a-da647fffd359');\n",
       "var x = new MutationObserver(function (mutations, observer) {{\n",
       "        var display = window.getComputedStyle(gd).display;\n",
       "        if (!display || display === 'none') {{\n",
       "            console.log([gd, 'removed!']);\n",
       "            Plotly.purge(gd);\n",
       "            observer.disconnect();\n",
       "        }}\n",
       "}});\n",
       "\n",
       "// Listen for the removal of the full notebook cells\n",
       "var notebookContainer = gd.closest('#notebook-container');\n",
       "if (notebookContainer) {{\n",
       "    x.observe(notebookContainer, {childList: true});\n",
       "}}\n",
       "\n",
       "// Listen for the clearing of the current output cell\n",
       "var outputEl = gd.closest('.output');\n",
       "if (outputEl) {{\n",
       "    x.observe(outputEl, {childList: true});\n",
       "}}\n",
       "\n",
       "                        })                };                });            </script>        </div>"
      ]
     },
     "metadata": {},
     "output_type": "display_data"
    }
   ],
   "source": [
    "df.iplot(kind='scatter', x='A', y='B', mode='markers', size=20)"
   ]
  },
  {
   "cell_type": "code",
   "execution_count": 17,
   "id": "26c297b2",
   "metadata": {},
   "outputs": [
    {
     "data": {
      "application/vnd.plotly.v1+json": {
       "config": {
        "linkText": "Export to plot.ly",
        "plotlyServerURL": "https://plot.ly",
        "showLink": true
       },
       "data": [
        {
         "marker": {
          "color": "rgba(255, 153, 51, 0.6)",
          "line": {
           "color": "rgba(255, 153, 51, 1.0)",
           "width": 1
          }
         },
         "name": "Values",
         "orientation": "v",
         "text": "",
         "type": "bar",
         "x": [
          "A",
          "B",
          "C"
         ],
         "y": [
          32,
          43,
          50
         ]
        }
       ],
       "layout": {
        "legend": {
         "bgcolor": "#F5F6F9",
         "font": {
          "color": "#4D5663"
         }
        },
        "paper_bgcolor": "#F5F6F9",
        "plot_bgcolor": "#F5F6F9",
        "template": {
         "data": {
          "bar": [
           {
            "error_x": {
             "color": "#2a3f5f"
            },
            "error_y": {
             "color": "#2a3f5f"
            },
            "marker": {
             "line": {
              "color": "#E5ECF6",
              "width": 0.5
             },
             "pattern": {
              "fillmode": "overlay",
              "size": 10,
              "solidity": 0.2
             }
            },
            "type": "bar"
           }
          ],
          "barpolar": [
           {
            "marker": {
             "line": {
              "color": "#E5ECF6",
              "width": 0.5
             },
             "pattern": {
              "fillmode": "overlay",
              "size": 10,
              "solidity": 0.2
             }
            },
            "type": "barpolar"
           }
          ],
          "carpet": [
           {
            "aaxis": {
             "endlinecolor": "#2a3f5f",
             "gridcolor": "white",
             "linecolor": "white",
             "minorgridcolor": "white",
             "startlinecolor": "#2a3f5f"
            },
            "baxis": {
             "endlinecolor": "#2a3f5f",
             "gridcolor": "white",
             "linecolor": "white",
             "minorgridcolor": "white",
             "startlinecolor": "#2a3f5f"
            },
            "type": "carpet"
           }
          ],
          "choropleth": [
           {
            "colorbar": {
             "outlinewidth": 0,
             "ticks": ""
            },
            "type": "choropleth"
           }
          ],
          "contour": [
           {
            "colorbar": {
             "outlinewidth": 0,
             "ticks": ""
            },
            "colorscale": [
             [
              0,
              "#0d0887"
             ],
             [
              0.1111111111111111,
              "#46039f"
             ],
             [
              0.2222222222222222,
              "#7201a8"
             ],
             [
              0.3333333333333333,
              "#9c179e"
             ],
             [
              0.4444444444444444,
              "#bd3786"
             ],
             [
              0.5555555555555556,
              "#d8576b"
             ],
             [
              0.6666666666666666,
              "#ed7953"
             ],
             [
              0.7777777777777778,
              "#fb9f3a"
             ],
             [
              0.8888888888888888,
              "#fdca26"
             ],
             [
              1,
              "#f0f921"
             ]
            ],
            "type": "contour"
           }
          ],
          "contourcarpet": [
           {
            "colorbar": {
             "outlinewidth": 0,
             "ticks": ""
            },
            "type": "contourcarpet"
           }
          ],
          "heatmap": [
           {
            "colorbar": {
             "outlinewidth": 0,
             "ticks": ""
            },
            "colorscale": [
             [
              0,
              "#0d0887"
             ],
             [
              0.1111111111111111,
              "#46039f"
             ],
             [
              0.2222222222222222,
              "#7201a8"
             ],
             [
              0.3333333333333333,
              "#9c179e"
             ],
             [
              0.4444444444444444,
              "#bd3786"
             ],
             [
              0.5555555555555556,
              "#d8576b"
             ],
             [
              0.6666666666666666,
              "#ed7953"
             ],
             [
              0.7777777777777778,
              "#fb9f3a"
             ],
             [
              0.8888888888888888,
              "#fdca26"
             ],
             [
              1,
              "#f0f921"
             ]
            ],
            "type": "heatmap"
           }
          ],
          "heatmapgl": [
           {
            "colorbar": {
             "outlinewidth": 0,
             "ticks": ""
            },
            "colorscale": [
             [
              0,
              "#0d0887"
             ],
             [
              0.1111111111111111,
              "#46039f"
             ],
             [
              0.2222222222222222,
              "#7201a8"
             ],
             [
              0.3333333333333333,
              "#9c179e"
             ],
             [
              0.4444444444444444,
              "#bd3786"
             ],
             [
              0.5555555555555556,
              "#d8576b"
             ],
             [
              0.6666666666666666,
              "#ed7953"
             ],
             [
              0.7777777777777778,
              "#fb9f3a"
             ],
             [
              0.8888888888888888,
              "#fdca26"
             ],
             [
              1,
              "#f0f921"
             ]
            ],
            "type": "heatmapgl"
           }
          ],
          "histogram": [
           {
            "marker": {
             "pattern": {
              "fillmode": "overlay",
              "size": 10,
              "solidity": 0.2
             }
            },
            "type": "histogram"
           }
          ],
          "histogram2d": [
           {
            "colorbar": {
             "outlinewidth": 0,
             "ticks": ""
            },
            "colorscale": [
             [
              0,
              "#0d0887"
             ],
             [
              0.1111111111111111,
              "#46039f"
             ],
             [
              0.2222222222222222,
              "#7201a8"
             ],
             [
              0.3333333333333333,
              "#9c179e"
             ],
             [
              0.4444444444444444,
              "#bd3786"
             ],
             [
              0.5555555555555556,
              "#d8576b"
             ],
             [
              0.6666666666666666,
              "#ed7953"
             ],
             [
              0.7777777777777778,
              "#fb9f3a"
             ],
             [
              0.8888888888888888,
              "#fdca26"
             ],
             [
              1,
              "#f0f921"
             ]
            ],
            "type": "histogram2d"
           }
          ],
          "histogram2dcontour": [
           {
            "colorbar": {
             "outlinewidth": 0,
             "ticks": ""
            },
            "colorscale": [
             [
              0,
              "#0d0887"
             ],
             [
              0.1111111111111111,
              "#46039f"
             ],
             [
              0.2222222222222222,
              "#7201a8"
             ],
             [
              0.3333333333333333,
              "#9c179e"
             ],
             [
              0.4444444444444444,
              "#bd3786"
             ],
             [
              0.5555555555555556,
              "#d8576b"
             ],
             [
              0.6666666666666666,
              "#ed7953"
             ],
             [
              0.7777777777777778,
              "#fb9f3a"
             ],
             [
              0.8888888888888888,
              "#fdca26"
             ],
             [
              1,
              "#f0f921"
             ]
            ],
            "type": "histogram2dcontour"
           }
          ],
          "mesh3d": [
           {
            "colorbar": {
             "outlinewidth": 0,
             "ticks": ""
            },
            "type": "mesh3d"
           }
          ],
          "parcoords": [
           {
            "line": {
             "colorbar": {
              "outlinewidth": 0,
              "ticks": ""
             }
            },
            "type": "parcoords"
           }
          ],
          "pie": [
           {
            "automargin": true,
            "type": "pie"
           }
          ],
          "scatter": [
           {
            "fillpattern": {
             "fillmode": "overlay",
             "size": 10,
             "solidity": 0.2
            },
            "type": "scatter"
           }
          ],
          "scatter3d": [
           {
            "line": {
             "colorbar": {
              "outlinewidth": 0,
              "ticks": ""
             }
            },
            "marker": {
             "colorbar": {
              "outlinewidth": 0,
              "ticks": ""
             }
            },
            "type": "scatter3d"
           }
          ],
          "scattercarpet": [
           {
            "marker": {
             "colorbar": {
              "outlinewidth": 0,
              "ticks": ""
             }
            },
            "type": "scattercarpet"
           }
          ],
          "scattergeo": [
           {
            "marker": {
             "colorbar": {
              "outlinewidth": 0,
              "ticks": ""
             }
            },
            "type": "scattergeo"
           }
          ],
          "scattergl": [
           {
            "marker": {
             "colorbar": {
              "outlinewidth": 0,
              "ticks": ""
             }
            },
            "type": "scattergl"
           }
          ],
          "scattermapbox": [
           {
            "marker": {
             "colorbar": {
              "outlinewidth": 0,
              "ticks": ""
             }
            },
            "type": "scattermapbox"
           }
          ],
          "scatterpolar": [
           {
            "marker": {
             "colorbar": {
              "outlinewidth": 0,
              "ticks": ""
             }
            },
            "type": "scatterpolar"
           }
          ],
          "scatterpolargl": [
           {
            "marker": {
             "colorbar": {
              "outlinewidth": 0,
              "ticks": ""
             }
            },
            "type": "scatterpolargl"
           }
          ],
          "scatterternary": [
           {
            "marker": {
             "colorbar": {
              "outlinewidth": 0,
              "ticks": ""
             }
            },
            "type": "scatterternary"
           }
          ],
          "surface": [
           {
            "colorbar": {
             "outlinewidth": 0,
             "ticks": ""
            },
            "colorscale": [
             [
              0,
              "#0d0887"
             ],
             [
              0.1111111111111111,
              "#46039f"
             ],
             [
              0.2222222222222222,
              "#7201a8"
             ],
             [
              0.3333333333333333,
              "#9c179e"
             ],
             [
              0.4444444444444444,
              "#bd3786"
             ],
             [
              0.5555555555555556,
              "#d8576b"
             ],
             [
              0.6666666666666666,
              "#ed7953"
             ],
             [
              0.7777777777777778,
              "#fb9f3a"
             ],
             [
              0.8888888888888888,
              "#fdca26"
             ],
             [
              1,
              "#f0f921"
             ]
            ],
            "type": "surface"
           }
          ],
          "table": [
           {
            "cells": {
             "fill": {
              "color": "#EBF0F8"
             },
             "line": {
              "color": "white"
             }
            },
            "header": {
             "fill": {
              "color": "#C8D4E3"
             },
             "line": {
              "color": "white"
             }
            },
            "type": "table"
           }
          ]
         },
         "layout": {
          "annotationdefaults": {
           "arrowcolor": "#2a3f5f",
           "arrowhead": 0,
           "arrowwidth": 1
          },
          "autotypenumbers": "strict",
          "coloraxis": {
           "colorbar": {
            "outlinewidth": 0,
            "ticks": ""
           }
          },
          "colorscale": {
           "diverging": [
            [
             0,
             "#8e0152"
            ],
            [
             0.1,
             "#c51b7d"
            ],
            [
             0.2,
             "#de77ae"
            ],
            [
             0.3,
             "#f1b6da"
            ],
            [
             0.4,
             "#fde0ef"
            ],
            [
             0.5,
             "#f7f7f7"
            ],
            [
             0.6,
             "#e6f5d0"
            ],
            [
             0.7,
             "#b8e186"
            ],
            [
             0.8,
             "#7fbc41"
            ],
            [
             0.9,
             "#4d9221"
            ],
            [
             1,
             "#276419"
            ]
           ],
           "sequential": [
            [
             0,
             "#0d0887"
            ],
            [
             0.1111111111111111,
             "#46039f"
            ],
            [
             0.2222222222222222,
             "#7201a8"
            ],
            [
             0.3333333333333333,
             "#9c179e"
            ],
            [
             0.4444444444444444,
             "#bd3786"
            ],
            [
             0.5555555555555556,
             "#d8576b"
            ],
            [
             0.6666666666666666,
             "#ed7953"
            ],
            [
             0.7777777777777778,
             "#fb9f3a"
            ],
            [
             0.8888888888888888,
             "#fdca26"
            ],
            [
             1,
             "#f0f921"
            ]
           ],
           "sequentialminus": [
            [
             0,
             "#0d0887"
            ],
            [
             0.1111111111111111,
             "#46039f"
            ],
            [
             0.2222222222222222,
             "#7201a8"
            ],
            [
             0.3333333333333333,
             "#9c179e"
            ],
            [
             0.4444444444444444,
             "#bd3786"
            ],
            [
             0.5555555555555556,
             "#d8576b"
            ],
            [
             0.6666666666666666,
             "#ed7953"
            ],
            [
             0.7777777777777778,
             "#fb9f3a"
            ],
            [
             0.8888888888888888,
             "#fdca26"
            ],
            [
             1,
             "#f0f921"
            ]
           ]
          },
          "colorway": [
           "#636efa",
           "#EF553B",
           "#00cc96",
           "#ab63fa",
           "#FFA15A",
           "#19d3f3",
           "#FF6692",
           "#B6E880",
           "#FF97FF",
           "#FECB52"
          ],
          "font": {
           "color": "#2a3f5f"
          },
          "geo": {
           "bgcolor": "white",
           "lakecolor": "white",
           "landcolor": "#E5ECF6",
           "showlakes": true,
           "showland": true,
           "subunitcolor": "white"
          },
          "hoverlabel": {
           "align": "left"
          },
          "hovermode": "closest",
          "mapbox": {
           "style": "light"
          },
          "paper_bgcolor": "white",
          "plot_bgcolor": "#E5ECF6",
          "polar": {
           "angularaxis": {
            "gridcolor": "white",
            "linecolor": "white",
            "ticks": ""
           },
           "bgcolor": "#E5ECF6",
           "radialaxis": {
            "gridcolor": "white",
            "linecolor": "white",
            "ticks": ""
           }
          },
          "scene": {
           "xaxis": {
            "backgroundcolor": "#E5ECF6",
            "gridcolor": "white",
            "gridwidth": 2,
            "linecolor": "white",
            "showbackground": true,
            "ticks": "",
            "zerolinecolor": "white"
           },
           "yaxis": {
            "backgroundcolor": "#E5ECF6",
            "gridcolor": "white",
            "gridwidth": 2,
            "linecolor": "white",
            "showbackground": true,
            "ticks": "",
            "zerolinecolor": "white"
           },
           "zaxis": {
            "backgroundcolor": "#E5ECF6",
            "gridcolor": "white",
            "gridwidth": 2,
            "linecolor": "white",
            "showbackground": true,
            "ticks": "",
            "zerolinecolor": "white"
           }
          },
          "shapedefaults": {
           "line": {
            "color": "#2a3f5f"
           }
          },
          "ternary": {
           "aaxis": {
            "gridcolor": "white",
            "linecolor": "white",
            "ticks": ""
           },
           "baxis": {
            "gridcolor": "white",
            "linecolor": "white",
            "ticks": ""
           },
           "bgcolor": "#E5ECF6",
           "caxis": {
            "gridcolor": "white",
            "linecolor": "white",
            "ticks": ""
           }
          },
          "title": {
           "x": 0.05
          },
          "xaxis": {
           "automargin": true,
           "gridcolor": "white",
           "linecolor": "white",
           "ticks": "",
           "title": {
            "standoff": 15
           },
           "zerolinecolor": "white",
           "zerolinewidth": 2
          },
          "yaxis": {
           "automargin": true,
           "gridcolor": "white",
           "linecolor": "white",
           "ticks": "",
           "title": {
            "standoff": 15
           },
           "zerolinecolor": "white",
           "zerolinewidth": 2
          }
         }
        },
        "title": {
         "font": {
          "color": "#4D5663"
         }
        },
        "xaxis": {
         "gridcolor": "#E1E5ED",
         "showgrid": true,
         "tickfont": {
          "color": "#4D5663"
         },
         "title": {
          "font": {
           "color": "#4D5663"
          },
          "text": ""
         },
         "zerolinecolor": "#E1E5ED"
        },
        "yaxis": {
         "gridcolor": "#E1E5ED",
         "showgrid": true,
         "tickfont": {
          "color": "#4D5663"
         },
         "title": {
          "font": {
           "color": "#4D5663"
          },
          "text": ""
         },
         "zerolinecolor": "#E1E5ED"
        }
       }
      },
      "text/html": [
       "<div>                            <div id=\"2d653377-c1db-47f1-a9cd-b45babfca54b\" class=\"plotly-graph-div\" style=\"height:525px; width:100%;\"></div>            <script type=\"text/javascript\">                require([\"plotly\"], function(Plotly) {                    window.PLOTLYENV=window.PLOTLYENV || {};\n",
       "                    window.PLOTLYENV.BASE_URL='https://plot.ly';                                    if (document.getElementById(\"2d653377-c1db-47f1-a9cd-b45babfca54b\")) {                    Plotly.newPlot(                        \"2d653377-c1db-47f1-a9cd-b45babfca54b\",                        [{\"marker\":{\"color\":\"rgba(255, 153, 51, 0.6)\",\"line\":{\"color\":\"rgba(255, 153, 51, 1.0)\",\"width\":1}},\"name\":\"Values\",\"orientation\":\"v\",\"text\":\"\",\"x\":[\"A\",\"B\",\"C\"],\"y\":[32,43,50],\"type\":\"bar\"}],                        {\"legend\":{\"bgcolor\":\"#F5F6F9\",\"font\":{\"color\":\"#4D5663\"}},\"paper_bgcolor\":\"#F5F6F9\",\"plot_bgcolor\":\"#F5F6F9\",\"template\":{\"data\":{\"barpolar\":[{\"marker\":{\"line\":{\"color\":\"#E5ECF6\",\"width\":0.5},\"pattern\":{\"fillmode\":\"overlay\",\"size\":10,\"solidity\":0.2}},\"type\":\"barpolar\"}],\"bar\":[{\"error_x\":{\"color\":\"#2a3f5f\"},\"error_y\":{\"color\":\"#2a3f5f\"},\"marker\":{\"line\":{\"color\":\"#E5ECF6\",\"width\":0.5},\"pattern\":{\"fillmode\":\"overlay\",\"size\":10,\"solidity\":0.2}},\"type\":\"bar\"}],\"carpet\":[{\"aaxis\":{\"endlinecolor\":\"#2a3f5f\",\"gridcolor\":\"white\",\"linecolor\":\"white\",\"minorgridcolor\":\"white\",\"startlinecolor\":\"#2a3f5f\"},\"baxis\":{\"endlinecolor\":\"#2a3f5f\",\"gridcolor\":\"white\",\"linecolor\":\"white\",\"minorgridcolor\":\"white\",\"startlinecolor\":\"#2a3f5f\"},\"type\":\"carpet\"}],\"choropleth\":[{\"colorbar\":{\"outlinewidth\":0,\"ticks\":\"\"},\"type\":\"choropleth\"}],\"contourcarpet\":[{\"colorbar\":{\"outlinewidth\":0,\"ticks\":\"\"},\"type\":\"contourcarpet\"}],\"contour\":[{\"colorbar\":{\"outlinewidth\":0,\"ticks\":\"\"},\"colorscale\":[[0.0,\"#0d0887\"],[0.1111111111111111,\"#46039f\"],[0.2222222222222222,\"#7201a8\"],[0.3333333333333333,\"#9c179e\"],[0.4444444444444444,\"#bd3786\"],[0.5555555555555556,\"#d8576b\"],[0.6666666666666666,\"#ed7953\"],[0.7777777777777778,\"#fb9f3a\"],[0.8888888888888888,\"#fdca26\"],[1.0,\"#f0f921\"]],\"type\":\"contour\"}],\"heatmapgl\":[{\"colorbar\":{\"outlinewidth\":0,\"ticks\":\"\"},\"colorscale\":[[0.0,\"#0d0887\"],[0.1111111111111111,\"#46039f\"],[0.2222222222222222,\"#7201a8\"],[0.3333333333333333,\"#9c179e\"],[0.4444444444444444,\"#bd3786\"],[0.5555555555555556,\"#d8576b\"],[0.6666666666666666,\"#ed7953\"],[0.7777777777777778,\"#fb9f3a\"],[0.8888888888888888,\"#fdca26\"],[1.0,\"#f0f921\"]],\"type\":\"heatmapgl\"}],\"heatmap\":[{\"colorbar\":{\"outlinewidth\":0,\"ticks\":\"\"},\"colorscale\":[[0.0,\"#0d0887\"],[0.1111111111111111,\"#46039f\"],[0.2222222222222222,\"#7201a8\"],[0.3333333333333333,\"#9c179e\"],[0.4444444444444444,\"#bd3786\"],[0.5555555555555556,\"#d8576b\"],[0.6666666666666666,\"#ed7953\"],[0.7777777777777778,\"#fb9f3a\"],[0.8888888888888888,\"#fdca26\"],[1.0,\"#f0f921\"]],\"type\":\"heatmap\"}],\"histogram2dcontour\":[{\"colorbar\":{\"outlinewidth\":0,\"ticks\":\"\"},\"colorscale\":[[0.0,\"#0d0887\"],[0.1111111111111111,\"#46039f\"],[0.2222222222222222,\"#7201a8\"],[0.3333333333333333,\"#9c179e\"],[0.4444444444444444,\"#bd3786\"],[0.5555555555555556,\"#d8576b\"],[0.6666666666666666,\"#ed7953\"],[0.7777777777777778,\"#fb9f3a\"],[0.8888888888888888,\"#fdca26\"],[1.0,\"#f0f921\"]],\"type\":\"histogram2dcontour\"}],\"histogram2d\":[{\"colorbar\":{\"outlinewidth\":0,\"ticks\":\"\"},\"colorscale\":[[0.0,\"#0d0887\"],[0.1111111111111111,\"#46039f\"],[0.2222222222222222,\"#7201a8\"],[0.3333333333333333,\"#9c179e\"],[0.4444444444444444,\"#bd3786\"],[0.5555555555555556,\"#d8576b\"],[0.6666666666666666,\"#ed7953\"],[0.7777777777777778,\"#fb9f3a\"],[0.8888888888888888,\"#fdca26\"],[1.0,\"#f0f921\"]],\"type\":\"histogram2d\"}],\"histogram\":[{\"marker\":{\"pattern\":{\"fillmode\":\"overlay\",\"size\":10,\"solidity\":0.2}},\"type\":\"histogram\"}],\"mesh3d\":[{\"colorbar\":{\"outlinewidth\":0,\"ticks\":\"\"},\"type\":\"mesh3d\"}],\"parcoords\":[{\"line\":{\"colorbar\":{\"outlinewidth\":0,\"ticks\":\"\"}},\"type\":\"parcoords\"}],\"pie\":[{\"automargin\":true,\"type\":\"pie\"}],\"scatter3d\":[{\"line\":{\"colorbar\":{\"outlinewidth\":0,\"ticks\":\"\"}},\"marker\":{\"colorbar\":{\"outlinewidth\":0,\"ticks\":\"\"}},\"type\":\"scatter3d\"}],\"scattercarpet\":[{\"marker\":{\"colorbar\":{\"outlinewidth\":0,\"ticks\":\"\"}},\"type\":\"scattercarpet\"}],\"scattergeo\":[{\"marker\":{\"colorbar\":{\"outlinewidth\":0,\"ticks\":\"\"}},\"type\":\"scattergeo\"}],\"scattergl\":[{\"marker\":{\"colorbar\":{\"outlinewidth\":0,\"ticks\":\"\"}},\"type\":\"scattergl\"}],\"scattermapbox\":[{\"marker\":{\"colorbar\":{\"outlinewidth\":0,\"ticks\":\"\"}},\"type\":\"scattermapbox\"}],\"scatterpolargl\":[{\"marker\":{\"colorbar\":{\"outlinewidth\":0,\"ticks\":\"\"}},\"type\":\"scatterpolargl\"}],\"scatterpolar\":[{\"marker\":{\"colorbar\":{\"outlinewidth\":0,\"ticks\":\"\"}},\"type\":\"scatterpolar\"}],\"scatter\":[{\"fillpattern\":{\"fillmode\":\"overlay\",\"size\":10,\"solidity\":0.2},\"type\":\"scatter\"}],\"scatterternary\":[{\"marker\":{\"colorbar\":{\"outlinewidth\":0,\"ticks\":\"\"}},\"type\":\"scatterternary\"}],\"surface\":[{\"colorbar\":{\"outlinewidth\":0,\"ticks\":\"\"},\"colorscale\":[[0.0,\"#0d0887\"],[0.1111111111111111,\"#46039f\"],[0.2222222222222222,\"#7201a8\"],[0.3333333333333333,\"#9c179e\"],[0.4444444444444444,\"#bd3786\"],[0.5555555555555556,\"#d8576b\"],[0.6666666666666666,\"#ed7953\"],[0.7777777777777778,\"#fb9f3a\"],[0.8888888888888888,\"#fdca26\"],[1.0,\"#f0f921\"]],\"type\":\"surface\"}],\"table\":[{\"cells\":{\"fill\":{\"color\":\"#EBF0F8\"},\"line\":{\"color\":\"white\"}},\"header\":{\"fill\":{\"color\":\"#C8D4E3\"},\"line\":{\"color\":\"white\"}},\"type\":\"table\"}]},\"layout\":{\"annotationdefaults\":{\"arrowcolor\":\"#2a3f5f\",\"arrowhead\":0,\"arrowwidth\":1},\"autotypenumbers\":\"strict\",\"coloraxis\":{\"colorbar\":{\"outlinewidth\":0,\"ticks\":\"\"}},\"colorscale\":{\"diverging\":[[0,\"#8e0152\"],[0.1,\"#c51b7d\"],[0.2,\"#de77ae\"],[0.3,\"#f1b6da\"],[0.4,\"#fde0ef\"],[0.5,\"#f7f7f7\"],[0.6,\"#e6f5d0\"],[0.7,\"#b8e186\"],[0.8,\"#7fbc41\"],[0.9,\"#4d9221\"],[1,\"#276419\"]],\"sequential\":[[0.0,\"#0d0887\"],[0.1111111111111111,\"#46039f\"],[0.2222222222222222,\"#7201a8\"],[0.3333333333333333,\"#9c179e\"],[0.4444444444444444,\"#bd3786\"],[0.5555555555555556,\"#d8576b\"],[0.6666666666666666,\"#ed7953\"],[0.7777777777777778,\"#fb9f3a\"],[0.8888888888888888,\"#fdca26\"],[1.0,\"#f0f921\"]],\"sequentialminus\":[[0.0,\"#0d0887\"],[0.1111111111111111,\"#46039f\"],[0.2222222222222222,\"#7201a8\"],[0.3333333333333333,\"#9c179e\"],[0.4444444444444444,\"#bd3786\"],[0.5555555555555556,\"#d8576b\"],[0.6666666666666666,\"#ed7953\"],[0.7777777777777778,\"#fb9f3a\"],[0.8888888888888888,\"#fdca26\"],[1.0,\"#f0f921\"]]},\"colorway\":[\"#636efa\",\"#EF553B\",\"#00cc96\",\"#ab63fa\",\"#FFA15A\",\"#19d3f3\",\"#FF6692\",\"#B6E880\",\"#FF97FF\",\"#FECB52\"],\"font\":{\"color\":\"#2a3f5f\"},\"geo\":{\"bgcolor\":\"white\",\"lakecolor\":\"white\",\"landcolor\":\"#E5ECF6\",\"showlakes\":true,\"showland\":true,\"subunitcolor\":\"white\"},\"hoverlabel\":{\"align\":\"left\"},\"hovermode\":\"closest\",\"mapbox\":{\"style\":\"light\"},\"paper_bgcolor\":\"white\",\"plot_bgcolor\":\"#E5ECF6\",\"polar\":{\"angularaxis\":{\"gridcolor\":\"white\",\"linecolor\":\"white\",\"ticks\":\"\"},\"bgcolor\":\"#E5ECF6\",\"radialaxis\":{\"gridcolor\":\"white\",\"linecolor\":\"white\",\"ticks\":\"\"}},\"scene\":{\"xaxis\":{\"backgroundcolor\":\"#E5ECF6\",\"gridcolor\":\"white\",\"gridwidth\":2,\"linecolor\":\"white\",\"showbackground\":true,\"ticks\":\"\",\"zerolinecolor\":\"white\"},\"yaxis\":{\"backgroundcolor\":\"#E5ECF6\",\"gridcolor\":\"white\",\"gridwidth\":2,\"linecolor\":\"white\",\"showbackground\":true,\"ticks\":\"\",\"zerolinecolor\":\"white\"},\"zaxis\":{\"backgroundcolor\":\"#E5ECF6\",\"gridcolor\":\"white\",\"gridwidth\":2,\"linecolor\":\"white\",\"showbackground\":true,\"ticks\":\"\",\"zerolinecolor\":\"white\"}},\"shapedefaults\":{\"line\":{\"color\":\"#2a3f5f\"}},\"ternary\":{\"aaxis\":{\"gridcolor\":\"white\",\"linecolor\":\"white\",\"ticks\":\"\"},\"baxis\":{\"gridcolor\":\"white\",\"linecolor\":\"white\",\"ticks\":\"\"},\"bgcolor\":\"#E5ECF6\",\"caxis\":{\"gridcolor\":\"white\",\"linecolor\":\"white\",\"ticks\":\"\"}},\"title\":{\"x\":0.05},\"xaxis\":{\"automargin\":true,\"gridcolor\":\"white\",\"linecolor\":\"white\",\"ticks\":\"\",\"title\":{\"standoff\":15},\"zerolinecolor\":\"white\",\"zerolinewidth\":2},\"yaxis\":{\"automargin\":true,\"gridcolor\":\"white\",\"linecolor\":\"white\",\"ticks\":\"\",\"title\":{\"standoff\":15},\"zerolinecolor\":\"white\",\"zerolinewidth\":2}}},\"title\":{\"font\":{\"color\":\"#4D5663\"}},\"xaxis\":{\"gridcolor\":\"#E1E5ED\",\"showgrid\":true,\"tickfont\":{\"color\":\"#4D5663\"},\"title\":{\"font\":{\"color\":\"#4D5663\"},\"text\":\"\"},\"zerolinecolor\":\"#E1E5ED\"},\"yaxis\":{\"gridcolor\":\"#E1E5ED\",\"showgrid\":true,\"tickfont\":{\"color\":\"#4D5663\"},\"title\":{\"font\":{\"color\":\"#4D5663\"},\"text\":\"\"},\"zerolinecolor\":\"#E1E5ED\"}},                        {\"showLink\": true, \"linkText\": \"Export to plot.ly\", \"plotlyServerURL\": \"https://plot.ly\", \"responsive\": true}                    ).then(function(){\n",
       "                            \n",
       "var gd = document.getElementById('2d653377-c1db-47f1-a9cd-b45babfca54b');\n",
       "var x = new MutationObserver(function (mutations, observer) {{\n",
       "        var display = window.getComputedStyle(gd).display;\n",
       "        if (!display || display === 'none') {{\n",
       "            console.log([gd, 'removed!']);\n",
       "            Plotly.purge(gd);\n",
       "            observer.disconnect();\n",
       "        }}\n",
       "}});\n",
       "\n",
       "// Listen for the removal of the full notebook cells\n",
       "var notebookContainer = gd.closest('#notebook-container');\n",
       "if (notebookContainer) {{\n",
       "    x.observe(notebookContainer, {childList: true});\n",
       "}}\n",
       "\n",
       "// Listen for the clearing of the current output cell\n",
       "var outputEl = gd.closest('.output');\n",
       "if (outputEl) {{\n",
       "    x.observe(outputEl, {childList: true});\n",
       "}}\n",
       "\n",
       "                        })                };                });            </script>        </div>"
      ]
     },
     "metadata": {},
     "output_type": "display_data"
    }
   ],
   "source": [
    "df2.iplot(kind='bar', x='Category', y='Values')"
   ]
  },
  {
   "cell_type": "code",
   "execution_count": 18,
   "id": "9582a254",
   "metadata": {},
   "outputs": [
    {
     "data": {
      "application/vnd.plotly.v1+json": {
       "config": {
        "linkText": "Export to plot.ly",
        "plotlyServerURL": "https://plot.ly",
        "showLink": true
       },
       "data": [
        {
         "marker": {
          "color": "rgba(255, 153, 51, 0.6)",
          "line": {
           "color": "rgba(255, 153, 51, 1.0)",
           "width": 1
          }
         },
         "name": "None",
         "orientation": "v",
         "text": "",
         "type": "bar",
         "x": [
          "A",
          "B",
          "C",
          "D"
         ],
         "y": [
          2.7219711044050476,
          8.01207315237003,
          5.610999577395653,
          1.114541175773579
         ]
        }
       ],
       "layout": {
        "legend": {
         "bgcolor": "#F5F6F9",
         "font": {
          "color": "#4D5663"
         }
        },
        "paper_bgcolor": "#F5F6F9",
        "plot_bgcolor": "#F5F6F9",
        "template": {
         "data": {
          "bar": [
           {
            "error_x": {
             "color": "#2a3f5f"
            },
            "error_y": {
             "color": "#2a3f5f"
            },
            "marker": {
             "line": {
              "color": "#E5ECF6",
              "width": 0.5
             },
             "pattern": {
              "fillmode": "overlay",
              "size": 10,
              "solidity": 0.2
             }
            },
            "type": "bar"
           }
          ],
          "barpolar": [
           {
            "marker": {
             "line": {
              "color": "#E5ECF6",
              "width": 0.5
             },
             "pattern": {
              "fillmode": "overlay",
              "size": 10,
              "solidity": 0.2
             }
            },
            "type": "barpolar"
           }
          ],
          "carpet": [
           {
            "aaxis": {
             "endlinecolor": "#2a3f5f",
             "gridcolor": "white",
             "linecolor": "white",
             "minorgridcolor": "white",
             "startlinecolor": "#2a3f5f"
            },
            "baxis": {
             "endlinecolor": "#2a3f5f",
             "gridcolor": "white",
             "linecolor": "white",
             "minorgridcolor": "white",
             "startlinecolor": "#2a3f5f"
            },
            "type": "carpet"
           }
          ],
          "choropleth": [
           {
            "colorbar": {
             "outlinewidth": 0,
             "ticks": ""
            },
            "type": "choropleth"
           }
          ],
          "contour": [
           {
            "colorbar": {
             "outlinewidth": 0,
             "ticks": ""
            },
            "colorscale": [
             [
              0,
              "#0d0887"
             ],
             [
              0.1111111111111111,
              "#46039f"
             ],
             [
              0.2222222222222222,
              "#7201a8"
             ],
             [
              0.3333333333333333,
              "#9c179e"
             ],
             [
              0.4444444444444444,
              "#bd3786"
             ],
             [
              0.5555555555555556,
              "#d8576b"
             ],
             [
              0.6666666666666666,
              "#ed7953"
             ],
             [
              0.7777777777777778,
              "#fb9f3a"
             ],
             [
              0.8888888888888888,
              "#fdca26"
             ],
             [
              1,
              "#f0f921"
             ]
            ],
            "type": "contour"
           }
          ],
          "contourcarpet": [
           {
            "colorbar": {
             "outlinewidth": 0,
             "ticks": ""
            },
            "type": "contourcarpet"
           }
          ],
          "heatmap": [
           {
            "colorbar": {
             "outlinewidth": 0,
             "ticks": ""
            },
            "colorscale": [
             [
              0,
              "#0d0887"
             ],
             [
              0.1111111111111111,
              "#46039f"
             ],
             [
              0.2222222222222222,
              "#7201a8"
             ],
             [
              0.3333333333333333,
              "#9c179e"
             ],
             [
              0.4444444444444444,
              "#bd3786"
             ],
             [
              0.5555555555555556,
              "#d8576b"
             ],
             [
              0.6666666666666666,
              "#ed7953"
             ],
             [
              0.7777777777777778,
              "#fb9f3a"
             ],
             [
              0.8888888888888888,
              "#fdca26"
             ],
             [
              1,
              "#f0f921"
             ]
            ],
            "type": "heatmap"
           }
          ],
          "heatmapgl": [
           {
            "colorbar": {
             "outlinewidth": 0,
             "ticks": ""
            },
            "colorscale": [
             [
              0,
              "#0d0887"
             ],
             [
              0.1111111111111111,
              "#46039f"
             ],
             [
              0.2222222222222222,
              "#7201a8"
             ],
             [
              0.3333333333333333,
              "#9c179e"
             ],
             [
              0.4444444444444444,
              "#bd3786"
             ],
             [
              0.5555555555555556,
              "#d8576b"
             ],
             [
              0.6666666666666666,
              "#ed7953"
             ],
             [
              0.7777777777777778,
              "#fb9f3a"
             ],
             [
              0.8888888888888888,
              "#fdca26"
             ],
             [
              1,
              "#f0f921"
             ]
            ],
            "type": "heatmapgl"
           }
          ],
          "histogram": [
           {
            "marker": {
             "pattern": {
              "fillmode": "overlay",
              "size": 10,
              "solidity": 0.2
             }
            },
            "type": "histogram"
           }
          ],
          "histogram2d": [
           {
            "colorbar": {
             "outlinewidth": 0,
             "ticks": ""
            },
            "colorscale": [
             [
              0,
              "#0d0887"
             ],
             [
              0.1111111111111111,
              "#46039f"
             ],
             [
              0.2222222222222222,
              "#7201a8"
             ],
             [
              0.3333333333333333,
              "#9c179e"
             ],
             [
              0.4444444444444444,
              "#bd3786"
             ],
             [
              0.5555555555555556,
              "#d8576b"
             ],
             [
              0.6666666666666666,
              "#ed7953"
             ],
             [
              0.7777777777777778,
              "#fb9f3a"
             ],
             [
              0.8888888888888888,
              "#fdca26"
             ],
             [
              1,
              "#f0f921"
             ]
            ],
            "type": "histogram2d"
           }
          ],
          "histogram2dcontour": [
           {
            "colorbar": {
             "outlinewidth": 0,
             "ticks": ""
            },
            "colorscale": [
             [
              0,
              "#0d0887"
             ],
             [
              0.1111111111111111,
              "#46039f"
             ],
             [
              0.2222222222222222,
              "#7201a8"
             ],
             [
              0.3333333333333333,
              "#9c179e"
             ],
             [
              0.4444444444444444,
              "#bd3786"
             ],
             [
              0.5555555555555556,
              "#d8576b"
             ],
             [
              0.6666666666666666,
              "#ed7953"
             ],
             [
              0.7777777777777778,
              "#fb9f3a"
             ],
             [
              0.8888888888888888,
              "#fdca26"
             ],
             [
              1,
              "#f0f921"
             ]
            ],
            "type": "histogram2dcontour"
           }
          ],
          "mesh3d": [
           {
            "colorbar": {
             "outlinewidth": 0,
             "ticks": ""
            },
            "type": "mesh3d"
           }
          ],
          "parcoords": [
           {
            "line": {
             "colorbar": {
              "outlinewidth": 0,
              "ticks": ""
             }
            },
            "type": "parcoords"
           }
          ],
          "pie": [
           {
            "automargin": true,
            "type": "pie"
           }
          ],
          "scatter": [
           {
            "fillpattern": {
             "fillmode": "overlay",
             "size": 10,
             "solidity": 0.2
            },
            "type": "scatter"
           }
          ],
          "scatter3d": [
           {
            "line": {
             "colorbar": {
              "outlinewidth": 0,
              "ticks": ""
             }
            },
            "marker": {
             "colorbar": {
              "outlinewidth": 0,
              "ticks": ""
             }
            },
            "type": "scatter3d"
           }
          ],
          "scattercarpet": [
           {
            "marker": {
             "colorbar": {
              "outlinewidth": 0,
              "ticks": ""
             }
            },
            "type": "scattercarpet"
           }
          ],
          "scattergeo": [
           {
            "marker": {
             "colorbar": {
              "outlinewidth": 0,
              "ticks": ""
             }
            },
            "type": "scattergeo"
           }
          ],
          "scattergl": [
           {
            "marker": {
             "colorbar": {
              "outlinewidth": 0,
              "ticks": ""
             }
            },
            "type": "scattergl"
           }
          ],
          "scattermapbox": [
           {
            "marker": {
             "colorbar": {
              "outlinewidth": 0,
              "ticks": ""
             }
            },
            "type": "scattermapbox"
           }
          ],
          "scatterpolar": [
           {
            "marker": {
             "colorbar": {
              "outlinewidth": 0,
              "ticks": ""
             }
            },
            "type": "scatterpolar"
           }
          ],
          "scatterpolargl": [
           {
            "marker": {
             "colorbar": {
              "outlinewidth": 0,
              "ticks": ""
             }
            },
            "type": "scatterpolargl"
           }
          ],
          "scatterternary": [
           {
            "marker": {
             "colorbar": {
              "outlinewidth": 0,
              "ticks": ""
             }
            },
            "type": "scatterternary"
           }
          ],
          "surface": [
           {
            "colorbar": {
             "outlinewidth": 0,
             "ticks": ""
            },
            "colorscale": [
             [
              0,
              "#0d0887"
             ],
             [
              0.1111111111111111,
              "#46039f"
             ],
             [
              0.2222222222222222,
              "#7201a8"
             ],
             [
              0.3333333333333333,
              "#9c179e"
             ],
             [
              0.4444444444444444,
              "#bd3786"
             ],
             [
              0.5555555555555556,
              "#d8576b"
             ],
             [
              0.6666666666666666,
              "#ed7953"
             ],
             [
              0.7777777777777778,
              "#fb9f3a"
             ],
             [
              0.8888888888888888,
              "#fdca26"
             ],
             [
              1,
              "#f0f921"
             ]
            ],
            "type": "surface"
           }
          ],
          "table": [
           {
            "cells": {
             "fill": {
              "color": "#EBF0F8"
             },
             "line": {
              "color": "white"
             }
            },
            "header": {
             "fill": {
              "color": "#C8D4E3"
             },
             "line": {
              "color": "white"
             }
            },
            "type": "table"
           }
          ]
         },
         "layout": {
          "annotationdefaults": {
           "arrowcolor": "#2a3f5f",
           "arrowhead": 0,
           "arrowwidth": 1
          },
          "autotypenumbers": "strict",
          "coloraxis": {
           "colorbar": {
            "outlinewidth": 0,
            "ticks": ""
           }
          },
          "colorscale": {
           "diverging": [
            [
             0,
             "#8e0152"
            ],
            [
             0.1,
             "#c51b7d"
            ],
            [
             0.2,
             "#de77ae"
            ],
            [
             0.3,
             "#f1b6da"
            ],
            [
             0.4,
             "#fde0ef"
            ],
            [
             0.5,
             "#f7f7f7"
            ],
            [
             0.6,
             "#e6f5d0"
            ],
            [
             0.7,
             "#b8e186"
            ],
            [
             0.8,
             "#7fbc41"
            ],
            [
             0.9,
             "#4d9221"
            ],
            [
             1,
             "#276419"
            ]
           ],
           "sequential": [
            [
             0,
             "#0d0887"
            ],
            [
             0.1111111111111111,
             "#46039f"
            ],
            [
             0.2222222222222222,
             "#7201a8"
            ],
            [
             0.3333333333333333,
             "#9c179e"
            ],
            [
             0.4444444444444444,
             "#bd3786"
            ],
            [
             0.5555555555555556,
             "#d8576b"
            ],
            [
             0.6666666666666666,
             "#ed7953"
            ],
            [
             0.7777777777777778,
             "#fb9f3a"
            ],
            [
             0.8888888888888888,
             "#fdca26"
            ],
            [
             1,
             "#f0f921"
            ]
           ],
           "sequentialminus": [
            [
             0,
             "#0d0887"
            ],
            [
             0.1111111111111111,
             "#46039f"
            ],
            [
             0.2222222222222222,
             "#7201a8"
            ],
            [
             0.3333333333333333,
             "#9c179e"
            ],
            [
             0.4444444444444444,
             "#bd3786"
            ],
            [
             0.5555555555555556,
             "#d8576b"
            ],
            [
             0.6666666666666666,
             "#ed7953"
            ],
            [
             0.7777777777777778,
             "#fb9f3a"
            ],
            [
             0.8888888888888888,
             "#fdca26"
            ],
            [
             1,
             "#f0f921"
            ]
           ]
          },
          "colorway": [
           "#636efa",
           "#EF553B",
           "#00cc96",
           "#ab63fa",
           "#FFA15A",
           "#19d3f3",
           "#FF6692",
           "#B6E880",
           "#FF97FF",
           "#FECB52"
          ],
          "font": {
           "color": "#2a3f5f"
          },
          "geo": {
           "bgcolor": "white",
           "lakecolor": "white",
           "landcolor": "#E5ECF6",
           "showlakes": true,
           "showland": true,
           "subunitcolor": "white"
          },
          "hoverlabel": {
           "align": "left"
          },
          "hovermode": "closest",
          "mapbox": {
           "style": "light"
          },
          "paper_bgcolor": "white",
          "plot_bgcolor": "#E5ECF6",
          "polar": {
           "angularaxis": {
            "gridcolor": "white",
            "linecolor": "white",
            "ticks": ""
           },
           "bgcolor": "#E5ECF6",
           "radialaxis": {
            "gridcolor": "white",
            "linecolor": "white",
            "ticks": ""
           }
          },
          "scene": {
           "xaxis": {
            "backgroundcolor": "#E5ECF6",
            "gridcolor": "white",
            "gridwidth": 2,
            "linecolor": "white",
            "showbackground": true,
            "ticks": "",
            "zerolinecolor": "white"
           },
           "yaxis": {
            "backgroundcolor": "#E5ECF6",
            "gridcolor": "white",
            "gridwidth": 2,
            "linecolor": "white",
            "showbackground": true,
            "ticks": "",
            "zerolinecolor": "white"
           },
           "zaxis": {
            "backgroundcolor": "#E5ECF6",
            "gridcolor": "white",
            "gridwidth": 2,
            "linecolor": "white",
            "showbackground": true,
            "ticks": "",
            "zerolinecolor": "white"
           }
          },
          "shapedefaults": {
           "line": {
            "color": "#2a3f5f"
           }
          },
          "ternary": {
           "aaxis": {
            "gridcolor": "white",
            "linecolor": "white",
            "ticks": ""
           },
           "baxis": {
            "gridcolor": "white",
            "linecolor": "white",
            "ticks": ""
           },
           "bgcolor": "#E5ECF6",
           "caxis": {
            "gridcolor": "white",
            "linecolor": "white",
            "ticks": ""
           }
          },
          "title": {
           "x": 0.05
          },
          "xaxis": {
           "automargin": true,
           "gridcolor": "white",
           "linecolor": "white",
           "ticks": "",
           "title": {
            "standoff": 15
           },
           "zerolinecolor": "white",
           "zerolinewidth": 2
          },
          "yaxis": {
           "automargin": true,
           "gridcolor": "white",
           "linecolor": "white",
           "ticks": "",
           "title": {
            "standoff": 15
           },
           "zerolinecolor": "white",
           "zerolinewidth": 2
          }
         }
        },
        "title": {
         "font": {
          "color": "#4D5663"
         }
        },
        "xaxis": {
         "gridcolor": "#E1E5ED",
         "showgrid": true,
         "tickfont": {
          "color": "#4D5663"
         },
         "title": {
          "font": {
           "color": "#4D5663"
          },
          "text": ""
         },
         "zerolinecolor": "#E1E5ED"
        },
        "yaxis": {
         "gridcolor": "#E1E5ED",
         "showgrid": true,
         "tickfont": {
          "color": "#4D5663"
         },
         "title": {
          "font": {
           "color": "#4D5663"
          },
          "text": ""
         },
         "zerolinecolor": "#E1E5ED"
        }
       }
      },
      "text/html": [
       "<div>                            <div id=\"9f857722-7f14-4be4-9799-c9a671457b1d\" class=\"plotly-graph-div\" style=\"height:525px; width:100%;\"></div>            <script type=\"text/javascript\">                require([\"plotly\"], function(Plotly) {                    window.PLOTLYENV=window.PLOTLYENV || {};\n",
       "                    window.PLOTLYENV.BASE_URL='https://plot.ly';                                    if (document.getElementById(\"9f857722-7f14-4be4-9799-c9a671457b1d\")) {                    Plotly.newPlot(                        \"9f857722-7f14-4be4-9799-c9a671457b1d\",                        [{\"marker\":{\"color\":\"rgba(255, 153, 51, 0.6)\",\"line\":{\"color\":\"rgba(255, 153, 51, 1.0)\",\"width\":1}},\"name\":\"None\",\"orientation\":\"v\",\"text\":\"\",\"x\":[\"A\",\"B\",\"C\",\"D\"],\"y\":[2.7219711044050476,8.01207315237003,5.610999577395653,1.114541175773579],\"type\":\"bar\"}],                        {\"legend\":{\"bgcolor\":\"#F5F6F9\",\"font\":{\"color\":\"#4D5663\"}},\"paper_bgcolor\":\"#F5F6F9\",\"plot_bgcolor\":\"#F5F6F9\",\"template\":{\"data\":{\"barpolar\":[{\"marker\":{\"line\":{\"color\":\"#E5ECF6\",\"width\":0.5},\"pattern\":{\"fillmode\":\"overlay\",\"size\":10,\"solidity\":0.2}},\"type\":\"barpolar\"}],\"bar\":[{\"error_x\":{\"color\":\"#2a3f5f\"},\"error_y\":{\"color\":\"#2a3f5f\"},\"marker\":{\"line\":{\"color\":\"#E5ECF6\",\"width\":0.5},\"pattern\":{\"fillmode\":\"overlay\",\"size\":10,\"solidity\":0.2}},\"type\":\"bar\"}],\"carpet\":[{\"aaxis\":{\"endlinecolor\":\"#2a3f5f\",\"gridcolor\":\"white\",\"linecolor\":\"white\",\"minorgridcolor\":\"white\",\"startlinecolor\":\"#2a3f5f\"},\"baxis\":{\"endlinecolor\":\"#2a3f5f\",\"gridcolor\":\"white\",\"linecolor\":\"white\",\"minorgridcolor\":\"white\",\"startlinecolor\":\"#2a3f5f\"},\"type\":\"carpet\"}],\"choropleth\":[{\"colorbar\":{\"outlinewidth\":0,\"ticks\":\"\"},\"type\":\"choropleth\"}],\"contourcarpet\":[{\"colorbar\":{\"outlinewidth\":0,\"ticks\":\"\"},\"type\":\"contourcarpet\"}],\"contour\":[{\"colorbar\":{\"outlinewidth\":0,\"ticks\":\"\"},\"colorscale\":[[0.0,\"#0d0887\"],[0.1111111111111111,\"#46039f\"],[0.2222222222222222,\"#7201a8\"],[0.3333333333333333,\"#9c179e\"],[0.4444444444444444,\"#bd3786\"],[0.5555555555555556,\"#d8576b\"],[0.6666666666666666,\"#ed7953\"],[0.7777777777777778,\"#fb9f3a\"],[0.8888888888888888,\"#fdca26\"],[1.0,\"#f0f921\"]],\"type\":\"contour\"}],\"heatmapgl\":[{\"colorbar\":{\"outlinewidth\":0,\"ticks\":\"\"},\"colorscale\":[[0.0,\"#0d0887\"],[0.1111111111111111,\"#46039f\"],[0.2222222222222222,\"#7201a8\"],[0.3333333333333333,\"#9c179e\"],[0.4444444444444444,\"#bd3786\"],[0.5555555555555556,\"#d8576b\"],[0.6666666666666666,\"#ed7953\"],[0.7777777777777778,\"#fb9f3a\"],[0.8888888888888888,\"#fdca26\"],[1.0,\"#f0f921\"]],\"type\":\"heatmapgl\"}],\"heatmap\":[{\"colorbar\":{\"outlinewidth\":0,\"ticks\":\"\"},\"colorscale\":[[0.0,\"#0d0887\"],[0.1111111111111111,\"#46039f\"],[0.2222222222222222,\"#7201a8\"],[0.3333333333333333,\"#9c179e\"],[0.4444444444444444,\"#bd3786\"],[0.5555555555555556,\"#d8576b\"],[0.6666666666666666,\"#ed7953\"],[0.7777777777777778,\"#fb9f3a\"],[0.8888888888888888,\"#fdca26\"],[1.0,\"#f0f921\"]],\"type\":\"heatmap\"}],\"histogram2dcontour\":[{\"colorbar\":{\"outlinewidth\":0,\"ticks\":\"\"},\"colorscale\":[[0.0,\"#0d0887\"],[0.1111111111111111,\"#46039f\"],[0.2222222222222222,\"#7201a8\"],[0.3333333333333333,\"#9c179e\"],[0.4444444444444444,\"#bd3786\"],[0.5555555555555556,\"#d8576b\"],[0.6666666666666666,\"#ed7953\"],[0.7777777777777778,\"#fb9f3a\"],[0.8888888888888888,\"#fdca26\"],[1.0,\"#f0f921\"]],\"type\":\"histogram2dcontour\"}],\"histogram2d\":[{\"colorbar\":{\"outlinewidth\":0,\"ticks\":\"\"},\"colorscale\":[[0.0,\"#0d0887\"],[0.1111111111111111,\"#46039f\"],[0.2222222222222222,\"#7201a8\"],[0.3333333333333333,\"#9c179e\"],[0.4444444444444444,\"#bd3786\"],[0.5555555555555556,\"#d8576b\"],[0.6666666666666666,\"#ed7953\"],[0.7777777777777778,\"#fb9f3a\"],[0.8888888888888888,\"#fdca26\"],[1.0,\"#f0f921\"]],\"type\":\"histogram2d\"}],\"histogram\":[{\"marker\":{\"pattern\":{\"fillmode\":\"overlay\",\"size\":10,\"solidity\":0.2}},\"type\":\"histogram\"}],\"mesh3d\":[{\"colorbar\":{\"outlinewidth\":0,\"ticks\":\"\"},\"type\":\"mesh3d\"}],\"parcoords\":[{\"line\":{\"colorbar\":{\"outlinewidth\":0,\"ticks\":\"\"}},\"type\":\"parcoords\"}],\"pie\":[{\"automargin\":true,\"type\":\"pie\"}],\"scatter3d\":[{\"line\":{\"colorbar\":{\"outlinewidth\":0,\"ticks\":\"\"}},\"marker\":{\"colorbar\":{\"outlinewidth\":0,\"ticks\":\"\"}},\"type\":\"scatter3d\"}],\"scattercarpet\":[{\"marker\":{\"colorbar\":{\"outlinewidth\":0,\"ticks\":\"\"}},\"type\":\"scattercarpet\"}],\"scattergeo\":[{\"marker\":{\"colorbar\":{\"outlinewidth\":0,\"ticks\":\"\"}},\"type\":\"scattergeo\"}],\"scattergl\":[{\"marker\":{\"colorbar\":{\"outlinewidth\":0,\"ticks\":\"\"}},\"type\":\"scattergl\"}],\"scattermapbox\":[{\"marker\":{\"colorbar\":{\"outlinewidth\":0,\"ticks\":\"\"}},\"type\":\"scattermapbox\"}],\"scatterpolargl\":[{\"marker\":{\"colorbar\":{\"outlinewidth\":0,\"ticks\":\"\"}},\"type\":\"scatterpolargl\"}],\"scatterpolar\":[{\"marker\":{\"colorbar\":{\"outlinewidth\":0,\"ticks\":\"\"}},\"type\":\"scatterpolar\"}],\"scatter\":[{\"fillpattern\":{\"fillmode\":\"overlay\",\"size\":10,\"solidity\":0.2},\"type\":\"scatter\"}],\"scatterternary\":[{\"marker\":{\"colorbar\":{\"outlinewidth\":0,\"ticks\":\"\"}},\"type\":\"scatterternary\"}],\"surface\":[{\"colorbar\":{\"outlinewidth\":0,\"ticks\":\"\"},\"colorscale\":[[0.0,\"#0d0887\"],[0.1111111111111111,\"#46039f\"],[0.2222222222222222,\"#7201a8\"],[0.3333333333333333,\"#9c179e\"],[0.4444444444444444,\"#bd3786\"],[0.5555555555555556,\"#d8576b\"],[0.6666666666666666,\"#ed7953\"],[0.7777777777777778,\"#fb9f3a\"],[0.8888888888888888,\"#fdca26\"],[1.0,\"#f0f921\"]],\"type\":\"surface\"}],\"table\":[{\"cells\":{\"fill\":{\"color\":\"#EBF0F8\"},\"line\":{\"color\":\"white\"}},\"header\":{\"fill\":{\"color\":\"#C8D4E3\"},\"line\":{\"color\":\"white\"}},\"type\":\"table\"}]},\"layout\":{\"annotationdefaults\":{\"arrowcolor\":\"#2a3f5f\",\"arrowhead\":0,\"arrowwidth\":1},\"autotypenumbers\":\"strict\",\"coloraxis\":{\"colorbar\":{\"outlinewidth\":0,\"ticks\":\"\"}},\"colorscale\":{\"diverging\":[[0,\"#8e0152\"],[0.1,\"#c51b7d\"],[0.2,\"#de77ae\"],[0.3,\"#f1b6da\"],[0.4,\"#fde0ef\"],[0.5,\"#f7f7f7\"],[0.6,\"#e6f5d0\"],[0.7,\"#b8e186\"],[0.8,\"#7fbc41\"],[0.9,\"#4d9221\"],[1,\"#276419\"]],\"sequential\":[[0.0,\"#0d0887\"],[0.1111111111111111,\"#46039f\"],[0.2222222222222222,\"#7201a8\"],[0.3333333333333333,\"#9c179e\"],[0.4444444444444444,\"#bd3786\"],[0.5555555555555556,\"#d8576b\"],[0.6666666666666666,\"#ed7953\"],[0.7777777777777778,\"#fb9f3a\"],[0.8888888888888888,\"#fdca26\"],[1.0,\"#f0f921\"]],\"sequentialminus\":[[0.0,\"#0d0887\"],[0.1111111111111111,\"#46039f\"],[0.2222222222222222,\"#7201a8\"],[0.3333333333333333,\"#9c179e\"],[0.4444444444444444,\"#bd3786\"],[0.5555555555555556,\"#d8576b\"],[0.6666666666666666,\"#ed7953\"],[0.7777777777777778,\"#fb9f3a\"],[0.8888888888888888,\"#fdca26\"],[1.0,\"#f0f921\"]]},\"colorway\":[\"#636efa\",\"#EF553B\",\"#00cc96\",\"#ab63fa\",\"#FFA15A\",\"#19d3f3\",\"#FF6692\",\"#B6E880\",\"#FF97FF\",\"#FECB52\"],\"font\":{\"color\":\"#2a3f5f\"},\"geo\":{\"bgcolor\":\"white\",\"lakecolor\":\"white\",\"landcolor\":\"#E5ECF6\",\"showlakes\":true,\"showland\":true,\"subunitcolor\":\"white\"},\"hoverlabel\":{\"align\":\"left\"},\"hovermode\":\"closest\",\"mapbox\":{\"style\":\"light\"},\"paper_bgcolor\":\"white\",\"plot_bgcolor\":\"#E5ECF6\",\"polar\":{\"angularaxis\":{\"gridcolor\":\"white\",\"linecolor\":\"white\",\"ticks\":\"\"},\"bgcolor\":\"#E5ECF6\",\"radialaxis\":{\"gridcolor\":\"white\",\"linecolor\":\"white\",\"ticks\":\"\"}},\"scene\":{\"xaxis\":{\"backgroundcolor\":\"#E5ECF6\",\"gridcolor\":\"white\",\"gridwidth\":2,\"linecolor\":\"white\",\"showbackground\":true,\"ticks\":\"\",\"zerolinecolor\":\"white\"},\"yaxis\":{\"backgroundcolor\":\"#E5ECF6\",\"gridcolor\":\"white\",\"gridwidth\":2,\"linecolor\":\"white\",\"showbackground\":true,\"ticks\":\"\",\"zerolinecolor\":\"white\"},\"zaxis\":{\"backgroundcolor\":\"#E5ECF6\",\"gridcolor\":\"white\",\"gridwidth\":2,\"linecolor\":\"white\",\"showbackground\":true,\"ticks\":\"\",\"zerolinecolor\":\"white\"}},\"shapedefaults\":{\"line\":{\"color\":\"#2a3f5f\"}},\"ternary\":{\"aaxis\":{\"gridcolor\":\"white\",\"linecolor\":\"white\",\"ticks\":\"\"},\"baxis\":{\"gridcolor\":\"white\",\"linecolor\":\"white\",\"ticks\":\"\"},\"bgcolor\":\"#E5ECF6\",\"caxis\":{\"gridcolor\":\"white\",\"linecolor\":\"white\",\"ticks\":\"\"}},\"title\":{\"x\":0.05},\"xaxis\":{\"automargin\":true,\"gridcolor\":\"white\",\"linecolor\":\"white\",\"ticks\":\"\",\"title\":{\"standoff\":15},\"zerolinecolor\":\"white\",\"zerolinewidth\":2},\"yaxis\":{\"automargin\":true,\"gridcolor\":\"white\",\"linecolor\":\"white\",\"ticks\":\"\",\"title\":{\"standoff\":15},\"zerolinecolor\":\"white\",\"zerolinewidth\":2}}},\"title\":{\"font\":{\"color\":\"#4D5663\"}},\"xaxis\":{\"gridcolor\":\"#E1E5ED\",\"showgrid\":true,\"tickfont\":{\"color\":\"#4D5663\"},\"title\":{\"font\":{\"color\":\"#4D5663\"},\"text\":\"\"},\"zerolinecolor\":\"#E1E5ED\"},\"yaxis\":{\"gridcolor\":\"#E1E5ED\",\"showgrid\":true,\"tickfont\":{\"color\":\"#4D5663\"},\"title\":{\"font\":{\"color\":\"#4D5663\"},\"text\":\"\"},\"zerolinecolor\":\"#E1E5ED\"}},                        {\"showLink\": true, \"linkText\": \"Export to plot.ly\", \"plotlyServerURL\": \"https://plot.ly\", \"responsive\": true}                    ).then(function(){\n",
       "                            \n",
       "var gd = document.getElementById('9f857722-7f14-4be4-9799-c9a671457b1d');\n",
       "var x = new MutationObserver(function (mutations, observer) {{\n",
       "        var display = window.getComputedStyle(gd).display;\n",
       "        if (!display || display === 'none') {{\n",
       "            console.log([gd, 'removed!']);\n",
       "            Plotly.purge(gd);\n",
       "            observer.disconnect();\n",
       "        }}\n",
       "}});\n",
       "\n",
       "// Listen for the removal of the full notebook cells\n",
       "var notebookContainer = gd.closest('#notebook-container');\n",
       "if (notebookContainer) {{\n",
       "    x.observe(notebookContainer, {childList: true});\n",
       "}}\n",
       "\n",
       "// Listen for the clearing of the current output cell\n",
       "var outputEl = gd.closest('.output');\n",
       "if (outputEl) {{\n",
       "    x.observe(outputEl, {childList: true});\n",
       "}}\n",
       "\n",
       "                        })                };                });            </script>        </div>"
      ]
     },
     "metadata": {},
     "output_type": "display_data"
    }
   ],
   "source": [
    "df.sum().iplot(kind='bar')"
   ]
  },
  {
   "cell_type": "code",
   "execution_count": 19,
   "id": "530ecf6d",
   "metadata": {},
   "outputs": [
    {
     "data": {
      "application/vnd.plotly.v1+json": {
       "config": {
        "linkText": "Export to plot.ly",
        "plotlyServerURL": "https://plot.ly",
        "showLink": true
       },
       "data": [
        {
         "boxpoints": false,
         "line": {
          "width": 1.3
         },
         "marker": {
          "color": "rgba(255, 153, 51, 1.0)"
         },
         "name": "A",
         "orientation": "v",
         "type": "box",
         "y": [
          0.43539700148335236,
          0.15819395423214852,
          0.62879333196527,
          -0.26401107422169673,
          -1.8324809705325915,
          0.7704629872779027,
          1.7497298283959724,
          -1.0015334595201602,
          -1.718240559825639,
          0.628596523719882,
          -0.42019354274908316,
          2.7136701685643403,
          -0.9378495172398871,
          0.6598021382631747,
          1.6184775733872263,
          1.3954033785382987,
          1.405495874826309,
          -1.166616968739883,
          2.365923532026527,
          1.1133259856604942,
          -1.6813679639527261,
          -0.04667403900552732,
          -0.6363654890464304,
          -1.5425012567014285,
          -1.012741270794969,
          0.12132634073101281,
          1.595602460076769,
          1.7305965984334635,
          -1.9217891095448971,
          1.1860294383645715,
          0.26201847879465384,
          -1.2055378111750752,
          2.3438810173248927,
          1.2086288002904493,
          -1.8314084636430585,
          1.7619781396825958,
          2.1031817281439817,
          -2.5307453072827966,
          1.2761298243307624,
          -1.772353423710465,
          -0.636420642902602,
          -1.930564293340949,
          -1.0610308479700656,
          -0.450655785586209,
          -2.1425651099825824,
          -1.0903966470383508,
          -0.5620779766373142,
          -0.770744501166946,
          0.317708947982711,
          0.1318688172018447,
          -1.2201324264384652,
          -0.19136686704154338,
          -0.06257792497623924,
          0.5936190711859071,
          1.1391272098088527,
          0.7464631766024825,
          -0.8977662361522014,
          0.14140290562352897,
          0.3256123427724348,
          0.9112030544266069,
          0.8357966193733269,
          1.7487601057521938,
          -0.49373510396354875,
          -0.6666213874172607,
          1.1831818138576176,
          -1.0182097832516077,
          -0.04630874727601642,
          -0.9836337689727818,
          1.9926142232426531,
          0.7440871065414701,
          0.28972919333565683,
          -0.5480211897462933,
          0.8413311240763615,
          -0.6346241128971083,
          -0.4398922253755513,
          -0.28149585930036625,
          0.6490498459345291,
          -0.23584960142982708,
          -1.5937987594535374,
          0.051213682792660656,
          -0.374994885556381,
          0.7207560378542024,
          0.5394156502485068,
          1.1572917713327477,
          -2.5643244253052964,
          -0.10181612060765612,
          0.11183773067467831,
          1.1028927065391063,
          -1.3752211222891688,
          2.16105987106691,
          -0.7898043390090209,
          1.6487450904111807,
          -1.7240798592526558,
          0.4254960002374844,
          0.2156919556300176,
          0.2031078608182616,
          0.21648296318241012,
          0.6718965344393238,
          -1.8998227182750862,
          -0.017153916755728384
         ]
        },
        {
         "boxpoints": false,
         "line": {
          "width": 1.3
         },
         "marker": {
          "color": "rgba(55, 128, 191, 1.0)"
         },
         "name": "B",
         "orientation": "v",
         "type": "box",
         "y": [
          0.760388682451242,
          -0.3014770718387929,
          -0.8104320504480762,
          1.1583102446320703,
          0.66259937418456,
          -0.8731559685701944,
          -0.10732150644350782,
          -1.4845842008871466,
          -1.1868462655772307,
          1.613590761177109,
          -1.9381099315529704,
          -0.29380824929788424,
          1.3599307756073165,
          -0.36836520730565253,
          -0.3269586169498003,
          -0.8722022296216736,
          1.7599609916589511,
          2.412515853128903,
          -1.1138794684306152,
          1.5653823254598276,
          1.7614719313614335,
          -1.2290358322794215,
          2.6522230722984435,
          1.0163014618558739,
          0.6293809696480948,
          -1.5146156122233023,
          0.016940034354393264,
          0.0032133467236007663,
          -0.5981712356892535,
          0.020951829720675653,
          1.9963821917383087,
          1.0740671422306807,
          0.17809074697460173,
          0.04485989073294413,
          -0.4227495550182459,
          -0.32645695274430736,
          0.698607870034912,
          0.6330148722372047,
          0.2875584885528013,
          1.1234133729510283,
          0.24214275695220294,
          -0.9745143810694096,
          -0.09487224825524246,
          -0.05206076437308604,
          0.1700768924108305,
          1.300218316913883,
          -0.14751521656419564,
          -0.30080352426550006,
          -0.8520916792252314,
          1.1620463903000628,
          1.2476009203676264,
          -0.629125183496713,
          -0.3785357939583569,
          -0.914900498176864,
          0.15739646399040055,
          -0.08110020866252839,
          1.2781757771914946,
          1.9785521600539933,
          -0.07924996180658282,
          -0.17064150415758025,
          -0.33892612512205456,
          -0.8766265534473259,
          -0.8696592484215764,
          1.1323493113477194,
          -1.7050942234370272,
          -0.600405565715628,
          -0.1789375334228437,
          0.2764438144488436,
          -1.3979390762783197,
          1.3262592652981067,
          0.703525942698256,
          1.411777371228823,
          -1.6110804563893522,
          0.39705885749036557,
          -0.24578206196537786,
          -1.0140463874894474,
          0.35097105186424615,
          0.22520868769189759,
          0.11269335584705568,
          -0.6275979165028887,
          0.830374106714317,
          0.21139937581431129,
          -0.5613355709825517,
          0.5599973868588114,
          0.10923587614740028,
          -0.21228235369384083,
          0.9848944487618184,
          0.15230352046132178,
          -0.24908169790355753,
          -0.5547350602916322,
          -0.26024067645453,
          -0.12512543124851477,
          1.4959303828793944,
          -0.8075642744958867,
          -0.7868387528914741,
          0.11502021583953378,
          1.052635171665947,
          -2.005202626886498,
          0.36358094296755,
          -1.292869329621461
         ]
        },
        {
         "boxpoints": false,
         "line": {
          "width": 1.3
         },
         "marker": {
          "color": "rgba(50, 171, 96, 1.0)"
         },
         "name": "C",
         "orientation": "v",
         "type": "box",
         "y": [
          1.7506839868116808,
          -0.05525851995596629,
          0.6170957201984968,
          -0.1115916319829114,
          0.5116816361868437,
          -2.2152101125435837,
          0.3315284364893782,
          0.12061261355873394,
          0.5657298475690731,
          0.528530005982104,
          1.3505673671144591,
          -1.1948625165823614,
          0.1861245268017284,
          1.466340663888806,
          -1.2496218278444502,
          -0.042254756026113054,
          0.5746877175630754,
          -1.4166594196141769,
          -1.1968199850030214,
          -0.8183800016923555,
          -0.5647855815888667,
          1.6581385906754473,
          -0.7466315211949155,
          0.1952774246638472,
          -1.4104910973740832,
          1.4284226905547313,
          -0.7664668283501381,
          -1.0838001767570018,
          0.7010686784174124,
          -0.1023297922421422,
          -1.2886240495582049,
          -0.7061207593027529,
          2.897502161129242,
          0.9010808303981163,
          0.5016339407709492,
          0.9970946254454802,
          -0.47115995979066305,
          -0.1973994499002884,
          1.7604450496094302,
          -0.6051709023066923,
          0.9185178513752467,
          -0.8971569837423113,
          1.092970248153521,
          -2.8136003677014547,
          -0.4576797890519921,
          0.6447060998883003,
          -0.8028938635150691,
          0.003505585948315358,
          0.3383690386122811,
          1.198436831143238,
          2.771847156459742,
          -2.254330916431132,
          0.9530849486491482,
          0.6857462587854266,
          2.026903317173535,
          0.21174591471811552,
          0.22119891318704257,
          -0.05312608477809972,
          -0.7409850974978949,
          1.892017237178089,
          -0.15679681385950367,
          -0.17109223041264868,
          1.6471337568749136,
          0.21920988201479505,
          -0.048131328941061535,
          0.006603176246051127,
          -1.20402950851814,
          1.2085801022634717,
          -0.22433096462997068,
          -1.0454463934053035,
          0.1220757939666129,
          1.3928722662278032,
          -1.508180765613294,
          0.9753571596335696,
          1.0784228637983067,
          0.7306926141166368,
          0.791267501618441,
          -0.8911164913797028,
          -1.1300915430771676,
          -0.06772167392315274,
          -1.5982042392029663,
          -1.1891695259259196,
          0.761386083379142,
          -0.4009140073390794,
          0.2095063908492791,
          0.06821644400313408,
          -0.6041624031835817,
          -0.03061682006821153,
          -0.1142173127149515,
          -1.6513277968691016,
          -1.0150656386360692,
          1.020045683034253,
          -1.839457892151129,
          0.6104771664127984,
          1.2816301431717376,
          -0.5420794843175418,
          0.36656788811570845,
          -0.7064686605718921,
          0.5004953964617794,
          1.0191968371752167
         ]
        },
        {
         "boxpoints": false,
         "line": {
          "width": 1.3
         },
         "marker": {
          "color": "rgba(128, 0, 128, 1.0)"
         },
         "name": "D",
         "orientation": "v",
         "type": "box",
         "y": [
          0.8674962935144439,
          -0.15169061237904777,
          1.4833116835967546,
          -1.4074514343551905,
          1.6809840507857228,
          -0.7824343697157726,
          -1.1380900973944608,
          -1.1684071193234065,
          -0.0878769934933399,
          -0.18802903883875,
          1.1054096358312044,
          -0.24648969074191718,
          -0.5241680651347467,
          0.035331855455702256,
          0.015225596692327365,
          -0.6060087395337597,
          -0.9434835248285206,
          0.1497847075865502,
          0.1522093133466193,
          1.4150504705341356,
          0.6358530188099831,
          0.41411480056120253,
          0.5012150075195608,
          1.0918677517923927,
          -1.0110630912716843,
          0.7501167863796132,
          0.22526828659737172,
          -0.3928236835144014,
          0.05139529009097846,
          -1.5088301646601956,
          -0.006479746879657132,
          -1.3783917816596891,
          0.4028905799711096,
          -1.239179450863049,
          1.718021008393491,
          0.5505466944824268,
          -0.14824266673830355,
          1.4971862088434158,
          1.7856499631672211,
          -1.5121481986483902,
          -0.6158928496562914,
          -1.553905392676682,
          -0.4806126433270155,
          0.8549312578480122,
          -0.04568548986192174,
          -0.09289049173836152,
          0.6322409552767246,
          -0.5599033007259137,
          -0.3037859876969862,
          0.16983967055496837,
          0.1709607920225609,
          -0.34886082288164394,
          -1.3692790368586323,
          0.7885755016061133,
          -0.07133724885285725,
          -0.3575113346043425,
          0.8439328842517401,
          1.004879695851903,
          -0.36505763244114714,
          0.34469487183119296,
          0.08414626368852046,
          -1.0809642257758973,
          -2.544189181053026,
          -0.011664663423132037,
          -0.6412660010849413,
          0.849998385732044,
          1.622056962493663,
          0.9356600649157409,
          -0.897115091137332,
          0.7381536272834047,
          -0.8793215655655365,
          0.2889625791761557,
          1.554875265954636,
          -0.48248282999102315,
          -0.5391204960250202,
          0.3763552292283802,
          1.8407821584581037,
          0.3211550805423586,
          1.201203797763351,
          0.39424029396382054,
          0.5878383417101924,
          0.6698006096665847,
          -0.8586992507168567,
          -1.6366547297430356,
          0.054812542476560415,
          0.19531981977357643,
          -0.5023449008405783,
          1.359709951480831,
          -0.7040273728122117,
          -2.51023297090885,
          1.774352674744687,
          0.04172615855687068,
          0.35652881894014826,
          0.914906888607246,
          0.27973928313574714,
          -0.6987222670653883,
          -2.0880394552582535,
          0.032666666094802205,
          -0.8203891211559984,
          0.8018099020438711
         ]
        }
       ],
       "layout": {
        "legend": {
         "bgcolor": "#F5F6F9",
         "font": {
          "color": "#4D5663"
         }
        },
        "paper_bgcolor": "#F5F6F9",
        "plot_bgcolor": "#F5F6F9",
        "template": {
         "data": {
          "bar": [
           {
            "error_x": {
             "color": "#2a3f5f"
            },
            "error_y": {
             "color": "#2a3f5f"
            },
            "marker": {
             "line": {
              "color": "#E5ECF6",
              "width": 0.5
             },
             "pattern": {
              "fillmode": "overlay",
              "size": 10,
              "solidity": 0.2
             }
            },
            "type": "bar"
           }
          ],
          "barpolar": [
           {
            "marker": {
             "line": {
              "color": "#E5ECF6",
              "width": 0.5
             },
             "pattern": {
              "fillmode": "overlay",
              "size": 10,
              "solidity": 0.2
             }
            },
            "type": "barpolar"
           }
          ],
          "carpet": [
           {
            "aaxis": {
             "endlinecolor": "#2a3f5f",
             "gridcolor": "white",
             "linecolor": "white",
             "minorgridcolor": "white",
             "startlinecolor": "#2a3f5f"
            },
            "baxis": {
             "endlinecolor": "#2a3f5f",
             "gridcolor": "white",
             "linecolor": "white",
             "minorgridcolor": "white",
             "startlinecolor": "#2a3f5f"
            },
            "type": "carpet"
           }
          ],
          "choropleth": [
           {
            "colorbar": {
             "outlinewidth": 0,
             "ticks": ""
            },
            "type": "choropleth"
           }
          ],
          "contour": [
           {
            "colorbar": {
             "outlinewidth": 0,
             "ticks": ""
            },
            "colorscale": [
             [
              0,
              "#0d0887"
             ],
             [
              0.1111111111111111,
              "#46039f"
             ],
             [
              0.2222222222222222,
              "#7201a8"
             ],
             [
              0.3333333333333333,
              "#9c179e"
             ],
             [
              0.4444444444444444,
              "#bd3786"
             ],
             [
              0.5555555555555556,
              "#d8576b"
             ],
             [
              0.6666666666666666,
              "#ed7953"
             ],
             [
              0.7777777777777778,
              "#fb9f3a"
             ],
             [
              0.8888888888888888,
              "#fdca26"
             ],
             [
              1,
              "#f0f921"
             ]
            ],
            "type": "contour"
           }
          ],
          "contourcarpet": [
           {
            "colorbar": {
             "outlinewidth": 0,
             "ticks": ""
            },
            "type": "contourcarpet"
           }
          ],
          "heatmap": [
           {
            "colorbar": {
             "outlinewidth": 0,
             "ticks": ""
            },
            "colorscale": [
             [
              0,
              "#0d0887"
             ],
             [
              0.1111111111111111,
              "#46039f"
             ],
             [
              0.2222222222222222,
              "#7201a8"
             ],
             [
              0.3333333333333333,
              "#9c179e"
             ],
             [
              0.4444444444444444,
              "#bd3786"
             ],
             [
              0.5555555555555556,
              "#d8576b"
             ],
             [
              0.6666666666666666,
              "#ed7953"
             ],
             [
              0.7777777777777778,
              "#fb9f3a"
             ],
             [
              0.8888888888888888,
              "#fdca26"
             ],
             [
              1,
              "#f0f921"
             ]
            ],
            "type": "heatmap"
           }
          ],
          "heatmapgl": [
           {
            "colorbar": {
             "outlinewidth": 0,
             "ticks": ""
            },
            "colorscale": [
             [
              0,
              "#0d0887"
             ],
             [
              0.1111111111111111,
              "#46039f"
             ],
             [
              0.2222222222222222,
              "#7201a8"
             ],
             [
              0.3333333333333333,
              "#9c179e"
             ],
             [
              0.4444444444444444,
              "#bd3786"
             ],
             [
              0.5555555555555556,
              "#d8576b"
             ],
             [
              0.6666666666666666,
              "#ed7953"
             ],
             [
              0.7777777777777778,
              "#fb9f3a"
             ],
             [
              0.8888888888888888,
              "#fdca26"
             ],
             [
              1,
              "#f0f921"
             ]
            ],
            "type": "heatmapgl"
           }
          ],
          "histogram": [
           {
            "marker": {
             "pattern": {
              "fillmode": "overlay",
              "size": 10,
              "solidity": 0.2
             }
            },
            "type": "histogram"
           }
          ],
          "histogram2d": [
           {
            "colorbar": {
             "outlinewidth": 0,
             "ticks": ""
            },
            "colorscale": [
             [
              0,
              "#0d0887"
             ],
             [
              0.1111111111111111,
              "#46039f"
             ],
             [
              0.2222222222222222,
              "#7201a8"
             ],
             [
              0.3333333333333333,
              "#9c179e"
             ],
             [
              0.4444444444444444,
              "#bd3786"
             ],
             [
              0.5555555555555556,
              "#d8576b"
             ],
             [
              0.6666666666666666,
              "#ed7953"
             ],
             [
              0.7777777777777778,
              "#fb9f3a"
             ],
             [
              0.8888888888888888,
              "#fdca26"
             ],
             [
              1,
              "#f0f921"
             ]
            ],
            "type": "histogram2d"
           }
          ],
          "histogram2dcontour": [
           {
            "colorbar": {
             "outlinewidth": 0,
             "ticks": ""
            },
            "colorscale": [
             [
              0,
              "#0d0887"
             ],
             [
              0.1111111111111111,
              "#46039f"
             ],
             [
              0.2222222222222222,
              "#7201a8"
             ],
             [
              0.3333333333333333,
              "#9c179e"
             ],
             [
              0.4444444444444444,
              "#bd3786"
             ],
             [
              0.5555555555555556,
              "#d8576b"
             ],
             [
              0.6666666666666666,
              "#ed7953"
             ],
             [
              0.7777777777777778,
              "#fb9f3a"
             ],
             [
              0.8888888888888888,
              "#fdca26"
             ],
             [
              1,
              "#f0f921"
             ]
            ],
            "type": "histogram2dcontour"
           }
          ],
          "mesh3d": [
           {
            "colorbar": {
             "outlinewidth": 0,
             "ticks": ""
            },
            "type": "mesh3d"
           }
          ],
          "parcoords": [
           {
            "line": {
             "colorbar": {
              "outlinewidth": 0,
              "ticks": ""
             }
            },
            "type": "parcoords"
           }
          ],
          "pie": [
           {
            "automargin": true,
            "type": "pie"
           }
          ],
          "scatter": [
           {
            "fillpattern": {
             "fillmode": "overlay",
             "size": 10,
             "solidity": 0.2
            },
            "type": "scatter"
           }
          ],
          "scatter3d": [
           {
            "line": {
             "colorbar": {
              "outlinewidth": 0,
              "ticks": ""
             }
            },
            "marker": {
             "colorbar": {
              "outlinewidth": 0,
              "ticks": ""
             }
            },
            "type": "scatter3d"
           }
          ],
          "scattercarpet": [
           {
            "marker": {
             "colorbar": {
              "outlinewidth": 0,
              "ticks": ""
             }
            },
            "type": "scattercarpet"
           }
          ],
          "scattergeo": [
           {
            "marker": {
             "colorbar": {
              "outlinewidth": 0,
              "ticks": ""
             }
            },
            "type": "scattergeo"
           }
          ],
          "scattergl": [
           {
            "marker": {
             "colorbar": {
              "outlinewidth": 0,
              "ticks": ""
             }
            },
            "type": "scattergl"
           }
          ],
          "scattermapbox": [
           {
            "marker": {
             "colorbar": {
              "outlinewidth": 0,
              "ticks": ""
             }
            },
            "type": "scattermapbox"
           }
          ],
          "scatterpolar": [
           {
            "marker": {
             "colorbar": {
              "outlinewidth": 0,
              "ticks": ""
             }
            },
            "type": "scatterpolar"
           }
          ],
          "scatterpolargl": [
           {
            "marker": {
             "colorbar": {
              "outlinewidth": 0,
              "ticks": ""
             }
            },
            "type": "scatterpolargl"
           }
          ],
          "scatterternary": [
           {
            "marker": {
             "colorbar": {
              "outlinewidth": 0,
              "ticks": ""
             }
            },
            "type": "scatterternary"
           }
          ],
          "surface": [
           {
            "colorbar": {
             "outlinewidth": 0,
             "ticks": ""
            },
            "colorscale": [
             [
              0,
              "#0d0887"
             ],
             [
              0.1111111111111111,
              "#46039f"
             ],
             [
              0.2222222222222222,
              "#7201a8"
             ],
             [
              0.3333333333333333,
              "#9c179e"
             ],
             [
              0.4444444444444444,
              "#bd3786"
             ],
             [
              0.5555555555555556,
              "#d8576b"
             ],
             [
              0.6666666666666666,
              "#ed7953"
             ],
             [
              0.7777777777777778,
              "#fb9f3a"
             ],
             [
              0.8888888888888888,
              "#fdca26"
             ],
             [
              1,
              "#f0f921"
             ]
            ],
            "type": "surface"
           }
          ],
          "table": [
           {
            "cells": {
             "fill": {
              "color": "#EBF0F8"
             },
             "line": {
              "color": "white"
             }
            },
            "header": {
             "fill": {
              "color": "#C8D4E3"
             },
             "line": {
              "color": "white"
             }
            },
            "type": "table"
           }
          ]
         },
         "layout": {
          "annotationdefaults": {
           "arrowcolor": "#2a3f5f",
           "arrowhead": 0,
           "arrowwidth": 1
          },
          "autotypenumbers": "strict",
          "coloraxis": {
           "colorbar": {
            "outlinewidth": 0,
            "ticks": ""
           }
          },
          "colorscale": {
           "diverging": [
            [
             0,
             "#8e0152"
            ],
            [
             0.1,
             "#c51b7d"
            ],
            [
             0.2,
             "#de77ae"
            ],
            [
             0.3,
             "#f1b6da"
            ],
            [
             0.4,
             "#fde0ef"
            ],
            [
             0.5,
             "#f7f7f7"
            ],
            [
             0.6,
             "#e6f5d0"
            ],
            [
             0.7,
             "#b8e186"
            ],
            [
             0.8,
             "#7fbc41"
            ],
            [
             0.9,
             "#4d9221"
            ],
            [
             1,
             "#276419"
            ]
           ],
           "sequential": [
            [
             0,
             "#0d0887"
            ],
            [
             0.1111111111111111,
             "#46039f"
            ],
            [
             0.2222222222222222,
             "#7201a8"
            ],
            [
             0.3333333333333333,
             "#9c179e"
            ],
            [
             0.4444444444444444,
             "#bd3786"
            ],
            [
             0.5555555555555556,
             "#d8576b"
            ],
            [
             0.6666666666666666,
             "#ed7953"
            ],
            [
             0.7777777777777778,
             "#fb9f3a"
            ],
            [
             0.8888888888888888,
             "#fdca26"
            ],
            [
             1,
             "#f0f921"
            ]
           ],
           "sequentialminus": [
            [
             0,
             "#0d0887"
            ],
            [
             0.1111111111111111,
             "#46039f"
            ],
            [
             0.2222222222222222,
             "#7201a8"
            ],
            [
             0.3333333333333333,
             "#9c179e"
            ],
            [
             0.4444444444444444,
             "#bd3786"
            ],
            [
             0.5555555555555556,
             "#d8576b"
            ],
            [
             0.6666666666666666,
             "#ed7953"
            ],
            [
             0.7777777777777778,
             "#fb9f3a"
            ],
            [
             0.8888888888888888,
             "#fdca26"
            ],
            [
             1,
             "#f0f921"
            ]
           ]
          },
          "colorway": [
           "#636efa",
           "#EF553B",
           "#00cc96",
           "#ab63fa",
           "#FFA15A",
           "#19d3f3",
           "#FF6692",
           "#B6E880",
           "#FF97FF",
           "#FECB52"
          ],
          "font": {
           "color": "#2a3f5f"
          },
          "geo": {
           "bgcolor": "white",
           "lakecolor": "white",
           "landcolor": "#E5ECF6",
           "showlakes": true,
           "showland": true,
           "subunitcolor": "white"
          },
          "hoverlabel": {
           "align": "left"
          },
          "hovermode": "closest",
          "mapbox": {
           "style": "light"
          },
          "paper_bgcolor": "white",
          "plot_bgcolor": "#E5ECF6",
          "polar": {
           "angularaxis": {
            "gridcolor": "white",
            "linecolor": "white",
            "ticks": ""
           },
           "bgcolor": "#E5ECF6",
           "radialaxis": {
            "gridcolor": "white",
            "linecolor": "white",
            "ticks": ""
           }
          },
          "scene": {
           "xaxis": {
            "backgroundcolor": "#E5ECF6",
            "gridcolor": "white",
            "gridwidth": 2,
            "linecolor": "white",
            "showbackground": true,
            "ticks": "",
            "zerolinecolor": "white"
           },
           "yaxis": {
            "backgroundcolor": "#E5ECF6",
            "gridcolor": "white",
            "gridwidth": 2,
            "linecolor": "white",
            "showbackground": true,
            "ticks": "",
            "zerolinecolor": "white"
           },
           "zaxis": {
            "backgroundcolor": "#E5ECF6",
            "gridcolor": "white",
            "gridwidth": 2,
            "linecolor": "white",
            "showbackground": true,
            "ticks": "",
            "zerolinecolor": "white"
           }
          },
          "shapedefaults": {
           "line": {
            "color": "#2a3f5f"
           }
          },
          "ternary": {
           "aaxis": {
            "gridcolor": "white",
            "linecolor": "white",
            "ticks": ""
           },
           "baxis": {
            "gridcolor": "white",
            "linecolor": "white",
            "ticks": ""
           },
           "bgcolor": "#E5ECF6",
           "caxis": {
            "gridcolor": "white",
            "linecolor": "white",
            "ticks": ""
           }
          },
          "title": {
           "x": 0.05
          },
          "xaxis": {
           "automargin": true,
           "gridcolor": "white",
           "linecolor": "white",
           "ticks": "",
           "title": {
            "standoff": 15
           },
           "zerolinecolor": "white",
           "zerolinewidth": 2
          },
          "yaxis": {
           "automargin": true,
           "gridcolor": "white",
           "linecolor": "white",
           "ticks": "",
           "title": {
            "standoff": 15
           },
           "zerolinecolor": "white",
           "zerolinewidth": 2
          }
         }
        },
        "title": {
         "font": {
          "color": "#4D5663"
         }
        },
        "xaxis": {
         "gridcolor": "#E1E5ED",
         "showgrid": true,
         "tickfont": {
          "color": "#4D5663"
         },
         "title": {
          "font": {
           "color": "#4D5663"
          },
          "text": ""
         },
         "zerolinecolor": "#E1E5ED"
        },
        "yaxis": {
         "gridcolor": "#E1E5ED",
         "showgrid": true,
         "tickfont": {
          "color": "#4D5663"
         },
         "title": {
          "font": {
           "color": "#4D5663"
          },
          "text": ""
         },
         "zerolinecolor": "#E1E5ED"
        }
       }
      },
      "text/html": [
       "<div>                            <div id=\"65f51e1b-ba5e-423b-bcfb-d3b04a10e548\" class=\"plotly-graph-div\" style=\"height:525px; width:100%;\"></div>            <script type=\"text/javascript\">                require([\"plotly\"], function(Plotly) {                    window.PLOTLYENV=window.PLOTLYENV || {};\n",
       "                    window.PLOTLYENV.BASE_URL='https://plot.ly';                                    if (document.getElementById(\"65f51e1b-ba5e-423b-bcfb-d3b04a10e548\")) {                    Plotly.newPlot(                        \"65f51e1b-ba5e-423b-bcfb-d3b04a10e548\",                        [{\"boxpoints\":false,\"line\":{\"width\":1.3},\"marker\":{\"color\":\"rgba(255, 153, 51, 1.0)\"},\"name\":\"A\",\"orientation\":\"v\",\"y\":[0.43539700148335236,0.15819395423214852,0.62879333196527,-0.26401107422169673,-1.8324809705325915,0.7704629872779027,1.7497298283959724,-1.0015334595201602,-1.718240559825639,0.628596523719882,-0.42019354274908316,2.7136701685643403,-0.9378495172398871,0.6598021382631747,1.6184775733872263,1.3954033785382987,1.405495874826309,-1.166616968739883,2.365923532026527,1.1133259856604942,-1.6813679639527261,-0.04667403900552732,-0.6363654890464304,-1.5425012567014285,-1.012741270794969,0.12132634073101281,1.595602460076769,1.7305965984334635,-1.9217891095448971,1.1860294383645715,0.26201847879465384,-1.2055378111750752,2.3438810173248927,1.2086288002904493,-1.8314084636430585,1.7619781396825958,2.1031817281439817,-2.5307453072827966,1.2761298243307624,-1.772353423710465,-0.636420642902602,-1.930564293340949,-1.0610308479700656,-0.450655785586209,-2.1425651099825824,-1.0903966470383508,-0.5620779766373142,-0.770744501166946,0.317708947982711,0.1318688172018447,-1.2201324264384652,-0.19136686704154338,-0.06257792497623924,0.5936190711859071,1.1391272098088527,0.7464631766024825,-0.8977662361522014,0.14140290562352897,0.3256123427724348,0.9112030544266069,0.8357966193733269,1.7487601057521938,-0.49373510396354875,-0.6666213874172607,1.1831818138576176,-1.0182097832516077,-0.04630874727601642,-0.9836337689727818,1.9926142232426531,0.7440871065414701,0.28972919333565683,-0.5480211897462933,0.8413311240763615,-0.6346241128971083,-0.4398922253755513,-0.28149585930036625,0.6490498459345291,-0.23584960142982708,-1.5937987594535374,0.051213682792660656,-0.374994885556381,0.7207560378542024,0.5394156502485068,1.1572917713327477,-2.5643244253052964,-0.10181612060765612,0.11183773067467831,1.1028927065391063,-1.3752211222891688,2.16105987106691,-0.7898043390090209,1.6487450904111807,-1.7240798592526558,0.4254960002374844,0.2156919556300176,0.2031078608182616,0.21648296318241012,0.6718965344393238,-1.8998227182750862,-0.017153916755728384],\"type\":\"box\"},{\"boxpoints\":false,\"line\":{\"width\":1.3},\"marker\":{\"color\":\"rgba(55, 128, 191, 1.0)\"},\"name\":\"B\",\"orientation\":\"v\",\"y\":[0.760388682451242,-0.3014770718387929,-0.8104320504480762,1.1583102446320703,0.66259937418456,-0.8731559685701944,-0.10732150644350782,-1.4845842008871466,-1.1868462655772307,1.613590761177109,-1.9381099315529704,-0.29380824929788424,1.3599307756073165,-0.36836520730565253,-0.3269586169498003,-0.8722022296216736,1.7599609916589511,2.412515853128903,-1.1138794684306152,1.5653823254598276,1.7614719313614335,-1.2290358322794215,2.6522230722984435,1.0163014618558739,0.6293809696480948,-1.5146156122233023,0.016940034354393264,0.0032133467236007663,-0.5981712356892535,0.020951829720675653,1.9963821917383087,1.0740671422306807,0.17809074697460173,0.04485989073294413,-0.4227495550182459,-0.32645695274430736,0.698607870034912,0.6330148722372047,0.2875584885528013,1.1234133729510283,0.24214275695220294,-0.9745143810694096,-0.09487224825524246,-0.05206076437308604,0.1700768924108305,1.300218316913883,-0.14751521656419564,-0.30080352426550006,-0.8520916792252314,1.1620463903000628,1.2476009203676264,-0.629125183496713,-0.3785357939583569,-0.914900498176864,0.15739646399040055,-0.08110020866252839,1.2781757771914946,1.9785521600539933,-0.07924996180658282,-0.17064150415758025,-0.33892612512205456,-0.8766265534473259,-0.8696592484215764,1.1323493113477194,-1.7050942234370272,-0.600405565715628,-0.1789375334228437,0.2764438144488436,-1.3979390762783197,1.3262592652981067,0.703525942698256,1.411777371228823,-1.6110804563893522,0.39705885749036557,-0.24578206196537786,-1.0140463874894474,0.35097105186424615,0.22520868769189759,0.11269335584705568,-0.6275979165028887,0.830374106714317,0.21139937581431129,-0.5613355709825517,0.5599973868588114,0.10923587614740028,-0.21228235369384083,0.9848944487618184,0.15230352046132178,-0.24908169790355753,-0.5547350602916322,-0.26024067645453,-0.12512543124851477,1.4959303828793944,-0.8075642744958867,-0.7868387528914741,0.11502021583953378,1.052635171665947,-2.005202626886498,0.36358094296755,-1.292869329621461],\"type\":\"box\"},{\"boxpoints\":false,\"line\":{\"width\":1.3},\"marker\":{\"color\":\"rgba(50, 171, 96, 1.0)\"},\"name\":\"C\",\"orientation\":\"v\",\"y\":[1.7506839868116808,-0.05525851995596629,0.6170957201984968,-0.1115916319829114,0.5116816361868437,-2.2152101125435837,0.3315284364893782,0.12061261355873394,0.5657298475690731,0.528530005982104,1.3505673671144591,-1.1948625165823614,0.1861245268017284,1.466340663888806,-1.2496218278444502,-0.042254756026113054,0.5746877175630754,-1.4166594196141769,-1.1968199850030214,-0.8183800016923555,-0.5647855815888667,1.6581385906754473,-0.7466315211949155,0.1952774246638472,-1.4104910973740832,1.4284226905547313,-0.7664668283501381,-1.0838001767570018,0.7010686784174124,-0.1023297922421422,-1.2886240495582049,-0.7061207593027529,2.897502161129242,0.9010808303981163,0.5016339407709492,0.9970946254454802,-0.47115995979066305,-0.1973994499002884,1.7604450496094302,-0.6051709023066923,0.9185178513752467,-0.8971569837423113,1.092970248153521,-2.8136003677014547,-0.4576797890519921,0.6447060998883003,-0.8028938635150691,0.003505585948315358,0.3383690386122811,1.198436831143238,2.771847156459742,-2.254330916431132,0.9530849486491482,0.6857462587854266,2.026903317173535,0.21174591471811552,0.22119891318704257,-0.05312608477809972,-0.7409850974978949,1.892017237178089,-0.15679681385950367,-0.17109223041264868,1.6471337568749136,0.21920988201479505,-0.048131328941061535,0.006603176246051127,-1.20402950851814,1.2085801022634717,-0.22433096462997068,-1.0454463934053035,0.1220757939666129,1.3928722662278032,-1.508180765613294,0.9753571596335696,1.0784228637983067,0.7306926141166368,0.791267501618441,-0.8911164913797028,-1.1300915430771676,-0.06772167392315274,-1.5982042392029663,-1.1891695259259196,0.761386083379142,-0.4009140073390794,0.2095063908492791,0.06821644400313408,-0.6041624031835817,-0.03061682006821153,-0.1142173127149515,-1.6513277968691016,-1.0150656386360692,1.020045683034253,-1.839457892151129,0.6104771664127984,1.2816301431717376,-0.5420794843175418,0.36656788811570845,-0.7064686605718921,0.5004953964617794,1.0191968371752167],\"type\":\"box\"},{\"boxpoints\":false,\"line\":{\"width\":1.3},\"marker\":{\"color\":\"rgba(128, 0, 128, 1.0)\"},\"name\":\"D\",\"orientation\":\"v\",\"y\":[0.8674962935144439,-0.15169061237904777,1.4833116835967546,-1.4074514343551905,1.6809840507857228,-0.7824343697157726,-1.1380900973944608,-1.1684071193234065,-0.0878769934933399,-0.18802903883875,1.1054096358312044,-0.24648969074191718,-0.5241680651347467,0.035331855455702256,0.015225596692327365,-0.6060087395337597,-0.9434835248285206,0.1497847075865502,0.1522093133466193,1.4150504705341356,0.6358530188099831,0.41411480056120253,0.5012150075195608,1.0918677517923927,-1.0110630912716843,0.7501167863796132,0.22526828659737172,-0.3928236835144014,0.05139529009097846,-1.5088301646601956,-0.006479746879657132,-1.3783917816596891,0.4028905799711096,-1.239179450863049,1.718021008393491,0.5505466944824268,-0.14824266673830355,1.4971862088434158,1.7856499631672211,-1.5121481986483902,-0.6158928496562914,-1.553905392676682,-0.4806126433270155,0.8549312578480122,-0.04568548986192174,-0.09289049173836152,0.6322409552767246,-0.5599033007259137,-0.3037859876969862,0.16983967055496837,0.1709607920225609,-0.34886082288164394,-1.3692790368586323,0.7885755016061133,-0.07133724885285725,-0.3575113346043425,0.8439328842517401,1.004879695851903,-0.36505763244114714,0.34469487183119296,0.08414626368852046,-1.0809642257758973,-2.544189181053026,-0.011664663423132037,-0.6412660010849413,0.849998385732044,1.622056962493663,0.9356600649157409,-0.897115091137332,0.7381536272834047,-0.8793215655655365,0.2889625791761557,1.554875265954636,-0.48248282999102315,-0.5391204960250202,0.3763552292283802,1.8407821584581037,0.3211550805423586,1.201203797763351,0.39424029396382054,0.5878383417101924,0.6698006096665847,-0.8586992507168567,-1.6366547297430356,0.054812542476560415,0.19531981977357643,-0.5023449008405783,1.359709951480831,-0.7040273728122117,-2.51023297090885,1.774352674744687,0.04172615855687068,0.35652881894014826,0.914906888607246,0.27973928313574714,-0.6987222670653883,-2.0880394552582535,0.032666666094802205,-0.8203891211559984,0.8018099020438711],\"type\":\"box\"}],                        {\"legend\":{\"bgcolor\":\"#F5F6F9\",\"font\":{\"color\":\"#4D5663\"}},\"paper_bgcolor\":\"#F5F6F9\",\"plot_bgcolor\":\"#F5F6F9\",\"template\":{\"data\":{\"barpolar\":[{\"marker\":{\"line\":{\"color\":\"#E5ECF6\",\"width\":0.5},\"pattern\":{\"fillmode\":\"overlay\",\"size\":10,\"solidity\":0.2}},\"type\":\"barpolar\"}],\"bar\":[{\"error_x\":{\"color\":\"#2a3f5f\"},\"error_y\":{\"color\":\"#2a3f5f\"},\"marker\":{\"line\":{\"color\":\"#E5ECF6\",\"width\":0.5},\"pattern\":{\"fillmode\":\"overlay\",\"size\":10,\"solidity\":0.2}},\"type\":\"bar\"}],\"carpet\":[{\"aaxis\":{\"endlinecolor\":\"#2a3f5f\",\"gridcolor\":\"white\",\"linecolor\":\"white\",\"minorgridcolor\":\"white\",\"startlinecolor\":\"#2a3f5f\"},\"baxis\":{\"endlinecolor\":\"#2a3f5f\",\"gridcolor\":\"white\",\"linecolor\":\"white\",\"minorgridcolor\":\"white\",\"startlinecolor\":\"#2a3f5f\"},\"type\":\"carpet\"}],\"choropleth\":[{\"colorbar\":{\"outlinewidth\":0,\"ticks\":\"\"},\"type\":\"choropleth\"}],\"contourcarpet\":[{\"colorbar\":{\"outlinewidth\":0,\"ticks\":\"\"},\"type\":\"contourcarpet\"}],\"contour\":[{\"colorbar\":{\"outlinewidth\":0,\"ticks\":\"\"},\"colorscale\":[[0.0,\"#0d0887\"],[0.1111111111111111,\"#46039f\"],[0.2222222222222222,\"#7201a8\"],[0.3333333333333333,\"#9c179e\"],[0.4444444444444444,\"#bd3786\"],[0.5555555555555556,\"#d8576b\"],[0.6666666666666666,\"#ed7953\"],[0.7777777777777778,\"#fb9f3a\"],[0.8888888888888888,\"#fdca26\"],[1.0,\"#f0f921\"]],\"type\":\"contour\"}],\"heatmapgl\":[{\"colorbar\":{\"outlinewidth\":0,\"ticks\":\"\"},\"colorscale\":[[0.0,\"#0d0887\"],[0.1111111111111111,\"#46039f\"],[0.2222222222222222,\"#7201a8\"],[0.3333333333333333,\"#9c179e\"],[0.4444444444444444,\"#bd3786\"],[0.5555555555555556,\"#d8576b\"],[0.6666666666666666,\"#ed7953\"],[0.7777777777777778,\"#fb9f3a\"],[0.8888888888888888,\"#fdca26\"],[1.0,\"#f0f921\"]],\"type\":\"heatmapgl\"}],\"heatmap\":[{\"colorbar\":{\"outlinewidth\":0,\"ticks\":\"\"},\"colorscale\":[[0.0,\"#0d0887\"],[0.1111111111111111,\"#46039f\"],[0.2222222222222222,\"#7201a8\"],[0.3333333333333333,\"#9c179e\"],[0.4444444444444444,\"#bd3786\"],[0.5555555555555556,\"#d8576b\"],[0.6666666666666666,\"#ed7953\"],[0.7777777777777778,\"#fb9f3a\"],[0.8888888888888888,\"#fdca26\"],[1.0,\"#f0f921\"]],\"type\":\"heatmap\"}],\"histogram2dcontour\":[{\"colorbar\":{\"outlinewidth\":0,\"ticks\":\"\"},\"colorscale\":[[0.0,\"#0d0887\"],[0.1111111111111111,\"#46039f\"],[0.2222222222222222,\"#7201a8\"],[0.3333333333333333,\"#9c179e\"],[0.4444444444444444,\"#bd3786\"],[0.5555555555555556,\"#d8576b\"],[0.6666666666666666,\"#ed7953\"],[0.7777777777777778,\"#fb9f3a\"],[0.8888888888888888,\"#fdca26\"],[1.0,\"#f0f921\"]],\"type\":\"histogram2dcontour\"}],\"histogram2d\":[{\"colorbar\":{\"outlinewidth\":0,\"ticks\":\"\"},\"colorscale\":[[0.0,\"#0d0887\"],[0.1111111111111111,\"#46039f\"],[0.2222222222222222,\"#7201a8\"],[0.3333333333333333,\"#9c179e\"],[0.4444444444444444,\"#bd3786\"],[0.5555555555555556,\"#d8576b\"],[0.6666666666666666,\"#ed7953\"],[0.7777777777777778,\"#fb9f3a\"],[0.8888888888888888,\"#fdca26\"],[1.0,\"#f0f921\"]],\"type\":\"histogram2d\"}],\"histogram\":[{\"marker\":{\"pattern\":{\"fillmode\":\"overlay\",\"size\":10,\"solidity\":0.2}},\"type\":\"histogram\"}],\"mesh3d\":[{\"colorbar\":{\"outlinewidth\":0,\"ticks\":\"\"},\"type\":\"mesh3d\"}],\"parcoords\":[{\"line\":{\"colorbar\":{\"outlinewidth\":0,\"ticks\":\"\"}},\"type\":\"parcoords\"}],\"pie\":[{\"automargin\":true,\"type\":\"pie\"}],\"scatter3d\":[{\"line\":{\"colorbar\":{\"outlinewidth\":0,\"ticks\":\"\"}},\"marker\":{\"colorbar\":{\"outlinewidth\":0,\"ticks\":\"\"}},\"type\":\"scatter3d\"}],\"scattercarpet\":[{\"marker\":{\"colorbar\":{\"outlinewidth\":0,\"ticks\":\"\"}},\"type\":\"scattercarpet\"}],\"scattergeo\":[{\"marker\":{\"colorbar\":{\"outlinewidth\":0,\"ticks\":\"\"}},\"type\":\"scattergeo\"}],\"scattergl\":[{\"marker\":{\"colorbar\":{\"outlinewidth\":0,\"ticks\":\"\"}},\"type\":\"scattergl\"}],\"scattermapbox\":[{\"marker\":{\"colorbar\":{\"outlinewidth\":0,\"ticks\":\"\"}},\"type\":\"scattermapbox\"}],\"scatterpolargl\":[{\"marker\":{\"colorbar\":{\"outlinewidth\":0,\"ticks\":\"\"}},\"type\":\"scatterpolargl\"}],\"scatterpolar\":[{\"marker\":{\"colorbar\":{\"outlinewidth\":0,\"ticks\":\"\"}},\"type\":\"scatterpolar\"}],\"scatter\":[{\"fillpattern\":{\"fillmode\":\"overlay\",\"size\":10,\"solidity\":0.2},\"type\":\"scatter\"}],\"scatterternary\":[{\"marker\":{\"colorbar\":{\"outlinewidth\":0,\"ticks\":\"\"}},\"type\":\"scatterternary\"}],\"surface\":[{\"colorbar\":{\"outlinewidth\":0,\"ticks\":\"\"},\"colorscale\":[[0.0,\"#0d0887\"],[0.1111111111111111,\"#46039f\"],[0.2222222222222222,\"#7201a8\"],[0.3333333333333333,\"#9c179e\"],[0.4444444444444444,\"#bd3786\"],[0.5555555555555556,\"#d8576b\"],[0.6666666666666666,\"#ed7953\"],[0.7777777777777778,\"#fb9f3a\"],[0.8888888888888888,\"#fdca26\"],[1.0,\"#f0f921\"]],\"type\":\"surface\"}],\"table\":[{\"cells\":{\"fill\":{\"color\":\"#EBF0F8\"},\"line\":{\"color\":\"white\"}},\"header\":{\"fill\":{\"color\":\"#C8D4E3\"},\"line\":{\"color\":\"white\"}},\"type\":\"table\"}]},\"layout\":{\"annotationdefaults\":{\"arrowcolor\":\"#2a3f5f\",\"arrowhead\":0,\"arrowwidth\":1},\"autotypenumbers\":\"strict\",\"coloraxis\":{\"colorbar\":{\"outlinewidth\":0,\"ticks\":\"\"}},\"colorscale\":{\"diverging\":[[0,\"#8e0152\"],[0.1,\"#c51b7d\"],[0.2,\"#de77ae\"],[0.3,\"#f1b6da\"],[0.4,\"#fde0ef\"],[0.5,\"#f7f7f7\"],[0.6,\"#e6f5d0\"],[0.7,\"#b8e186\"],[0.8,\"#7fbc41\"],[0.9,\"#4d9221\"],[1,\"#276419\"]],\"sequential\":[[0.0,\"#0d0887\"],[0.1111111111111111,\"#46039f\"],[0.2222222222222222,\"#7201a8\"],[0.3333333333333333,\"#9c179e\"],[0.4444444444444444,\"#bd3786\"],[0.5555555555555556,\"#d8576b\"],[0.6666666666666666,\"#ed7953\"],[0.7777777777777778,\"#fb9f3a\"],[0.8888888888888888,\"#fdca26\"],[1.0,\"#f0f921\"]],\"sequentialminus\":[[0.0,\"#0d0887\"],[0.1111111111111111,\"#46039f\"],[0.2222222222222222,\"#7201a8\"],[0.3333333333333333,\"#9c179e\"],[0.4444444444444444,\"#bd3786\"],[0.5555555555555556,\"#d8576b\"],[0.6666666666666666,\"#ed7953\"],[0.7777777777777778,\"#fb9f3a\"],[0.8888888888888888,\"#fdca26\"],[1.0,\"#f0f921\"]]},\"colorway\":[\"#636efa\",\"#EF553B\",\"#00cc96\",\"#ab63fa\",\"#FFA15A\",\"#19d3f3\",\"#FF6692\",\"#B6E880\",\"#FF97FF\",\"#FECB52\"],\"font\":{\"color\":\"#2a3f5f\"},\"geo\":{\"bgcolor\":\"white\",\"lakecolor\":\"white\",\"landcolor\":\"#E5ECF6\",\"showlakes\":true,\"showland\":true,\"subunitcolor\":\"white\"},\"hoverlabel\":{\"align\":\"left\"},\"hovermode\":\"closest\",\"mapbox\":{\"style\":\"light\"},\"paper_bgcolor\":\"white\",\"plot_bgcolor\":\"#E5ECF6\",\"polar\":{\"angularaxis\":{\"gridcolor\":\"white\",\"linecolor\":\"white\",\"ticks\":\"\"},\"bgcolor\":\"#E5ECF6\",\"radialaxis\":{\"gridcolor\":\"white\",\"linecolor\":\"white\",\"ticks\":\"\"}},\"scene\":{\"xaxis\":{\"backgroundcolor\":\"#E5ECF6\",\"gridcolor\":\"white\",\"gridwidth\":2,\"linecolor\":\"white\",\"showbackground\":true,\"ticks\":\"\",\"zerolinecolor\":\"white\"},\"yaxis\":{\"backgroundcolor\":\"#E5ECF6\",\"gridcolor\":\"white\",\"gridwidth\":2,\"linecolor\":\"white\",\"showbackground\":true,\"ticks\":\"\",\"zerolinecolor\":\"white\"},\"zaxis\":{\"backgroundcolor\":\"#E5ECF6\",\"gridcolor\":\"white\",\"gridwidth\":2,\"linecolor\":\"white\",\"showbackground\":true,\"ticks\":\"\",\"zerolinecolor\":\"white\"}},\"shapedefaults\":{\"line\":{\"color\":\"#2a3f5f\"}},\"ternary\":{\"aaxis\":{\"gridcolor\":\"white\",\"linecolor\":\"white\",\"ticks\":\"\"},\"baxis\":{\"gridcolor\":\"white\",\"linecolor\":\"white\",\"ticks\":\"\"},\"bgcolor\":\"#E5ECF6\",\"caxis\":{\"gridcolor\":\"white\",\"linecolor\":\"white\",\"ticks\":\"\"}},\"title\":{\"x\":0.05},\"xaxis\":{\"automargin\":true,\"gridcolor\":\"white\",\"linecolor\":\"white\",\"ticks\":\"\",\"title\":{\"standoff\":15},\"zerolinecolor\":\"white\",\"zerolinewidth\":2},\"yaxis\":{\"automargin\":true,\"gridcolor\":\"white\",\"linecolor\":\"white\",\"ticks\":\"\",\"title\":{\"standoff\":15},\"zerolinecolor\":\"white\",\"zerolinewidth\":2}}},\"title\":{\"font\":{\"color\":\"#4D5663\"}},\"xaxis\":{\"gridcolor\":\"#E1E5ED\",\"showgrid\":true,\"tickfont\":{\"color\":\"#4D5663\"},\"title\":{\"font\":{\"color\":\"#4D5663\"},\"text\":\"\"},\"zerolinecolor\":\"#E1E5ED\"},\"yaxis\":{\"gridcolor\":\"#E1E5ED\",\"showgrid\":true,\"tickfont\":{\"color\":\"#4D5663\"},\"title\":{\"font\":{\"color\":\"#4D5663\"},\"text\":\"\"},\"zerolinecolor\":\"#E1E5ED\"}},                        {\"showLink\": true, \"linkText\": \"Export to plot.ly\", \"plotlyServerURL\": \"https://plot.ly\", \"responsive\": true}                    ).then(function(){\n",
       "                            \n",
       "var gd = document.getElementById('65f51e1b-ba5e-423b-bcfb-d3b04a10e548');\n",
       "var x = new MutationObserver(function (mutations, observer) {{\n",
       "        var display = window.getComputedStyle(gd).display;\n",
       "        if (!display || display === 'none') {{\n",
       "            console.log([gd, 'removed!']);\n",
       "            Plotly.purge(gd);\n",
       "            observer.disconnect();\n",
       "        }}\n",
       "}});\n",
       "\n",
       "// Listen for the removal of the full notebook cells\n",
       "var notebookContainer = gd.closest('#notebook-container');\n",
       "if (notebookContainer) {{\n",
       "    x.observe(notebookContainer, {childList: true});\n",
       "}}\n",
       "\n",
       "// Listen for the clearing of the current output cell\n",
       "var outputEl = gd.closest('.output');\n",
       "if (outputEl) {{\n",
       "    x.observe(outputEl, {childList: true});\n",
       "}}\n",
       "\n",
       "                        })                };                });            </script>        </div>"
      ]
     },
     "metadata": {},
     "output_type": "display_data"
    }
   ],
   "source": [
    "df.iplot(kind='box')"
   ]
  },
  {
   "cell_type": "code",
   "execution_count": 21,
   "id": "23ed646d",
   "metadata": {},
   "outputs": [],
   "source": [
    "df3 = pd.DataFrame({'x': [1, 2, 3, 4, 5], 'y': [10, 20, 30, 20, 10], 'z': [500, 400, 300, 200, 100]})"
   ]
  },
  {
   "cell_type": "code",
   "execution_count": 22,
   "id": "39d09924",
   "metadata": {},
   "outputs": [
    {
     "data": {
      "text/html": [
       "<div>\n",
       "<style scoped>\n",
       "    .dataframe tbody tr th:only-of-type {\n",
       "        vertical-align: middle;\n",
       "    }\n",
       "\n",
       "    .dataframe tbody tr th {\n",
       "        vertical-align: top;\n",
       "    }\n",
       "\n",
       "    .dataframe thead th {\n",
       "        text-align: right;\n",
       "    }\n",
       "</style>\n",
       "<table border=\"1\" class=\"dataframe\">\n",
       "  <thead>\n",
       "    <tr style=\"text-align: right;\">\n",
       "      <th></th>\n",
       "      <th>x</th>\n",
       "      <th>y</th>\n",
       "      <th>z</th>\n",
       "    </tr>\n",
       "  </thead>\n",
       "  <tbody>\n",
       "    <tr>\n",
       "      <th>0</th>\n",
       "      <td>1</td>\n",
       "      <td>10</td>\n",
       "      <td>500</td>\n",
       "    </tr>\n",
       "    <tr>\n",
       "      <th>1</th>\n",
       "      <td>2</td>\n",
       "      <td>20</td>\n",
       "      <td>400</td>\n",
       "    </tr>\n",
       "    <tr>\n",
       "      <th>2</th>\n",
       "      <td>3</td>\n",
       "      <td>30</td>\n",
       "      <td>300</td>\n",
       "    </tr>\n",
       "    <tr>\n",
       "      <th>3</th>\n",
       "      <td>4</td>\n",
       "      <td>20</td>\n",
       "      <td>200</td>\n",
       "    </tr>\n",
       "    <tr>\n",
       "      <th>4</th>\n",
       "      <td>5</td>\n",
       "      <td>10</td>\n",
       "      <td>100</td>\n",
       "    </tr>\n",
       "  </tbody>\n",
       "</table>\n",
       "</div>"
      ],
      "text/plain": [
       "   x   y    z\n",
       "0  1  10  500\n",
       "1  2  20  400\n",
       "2  3  30  300\n",
       "3  4  20  200\n",
       "4  5  10  100"
      ]
     },
     "execution_count": 22,
     "metadata": {},
     "output_type": "execute_result"
    }
   ],
   "source": [
    "df3"
   ]
  },
  {
   "cell_type": "code",
   "execution_count": 23,
   "id": "302b89bc",
   "metadata": {},
   "outputs": [
    {
     "data": {
      "application/vnd.plotly.v1+json": {
       "config": {
        "linkText": "Export to plot.ly",
        "plotlyServerURL": "https://plot.ly",
        "showLink": true
       },
       "data": [
        {
         "colorscale": [
          [
           0,
           "rgb(255, 153, 51)"
          ],
          [
           0.1111111111111111,
           "rgb(55, 128, 191)"
          ],
          [
           0.2222222222222222,
           "rgb(50, 171, 96)"
          ],
          [
           0.3333333333333333,
           "rgb(128, 0, 128)"
          ],
          [
           0.4444444444444444,
           "rgb(219, 64, 82)"
          ],
          [
           0.5555555555555556,
           "rgb(0, 128, 128)"
          ],
          [
           0.6666666666666666,
           "rgb(255, 255, 51)"
          ],
          [
           0.7777777777777778,
           "rgb(128, 128, 0)"
          ],
          [
           0.8888888888888888,
           "rgb(251, 128, 114)"
          ],
          [
           1,
           "rgb(128, 177, 211)"
          ]
         ],
         "type": "surface",
         "x": [
          0,
          1,
          2,
          3,
          4
         ],
         "y": [
          "x",
          "y",
          "z"
         ],
         "z": [
          [
           1,
           2,
           3,
           4,
           5
          ],
          [
           10,
           20,
           30,
           20,
           10
          ],
          [
           500,
           400,
           300,
           200,
           100
          ]
         ]
        }
       ],
       "layout": {
        "legend": {
         "bgcolor": "#F5F6F9",
         "font": {
          "color": "#4D5663"
         }
        },
        "paper_bgcolor": "#F5F6F9",
        "plot_bgcolor": "#F5F6F9",
        "template": {
         "data": {
          "bar": [
           {
            "error_x": {
             "color": "#2a3f5f"
            },
            "error_y": {
             "color": "#2a3f5f"
            },
            "marker": {
             "line": {
              "color": "#E5ECF6",
              "width": 0.5
             },
             "pattern": {
              "fillmode": "overlay",
              "size": 10,
              "solidity": 0.2
             }
            },
            "type": "bar"
           }
          ],
          "barpolar": [
           {
            "marker": {
             "line": {
              "color": "#E5ECF6",
              "width": 0.5
             },
             "pattern": {
              "fillmode": "overlay",
              "size": 10,
              "solidity": 0.2
             }
            },
            "type": "barpolar"
           }
          ],
          "carpet": [
           {
            "aaxis": {
             "endlinecolor": "#2a3f5f",
             "gridcolor": "white",
             "linecolor": "white",
             "minorgridcolor": "white",
             "startlinecolor": "#2a3f5f"
            },
            "baxis": {
             "endlinecolor": "#2a3f5f",
             "gridcolor": "white",
             "linecolor": "white",
             "minorgridcolor": "white",
             "startlinecolor": "#2a3f5f"
            },
            "type": "carpet"
           }
          ],
          "choropleth": [
           {
            "colorbar": {
             "outlinewidth": 0,
             "ticks": ""
            },
            "type": "choropleth"
           }
          ],
          "contour": [
           {
            "colorbar": {
             "outlinewidth": 0,
             "ticks": ""
            },
            "colorscale": [
             [
              0,
              "#0d0887"
             ],
             [
              0.1111111111111111,
              "#46039f"
             ],
             [
              0.2222222222222222,
              "#7201a8"
             ],
             [
              0.3333333333333333,
              "#9c179e"
             ],
             [
              0.4444444444444444,
              "#bd3786"
             ],
             [
              0.5555555555555556,
              "#d8576b"
             ],
             [
              0.6666666666666666,
              "#ed7953"
             ],
             [
              0.7777777777777778,
              "#fb9f3a"
             ],
             [
              0.8888888888888888,
              "#fdca26"
             ],
             [
              1,
              "#f0f921"
             ]
            ],
            "type": "contour"
           }
          ],
          "contourcarpet": [
           {
            "colorbar": {
             "outlinewidth": 0,
             "ticks": ""
            },
            "type": "contourcarpet"
           }
          ],
          "heatmap": [
           {
            "colorbar": {
             "outlinewidth": 0,
             "ticks": ""
            },
            "colorscale": [
             [
              0,
              "#0d0887"
             ],
             [
              0.1111111111111111,
              "#46039f"
             ],
             [
              0.2222222222222222,
              "#7201a8"
             ],
             [
              0.3333333333333333,
              "#9c179e"
             ],
             [
              0.4444444444444444,
              "#bd3786"
             ],
             [
              0.5555555555555556,
              "#d8576b"
             ],
             [
              0.6666666666666666,
              "#ed7953"
             ],
             [
              0.7777777777777778,
              "#fb9f3a"
             ],
             [
              0.8888888888888888,
              "#fdca26"
             ],
             [
              1,
              "#f0f921"
             ]
            ],
            "type": "heatmap"
           }
          ],
          "heatmapgl": [
           {
            "colorbar": {
             "outlinewidth": 0,
             "ticks": ""
            },
            "colorscale": [
             [
              0,
              "#0d0887"
             ],
             [
              0.1111111111111111,
              "#46039f"
             ],
             [
              0.2222222222222222,
              "#7201a8"
             ],
             [
              0.3333333333333333,
              "#9c179e"
             ],
             [
              0.4444444444444444,
              "#bd3786"
             ],
             [
              0.5555555555555556,
              "#d8576b"
             ],
             [
              0.6666666666666666,
              "#ed7953"
             ],
             [
              0.7777777777777778,
              "#fb9f3a"
             ],
             [
              0.8888888888888888,
              "#fdca26"
             ],
             [
              1,
              "#f0f921"
             ]
            ],
            "type": "heatmapgl"
           }
          ],
          "histogram": [
           {
            "marker": {
             "pattern": {
              "fillmode": "overlay",
              "size": 10,
              "solidity": 0.2
             }
            },
            "type": "histogram"
           }
          ],
          "histogram2d": [
           {
            "colorbar": {
             "outlinewidth": 0,
             "ticks": ""
            },
            "colorscale": [
             [
              0,
              "#0d0887"
             ],
             [
              0.1111111111111111,
              "#46039f"
             ],
             [
              0.2222222222222222,
              "#7201a8"
             ],
             [
              0.3333333333333333,
              "#9c179e"
             ],
             [
              0.4444444444444444,
              "#bd3786"
             ],
             [
              0.5555555555555556,
              "#d8576b"
             ],
             [
              0.6666666666666666,
              "#ed7953"
             ],
             [
              0.7777777777777778,
              "#fb9f3a"
             ],
             [
              0.8888888888888888,
              "#fdca26"
             ],
             [
              1,
              "#f0f921"
             ]
            ],
            "type": "histogram2d"
           }
          ],
          "histogram2dcontour": [
           {
            "colorbar": {
             "outlinewidth": 0,
             "ticks": ""
            },
            "colorscale": [
             [
              0,
              "#0d0887"
             ],
             [
              0.1111111111111111,
              "#46039f"
             ],
             [
              0.2222222222222222,
              "#7201a8"
             ],
             [
              0.3333333333333333,
              "#9c179e"
             ],
             [
              0.4444444444444444,
              "#bd3786"
             ],
             [
              0.5555555555555556,
              "#d8576b"
             ],
             [
              0.6666666666666666,
              "#ed7953"
             ],
             [
              0.7777777777777778,
              "#fb9f3a"
             ],
             [
              0.8888888888888888,
              "#fdca26"
             ],
             [
              1,
              "#f0f921"
             ]
            ],
            "type": "histogram2dcontour"
           }
          ],
          "mesh3d": [
           {
            "colorbar": {
             "outlinewidth": 0,
             "ticks": ""
            },
            "type": "mesh3d"
           }
          ],
          "parcoords": [
           {
            "line": {
             "colorbar": {
              "outlinewidth": 0,
              "ticks": ""
             }
            },
            "type": "parcoords"
           }
          ],
          "pie": [
           {
            "automargin": true,
            "type": "pie"
           }
          ],
          "scatter": [
           {
            "fillpattern": {
             "fillmode": "overlay",
             "size": 10,
             "solidity": 0.2
            },
            "type": "scatter"
           }
          ],
          "scatter3d": [
           {
            "line": {
             "colorbar": {
              "outlinewidth": 0,
              "ticks": ""
             }
            },
            "marker": {
             "colorbar": {
              "outlinewidth": 0,
              "ticks": ""
             }
            },
            "type": "scatter3d"
           }
          ],
          "scattercarpet": [
           {
            "marker": {
             "colorbar": {
              "outlinewidth": 0,
              "ticks": ""
             }
            },
            "type": "scattercarpet"
           }
          ],
          "scattergeo": [
           {
            "marker": {
             "colorbar": {
              "outlinewidth": 0,
              "ticks": ""
             }
            },
            "type": "scattergeo"
           }
          ],
          "scattergl": [
           {
            "marker": {
             "colorbar": {
              "outlinewidth": 0,
              "ticks": ""
             }
            },
            "type": "scattergl"
           }
          ],
          "scattermapbox": [
           {
            "marker": {
             "colorbar": {
              "outlinewidth": 0,
              "ticks": ""
             }
            },
            "type": "scattermapbox"
           }
          ],
          "scatterpolar": [
           {
            "marker": {
             "colorbar": {
              "outlinewidth": 0,
              "ticks": ""
             }
            },
            "type": "scatterpolar"
           }
          ],
          "scatterpolargl": [
           {
            "marker": {
             "colorbar": {
              "outlinewidth": 0,
              "ticks": ""
             }
            },
            "type": "scatterpolargl"
           }
          ],
          "scatterternary": [
           {
            "marker": {
             "colorbar": {
              "outlinewidth": 0,
              "ticks": ""
             }
            },
            "type": "scatterternary"
           }
          ],
          "surface": [
           {
            "colorbar": {
             "outlinewidth": 0,
             "ticks": ""
            },
            "colorscale": [
             [
              0,
              "#0d0887"
             ],
             [
              0.1111111111111111,
              "#46039f"
             ],
             [
              0.2222222222222222,
              "#7201a8"
             ],
             [
              0.3333333333333333,
              "#9c179e"
             ],
             [
              0.4444444444444444,
              "#bd3786"
             ],
             [
              0.5555555555555556,
              "#d8576b"
             ],
             [
              0.6666666666666666,
              "#ed7953"
             ],
             [
              0.7777777777777778,
              "#fb9f3a"
             ],
             [
              0.8888888888888888,
              "#fdca26"
             ],
             [
              1,
              "#f0f921"
             ]
            ],
            "type": "surface"
           }
          ],
          "table": [
           {
            "cells": {
             "fill": {
              "color": "#EBF0F8"
             },
             "line": {
              "color": "white"
             }
            },
            "header": {
             "fill": {
              "color": "#C8D4E3"
             },
             "line": {
              "color": "white"
             }
            },
            "type": "table"
           }
          ]
         },
         "layout": {
          "annotationdefaults": {
           "arrowcolor": "#2a3f5f",
           "arrowhead": 0,
           "arrowwidth": 1
          },
          "autotypenumbers": "strict",
          "coloraxis": {
           "colorbar": {
            "outlinewidth": 0,
            "ticks": ""
           }
          },
          "colorscale": {
           "diverging": [
            [
             0,
             "#8e0152"
            ],
            [
             0.1,
             "#c51b7d"
            ],
            [
             0.2,
             "#de77ae"
            ],
            [
             0.3,
             "#f1b6da"
            ],
            [
             0.4,
             "#fde0ef"
            ],
            [
             0.5,
             "#f7f7f7"
            ],
            [
             0.6,
             "#e6f5d0"
            ],
            [
             0.7,
             "#b8e186"
            ],
            [
             0.8,
             "#7fbc41"
            ],
            [
             0.9,
             "#4d9221"
            ],
            [
             1,
             "#276419"
            ]
           ],
           "sequential": [
            [
             0,
             "#0d0887"
            ],
            [
             0.1111111111111111,
             "#46039f"
            ],
            [
             0.2222222222222222,
             "#7201a8"
            ],
            [
             0.3333333333333333,
             "#9c179e"
            ],
            [
             0.4444444444444444,
             "#bd3786"
            ],
            [
             0.5555555555555556,
             "#d8576b"
            ],
            [
             0.6666666666666666,
             "#ed7953"
            ],
            [
             0.7777777777777778,
             "#fb9f3a"
            ],
            [
             0.8888888888888888,
             "#fdca26"
            ],
            [
             1,
             "#f0f921"
            ]
           ],
           "sequentialminus": [
            [
             0,
             "#0d0887"
            ],
            [
             0.1111111111111111,
             "#46039f"
            ],
            [
             0.2222222222222222,
             "#7201a8"
            ],
            [
             0.3333333333333333,
             "#9c179e"
            ],
            [
             0.4444444444444444,
             "#bd3786"
            ],
            [
             0.5555555555555556,
             "#d8576b"
            ],
            [
             0.6666666666666666,
             "#ed7953"
            ],
            [
             0.7777777777777778,
             "#fb9f3a"
            ],
            [
             0.8888888888888888,
             "#fdca26"
            ],
            [
             1,
             "#f0f921"
            ]
           ]
          },
          "colorway": [
           "#636efa",
           "#EF553B",
           "#00cc96",
           "#ab63fa",
           "#FFA15A",
           "#19d3f3",
           "#FF6692",
           "#B6E880",
           "#FF97FF",
           "#FECB52"
          ],
          "font": {
           "color": "#2a3f5f"
          },
          "geo": {
           "bgcolor": "white",
           "lakecolor": "white",
           "landcolor": "#E5ECF6",
           "showlakes": true,
           "showland": true,
           "subunitcolor": "white"
          },
          "hoverlabel": {
           "align": "left"
          },
          "hovermode": "closest",
          "mapbox": {
           "style": "light"
          },
          "paper_bgcolor": "white",
          "plot_bgcolor": "#E5ECF6",
          "polar": {
           "angularaxis": {
            "gridcolor": "white",
            "linecolor": "white",
            "ticks": ""
           },
           "bgcolor": "#E5ECF6",
           "radialaxis": {
            "gridcolor": "white",
            "linecolor": "white",
            "ticks": ""
           }
          },
          "scene": {
           "xaxis": {
            "backgroundcolor": "#E5ECF6",
            "gridcolor": "white",
            "gridwidth": 2,
            "linecolor": "white",
            "showbackground": true,
            "ticks": "",
            "zerolinecolor": "white"
           },
           "yaxis": {
            "backgroundcolor": "#E5ECF6",
            "gridcolor": "white",
            "gridwidth": 2,
            "linecolor": "white",
            "showbackground": true,
            "ticks": "",
            "zerolinecolor": "white"
           },
           "zaxis": {
            "backgroundcolor": "#E5ECF6",
            "gridcolor": "white",
            "gridwidth": 2,
            "linecolor": "white",
            "showbackground": true,
            "ticks": "",
            "zerolinecolor": "white"
           }
          },
          "shapedefaults": {
           "line": {
            "color": "#2a3f5f"
           }
          },
          "ternary": {
           "aaxis": {
            "gridcolor": "white",
            "linecolor": "white",
            "ticks": ""
           },
           "baxis": {
            "gridcolor": "white",
            "linecolor": "white",
            "ticks": ""
           },
           "bgcolor": "#E5ECF6",
           "caxis": {
            "gridcolor": "white",
            "linecolor": "white",
            "ticks": ""
           }
          },
          "title": {
           "x": 0.05
          },
          "xaxis": {
           "automargin": true,
           "gridcolor": "white",
           "linecolor": "white",
           "ticks": "",
           "title": {
            "standoff": 15
           },
           "zerolinecolor": "white",
           "zerolinewidth": 2
          },
          "yaxis": {
           "automargin": true,
           "gridcolor": "white",
           "linecolor": "white",
           "ticks": "",
           "title": {
            "standoff": 15
           },
           "zerolinecolor": "white",
           "zerolinewidth": 2
          }
         }
        },
        "title": {
         "font": {
          "color": "#4D5663"
         }
        },
        "xaxis": {
         "gridcolor": "#E1E5ED",
         "showgrid": true,
         "tickfont": {
          "color": "#4D5663"
         },
         "title": {
          "font": {
           "color": "#4D5663"
          },
          "text": ""
         },
         "zerolinecolor": "#E1E5ED"
        },
        "yaxis": {
         "gridcolor": "#E1E5ED",
         "showgrid": true,
         "tickfont": {
          "color": "#4D5663"
         },
         "title": {
          "font": {
           "color": "#4D5663"
          },
          "text": ""
         },
         "zerolinecolor": "#E1E5ED"
        }
       }
      },
      "text/html": [
       "<div>                            <div id=\"ee4140fe-56c2-457c-9a50-aa90ddb16d81\" class=\"plotly-graph-div\" style=\"height:525px; width:100%;\"></div>            <script type=\"text/javascript\">                require([\"plotly\"], function(Plotly) {                    window.PLOTLYENV=window.PLOTLYENV || {};\n",
       "                    window.PLOTLYENV.BASE_URL='https://plot.ly';                                    if (document.getElementById(\"ee4140fe-56c2-457c-9a50-aa90ddb16d81\")) {                    Plotly.newPlot(                        \"ee4140fe-56c2-457c-9a50-aa90ddb16d81\",                        [{\"colorscale\":[[0.0,\"rgb(255, 153, 51)\"],[0.1111111111111111,\"rgb(55, 128, 191)\"],[0.2222222222222222,\"rgb(50, 171, 96)\"],[0.3333333333333333,\"rgb(128, 0, 128)\"],[0.4444444444444444,\"rgb(219, 64, 82)\"],[0.5555555555555556,\"rgb(0, 128, 128)\"],[0.6666666666666666,\"rgb(255, 255, 51)\"],[0.7777777777777778,\"rgb(128, 128, 0)\"],[0.8888888888888888,\"rgb(251, 128, 114)\"],[1.0,\"rgb(128, 177, 211)\"]],\"x\":[0,1,2,3,4],\"y\":[\"x\",\"y\",\"z\"],\"z\":[[1,2,3,4,5],[10,20,30,20,10],[500,400,300,200,100]],\"type\":\"surface\"}],                        {\"legend\":{\"bgcolor\":\"#F5F6F9\",\"font\":{\"color\":\"#4D5663\"}},\"paper_bgcolor\":\"#F5F6F9\",\"plot_bgcolor\":\"#F5F6F9\",\"template\":{\"data\":{\"barpolar\":[{\"marker\":{\"line\":{\"color\":\"#E5ECF6\",\"width\":0.5},\"pattern\":{\"fillmode\":\"overlay\",\"size\":10,\"solidity\":0.2}},\"type\":\"barpolar\"}],\"bar\":[{\"error_x\":{\"color\":\"#2a3f5f\"},\"error_y\":{\"color\":\"#2a3f5f\"},\"marker\":{\"line\":{\"color\":\"#E5ECF6\",\"width\":0.5},\"pattern\":{\"fillmode\":\"overlay\",\"size\":10,\"solidity\":0.2}},\"type\":\"bar\"}],\"carpet\":[{\"aaxis\":{\"endlinecolor\":\"#2a3f5f\",\"gridcolor\":\"white\",\"linecolor\":\"white\",\"minorgridcolor\":\"white\",\"startlinecolor\":\"#2a3f5f\"},\"baxis\":{\"endlinecolor\":\"#2a3f5f\",\"gridcolor\":\"white\",\"linecolor\":\"white\",\"minorgridcolor\":\"white\",\"startlinecolor\":\"#2a3f5f\"},\"type\":\"carpet\"}],\"choropleth\":[{\"colorbar\":{\"outlinewidth\":0,\"ticks\":\"\"},\"type\":\"choropleth\"}],\"contourcarpet\":[{\"colorbar\":{\"outlinewidth\":0,\"ticks\":\"\"},\"type\":\"contourcarpet\"}],\"contour\":[{\"colorbar\":{\"outlinewidth\":0,\"ticks\":\"\"},\"colorscale\":[[0.0,\"#0d0887\"],[0.1111111111111111,\"#46039f\"],[0.2222222222222222,\"#7201a8\"],[0.3333333333333333,\"#9c179e\"],[0.4444444444444444,\"#bd3786\"],[0.5555555555555556,\"#d8576b\"],[0.6666666666666666,\"#ed7953\"],[0.7777777777777778,\"#fb9f3a\"],[0.8888888888888888,\"#fdca26\"],[1.0,\"#f0f921\"]],\"type\":\"contour\"}],\"heatmapgl\":[{\"colorbar\":{\"outlinewidth\":0,\"ticks\":\"\"},\"colorscale\":[[0.0,\"#0d0887\"],[0.1111111111111111,\"#46039f\"],[0.2222222222222222,\"#7201a8\"],[0.3333333333333333,\"#9c179e\"],[0.4444444444444444,\"#bd3786\"],[0.5555555555555556,\"#d8576b\"],[0.6666666666666666,\"#ed7953\"],[0.7777777777777778,\"#fb9f3a\"],[0.8888888888888888,\"#fdca26\"],[1.0,\"#f0f921\"]],\"type\":\"heatmapgl\"}],\"heatmap\":[{\"colorbar\":{\"outlinewidth\":0,\"ticks\":\"\"},\"colorscale\":[[0.0,\"#0d0887\"],[0.1111111111111111,\"#46039f\"],[0.2222222222222222,\"#7201a8\"],[0.3333333333333333,\"#9c179e\"],[0.4444444444444444,\"#bd3786\"],[0.5555555555555556,\"#d8576b\"],[0.6666666666666666,\"#ed7953\"],[0.7777777777777778,\"#fb9f3a\"],[0.8888888888888888,\"#fdca26\"],[1.0,\"#f0f921\"]],\"type\":\"heatmap\"}],\"histogram2dcontour\":[{\"colorbar\":{\"outlinewidth\":0,\"ticks\":\"\"},\"colorscale\":[[0.0,\"#0d0887\"],[0.1111111111111111,\"#46039f\"],[0.2222222222222222,\"#7201a8\"],[0.3333333333333333,\"#9c179e\"],[0.4444444444444444,\"#bd3786\"],[0.5555555555555556,\"#d8576b\"],[0.6666666666666666,\"#ed7953\"],[0.7777777777777778,\"#fb9f3a\"],[0.8888888888888888,\"#fdca26\"],[1.0,\"#f0f921\"]],\"type\":\"histogram2dcontour\"}],\"histogram2d\":[{\"colorbar\":{\"outlinewidth\":0,\"ticks\":\"\"},\"colorscale\":[[0.0,\"#0d0887\"],[0.1111111111111111,\"#46039f\"],[0.2222222222222222,\"#7201a8\"],[0.3333333333333333,\"#9c179e\"],[0.4444444444444444,\"#bd3786\"],[0.5555555555555556,\"#d8576b\"],[0.6666666666666666,\"#ed7953\"],[0.7777777777777778,\"#fb9f3a\"],[0.8888888888888888,\"#fdca26\"],[1.0,\"#f0f921\"]],\"type\":\"histogram2d\"}],\"histogram\":[{\"marker\":{\"pattern\":{\"fillmode\":\"overlay\",\"size\":10,\"solidity\":0.2}},\"type\":\"histogram\"}],\"mesh3d\":[{\"colorbar\":{\"outlinewidth\":0,\"ticks\":\"\"},\"type\":\"mesh3d\"}],\"parcoords\":[{\"line\":{\"colorbar\":{\"outlinewidth\":0,\"ticks\":\"\"}},\"type\":\"parcoords\"}],\"pie\":[{\"automargin\":true,\"type\":\"pie\"}],\"scatter3d\":[{\"line\":{\"colorbar\":{\"outlinewidth\":0,\"ticks\":\"\"}},\"marker\":{\"colorbar\":{\"outlinewidth\":0,\"ticks\":\"\"}},\"type\":\"scatter3d\"}],\"scattercarpet\":[{\"marker\":{\"colorbar\":{\"outlinewidth\":0,\"ticks\":\"\"}},\"type\":\"scattercarpet\"}],\"scattergeo\":[{\"marker\":{\"colorbar\":{\"outlinewidth\":0,\"ticks\":\"\"}},\"type\":\"scattergeo\"}],\"scattergl\":[{\"marker\":{\"colorbar\":{\"outlinewidth\":0,\"ticks\":\"\"}},\"type\":\"scattergl\"}],\"scattermapbox\":[{\"marker\":{\"colorbar\":{\"outlinewidth\":0,\"ticks\":\"\"}},\"type\":\"scattermapbox\"}],\"scatterpolargl\":[{\"marker\":{\"colorbar\":{\"outlinewidth\":0,\"ticks\":\"\"}},\"type\":\"scatterpolargl\"}],\"scatterpolar\":[{\"marker\":{\"colorbar\":{\"outlinewidth\":0,\"ticks\":\"\"}},\"type\":\"scatterpolar\"}],\"scatter\":[{\"fillpattern\":{\"fillmode\":\"overlay\",\"size\":10,\"solidity\":0.2},\"type\":\"scatter\"}],\"scatterternary\":[{\"marker\":{\"colorbar\":{\"outlinewidth\":0,\"ticks\":\"\"}},\"type\":\"scatterternary\"}],\"surface\":[{\"colorbar\":{\"outlinewidth\":0,\"ticks\":\"\"},\"colorscale\":[[0.0,\"#0d0887\"],[0.1111111111111111,\"#46039f\"],[0.2222222222222222,\"#7201a8\"],[0.3333333333333333,\"#9c179e\"],[0.4444444444444444,\"#bd3786\"],[0.5555555555555556,\"#d8576b\"],[0.6666666666666666,\"#ed7953\"],[0.7777777777777778,\"#fb9f3a\"],[0.8888888888888888,\"#fdca26\"],[1.0,\"#f0f921\"]],\"type\":\"surface\"}],\"table\":[{\"cells\":{\"fill\":{\"color\":\"#EBF0F8\"},\"line\":{\"color\":\"white\"}},\"header\":{\"fill\":{\"color\":\"#C8D4E3\"},\"line\":{\"color\":\"white\"}},\"type\":\"table\"}]},\"layout\":{\"annotationdefaults\":{\"arrowcolor\":\"#2a3f5f\",\"arrowhead\":0,\"arrowwidth\":1},\"autotypenumbers\":\"strict\",\"coloraxis\":{\"colorbar\":{\"outlinewidth\":0,\"ticks\":\"\"}},\"colorscale\":{\"diverging\":[[0,\"#8e0152\"],[0.1,\"#c51b7d\"],[0.2,\"#de77ae\"],[0.3,\"#f1b6da\"],[0.4,\"#fde0ef\"],[0.5,\"#f7f7f7\"],[0.6,\"#e6f5d0\"],[0.7,\"#b8e186\"],[0.8,\"#7fbc41\"],[0.9,\"#4d9221\"],[1,\"#276419\"]],\"sequential\":[[0.0,\"#0d0887\"],[0.1111111111111111,\"#46039f\"],[0.2222222222222222,\"#7201a8\"],[0.3333333333333333,\"#9c179e\"],[0.4444444444444444,\"#bd3786\"],[0.5555555555555556,\"#d8576b\"],[0.6666666666666666,\"#ed7953\"],[0.7777777777777778,\"#fb9f3a\"],[0.8888888888888888,\"#fdca26\"],[1.0,\"#f0f921\"]],\"sequentialminus\":[[0.0,\"#0d0887\"],[0.1111111111111111,\"#46039f\"],[0.2222222222222222,\"#7201a8\"],[0.3333333333333333,\"#9c179e\"],[0.4444444444444444,\"#bd3786\"],[0.5555555555555556,\"#d8576b\"],[0.6666666666666666,\"#ed7953\"],[0.7777777777777778,\"#fb9f3a\"],[0.8888888888888888,\"#fdca26\"],[1.0,\"#f0f921\"]]},\"colorway\":[\"#636efa\",\"#EF553B\",\"#00cc96\",\"#ab63fa\",\"#FFA15A\",\"#19d3f3\",\"#FF6692\",\"#B6E880\",\"#FF97FF\",\"#FECB52\"],\"font\":{\"color\":\"#2a3f5f\"},\"geo\":{\"bgcolor\":\"white\",\"lakecolor\":\"white\",\"landcolor\":\"#E5ECF6\",\"showlakes\":true,\"showland\":true,\"subunitcolor\":\"white\"},\"hoverlabel\":{\"align\":\"left\"},\"hovermode\":\"closest\",\"mapbox\":{\"style\":\"light\"},\"paper_bgcolor\":\"white\",\"plot_bgcolor\":\"#E5ECF6\",\"polar\":{\"angularaxis\":{\"gridcolor\":\"white\",\"linecolor\":\"white\",\"ticks\":\"\"},\"bgcolor\":\"#E5ECF6\",\"radialaxis\":{\"gridcolor\":\"white\",\"linecolor\":\"white\",\"ticks\":\"\"}},\"scene\":{\"xaxis\":{\"backgroundcolor\":\"#E5ECF6\",\"gridcolor\":\"white\",\"gridwidth\":2,\"linecolor\":\"white\",\"showbackground\":true,\"ticks\":\"\",\"zerolinecolor\":\"white\"},\"yaxis\":{\"backgroundcolor\":\"#E5ECF6\",\"gridcolor\":\"white\",\"gridwidth\":2,\"linecolor\":\"white\",\"showbackground\":true,\"ticks\":\"\",\"zerolinecolor\":\"white\"},\"zaxis\":{\"backgroundcolor\":\"#E5ECF6\",\"gridcolor\":\"white\",\"gridwidth\":2,\"linecolor\":\"white\",\"showbackground\":true,\"ticks\":\"\",\"zerolinecolor\":\"white\"}},\"shapedefaults\":{\"line\":{\"color\":\"#2a3f5f\"}},\"ternary\":{\"aaxis\":{\"gridcolor\":\"white\",\"linecolor\":\"white\",\"ticks\":\"\"},\"baxis\":{\"gridcolor\":\"white\",\"linecolor\":\"white\",\"ticks\":\"\"},\"bgcolor\":\"#E5ECF6\",\"caxis\":{\"gridcolor\":\"white\",\"linecolor\":\"white\",\"ticks\":\"\"}},\"title\":{\"x\":0.05},\"xaxis\":{\"automargin\":true,\"gridcolor\":\"white\",\"linecolor\":\"white\",\"ticks\":\"\",\"title\":{\"standoff\":15},\"zerolinecolor\":\"white\",\"zerolinewidth\":2},\"yaxis\":{\"automargin\":true,\"gridcolor\":\"white\",\"linecolor\":\"white\",\"ticks\":\"\",\"title\":{\"standoff\":15},\"zerolinecolor\":\"white\",\"zerolinewidth\":2}}},\"title\":{\"font\":{\"color\":\"#4D5663\"}},\"xaxis\":{\"gridcolor\":\"#E1E5ED\",\"showgrid\":true,\"tickfont\":{\"color\":\"#4D5663\"},\"title\":{\"font\":{\"color\":\"#4D5663\"},\"text\":\"\"},\"zerolinecolor\":\"#E1E5ED\"},\"yaxis\":{\"gridcolor\":\"#E1E5ED\",\"showgrid\":true,\"tickfont\":{\"color\":\"#4D5663\"},\"title\":{\"font\":{\"color\":\"#4D5663\"},\"text\":\"\"},\"zerolinecolor\":\"#E1E5ED\"}},                        {\"showLink\": true, \"linkText\": \"Export to plot.ly\", \"plotlyServerURL\": \"https://plot.ly\", \"responsive\": true}                    ).then(function(){\n",
       "                            \n",
       "var gd = document.getElementById('ee4140fe-56c2-457c-9a50-aa90ddb16d81');\n",
       "var x = new MutationObserver(function (mutations, observer) {{\n",
       "        var display = window.getComputedStyle(gd).display;\n",
       "        if (!display || display === 'none') {{\n",
       "            console.log([gd, 'removed!']);\n",
       "            Plotly.purge(gd);\n",
       "            observer.disconnect();\n",
       "        }}\n",
       "}});\n",
       "\n",
       "// Listen for the removal of the full notebook cells\n",
       "var notebookContainer = gd.closest('#notebook-container');\n",
       "if (notebookContainer) {{\n",
       "    x.observe(notebookContainer, {childList: true});\n",
       "}}\n",
       "\n",
       "// Listen for the clearing of the current output cell\n",
       "var outputEl = gd.closest('.output');\n",
       "if (outputEl) {{\n",
       "    x.observe(outputEl, {childList: true});\n",
       "}}\n",
       "\n",
       "                        })                };                });            </script>        </div>"
      ]
     },
     "metadata": {},
     "output_type": "display_data"
    }
   ],
   "source": [
    "df3.iplot(kind='surface')"
   ]
  },
  {
   "cell_type": "code",
   "execution_count": 26,
   "id": "1e1ad01a",
   "metadata": {},
   "outputs": [],
   "source": [
    "df4 = pd.DataFrame({'x': [1, 2, 3, 4, 5], 'y': [10, 20, 30, 20, 10], 'z': [5, 4, 3, 2, 1]})"
   ]
  },
  {
   "cell_type": "code",
   "execution_count": 27,
   "id": "63b868ae",
   "metadata": {},
   "outputs": [
    {
     "data": {
      "application/vnd.plotly.v1+json": {
       "config": {
        "linkText": "Export to plot.ly",
        "plotlyServerURL": "https://plot.ly",
        "showLink": true
       },
       "data": [
        {
         "colorscale": [
          [
           0,
           "rgb(255, 153, 51)"
          ],
          [
           0.1111111111111111,
           "rgb(55, 128, 191)"
          ],
          [
           0.2222222222222222,
           "rgb(50, 171, 96)"
          ],
          [
           0.3333333333333333,
           "rgb(128, 0, 128)"
          ],
          [
           0.4444444444444444,
           "rgb(219, 64, 82)"
          ],
          [
           0.5555555555555556,
           "rgb(0, 128, 128)"
          ],
          [
           0.6666666666666666,
           "rgb(255, 255, 51)"
          ],
          [
           0.7777777777777778,
           "rgb(128, 128, 0)"
          ],
          [
           0.8888888888888888,
           "rgb(251, 128, 114)"
          ],
          [
           1,
           "rgb(128, 177, 211)"
          ]
         ],
         "type": "surface",
         "x": [
          0,
          1,
          2,
          3,
          4
         ],
         "y": [
          "x",
          "y",
          "z"
         ],
         "z": [
          [
           1,
           2,
           3,
           4,
           5
          ],
          [
           10,
           20,
           30,
           20,
           10
          ],
          [
           5,
           4,
           3,
           2,
           1
          ]
         ]
        }
       ],
       "layout": {
        "legend": {
         "bgcolor": "#F5F6F9",
         "font": {
          "color": "#4D5663"
         }
        },
        "paper_bgcolor": "#F5F6F9",
        "plot_bgcolor": "#F5F6F9",
        "template": {
         "data": {
          "bar": [
           {
            "error_x": {
             "color": "#2a3f5f"
            },
            "error_y": {
             "color": "#2a3f5f"
            },
            "marker": {
             "line": {
              "color": "#E5ECF6",
              "width": 0.5
             },
             "pattern": {
              "fillmode": "overlay",
              "size": 10,
              "solidity": 0.2
             }
            },
            "type": "bar"
           }
          ],
          "barpolar": [
           {
            "marker": {
             "line": {
              "color": "#E5ECF6",
              "width": 0.5
             },
             "pattern": {
              "fillmode": "overlay",
              "size": 10,
              "solidity": 0.2
             }
            },
            "type": "barpolar"
           }
          ],
          "carpet": [
           {
            "aaxis": {
             "endlinecolor": "#2a3f5f",
             "gridcolor": "white",
             "linecolor": "white",
             "minorgridcolor": "white",
             "startlinecolor": "#2a3f5f"
            },
            "baxis": {
             "endlinecolor": "#2a3f5f",
             "gridcolor": "white",
             "linecolor": "white",
             "minorgridcolor": "white",
             "startlinecolor": "#2a3f5f"
            },
            "type": "carpet"
           }
          ],
          "choropleth": [
           {
            "colorbar": {
             "outlinewidth": 0,
             "ticks": ""
            },
            "type": "choropleth"
           }
          ],
          "contour": [
           {
            "colorbar": {
             "outlinewidth": 0,
             "ticks": ""
            },
            "colorscale": [
             [
              0,
              "#0d0887"
             ],
             [
              0.1111111111111111,
              "#46039f"
             ],
             [
              0.2222222222222222,
              "#7201a8"
             ],
             [
              0.3333333333333333,
              "#9c179e"
             ],
             [
              0.4444444444444444,
              "#bd3786"
             ],
             [
              0.5555555555555556,
              "#d8576b"
             ],
             [
              0.6666666666666666,
              "#ed7953"
             ],
             [
              0.7777777777777778,
              "#fb9f3a"
             ],
             [
              0.8888888888888888,
              "#fdca26"
             ],
             [
              1,
              "#f0f921"
             ]
            ],
            "type": "contour"
           }
          ],
          "contourcarpet": [
           {
            "colorbar": {
             "outlinewidth": 0,
             "ticks": ""
            },
            "type": "contourcarpet"
           }
          ],
          "heatmap": [
           {
            "colorbar": {
             "outlinewidth": 0,
             "ticks": ""
            },
            "colorscale": [
             [
              0,
              "#0d0887"
             ],
             [
              0.1111111111111111,
              "#46039f"
             ],
             [
              0.2222222222222222,
              "#7201a8"
             ],
             [
              0.3333333333333333,
              "#9c179e"
             ],
             [
              0.4444444444444444,
              "#bd3786"
             ],
             [
              0.5555555555555556,
              "#d8576b"
             ],
             [
              0.6666666666666666,
              "#ed7953"
             ],
             [
              0.7777777777777778,
              "#fb9f3a"
             ],
             [
              0.8888888888888888,
              "#fdca26"
             ],
             [
              1,
              "#f0f921"
             ]
            ],
            "type": "heatmap"
           }
          ],
          "heatmapgl": [
           {
            "colorbar": {
             "outlinewidth": 0,
             "ticks": ""
            },
            "colorscale": [
             [
              0,
              "#0d0887"
             ],
             [
              0.1111111111111111,
              "#46039f"
             ],
             [
              0.2222222222222222,
              "#7201a8"
             ],
             [
              0.3333333333333333,
              "#9c179e"
             ],
             [
              0.4444444444444444,
              "#bd3786"
             ],
             [
              0.5555555555555556,
              "#d8576b"
             ],
             [
              0.6666666666666666,
              "#ed7953"
             ],
             [
              0.7777777777777778,
              "#fb9f3a"
             ],
             [
              0.8888888888888888,
              "#fdca26"
             ],
             [
              1,
              "#f0f921"
             ]
            ],
            "type": "heatmapgl"
           }
          ],
          "histogram": [
           {
            "marker": {
             "pattern": {
              "fillmode": "overlay",
              "size": 10,
              "solidity": 0.2
             }
            },
            "type": "histogram"
           }
          ],
          "histogram2d": [
           {
            "colorbar": {
             "outlinewidth": 0,
             "ticks": ""
            },
            "colorscale": [
             [
              0,
              "#0d0887"
             ],
             [
              0.1111111111111111,
              "#46039f"
             ],
             [
              0.2222222222222222,
              "#7201a8"
             ],
             [
              0.3333333333333333,
              "#9c179e"
             ],
             [
              0.4444444444444444,
              "#bd3786"
             ],
             [
              0.5555555555555556,
              "#d8576b"
             ],
             [
              0.6666666666666666,
              "#ed7953"
             ],
             [
              0.7777777777777778,
              "#fb9f3a"
             ],
             [
              0.8888888888888888,
              "#fdca26"
             ],
             [
              1,
              "#f0f921"
             ]
            ],
            "type": "histogram2d"
           }
          ],
          "histogram2dcontour": [
           {
            "colorbar": {
             "outlinewidth": 0,
             "ticks": ""
            },
            "colorscale": [
             [
              0,
              "#0d0887"
             ],
             [
              0.1111111111111111,
              "#46039f"
             ],
             [
              0.2222222222222222,
              "#7201a8"
             ],
             [
              0.3333333333333333,
              "#9c179e"
             ],
             [
              0.4444444444444444,
              "#bd3786"
             ],
             [
              0.5555555555555556,
              "#d8576b"
             ],
             [
              0.6666666666666666,
              "#ed7953"
             ],
             [
              0.7777777777777778,
              "#fb9f3a"
             ],
             [
              0.8888888888888888,
              "#fdca26"
             ],
             [
              1,
              "#f0f921"
             ]
            ],
            "type": "histogram2dcontour"
           }
          ],
          "mesh3d": [
           {
            "colorbar": {
             "outlinewidth": 0,
             "ticks": ""
            },
            "type": "mesh3d"
           }
          ],
          "parcoords": [
           {
            "line": {
             "colorbar": {
              "outlinewidth": 0,
              "ticks": ""
             }
            },
            "type": "parcoords"
           }
          ],
          "pie": [
           {
            "automargin": true,
            "type": "pie"
           }
          ],
          "scatter": [
           {
            "fillpattern": {
             "fillmode": "overlay",
             "size": 10,
             "solidity": 0.2
            },
            "type": "scatter"
           }
          ],
          "scatter3d": [
           {
            "line": {
             "colorbar": {
              "outlinewidth": 0,
              "ticks": ""
             }
            },
            "marker": {
             "colorbar": {
              "outlinewidth": 0,
              "ticks": ""
             }
            },
            "type": "scatter3d"
           }
          ],
          "scattercarpet": [
           {
            "marker": {
             "colorbar": {
              "outlinewidth": 0,
              "ticks": ""
             }
            },
            "type": "scattercarpet"
           }
          ],
          "scattergeo": [
           {
            "marker": {
             "colorbar": {
              "outlinewidth": 0,
              "ticks": ""
             }
            },
            "type": "scattergeo"
           }
          ],
          "scattergl": [
           {
            "marker": {
             "colorbar": {
              "outlinewidth": 0,
              "ticks": ""
             }
            },
            "type": "scattergl"
           }
          ],
          "scattermapbox": [
           {
            "marker": {
             "colorbar": {
              "outlinewidth": 0,
              "ticks": ""
             }
            },
            "type": "scattermapbox"
           }
          ],
          "scatterpolar": [
           {
            "marker": {
             "colorbar": {
              "outlinewidth": 0,
              "ticks": ""
             }
            },
            "type": "scatterpolar"
           }
          ],
          "scatterpolargl": [
           {
            "marker": {
             "colorbar": {
              "outlinewidth": 0,
              "ticks": ""
             }
            },
            "type": "scatterpolargl"
           }
          ],
          "scatterternary": [
           {
            "marker": {
             "colorbar": {
              "outlinewidth": 0,
              "ticks": ""
             }
            },
            "type": "scatterternary"
           }
          ],
          "surface": [
           {
            "colorbar": {
             "outlinewidth": 0,
             "ticks": ""
            },
            "colorscale": [
             [
              0,
              "#0d0887"
             ],
             [
              0.1111111111111111,
              "#46039f"
             ],
             [
              0.2222222222222222,
              "#7201a8"
             ],
             [
              0.3333333333333333,
              "#9c179e"
             ],
             [
              0.4444444444444444,
              "#bd3786"
             ],
             [
              0.5555555555555556,
              "#d8576b"
             ],
             [
              0.6666666666666666,
              "#ed7953"
             ],
             [
              0.7777777777777778,
              "#fb9f3a"
             ],
             [
              0.8888888888888888,
              "#fdca26"
             ],
             [
              1,
              "#f0f921"
             ]
            ],
            "type": "surface"
           }
          ],
          "table": [
           {
            "cells": {
             "fill": {
              "color": "#EBF0F8"
             },
             "line": {
              "color": "white"
             }
            },
            "header": {
             "fill": {
              "color": "#C8D4E3"
             },
             "line": {
              "color": "white"
             }
            },
            "type": "table"
           }
          ]
         },
         "layout": {
          "annotationdefaults": {
           "arrowcolor": "#2a3f5f",
           "arrowhead": 0,
           "arrowwidth": 1
          },
          "autotypenumbers": "strict",
          "coloraxis": {
           "colorbar": {
            "outlinewidth": 0,
            "ticks": ""
           }
          },
          "colorscale": {
           "diverging": [
            [
             0,
             "#8e0152"
            ],
            [
             0.1,
             "#c51b7d"
            ],
            [
             0.2,
             "#de77ae"
            ],
            [
             0.3,
             "#f1b6da"
            ],
            [
             0.4,
             "#fde0ef"
            ],
            [
             0.5,
             "#f7f7f7"
            ],
            [
             0.6,
             "#e6f5d0"
            ],
            [
             0.7,
             "#b8e186"
            ],
            [
             0.8,
             "#7fbc41"
            ],
            [
             0.9,
             "#4d9221"
            ],
            [
             1,
             "#276419"
            ]
           ],
           "sequential": [
            [
             0,
             "#0d0887"
            ],
            [
             0.1111111111111111,
             "#46039f"
            ],
            [
             0.2222222222222222,
             "#7201a8"
            ],
            [
             0.3333333333333333,
             "#9c179e"
            ],
            [
             0.4444444444444444,
             "#bd3786"
            ],
            [
             0.5555555555555556,
             "#d8576b"
            ],
            [
             0.6666666666666666,
             "#ed7953"
            ],
            [
             0.7777777777777778,
             "#fb9f3a"
            ],
            [
             0.8888888888888888,
             "#fdca26"
            ],
            [
             1,
             "#f0f921"
            ]
           ],
           "sequentialminus": [
            [
             0,
             "#0d0887"
            ],
            [
             0.1111111111111111,
             "#46039f"
            ],
            [
             0.2222222222222222,
             "#7201a8"
            ],
            [
             0.3333333333333333,
             "#9c179e"
            ],
            [
             0.4444444444444444,
             "#bd3786"
            ],
            [
             0.5555555555555556,
             "#d8576b"
            ],
            [
             0.6666666666666666,
             "#ed7953"
            ],
            [
             0.7777777777777778,
             "#fb9f3a"
            ],
            [
             0.8888888888888888,
             "#fdca26"
            ],
            [
             1,
             "#f0f921"
            ]
           ]
          },
          "colorway": [
           "#636efa",
           "#EF553B",
           "#00cc96",
           "#ab63fa",
           "#FFA15A",
           "#19d3f3",
           "#FF6692",
           "#B6E880",
           "#FF97FF",
           "#FECB52"
          ],
          "font": {
           "color": "#2a3f5f"
          },
          "geo": {
           "bgcolor": "white",
           "lakecolor": "white",
           "landcolor": "#E5ECF6",
           "showlakes": true,
           "showland": true,
           "subunitcolor": "white"
          },
          "hoverlabel": {
           "align": "left"
          },
          "hovermode": "closest",
          "mapbox": {
           "style": "light"
          },
          "paper_bgcolor": "white",
          "plot_bgcolor": "#E5ECF6",
          "polar": {
           "angularaxis": {
            "gridcolor": "white",
            "linecolor": "white",
            "ticks": ""
           },
           "bgcolor": "#E5ECF6",
           "radialaxis": {
            "gridcolor": "white",
            "linecolor": "white",
            "ticks": ""
           }
          },
          "scene": {
           "xaxis": {
            "backgroundcolor": "#E5ECF6",
            "gridcolor": "white",
            "gridwidth": 2,
            "linecolor": "white",
            "showbackground": true,
            "ticks": "",
            "zerolinecolor": "white"
           },
           "yaxis": {
            "backgroundcolor": "#E5ECF6",
            "gridcolor": "white",
            "gridwidth": 2,
            "linecolor": "white",
            "showbackground": true,
            "ticks": "",
            "zerolinecolor": "white"
           },
           "zaxis": {
            "backgroundcolor": "#E5ECF6",
            "gridcolor": "white",
            "gridwidth": 2,
            "linecolor": "white",
            "showbackground": true,
            "ticks": "",
            "zerolinecolor": "white"
           }
          },
          "shapedefaults": {
           "line": {
            "color": "#2a3f5f"
           }
          },
          "ternary": {
           "aaxis": {
            "gridcolor": "white",
            "linecolor": "white",
            "ticks": ""
           },
           "baxis": {
            "gridcolor": "white",
            "linecolor": "white",
            "ticks": ""
           },
           "bgcolor": "#E5ECF6",
           "caxis": {
            "gridcolor": "white",
            "linecolor": "white",
            "ticks": ""
           }
          },
          "title": {
           "x": 0.05
          },
          "xaxis": {
           "automargin": true,
           "gridcolor": "white",
           "linecolor": "white",
           "ticks": "",
           "title": {
            "standoff": 15
           },
           "zerolinecolor": "white",
           "zerolinewidth": 2
          },
          "yaxis": {
           "automargin": true,
           "gridcolor": "white",
           "linecolor": "white",
           "ticks": "",
           "title": {
            "standoff": 15
           },
           "zerolinecolor": "white",
           "zerolinewidth": 2
          }
         }
        },
        "title": {
         "font": {
          "color": "#4D5663"
         }
        },
        "xaxis": {
         "gridcolor": "#E1E5ED",
         "showgrid": true,
         "tickfont": {
          "color": "#4D5663"
         },
         "title": {
          "font": {
           "color": "#4D5663"
          },
          "text": ""
         },
         "zerolinecolor": "#E1E5ED"
        },
        "yaxis": {
         "gridcolor": "#E1E5ED",
         "showgrid": true,
         "tickfont": {
          "color": "#4D5663"
         },
         "title": {
          "font": {
           "color": "#4D5663"
          },
          "text": ""
         },
         "zerolinecolor": "#E1E5ED"
        }
       }
      },
      "text/html": [
       "<div>                            <div id=\"6e4867e9-be67-4db4-9223-f50ab7ad2efd\" class=\"plotly-graph-div\" style=\"height:525px; width:100%;\"></div>            <script type=\"text/javascript\">                require([\"plotly\"], function(Plotly) {                    window.PLOTLYENV=window.PLOTLYENV || {};\n",
       "                    window.PLOTLYENV.BASE_URL='https://plot.ly';                                    if (document.getElementById(\"6e4867e9-be67-4db4-9223-f50ab7ad2efd\")) {                    Plotly.newPlot(                        \"6e4867e9-be67-4db4-9223-f50ab7ad2efd\",                        [{\"colorscale\":[[0.0,\"rgb(255, 153, 51)\"],[0.1111111111111111,\"rgb(55, 128, 191)\"],[0.2222222222222222,\"rgb(50, 171, 96)\"],[0.3333333333333333,\"rgb(128, 0, 128)\"],[0.4444444444444444,\"rgb(219, 64, 82)\"],[0.5555555555555556,\"rgb(0, 128, 128)\"],[0.6666666666666666,\"rgb(255, 255, 51)\"],[0.7777777777777778,\"rgb(128, 128, 0)\"],[0.8888888888888888,\"rgb(251, 128, 114)\"],[1.0,\"rgb(128, 177, 211)\"]],\"x\":[0,1,2,3,4],\"y\":[\"x\",\"y\",\"z\"],\"z\":[[1,2,3,4,5],[10,20,30,20,10],[5,4,3,2,1]],\"type\":\"surface\"}],                        {\"legend\":{\"bgcolor\":\"#F5F6F9\",\"font\":{\"color\":\"#4D5663\"}},\"paper_bgcolor\":\"#F5F6F9\",\"plot_bgcolor\":\"#F5F6F9\",\"template\":{\"data\":{\"barpolar\":[{\"marker\":{\"line\":{\"color\":\"#E5ECF6\",\"width\":0.5},\"pattern\":{\"fillmode\":\"overlay\",\"size\":10,\"solidity\":0.2}},\"type\":\"barpolar\"}],\"bar\":[{\"error_x\":{\"color\":\"#2a3f5f\"},\"error_y\":{\"color\":\"#2a3f5f\"},\"marker\":{\"line\":{\"color\":\"#E5ECF6\",\"width\":0.5},\"pattern\":{\"fillmode\":\"overlay\",\"size\":10,\"solidity\":0.2}},\"type\":\"bar\"}],\"carpet\":[{\"aaxis\":{\"endlinecolor\":\"#2a3f5f\",\"gridcolor\":\"white\",\"linecolor\":\"white\",\"minorgridcolor\":\"white\",\"startlinecolor\":\"#2a3f5f\"},\"baxis\":{\"endlinecolor\":\"#2a3f5f\",\"gridcolor\":\"white\",\"linecolor\":\"white\",\"minorgridcolor\":\"white\",\"startlinecolor\":\"#2a3f5f\"},\"type\":\"carpet\"}],\"choropleth\":[{\"colorbar\":{\"outlinewidth\":0,\"ticks\":\"\"},\"type\":\"choropleth\"}],\"contourcarpet\":[{\"colorbar\":{\"outlinewidth\":0,\"ticks\":\"\"},\"type\":\"contourcarpet\"}],\"contour\":[{\"colorbar\":{\"outlinewidth\":0,\"ticks\":\"\"},\"colorscale\":[[0.0,\"#0d0887\"],[0.1111111111111111,\"#46039f\"],[0.2222222222222222,\"#7201a8\"],[0.3333333333333333,\"#9c179e\"],[0.4444444444444444,\"#bd3786\"],[0.5555555555555556,\"#d8576b\"],[0.6666666666666666,\"#ed7953\"],[0.7777777777777778,\"#fb9f3a\"],[0.8888888888888888,\"#fdca26\"],[1.0,\"#f0f921\"]],\"type\":\"contour\"}],\"heatmapgl\":[{\"colorbar\":{\"outlinewidth\":0,\"ticks\":\"\"},\"colorscale\":[[0.0,\"#0d0887\"],[0.1111111111111111,\"#46039f\"],[0.2222222222222222,\"#7201a8\"],[0.3333333333333333,\"#9c179e\"],[0.4444444444444444,\"#bd3786\"],[0.5555555555555556,\"#d8576b\"],[0.6666666666666666,\"#ed7953\"],[0.7777777777777778,\"#fb9f3a\"],[0.8888888888888888,\"#fdca26\"],[1.0,\"#f0f921\"]],\"type\":\"heatmapgl\"}],\"heatmap\":[{\"colorbar\":{\"outlinewidth\":0,\"ticks\":\"\"},\"colorscale\":[[0.0,\"#0d0887\"],[0.1111111111111111,\"#46039f\"],[0.2222222222222222,\"#7201a8\"],[0.3333333333333333,\"#9c179e\"],[0.4444444444444444,\"#bd3786\"],[0.5555555555555556,\"#d8576b\"],[0.6666666666666666,\"#ed7953\"],[0.7777777777777778,\"#fb9f3a\"],[0.8888888888888888,\"#fdca26\"],[1.0,\"#f0f921\"]],\"type\":\"heatmap\"}],\"histogram2dcontour\":[{\"colorbar\":{\"outlinewidth\":0,\"ticks\":\"\"},\"colorscale\":[[0.0,\"#0d0887\"],[0.1111111111111111,\"#46039f\"],[0.2222222222222222,\"#7201a8\"],[0.3333333333333333,\"#9c179e\"],[0.4444444444444444,\"#bd3786\"],[0.5555555555555556,\"#d8576b\"],[0.6666666666666666,\"#ed7953\"],[0.7777777777777778,\"#fb9f3a\"],[0.8888888888888888,\"#fdca26\"],[1.0,\"#f0f921\"]],\"type\":\"histogram2dcontour\"}],\"histogram2d\":[{\"colorbar\":{\"outlinewidth\":0,\"ticks\":\"\"},\"colorscale\":[[0.0,\"#0d0887\"],[0.1111111111111111,\"#46039f\"],[0.2222222222222222,\"#7201a8\"],[0.3333333333333333,\"#9c179e\"],[0.4444444444444444,\"#bd3786\"],[0.5555555555555556,\"#d8576b\"],[0.6666666666666666,\"#ed7953\"],[0.7777777777777778,\"#fb9f3a\"],[0.8888888888888888,\"#fdca26\"],[1.0,\"#f0f921\"]],\"type\":\"histogram2d\"}],\"histogram\":[{\"marker\":{\"pattern\":{\"fillmode\":\"overlay\",\"size\":10,\"solidity\":0.2}},\"type\":\"histogram\"}],\"mesh3d\":[{\"colorbar\":{\"outlinewidth\":0,\"ticks\":\"\"},\"type\":\"mesh3d\"}],\"parcoords\":[{\"line\":{\"colorbar\":{\"outlinewidth\":0,\"ticks\":\"\"}},\"type\":\"parcoords\"}],\"pie\":[{\"automargin\":true,\"type\":\"pie\"}],\"scatter3d\":[{\"line\":{\"colorbar\":{\"outlinewidth\":0,\"ticks\":\"\"}},\"marker\":{\"colorbar\":{\"outlinewidth\":0,\"ticks\":\"\"}},\"type\":\"scatter3d\"}],\"scattercarpet\":[{\"marker\":{\"colorbar\":{\"outlinewidth\":0,\"ticks\":\"\"}},\"type\":\"scattercarpet\"}],\"scattergeo\":[{\"marker\":{\"colorbar\":{\"outlinewidth\":0,\"ticks\":\"\"}},\"type\":\"scattergeo\"}],\"scattergl\":[{\"marker\":{\"colorbar\":{\"outlinewidth\":0,\"ticks\":\"\"}},\"type\":\"scattergl\"}],\"scattermapbox\":[{\"marker\":{\"colorbar\":{\"outlinewidth\":0,\"ticks\":\"\"}},\"type\":\"scattermapbox\"}],\"scatterpolargl\":[{\"marker\":{\"colorbar\":{\"outlinewidth\":0,\"ticks\":\"\"}},\"type\":\"scatterpolargl\"}],\"scatterpolar\":[{\"marker\":{\"colorbar\":{\"outlinewidth\":0,\"ticks\":\"\"}},\"type\":\"scatterpolar\"}],\"scatter\":[{\"fillpattern\":{\"fillmode\":\"overlay\",\"size\":10,\"solidity\":0.2},\"type\":\"scatter\"}],\"scatterternary\":[{\"marker\":{\"colorbar\":{\"outlinewidth\":0,\"ticks\":\"\"}},\"type\":\"scatterternary\"}],\"surface\":[{\"colorbar\":{\"outlinewidth\":0,\"ticks\":\"\"},\"colorscale\":[[0.0,\"#0d0887\"],[0.1111111111111111,\"#46039f\"],[0.2222222222222222,\"#7201a8\"],[0.3333333333333333,\"#9c179e\"],[0.4444444444444444,\"#bd3786\"],[0.5555555555555556,\"#d8576b\"],[0.6666666666666666,\"#ed7953\"],[0.7777777777777778,\"#fb9f3a\"],[0.8888888888888888,\"#fdca26\"],[1.0,\"#f0f921\"]],\"type\":\"surface\"}],\"table\":[{\"cells\":{\"fill\":{\"color\":\"#EBF0F8\"},\"line\":{\"color\":\"white\"}},\"header\":{\"fill\":{\"color\":\"#C8D4E3\"},\"line\":{\"color\":\"white\"}},\"type\":\"table\"}]},\"layout\":{\"annotationdefaults\":{\"arrowcolor\":\"#2a3f5f\",\"arrowhead\":0,\"arrowwidth\":1},\"autotypenumbers\":\"strict\",\"coloraxis\":{\"colorbar\":{\"outlinewidth\":0,\"ticks\":\"\"}},\"colorscale\":{\"diverging\":[[0,\"#8e0152\"],[0.1,\"#c51b7d\"],[0.2,\"#de77ae\"],[0.3,\"#f1b6da\"],[0.4,\"#fde0ef\"],[0.5,\"#f7f7f7\"],[0.6,\"#e6f5d0\"],[0.7,\"#b8e186\"],[0.8,\"#7fbc41\"],[0.9,\"#4d9221\"],[1,\"#276419\"]],\"sequential\":[[0.0,\"#0d0887\"],[0.1111111111111111,\"#46039f\"],[0.2222222222222222,\"#7201a8\"],[0.3333333333333333,\"#9c179e\"],[0.4444444444444444,\"#bd3786\"],[0.5555555555555556,\"#d8576b\"],[0.6666666666666666,\"#ed7953\"],[0.7777777777777778,\"#fb9f3a\"],[0.8888888888888888,\"#fdca26\"],[1.0,\"#f0f921\"]],\"sequentialminus\":[[0.0,\"#0d0887\"],[0.1111111111111111,\"#46039f\"],[0.2222222222222222,\"#7201a8\"],[0.3333333333333333,\"#9c179e\"],[0.4444444444444444,\"#bd3786\"],[0.5555555555555556,\"#d8576b\"],[0.6666666666666666,\"#ed7953\"],[0.7777777777777778,\"#fb9f3a\"],[0.8888888888888888,\"#fdca26\"],[1.0,\"#f0f921\"]]},\"colorway\":[\"#636efa\",\"#EF553B\",\"#00cc96\",\"#ab63fa\",\"#FFA15A\",\"#19d3f3\",\"#FF6692\",\"#B6E880\",\"#FF97FF\",\"#FECB52\"],\"font\":{\"color\":\"#2a3f5f\"},\"geo\":{\"bgcolor\":\"white\",\"lakecolor\":\"white\",\"landcolor\":\"#E5ECF6\",\"showlakes\":true,\"showland\":true,\"subunitcolor\":\"white\"},\"hoverlabel\":{\"align\":\"left\"},\"hovermode\":\"closest\",\"mapbox\":{\"style\":\"light\"},\"paper_bgcolor\":\"white\",\"plot_bgcolor\":\"#E5ECF6\",\"polar\":{\"angularaxis\":{\"gridcolor\":\"white\",\"linecolor\":\"white\",\"ticks\":\"\"},\"bgcolor\":\"#E5ECF6\",\"radialaxis\":{\"gridcolor\":\"white\",\"linecolor\":\"white\",\"ticks\":\"\"}},\"scene\":{\"xaxis\":{\"backgroundcolor\":\"#E5ECF6\",\"gridcolor\":\"white\",\"gridwidth\":2,\"linecolor\":\"white\",\"showbackground\":true,\"ticks\":\"\",\"zerolinecolor\":\"white\"},\"yaxis\":{\"backgroundcolor\":\"#E5ECF6\",\"gridcolor\":\"white\",\"gridwidth\":2,\"linecolor\":\"white\",\"showbackground\":true,\"ticks\":\"\",\"zerolinecolor\":\"white\"},\"zaxis\":{\"backgroundcolor\":\"#E5ECF6\",\"gridcolor\":\"white\",\"gridwidth\":2,\"linecolor\":\"white\",\"showbackground\":true,\"ticks\":\"\",\"zerolinecolor\":\"white\"}},\"shapedefaults\":{\"line\":{\"color\":\"#2a3f5f\"}},\"ternary\":{\"aaxis\":{\"gridcolor\":\"white\",\"linecolor\":\"white\",\"ticks\":\"\"},\"baxis\":{\"gridcolor\":\"white\",\"linecolor\":\"white\",\"ticks\":\"\"},\"bgcolor\":\"#E5ECF6\",\"caxis\":{\"gridcolor\":\"white\",\"linecolor\":\"white\",\"ticks\":\"\"}},\"title\":{\"x\":0.05},\"xaxis\":{\"automargin\":true,\"gridcolor\":\"white\",\"linecolor\":\"white\",\"ticks\":\"\",\"title\":{\"standoff\":15},\"zerolinecolor\":\"white\",\"zerolinewidth\":2},\"yaxis\":{\"automargin\":true,\"gridcolor\":\"white\",\"linecolor\":\"white\",\"ticks\":\"\",\"title\":{\"standoff\":15},\"zerolinecolor\":\"white\",\"zerolinewidth\":2}}},\"title\":{\"font\":{\"color\":\"#4D5663\"}},\"xaxis\":{\"gridcolor\":\"#E1E5ED\",\"showgrid\":true,\"tickfont\":{\"color\":\"#4D5663\"},\"title\":{\"font\":{\"color\":\"#4D5663\"},\"text\":\"\"},\"zerolinecolor\":\"#E1E5ED\"},\"yaxis\":{\"gridcolor\":\"#E1E5ED\",\"showgrid\":true,\"tickfont\":{\"color\":\"#4D5663\"},\"title\":{\"font\":{\"color\":\"#4D5663\"},\"text\":\"\"},\"zerolinecolor\":\"#E1E5ED\"}},                        {\"showLink\": true, \"linkText\": \"Export to plot.ly\", \"plotlyServerURL\": \"https://plot.ly\", \"responsive\": true}                    ).then(function(){\n",
       "                            \n",
       "var gd = document.getElementById('6e4867e9-be67-4db4-9223-f50ab7ad2efd');\n",
       "var x = new MutationObserver(function (mutations, observer) {{\n",
       "        var display = window.getComputedStyle(gd).display;\n",
       "        if (!display || display === 'none') {{\n",
       "            console.log([gd, 'removed!']);\n",
       "            Plotly.purge(gd);\n",
       "            observer.disconnect();\n",
       "        }}\n",
       "}});\n",
       "\n",
       "// Listen for the removal of the full notebook cells\n",
       "var notebookContainer = gd.closest('#notebook-container');\n",
       "if (notebookContainer) {{\n",
       "    x.observe(notebookContainer, {childList: true});\n",
       "}}\n",
       "\n",
       "// Listen for the clearing of the current output cell\n",
       "var outputEl = gd.closest('.output');\n",
       "if (outputEl) {{\n",
       "    x.observe(outputEl, {childList: true});\n",
       "}}\n",
       "\n",
       "                        })                };                });            </script>        </div>"
      ]
     },
     "metadata": {},
     "output_type": "display_data"
    }
   ],
   "source": [
    "df4.iplot(kind='surface')"
   ]
  },
  {
   "cell_type": "code",
   "execution_count": 28,
   "id": "ebcc904d",
   "metadata": {},
   "outputs": [
    {
     "data": {
      "application/vnd.plotly.v1+json": {
       "config": {
        "linkText": "Export to plot.ly",
        "plotlyServerURL": "https://plot.ly",
        "showLink": true
       },
       "data": [
        {
         "colorscale": [
          [
           0,
           "rgb(165,0,38)"
          ],
          [
           0.1,
           "rgb(215,48,39)"
          ],
          [
           0.2,
           "rgb(244,109,67)"
          ],
          [
           0.3,
           "rgb(253,174,97)"
          ],
          [
           0.4,
           "rgb(254,224,144)"
          ],
          [
           0.5,
           "rgb(255,255,191)"
          ],
          [
           0.6,
           "rgb(224,243,248)"
          ],
          [
           0.7,
           "rgb(171,217,233)"
          ],
          [
           0.8,
           "rgb(116,173,209)"
          ],
          [
           0.9,
           "rgb(69,117,180)"
          ],
          [
           1,
           "rgb(49,54,149)"
          ]
         ],
         "type": "surface",
         "x": [
          0,
          1,
          2,
          3,
          4
         ],
         "y": [
          "x",
          "y",
          "z"
         ],
         "z": [
          [
           1,
           2,
           3,
           4,
           5
          ],
          [
           10,
           20,
           30,
           20,
           10
          ],
          [
           5,
           4,
           3,
           2,
           1
          ]
         ]
        }
       ],
       "layout": {
        "legend": {
         "bgcolor": "#F5F6F9",
         "font": {
          "color": "#4D5663"
         }
        },
        "paper_bgcolor": "#F5F6F9",
        "plot_bgcolor": "#F5F6F9",
        "template": {
         "data": {
          "bar": [
           {
            "error_x": {
             "color": "#2a3f5f"
            },
            "error_y": {
             "color": "#2a3f5f"
            },
            "marker": {
             "line": {
              "color": "#E5ECF6",
              "width": 0.5
             },
             "pattern": {
              "fillmode": "overlay",
              "size": 10,
              "solidity": 0.2
             }
            },
            "type": "bar"
           }
          ],
          "barpolar": [
           {
            "marker": {
             "line": {
              "color": "#E5ECF6",
              "width": 0.5
             },
             "pattern": {
              "fillmode": "overlay",
              "size": 10,
              "solidity": 0.2
             }
            },
            "type": "barpolar"
           }
          ],
          "carpet": [
           {
            "aaxis": {
             "endlinecolor": "#2a3f5f",
             "gridcolor": "white",
             "linecolor": "white",
             "minorgridcolor": "white",
             "startlinecolor": "#2a3f5f"
            },
            "baxis": {
             "endlinecolor": "#2a3f5f",
             "gridcolor": "white",
             "linecolor": "white",
             "minorgridcolor": "white",
             "startlinecolor": "#2a3f5f"
            },
            "type": "carpet"
           }
          ],
          "choropleth": [
           {
            "colorbar": {
             "outlinewidth": 0,
             "ticks": ""
            },
            "type": "choropleth"
           }
          ],
          "contour": [
           {
            "colorbar": {
             "outlinewidth": 0,
             "ticks": ""
            },
            "colorscale": [
             [
              0,
              "#0d0887"
             ],
             [
              0.1111111111111111,
              "#46039f"
             ],
             [
              0.2222222222222222,
              "#7201a8"
             ],
             [
              0.3333333333333333,
              "#9c179e"
             ],
             [
              0.4444444444444444,
              "#bd3786"
             ],
             [
              0.5555555555555556,
              "#d8576b"
             ],
             [
              0.6666666666666666,
              "#ed7953"
             ],
             [
              0.7777777777777778,
              "#fb9f3a"
             ],
             [
              0.8888888888888888,
              "#fdca26"
             ],
             [
              1,
              "#f0f921"
             ]
            ],
            "type": "contour"
           }
          ],
          "contourcarpet": [
           {
            "colorbar": {
             "outlinewidth": 0,
             "ticks": ""
            },
            "type": "contourcarpet"
           }
          ],
          "heatmap": [
           {
            "colorbar": {
             "outlinewidth": 0,
             "ticks": ""
            },
            "colorscale": [
             [
              0,
              "#0d0887"
             ],
             [
              0.1111111111111111,
              "#46039f"
             ],
             [
              0.2222222222222222,
              "#7201a8"
             ],
             [
              0.3333333333333333,
              "#9c179e"
             ],
             [
              0.4444444444444444,
              "#bd3786"
             ],
             [
              0.5555555555555556,
              "#d8576b"
             ],
             [
              0.6666666666666666,
              "#ed7953"
             ],
             [
              0.7777777777777778,
              "#fb9f3a"
             ],
             [
              0.8888888888888888,
              "#fdca26"
             ],
             [
              1,
              "#f0f921"
             ]
            ],
            "type": "heatmap"
           }
          ],
          "heatmapgl": [
           {
            "colorbar": {
             "outlinewidth": 0,
             "ticks": ""
            },
            "colorscale": [
             [
              0,
              "#0d0887"
             ],
             [
              0.1111111111111111,
              "#46039f"
             ],
             [
              0.2222222222222222,
              "#7201a8"
             ],
             [
              0.3333333333333333,
              "#9c179e"
             ],
             [
              0.4444444444444444,
              "#bd3786"
             ],
             [
              0.5555555555555556,
              "#d8576b"
             ],
             [
              0.6666666666666666,
              "#ed7953"
             ],
             [
              0.7777777777777778,
              "#fb9f3a"
             ],
             [
              0.8888888888888888,
              "#fdca26"
             ],
             [
              1,
              "#f0f921"
             ]
            ],
            "type": "heatmapgl"
           }
          ],
          "histogram": [
           {
            "marker": {
             "pattern": {
              "fillmode": "overlay",
              "size": 10,
              "solidity": 0.2
             }
            },
            "type": "histogram"
           }
          ],
          "histogram2d": [
           {
            "colorbar": {
             "outlinewidth": 0,
             "ticks": ""
            },
            "colorscale": [
             [
              0,
              "#0d0887"
             ],
             [
              0.1111111111111111,
              "#46039f"
             ],
             [
              0.2222222222222222,
              "#7201a8"
             ],
             [
              0.3333333333333333,
              "#9c179e"
             ],
             [
              0.4444444444444444,
              "#bd3786"
             ],
             [
              0.5555555555555556,
              "#d8576b"
             ],
             [
              0.6666666666666666,
              "#ed7953"
             ],
             [
              0.7777777777777778,
              "#fb9f3a"
             ],
             [
              0.8888888888888888,
              "#fdca26"
             ],
             [
              1,
              "#f0f921"
             ]
            ],
            "type": "histogram2d"
           }
          ],
          "histogram2dcontour": [
           {
            "colorbar": {
             "outlinewidth": 0,
             "ticks": ""
            },
            "colorscale": [
             [
              0,
              "#0d0887"
             ],
             [
              0.1111111111111111,
              "#46039f"
             ],
             [
              0.2222222222222222,
              "#7201a8"
             ],
             [
              0.3333333333333333,
              "#9c179e"
             ],
             [
              0.4444444444444444,
              "#bd3786"
             ],
             [
              0.5555555555555556,
              "#d8576b"
             ],
             [
              0.6666666666666666,
              "#ed7953"
             ],
             [
              0.7777777777777778,
              "#fb9f3a"
             ],
             [
              0.8888888888888888,
              "#fdca26"
             ],
             [
              1,
              "#f0f921"
             ]
            ],
            "type": "histogram2dcontour"
           }
          ],
          "mesh3d": [
           {
            "colorbar": {
             "outlinewidth": 0,
             "ticks": ""
            },
            "type": "mesh3d"
           }
          ],
          "parcoords": [
           {
            "line": {
             "colorbar": {
              "outlinewidth": 0,
              "ticks": ""
             }
            },
            "type": "parcoords"
           }
          ],
          "pie": [
           {
            "automargin": true,
            "type": "pie"
           }
          ],
          "scatter": [
           {
            "fillpattern": {
             "fillmode": "overlay",
             "size": 10,
             "solidity": 0.2
            },
            "type": "scatter"
           }
          ],
          "scatter3d": [
           {
            "line": {
             "colorbar": {
              "outlinewidth": 0,
              "ticks": ""
             }
            },
            "marker": {
             "colorbar": {
              "outlinewidth": 0,
              "ticks": ""
             }
            },
            "type": "scatter3d"
           }
          ],
          "scattercarpet": [
           {
            "marker": {
             "colorbar": {
              "outlinewidth": 0,
              "ticks": ""
             }
            },
            "type": "scattercarpet"
           }
          ],
          "scattergeo": [
           {
            "marker": {
             "colorbar": {
              "outlinewidth": 0,
              "ticks": ""
             }
            },
            "type": "scattergeo"
           }
          ],
          "scattergl": [
           {
            "marker": {
             "colorbar": {
              "outlinewidth": 0,
              "ticks": ""
             }
            },
            "type": "scattergl"
           }
          ],
          "scattermapbox": [
           {
            "marker": {
             "colorbar": {
              "outlinewidth": 0,
              "ticks": ""
             }
            },
            "type": "scattermapbox"
           }
          ],
          "scatterpolar": [
           {
            "marker": {
             "colorbar": {
              "outlinewidth": 0,
              "ticks": ""
             }
            },
            "type": "scatterpolar"
           }
          ],
          "scatterpolargl": [
           {
            "marker": {
             "colorbar": {
              "outlinewidth": 0,
              "ticks": ""
             }
            },
            "type": "scatterpolargl"
           }
          ],
          "scatterternary": [
           {
            "marker": {
             "colorbar": {
              "outlinewidth": 0,
              "ticks": ""
             }
            },
            "type": "scatterternary"
           }
          ],
          "surface": [
           {
            "colorbar": {
             "outlinewidth": 0,
             "ticks": ""
            },
            "colorscale": [
             [
              0,
              "#0d0887"
             ],
             [
              0.1111111111111111,
              "#46039f"
             ],
             [
              0.2222222222222222,
              "#7201a8"
             ],
             [
              0.3333333333333333,
              "#9c179e"
             ],
             [
              0.4444444444444444,
              "#bd3786"
             ],
             [
              0.5555555555555556,
              "#d8576b"
             ],
             [
              0.6666666666666666,
              "#ed7953"
             ],
             [
              0.7777777777777778,
              "#fb9f3a"
             ],
             [
              0.8888888888888888,
              "#fdca26"
             ],
             [
              1,
              "#f0f921"
             ]
            ],
            "type": "surface"
           }
          ],
          "table": [
           {
            "cells": {
             "fill": {
              "color": "#EBF0F8"
             },
             "line": {
              "color": "white"
             }
            },
            "header": {
             "fill": {
              "color": "#C8D4E3"
             },
             "line": {
              "color": "white"
             }
            },
            "type": "table"
           }
          ]
         },
         "layout": {
          "annotationdefaults": {
           "arrowcolor": "#2a3f5f",
           "arrowhead": 0,
           "arrowwidth": 1
          },
          "autotypenumbers": "strict",
          "coloraxis": {
           "colorbar": {
            "outlinewidth": 0,
            "ticks": ""
           }
          },
          "colorscale": {
           "diverging": [
            [
             0,
             "#8e0152"
            ],
            [
             0.1,
             "#c51b7d"
            ],
            [
             0.2,
             "#de77ae"
            ],
            [
             0.3,
             "#f1b6da"
            ],
            [
             0.4,
             "#fde0ef"
            ],
            [
             0.5,
             "#f7f7f7"
            ],
            [
             0.6,
             "#e6f5d0"
            ],
            [
             0.7,
             "#b8e186"
            ],
            [
             0.8,
             "#7fbc41"
            ],
            [
             0.9,
             "#4d9221"
            ],
            [
             1,
             "#276419"
            ]
           ],
           "sequential": [
            [
             0,
             "#0d0887"
            ],
            [
             0.1111111111111111,
             "#46039f"
            ],
            [
             0.2222222222222222,
             "#7201a8"
            ],
            [
             0.3333333333333333,
             "#9c179e"
            ],
            [
             0.4444444444444444,
             "#bd3786"
            ],
            [
             0.5555555555555556,
             "#d8576b"
            ],
            [
             0.6666666666666666,
             "#ed7953"
            ],
            [
             0.7777777777777778,
             "#fb9f3a"
            ],
            [
             0.8888888888888888,
             "#fdca26"
            ],
            [
             1,
             "#f0f921"
            ]
           ],
           "sequentialminus": [
            [
             0,
             "#0d0887"
            ],
            [
             0.1111111111111111,
             "#46039f"
            ],
            [
             0.2222222222222222,
             "#7201a8"
            ],
            [
             0.3333333333333333,
             "#9c179e"
            ],
            [
             0.4444444444444444,
             "#bd3786"
            ],
            [
             0.5555555555555556,
             "#d8576b"
            ],
            [
             0.6666666666666666,
             "#ed7953"
            ],
            [
             0.7777777777777778,
             "#fb9f3a"
            ],
            [
             0.8888888888888888,
             "#fdca26"
            ],
            [
             1,
             "#f0f921"
            ]
           ]
          },
          "colorway": [
           "#636efa",
           "#EF553B",
           "#00cc96",
           "#ab63fa",
           "#FFA15A",
           "#19d3f3",
           "#FF6692",
           "#B6E880",
           "#FF97FF",
           "#FECB52"
          ],
          "font": {
           "color": "#2a3f5f"
          },
          "geo": {
           "bgcolor": "white",
           "lakecolor": "white",
           "landcolor": "#E5ECF6",
           "showlakes": true,
           "showland": true,
           "subunitcolor": "white"
          },
          "hoverlabel": {
           "align": "left"
          },
          "hovermode": "closest",
          "mapbox": {
           "style": "light"
          },
          "paper_bgcolor": "white",
          "plot_bgcolor": "#E5ECF6",
          "polar": {
           "angularaxis": {
            "gridcolor": "white",
            "linecolor": "white",
            "ticks": ""
           },
           "bgcolor": "#E5ECF6",
           "radialaxis": {
            "gridcolor": "white",
            "linecolor": "white",
            "ticks": ""
           }
          },
          "scene": {
           "xaxis": {
            "backgroundcolor": "#E5ECF6",
            "gridcolor": "white",
            "gridwidth": 2,
            "linecolor": "white",
            "showbackground": true,
            "ticks": "",
            "zerolinecolor": "white"
           },
           "yaxis": {
            "backgroundcolor": "#E5ECF6",
            "gridcolor": "white",
            "gridwidth": 2,
            "linecolor": "white",
            "showbackground": true,
            "ticks": "",
            "zerolinecolor": "white"
           },
           "zaxis": {
            "backgroundcolor": "#E5ECF6",
            "gridcolor": "white",
            "gridwidth": 2,
            "linecolor": "white",
            "showbackground": true,
            "ticks": "",
            "zerolinecolor": "white"
           }
          },
          "shapedefaults": {
           "line": {
            "color": "#2a3f5f"
           }
          },
          "ternary": {
           "aaxis": {
            "gridcolor": "white",
            "linecolor": "white",
            "ticks": ""
           },
           "baxis": {
            "gridcolor": "white",
            "linecolor": "white",
            "ticks": ""
           },
           "bgcolor": "#E5ECF6",
           "caxis": {
            "gridcolor": "white",
            "linecolor": "white",
            "ticks": ""
           }
          },
          "title": {
           "x": 0.05
          },
          "xaxis": {
           "automargin": true,
           "gridcolor": "white",
           "linecolor": "white",
           "ticks": "",
           "title": {
            "standoff": 15
           },
           "zerolinecolor": "white",
           "zerolinewidth": 2
          },
          "yaxis": {
           "automargin": true,
           "gridcolor": "white",
           "linecolor": "white",
           "ticks": "",
           "title": {
            "standoff": 15
           },
           "zerolinecolor": "white",
           "zerolinewidth": 2
          }
         }
        },
        "title": {
         "font": {
          "color": "#4D5663"
         }
        },
        "xaxis": {
         "gridcolor": "#E1E5ED",
         "showgrid": true,
         "tickfont": {
          "color": "#4D5663"
         },
         "title": {
          "font": {
           "color": "#4D5663"
          },
          "text": ""
         },
         "zerolinecolor": "#E1E5ED"
        },
        "yaxis": {
         "gridcolor": "#E1E5ED",
         "showgrid": true,
         "tickfont": {
          "color": "#4D5663"
         },
         "title": {
          "font": {
           "color": "#4D5663"
          },
          "text": ""
         },
         "zerolinecolor": "#E1E5ED"
        }
       }
      },
      "text/html": [
       "<div>                            <div id=\"4b9fbda0-64a8-475d-9b6f-f6d2ea633a34\" class=\"plotly-graph-div\" style=\"height:525px; width:100%;\"></div>            <script type=\"text/javascript\">                require([\"plotly\"], function(Plotly) {                    window.PLOTLYENV=window.PLOTLYENV || {};\n",
       "                    window.PLOTLYENV.BASE_URL='https://plot.ly';                                    if (document.getElementById(\"4b9fbda0-64a8-475d-9b6f-f6d2ea633a34\")) {                    Plotly.newPlot(                        \"4b9fbda0-64a8-475d-9b6f-f6d2ea633a34\",                        [{\"colorscale\":[[0.0,\"rgb(165,0,38)\"],[0.1,\"rgb(215,48,39)\"],[0.2,\"rgb(244,109,67)\"],[0.3,\"rgb(253,174,97)\"],[0.4,\"rgb(254,224,144)\"],[0.5,\"rgb(255,255,191)\"],[0.6,\"rgb(224,243,248)\"],[0.7,\"rgb(171,217,233)\"],[0.8,\"rgb(116,173,209)\"],[0.9,\"rgb(69,117,180)\"],[1.0,\"rgb(49,54,149)\"]],\"x\":[0,1,2,3,4],\"y\":[\"x\",\"y\",\"z\"],\"z\":[[1,2,3,4,5],[10,20,30,20,10],[5,4,3,2,1]],\"type\":\"surface\"}],                        {\"legend\":{\"bgcolor\":\"#F5F6F9\",\"font\":{\"color\":\"#4D5663\"}},\"paper_bgcolor\":\"#F5F6F9\",\"plot_bgcolor\":\"#F5F6F9\",\"template\":{\"data\":{\"barpolar\":[{\"marker\":{\"line\":{\"color\":\"#E5ECF6\",\"width\":0.5},\"pattern\":{\"fillmode\":\"overlay\",\"size\":10,\"solidity\":0.2}},\"type\":\"barpolar\"}],\"bar\":[{\"error_x\":{\"color\":\"#2a3f5f\"},\"error_y\":{\"color\":\"#2a3f5f\"},\"marker\":{\"line\":{\"color\":\"#E5ECF6\",\"width\":0.5},\"pattern\":{\"fillmode\":\"overlay\",\"size\":10,\"solidity\":0.2}},\"type\":\"bar\"}],\"carpet\":[{\"aaxis\":{\"endlinecolor\":\"#2a3f5f\",\"gridcolor\":\"white\",\"linecolor\":\"white\",\"minorgridcolor\":\"white\",\"startlinecolor\":\"#2a3f5f\"},\"baxis\":{\"endlinecolor\":\"#2a3f5f\",\"gridcolor\":\"white\",\"linecolor\":\"white\",\"minorgridcolor\":\"white\",\"startlinecolor\":\"#2a3f5f\"},\"type\":\"carpet\"}],\"choropleth\":[{\"colorbar\":{\"outlinewidth\":0,\"ticks\":\"\"},\"type\":\"choropleth\"}],\"contourcarpet\":[{\"colorbar\":{\"outlinewidth\":0,\"ticks\":\"\"},\"type\":\"contourcarpet\"}],\"contour\":[{\"colorbar\":{\"outlinewidth\":0,\"ticks\":\"\"},\"colorscale\":[[0.0,\"#0d0887\"],[0.1111111111111111,\"#46039f\"],[0.2222222222222222,\"#7201a8\"],[0.3333333333333333,\"#9c179e\"],[0.4444444444444444,\"#bd3786\"],[0.5555555555555556,\"#d8576b\"],[0.6666666666666666,\"#ed7953\"],[0.7777777777777778,\"#fb9f3a\"],[0.8888888888888888,\"#fdca26\"],[1.0,\"#f0f921\"]],\"type\":\"contour\"}],\"heatmapgl\":[{\"colorbar\":{\"outlinewidth\":0,\"ticks\":\"\"},\"colorscale\":[[0.0,\"#0d0887\"],[0.1111111111111111,\"#46039f\"],[0.2222222222222222,\"#7201a8\"],[0.3333333333333333,\"#9c179e\"],[0.4444444444444444,\"#bd3786\"],[0.5555555555555556,\"#d8576b\"],[0.6666666666666666,\"#ed7953\"],[0.7777777777777778,\"#fb9f3a\"],[0.8888888888888888,\"#fdca26\"],[1.0,\"#f0f921\"]],\"type\":\"heatmapgl\"}],\"heatmap\":[{\"colorbar\":{\"outlinewidth\":0,\"ticks\":\"\"},\"colorscale\":[[0.0,\"#0d0887\"],[0.1111111111111111,\"#46039f\"],[0.2222222222222222,\"#7201a8\"],[0.3333333333333333,\"#9c179e\"],[0.4444444444444444,\"#bd3786\"],[0.5555555555555556,\"#d8576b\"],[0.6666666666666666,\"#ed7953\"],[0.7777777777777778,\"#fb9f3a\"],[0.8888888888888888,\"#fdca26\"],[1.0,\"#f0f921\"]],\"type\":\"heatmap\"}],\"histogram2dcontour\":[{\"colorbar\":{\"outlinewidth\":0,\"ticks\":\"\"},\"colorscale\":[[0.0,\"#0d0887\"],[0.1111111111111111,\"#46039f\"],[0.2222222222222222,\"#7201a8\"],[0.3333333333333333,\"#9c179e\"],[0.4444444444444444,\"#bd3786\"],[0.5555555555555556,\"#d8576b\"],[0.6666666666666666,\"#ed7953\"],[0.7777777777777778,\"#fb9f3a\"],[0.8888888888888888,\"#fdca26\"],[1.0,\"#f0f921\"]],\"type\":\"histogram2dcontour\"}],\"histogram2d\":[{\"colorbar\":{\"outlinewidth\":0,\"ticks\":\"\"},\"colorscale\":[[0.0,\"#0d0887\"],[0.1111111111111111,\"#46039f\"],[0.2222222222222222,\"#7201a8\"],[0.3333333333333333,\"#9c179e\"],[0.4444444444444444,\"#bd3786\"],[0.5555555555555556,\"#d8576b\"],[0.6666666666666666,\"#ed7953\"],[0.7777777777777778,\"#fb9f3a\"],[0.8888888888888888,\"#fdca26\"],[1.0,\"#f0f921\"]],\"type\":\"histogram2d\"}],\"histogram\":[{\"marker\":{\"pattern\":{\"fillmode\":\"overlay\",\"size\":10,\"solidity\":0.2}},\"type\":\"histogram\"}],\"mesh3d\":[{\"colorbar\":{\"outlinewidth\":0,\"ticks\":\"\"},\"type\":\"mesh3d\"}],\"parcoords\":[{\"line\":{\"colorbar\":{\"outlinewidth\":0,\"ticks\":\"\"}},\"type\":\"parcoords\"}],\"pie\":[{\"automargin\":true,\"type\":\"pie\"}],\"scatter3d\":[{\"line\":{\"colorbar\":{\"outlinewidth\":0,\"ticks\":\"\"}},\"marker\":{\"colorbar\":{\"outlinewidth\":0,\"ticks\":\"\"}},\"type\":\"scatter3d\"}],\"scattercarpet\":[{\"marker\":{\"colorbar\":{\"outlinewidth\":0,\"ticks\":\"\"}},\"type\":\"scattercarpet\"}],\"scattergeo\":[{\"marker\":{\"colorbar\":{\"outlinewidth\":0,\"ticks\":\"\"}},\"type\":\"scattergeo\"}],\"scattergl\":[{\"marker\":{\"colorbar\":{\"outlinewidth\":0,\"ticks\":\"\"}},\"type\":\"scattergl\"}],\"scattermapbox\":[{\"marker\":{\"colorbar\":{\"outlinewidth\":0,\"ticks\":\"\"}},\"type\":\"scattermapbox\"}],\"scatterpolargl\":[{\"marker\":{\"colorbar\":{\"outlinewidth\":0,\"ticks\":\"\"}},\"type\":\"scatterpolargl\"}],\"scatterpolar\":[{\"marker\":{\"colorbar\":{\"outlinewidth\":0,\"ticks\":\"\"}},\"type\":\"scatterpolar\"}],\"scatter\":[{\"fillpattern\":{\"fillmode\":\"overlay\",\"size\":10,\"solidity\":0.2},\"type\":\"scatter\"}],\"scatterternary\":[{\"marker\":{\"colorbar\":{\"outlinewidth\":0,\"ticks\":\"\"}},\"type\":\"scatterternary\"}],\"surface\":[{\"colorbar\":{\"outlinewidth\":0,\"ticks\":\"\"},\"colorscale\":[[0.0,\"#0d0887\"],[0.1111111111111111,\"#46039f\"],[0.2222222222222222,\"#7201a8\"],[0.3333333333333333,\"#9c179e\"],[0.4444444444444444,\"#bd3786\"],[0.5555555555555556,\"#d8576b\"],[0.6666666666666666,\"#ed7953\"],[0.7777777777777778,\"#fb9f3a\"],[0.8888888888888888,\"#fdca26\"],[1.0,\"#f0f921\"]],\"type\":\"surface\"}],\"table\":[{\"cells\":{\"fill\":{\"color\":\"#EBF0F8\"},\"line\":{\"color\":\"white\"}},\"header\":{\"fill\":{\"color\":\"#C8D4E3\"},\"line\":{\"color\":\"white\"}},\"type\":\"table\"}]},\"layout\":{\"annotationdefaults\":{\"arrowcolor\":\"#2a3f5f\",\"arrowhead\":0,\"arrowwidth\":1},\"autotypenumbers\":\"strict\",\"coloraxis\":{\"colorbar\":{\"outlinewidth\":0,\"ticks\":\"\"}},\"colorscale\":{\"diverging\":[[0,\"#8e0152\"],[0.1,\"#c51b7d\"],[0.2,\"#de77ae\"],[0.3,\"#f1b6da\"],[0.4,\"#fde0ef\"],[0.5,\"#f7f7f7\"],[0.6,\"#e6f5d0\"],[0.7,\"#b8e186\"],[0.8,\"#7fbc41\"],[0.9,\"#4d9221\"],[1,\"#276419\"]],\"sequential\":[[0.0,\"#0d0887\"],[0.1111111111111111,\"#46039f\"],[0.2222222222222222,\"#7201a8\"],[0.3333333333333333,\"#9c179e\"],[0.4444444444444444,\"#bd3786\"],[0.5555555555555556,\"#d8576b\"],[0.6666666666666666,\"#ed7953\"],[0.7777777777777778,\"#fb9f3a\"],[0.8888888888888888,\"#fdca26\"],[1.0,\"#f0f921\"]],\"sequentialminus\":[[0.0,\"#0d0887\"],[0.1111111111111111,\"#46039f\"],[0.2222222222222222,\"#7201a8\"],[0.3333333333333333,\"#9c179e\"],[0.4444444444444444,\"#bd3786\"],[0.5555555555555556,\"#d8576b\"],[0.6666666666666666,\"#ed7953\"],[0.7777777777777778,\"#fb9f3a\"],[0.8888888888888888,\"#fdca26\"],[1.0,\"#f0f921\"]]},\"colorway\":[\"#636efa\",\"#EF553B\",\"#00cc96\",\"#ab63fa\",\"#FFA15A\",\"#19d3f3\",\"#FF6692\",\"#B6E880\",\"#FF97FF\",\"#FECB52\"],\"font\":{\"color\":\"#2a3f5f\"},\"geo\":{\"bgcolor\":\"white\",\"lakecolor\":\"white\",\"landcolor\":\"#E5ECF6\",\"showlakes\":true,\"showland\":true,\"subunitcolor\":\"white\"},\"hoverlabel\":{\"align\":\"left\"},\"hovermode\":\"closest\",\"mapbox\":{\"style\":\"light\"},\"paper_bgcolor\":\"white\",\"plot_bgcolor\":\"#E5ECF6\",\"polar\":{\"angularaxis\":{\"gridcolor\":\"white\",\"linecolor\":\"white\",\"ticks\":\"\"},\"bgcolor\":\"#E5ECF6\",\"radialaxis\":{\"gridcolor\":\"white\",\"linecolor\":\"white\",\"ticks\":\"\"}},\"scene\":{\"xaxis\":{\"backgroundcolor\":\"#E5ECF6\",\"gridcolor\":\"white\",\"gridwidth\":2,\"linecolor\":\"white\",\"showbackground\":true,\"ticks\":\"\",\"zerolinecolor\":\"white\"},\"yaxis\":{\"backgroundcolor\":\"#E5ECF6\",\"gridcolor\":\"white\",\"gridwidth\":2,\"linecolor\":\"white\",\"showbackground\":true,\"ticks\":\"\",\"zerolinecolor\":\"white\"},\"zaxis\":{\"backgroundcolor\":\"#E5ECF6\",\"gridcolor\":\"white\",\"gridwidth\":2,\"linecolor\":\"white\",\"showbackground\":true,\"ticks\":\"\",\"zerolinecolor\":\"white\"}},\"shapedefaults\":{\"line\":{\"color\":\"#2a3f5f\"}},\"ternary\":{\"aaxis\":{\"gridcolor\":\"white\",\"linecolor\":\"white\",\"ticks\":\"\"},\"baxis\":{\"gridcolor\":\"white\",\"linecolor\":\"white\",\"ticks\":\"\"},\"bgcolor\":\"#E5ECF6\",\"caxis\":{\"gridcolor\":\"white\",\"linecolor\":\"white\",\"ticks\":\"\"}},\"title\":{\"x\":0.05},\"xaxis\":{\"automargin\":true,\"gridcolor\":\"white\",\"linecolor\":\"white\",\"ticks\":\"\",\"title\":{\"standoff\":15},\"zerolinecolor\":\"white\",\"zerolinewidth\":2},\"yaxis\":{\"automargin\":true,\"gridcolor\":\"white\",\"linecolor\":\"white\",\"ticks\":\"\",\"title\":{\"standoff\":15},\"zerolinecolor\":\"white\",\"zerolinewidth\":2}}},\"title\":{\"font\":{\"color\":\"#4D5663\"}},\"xaxis\":{\"gridcolor\":\"#E1E5ED\",\"showgrid\":true,\"tickfont\":{\"color\":\"#4D5663\"},\"title\":{\"font\":{\"color\":\"#4D5663\"},\"text\":\"\"},\"zerolinecolor\":\"#E1E5ED\"},\"yaxis\":{\"gridcolor\":\"#E1E5ED\",\"showgrid\":true,\"tickfont\":{\"color\":\"#4D5663\"},\"title\":{\"font\":{\"color\":\"#4D5663\"},\"text\":\"\"},\"zerolinecolor\":\"#E1E5ED\"}},                        {\"showLink\": true, \"linkText\": \"Export to plot.ly\", \"plotlyServerURL\": \"https://plot.ly\", \"responsive\": true}                    ).then(function(){\n",
       "                            \n",
       "var gd = document.getElementById('4b9fbda0-64a8-475d-9b6f-f6d2ea633a34');\n",
       "var x = new MutationObserver(function (mutations, observer) {{\n",
       "        var display = window.getComputedStyle(gd).display;\n",
       "        if (!display || display === 'none') {{\n",
       "            console.log([gd, 'removed!']);\n",
       "            Plotly.purge(gd);\n",
       "            observer.disconnect();\n",
       "        }}\n",
       "}});\n",
       "\n",
       "// Listen for the removal of the full notebook cells\n",
       "var notebookContainer = gd.closest('#notebook-container');\n",
       "if (notebookContainer) {{\n",
       "    x.observe(notebookContainer, {childList: true});\n",
       "}}\n",
       "\n",
       "// Listen for the clearing of the current output cell\n",
       "var outputEl = gd.closest('.output');\n",
       "if (outputEl) {{\n",
       "    x.observe(outputEl, {childList: true});\n",
       "}}\n",
       "\n",
       "                        })                };                });            </script>        </div>"
      ]
     },
     "metadata": {},
     "output_type": "display_data"
    }
   ],
   "source": [
    "df4.iplot(kind='surface', colorscale='rdylbu')"
   ]
  },
  {
   "cell_type": "code",
   "execution_count": 30,
   "id": "97161327",
   "metadata": {},
   "outputs": [
    {
     "data": {
      "application/vnd.plotly.v1+json": {
       "config": {
        "linkText": "Export to plot.ly",
        "plotlyServerURL": "https://plot.ly",
        "showLink": true
       },
       "data": [
        {
         "histfunc": "count",
         "histnorm": "",
         "marker": {
          "color": "rgba(255, 153, 51, 1.0)",
          "line": {
           "color": "#4D5663",
           "width": 1.3
          }
         },
         "name": "A",
         "nbinsx": 50,
         "opacity": 0.8,
         "orientation": "v",
         "type": "histogram",
         "x": [
          0.43539700148335236,
          0.15819395423214852,
          0.62879333196527,
          -0.26401107422169673,
          -1.8324809705325915,
          0.7704629872779027,
          1.7497298283959724,
          -1.0015334595201602,
          -1.718240559825639,
          0.628596523719882,
          -0.42019354274908316,
          2.7136701685643403,
          -0.9378495172398871,
          0.6598021382631747,
          1.6184775733872263,
          1.3954033785382987,
          1.405495874826309,
          -1.166616968739883,
          2.365923532026527,
          1.1133259856604942,
          -1.6813679639527261,
          -0.04667403900552732,
          -0.6363654890464304,
          -1.5425012567014285,
          -1.012741270794969,
          0.12132634073101281,
          1.595602460076769,
          1.7305965984334635,
          -1.9217891095448971,
          1.1860294383645715,
          0.26201847879465384,
          -1.2055378111750752,
          2.3438810173248927,
          1.2086288002904493,
          -1.8314084636430585,
          1.7619781396825958,
          2.1031817281439817,
          -2.5307453072827966,
          1.2761298243307624,
          -1.772353423710465,
          -0.636420642902602,
          -1.930564293340949,
          -1.0610308479700656,
          -0.450655785586209,
          -2.1425651099825824,
          -1.0903966470383508,
          -0.5620779766373142,
          -0.770744501166946,
          0.317708947982711,
          0.1318688172018447,
          -1.2201324264384652,
          -0.19136686704154338,
          -0.06257792497623924,
          0.5936190711859071,
          1.1391272098088527,
          0.7464631766024825,
          -0.8977662361522014,
          0.14140290562352897,
          0.3256123427724348,
          0.9112030544266069,
          0.8357966193733269,
          1.7487601057521938,
          -0.49373510396354875,
          -0.6666213874172607,
          1.1831818138576176,
          -1.0182097832516077,
          -0.04630874727601642,
          -0.9836337689727818,
          1.9926142232426531,
          0.7440871065414701,
          0.28972919333565683,
          -0.5480211897462933,
          0.8413311240763615,
          -0.6346241128971083,
          -0.4398922253755513,
          -0.28149585930036625,
          0.6490498459345291,
          -0.23584960142982708,
          -1.5937987594535374,
          0.051213682792660656,
          -0.374994885556381,
          0.7207560378542024,
          0.5394156502485068,
          1.1572917713327477,
          -2.5643244253052964,
          -0.10181612060765612,
          0.11183773067467831,
          1.1028927065391063,
          -1.3752211222891688,
          2.16105987106691,
          -0.7898043390090209,
          1.6487450904111807,
          -1.7240798592526558,
          0.4254960002374844,
          0.2156919556300176,
          0.2031078608182616,
          0.21648296318241012,
          0.6718965344393238,
          -1.8998227182750862,
          -0.017153916755728384
         ]
        }
       ],
       "layout": {
        "barmode": "overlay",
        "legend": {
         "bgcolor": "#F5F6F9",
         "font": {
          "color": "#4D5663"
         }
        },
        "paper_bgcolor": "#F5F6F9",
        "plot_bgcolor": "#F5F6F9",
        "template": {
         "data": {
          "bar": [
           {
            "error_x": {
             "color": "#2a3f5f"
            },
            "error_y": {
             "color": "#2a3f5f"
            },
            "marker": {
             "line": {
              "color": "#E5ECF6",
              "width": 0.5
             },
             "pattern": {
              "fillmode": "overlay",
              "size": 10,
              "solidity": 0.2
             }
            },
            "type": "bar"
           }
          ],
          "barpolar": [
           {
            "marker": {
             "line": {
              "color": "#E5ECF6",
              "width": 0.5
             },
             "pattern": {
              "fillmode": "overlay",
              "size": 10,
              "solidity": 0.2
             }
            },
            "type": "barpolar"
           }
          ],
          "carpet": [
           {
            "aaxis": {
             "endlinecolor": "#2a3f5f",
             "gridcolor": "white",
             "linecolor": "white",
             "minorgridcolor": "white",
             "startlinecolor": "#2a3f5f"
            },
            "baxis": {
             "endlinecolor": "#2a3f5f",
             "gridcolor": "white",
             "linecolor": "white",
             "minorgridcolor": "white",
             "startlinecolor": "#2a3f5f"
            },
            "type": "carpet"
           }
          ],
          "choropleth": [
           {
            "colorbar": {
             "outlinewidth": 0,
             "ticks": ""
            },
            "type": "choropleth"
           }
          ],
          "contour": [
           {
            "colorbar": {
             "outlinewidth": 0,
             "ticks": ""
            },
            "colorscale": [
             [
              0,
              "#0d0887"
             ],
             [
              0.1111111111111111,
              "#46039f"
             ],
             [
              0.2222222222222222,
              "#7201a8"
             ],
             [
              0.3333333333333333,
              "#9c179e"
             ],
             [
              0.4444444444444444,
              "#bd3786"
             ],
             [
              0.5555555555555556,
              "#d8576b"
             ],
             [
              0.6666666666666666,
              "#ed7953"
             ],
             [
              0.7777777777777778,
              "#fb9f3a"
             ],
             [
              0.8888888888888888,
              "#fdca26"
             ],
             [
              1,
              "#f0f921"
             ]
            ],
            "type": "contour"
           }
          ],
          "contourcarpet": [
           {
            "colorbar": {
             "outlinewidth": 0,
             "ticks": ""
            },
            "type": "contourcarpet"
           }
          ],
          "heatmap": [
           {
            "colorbar": {
             "outlinewidth": 0,
             "ticks": ""
            },
            "colorscale": [
             [
              0,
              "#0d0887"
             ],
             [
              0.1111111111111111,
              "#46039f"
             ],
             [
              0.2222222222222222,
              "#7201a8"
             ],
             [
              0.3333333333333333,
              "#9c179e"
             ],
             [
              0.4444444444444444,
              "#bd3786"
             ],
             [
              0.5555555555555556,
              "#d8576b"
             ],
             [
              0.6666666666666666,
              "#ed7953"
             ],
             [
              0.7777777777777778,
              "#fb9f3a"
             ],
             [
              0.8888888888888888,
              "#fdca26"
             ],
             [
              1,
              "#f0f921"
             ]
            ],
            "type": "heatmap"
           }
          ],
          "heatmapgl": [
           {
            "colorbar": {
             "outlinewidth": 0,
             "ticks": ""
            },
            "colorscale": [
             [
              0,
              "#0d0887"
             ],
             [
              0.1111111111111111,
              "#46039f"
             ],
             [
              0.2222222222222222,
              "#7201a8"
             ],
             [
              0.3333333333333333,
              "#9c179e"
             ],
             [
              0.4444444444444444,
              "#bd3786"
             ],
             [
              0.5555555555555556,
              "#d8576b"
             ],
             [
              0.6666666666666666,
              "#ed7953"
             ],
             [
              0.7777777777777778,
              "#fb9f3a"
             ],
             [
              0.8888888888888888,
              "#fdca26"
             ],
             [
              1,
              "#f0f921"
             ]
            ],
            "type": "heatmapgl"
           }
          ],
          "histogram": [
           {
            "marker": {
             "pattern": {
              "fillmode": "overlay",
              "size": 10,
              "solidity": 0.2
             }
            },
            "type": "histogram"
           }
          ],
          "histogram2d": [
           {
            "colorbar": {
             "outlinewidth": 0,
             "ticks": ""
            },
            "colorscale": [
             [
              0,
              "#0d0887"
             ],
             [
              0.1111111111111111,
              "#46039f"
             ],
             [
              0.2222222222222222,
              "#7201a8"
             ],
             [
              0.3333333333333333,
              "#9c179e"
             ],
             [
              0.4444444444444444,
              "#bd3786"
             ],
             [
              0.5555555555555556,
              "#d8576b"
             ],
             [
              0.6666666666666666,
              "#ed7953"
             ],
             [
              0.7777777777777778,
              "#fb9f3a"
             ],
             [
              0.8888888888888888,
              "#fdca26"
             ],
             [
              1,
              "#f0f921"
             ]
            ],
            "type": "histogram2d"
           }
          ],
          "histogram2dcontour": [
           {
            "colorbar": {
             "outlinewidth": 0,
             "ticks": ""
            },
            "colorscale": [
             [
              0,
              "#0d0887"
             ],
             [
              0.1111111111111111,
              "#46039f"
             ],
             [
              0.2222222222222222,
              "#7201a8"
             ],
             [
              0.3333333333333333,
              "#9c179e"
             ],
             [
              0.4444444444444444,
              "#bd3786"
             ],
             [
              0.5555555555555556,
              "#d8576b"
             ],
             [
              0.6666666666666666,
              "#ed7953"
             ],
             [
              0.7777777777777778,
              "#fb9f3a"
             ],
             [
              0.8888888888888888,
              "#fdca26"
             ],
             [
              1,
              "#f0f921"
             ]
            ],
            "type": "histogram2dcontour"
           }
          ],
          "mesh3d": [
           {
            "colorbar": {
             "outlinewidth": 0,
             "ticks": ""
            },
            "type": "mesh3d"
           }
          ],
          "parcoords": [
           {
            "line": {
             "colorbar": {
              "outlinewidth": 0,
              "ticks": ""
             }
            },
            "type": "parcoords"
           }
          ],
          "pie": [
           {
            "automargin": true,
            "type": "pie"
           }
          ],
          "scatter": [
           {
            "fillpattern": {
             "fillmode": "overlay",
             "size": 10,
             "solidity": 0.2
            },
            "type": "scatter"
           }
          ],
          "scatter3d": [
           {
            "line": {
             "colorbar": {
              "outlinewidth": 0,
              "ticks": ""
             }
            },
            "marker": {
             "colorbar": {
              "outlinewidth": 0,
              "ticks": ""
             }
            },
            "type": "scatter3d"
           }
          ],
          "scattercarpet": [
           {
            "marker": {
             "colorbar": {
              "outlinewidth": 0,
              "ticks": ""
             }
            },
            "type": "scattercarpet"
           }
          ],
          "scattergeo": [
           {
            "marker": {
             "colorbar": {
              "outlinewidth": 0,
              "ticks": ""
             }
            },
            "type": "scattergeo"
           }
          ],
          "scattergl": [
           {
            "marker": {
             "colorbar": {
              "outlinewidth": 0,
              "ticks": ""
             }
            },
            "type": "scattergl"
           }
          ],
          "scattermapbox": [
           {
            "marker": {
             "colorbar": {
              "outlinewidth": 0,
              "ticks": ""
             }
            },
            "type": "scattermapbox"
           }
          ],
          "scatterpolar": [
           {
            "marker": {
             "colorbar": {
              "outlinewidth": 0,
              "ticks": ""
             }
            },
            "type": "scatterpolar"
           }
          ],
          "scatterpolargl": [
           {
            "marker": {
             "colorbar": {
              "outlinewidth": 0,
              "ticks": ""
             }
            },
            "type": "scatterpolargl"
           }
          ],
          "scatterternary": [
           {
            "marker": {
             "colorbar": {
              "outlinewidth": 0,
              "ticks": ""
             }
            },
            "type": "scatterternary"
           }
          ],
          "surface": [
           {
            "colorbar": {
             "outlinewidth": 0,
             "ticks": ""
            },
            "colorscale": [
             [
              0,
              "#0d0887"
             ],
             [
              0.1111111111111111,
              "#46039f"
             ],
             [
              0.2222222222222222,
              "#7201a8"
             ],
             [
              0.3333333333333333,
              "#9c179e"
             ],
             [
              0.4444444444444444,
              "#bd3786"
             ],
             [
              0.5555555555555556,
              "#d8576b"
             ],
             [
              0.6666666666666666,
              "#ed7953"
             ],
             [
              0.7777777777777778,
              "#fb9f3a"
             ],
             [
              0.8888888888888888,
              "#fdca26"
             ],
             [
              1,
              "#f0f921"
             ]
            ],
            "type": "surface"
           }
          ],
          "table": [
           {
            "cells": {
             "fill": {
              "color": "#EBF0F8"
             },
             "line": {
              "color": "white"
             }
            },
            "header": {
             "fill": {
              "color": "#C8D4E3"
             },
             "line": {
              "color": "white"
             }
            },
            "type": "table"
           }
          ]
         },
         "layout": {
          "annotationdefaults": {
           "arrowcolor": "#2a3f5f",
           "arrowhead": 0,
           "arrowwidth": 1
          },
          "autotypenumbers": "strict",
          "coloraxis": {
           "colorbar": {
            "outlinewidth": 0,
            "ticks": ""
           }
          },
          "colorscale": {
           "diverging": [
            [
             0,
             "#8e0152"
            ],
            [
             0.1,
             "#c51b7d"
            ],
            [
             0.2,
             "#de77ae"
            ],
            [
             0.3,
             "#f1b6da"
            ],
            [
             0.4,
             "#fde0ef"
            ],
            [
             0.5,
             "#f7f7f7"
            ],
            [
             0.6,
             "#e6f5d0"
            ],
            [
             0.7,
             "#b8e186"
            ],
            [
             0.8,
             "#7fbc41"
            ],
            [
             0.9,
             "#4d9221"
            ],
            [
             1,
             "#276419"
            ]
           ],
           "sequential": [
            [
             0,
             "#0d0887"
            ],
            [
             0.1111111111111111,
             "#46039f"
            ],
            [
             0.2222222222222222,
             "#7201a8"
            ],
            [
             0.3333333333333333,
             "#9c179e"
            ],
            [
             0.4444444444444444,
             "#bd3786"
            ],
            [
             0.5555555555555556,
             "#d8576b"
            ],
            [
             0.6666666666666666,
             "#ed7953"
            ],
            [
             0.7777777777777778,
             "#fb9f3a"
            ],
            [
             0.8888888888888888,
             "#fdca26"
            ],
            [
             1,
             "#f0f921"
            ]
           ],
           "sequentialminus": [
            [
             0,
             "#0d0887"
            ],
            [
             0.1111111111111111,
             "#46039f"
            ],
            [
             0.2222222222222222,
             "#7201a8"
            ],
            [
             0.3333333333333333,
             "#9c179e"
            ],
            [
             0.4444444444444444,
             "#bd3786"
            ],
            [
             0.5555555555555556,
             "#d8576b"
            ],
            [
             0.6666666666666666,
             "#ed7953"
            ],
            [
             0.7777777777777778,
             "#fb9f3a"
            ],
            [
             0.8888888888888888,
             "#fdca26"
            ],
            [
             1,
             "#f0f921"
            ]
           ]
          },
          "colorway": [
           "#636efa",
           "#EF553B",
           "#00cc96",
           "#ab63fa",
           "#FFA15A",
           "#19d3f3",
           "#FF6692",
           "#B6E880",
           "#FF97FF",
           "#FECB52"
          ],
          "font": {
           "color": "#2a3f5f"
          },
          "geo": {
           "bgcolor": "white",
           "lakecolor": "white",
           "landcolor": "#E5ECF6",
           "showlakes": true,
           "showland": true,
           "subunitcolor": "white"
          },
          "hoverlabel": {
           "align": "left"
          },
          "hovermode": "closest",
          "mapbox": {
           "style": "light"
          },
          "paper_bgcolor": "white",
          "plot_bgcolor": "#E5ECF6",
          "polar": {
           "angularaxis": {
            "gridcolor": "white",
            "linecolor": "white",
            "ticks": ""
           },
           "bgcolor": "#E5ECF6",
           "radialaxis": {
            "gridcolor": "white",
            "linecolor": "white",
            "ticks": ""
           }
          },
          "scene": {
           "xaxis": {
            "backgroundcolor": "#E5ECF6",
            "gridcolor": "white",
            "gridwidth": 2,
            "linecolor": "white",
            "showbackground": true,
            "ticks": "",
            "zerolinecolor": "white"
           },
           "yaxis": {
            "backgroundcolor": "#E5ECF6",
            "gridcolor": "white",
            "gridwidth": 2,
            "linecolor": "white",
            "showbackground": true,
            "ticks": "",
            "zerolinecolor": "white"
           },
           "zaxis": {
            "backgroundcolor": "#E5ECF6",
            "gridcolor": "white",
            "gridwidth": 2,
            "linecolor": "white",
            "showbackground": true,
            "ticks": "",
            "zerolinecolor": "white"
           }
          },
          "shapedefaults": {
           "line": {
            "color": "#2a3f5f"
           }
          },
          "ternary": {
           "aaxis": {
            "gridcolor": "white",
            "linecolor": "white",
            "ticks": ""
           },
           "baxis": {
            "gridcolor": "white",
            "linecolor": "white",
            "ticks": ""
           },
           "bgcolor": "#E5ECF6",
           "caxis": {
            "gridcolor": "white",
            "linecolor": "white",
            "ticks": ""
           }
          },
          "title": {
           "x": 0.05
          },
          "xaxis": {
           "automargin": true,
           "gridcolor": "white",
           "linecolor": "white",
           "ticks": "",
           "title": {
            "standoff": 15
           },
           "zerolinecolor": "white",
           "zerolinewidth": 2
          },
          "yaxis": {
           "automargin": true,
           "gridcolor": "white",
           "linecolor": "white",
           "ticks": "",
           "title": {
            "standoff": 15
           },
           "zerolinecolor": "white",
           "zerolinewidth": 2
          }
         }
        },
        "title": {
         "font": {
          "color": "#4D5663"
         }
        },
        "xaxis": {
         "gridcolor": "#E1E5ED",
         "showgrid": true,
         "tickfont": {
          "color": "#4D5663"
         },
         "title": {
          "font": {
           "color": "#4D5663"
          },
          "text": ""
         },
         "zerolinecolor": "#E1E5ED"
        },
        "yaxis": {
         "gridcolor": "#E1E5ED",
         "showgrid": true,
         "tickfont": {
          "color": "#4D5663"
         },
         "title": {
          "font": {
           "color": "#4D5663"
          },
          "text": ""
         },
         "zerolinecolor": "#E1E5ED"
        }
       }
      },
      "text/html": [
       "<div>                            <div id=\"5c29787a-f0de-4c94-9be9-41311e42ae89\" class=\"plotly-graph-div\" style=\"height:525px; width:100%;\"></div>            <script type=\"text/javascript\">                require([\"plotly\"], function(Plotly) {                    window.PLOTLYENV=window.PLOTLYENV || {};\n",
       "                    window.PLOTLYENV.BASE_URL='https://plot.ly';                                    if (document.getElementById(\"5c29787a-f0de-4c94-9be9-41311e42ae89\")) {                    Plotly.newPlot(                        \"5c29787a-f0de-4c94-9be9-41311e42ae89\",                        [{\"histfunc\":\"count\",\"histnorm\":\"\",\"marker\":{\"color\":\"rgba(255, 153, 51, 1.0)\",\"line\":{\"color\":\"#4D5663\",\"width\":1.3}},\"name\":\"A\",\"nbinsx\":50,\"opacity\":0.8,\"orientation\":\"v\",\"x\":[0.43539700148335236,0.15819395423214852,0.62879333196527,-0.26401107422169673,-1.8324809705325915,0.7704629872779027,1.7497298283959724,-1.0015334595201602,-1.718240559825639,0.628596523719882,-0.42019354274908316,2.7136701685643403,-0.9378495172398871,0.6598021382631747,1.6184775733872263,1.3954033785382987,1.405495874826309,-1.166616968739883,2.365923532026527,1.1133259856604942,-1.6813679639527261,-0.04667403900552732,-0.6363654890464304,-1.5425012567014285,-1.012741270794969,0.12132634073101281,1.595602460076769,1.7305965984334635,-1.9217891095448971,1.1860294383645715,0.26201847879465384,-1.2055378111750752,2.3438810173248927,1.2086288002904493,-1.8314084636430585,1.7619781396825958,2.1031817281439817,-2.5307453072827966,1.2761298243307624,-1.772353423710465,-0.636420642902602,-1.930564293340949,-1.0610308479700656,-0.450655785586209,-2.1425651099825824,-1.0903966470383508,-0.5620779766373142,-0.770744501166946,0.317708947982711,0.1318688172018447,-1.2201324264384652,-0.19136686704154338,-0.06257792497623924,0.5936190711859071,1.1391272098088527,0.7464631766024825,-0.8977662361522014,0.14140290562352897,0.3256123427724348,0.9112030544266069,0.8357966193733269,1.7487601057521938,-0.49373510396354875,-0.6666213874172607,1.1831818138576176,-1.0182097832516077,-0.04630874727601642,-0.9836337689727818,1.9926142232426531,0.7440871065414701,0.28972919333565683,-0.5480211897462933,0.8413311240763615,-0.6346241128971083,-0.4398922253755513,-0.28149585930036625,0.6490498459345291,-0.23584960142982708,-1.5937987594535374,0.051213682792660656,-0.374994885556381,0.7207560378542024,0.5394156502485068,1.1572917713327477,-2.5643244253052964,-0.10181612060765612,0.11183773067467831,1.1028927065391063,-1.3752211222891688,2.16105987106691,-0.7898043390090209,1.6487450904111807,-1.7240798592526558,0.4254960002374844,0.2156919556300176,0.2031078608182616,0.21648296318241012,0.6718965344393238,-1.8998227182750862,-0.017153916755728384],\"type\":\"histogram\"}],                        {\"barmode\":\"overlay\",\"legend\":{\"bgcolor\":\"#F5F6F9\",\"font\":{\"color\":\"#4D5663\"}},\"paper_bgcolor\":\"#F5F6F9\",\"plot_bgcolor\":\"#F5F6F9\",\"template\":{\"data\":{\"barpolar\":[{\"marker\":{\"line\":{\"color\":\"#E5ECF6\",\"width\":0.5},\"pattern\":{\"fillmode\":\"overlay\",\"size\":10,\"solidity\":0.2}},\"type\":\"barpolar\"}],\"bar\":[{\"error_x\":{\"color\":\"#2a3f5f\"},\"error_y\":{\"color\":\"#2a3f5f\"},\"marker\":{\"line\":{\"color\":\"#E5ECF6\",\"width\":0.5},\"pattern\":{\"fillmode\":\"overlay\",\"size\":10,\"solidity\":0.2}},\"type\":\"bar\"}],\"carpet\":[{\"aaxis\":{\"endlinecolor\":\"#2a3f5f\",\"gridcolor\":\"white\",\"linecolor\":\"white\",\"minorgridcolor\":\"white\",\"startlinecolor\":\"#2a3f5f\"},\"baxis\":{\"endlinecolor\":\"#2a3f5f\",\"gridcolor\":\"white\",\"linecolor\":\"white\",\"minorgridcolor\":\"white\",\"startlinecolor\":\"#2a3f5f\"},\"type\":\"carpet\"}],\"choropleth\":[{\"colorbar\":{\"outlinewidth\":0,\"ticks\":\"\"},\"type\":\"choropleth\"}],\"contourcarpet\":[{\"colorbar\":{\"outlinewidth\":0,\"ticks\":\"\"},\"type\":\"contourcarpet\"}],\"contour\":[{\"colorbar\":{\"outlinewidth\":0,\"ticks\":\"\"},\"colorscale\":[[0.0,\"#0d0887\"],[0.1111111111111111,\"#46039f\"],[0.2222222222222222,\"#7201a8\"],[0.3333333333333333,\"#9c179e\"],[0.4444444444444444,\"#bd3786\"],[0.5555555555555556,\"#d8576b\"],[0.6666666666666666,\"#ed7953\"],[0.7777777777777778,\"#fb9f3a\"],[0.8888888888888888,\"#fdca26\"],[1.0,\"#f0f921\"]],\"type\":\"contour\"}],\"heatmapgl\":[{\"colorbar\":{\"outlinewidth\":0,\"ticks\":\"\"},\"colorscale\":[[0.0,\"#0d0887\"],[0.1111111111111111,\"#46039f\"],[0.2222222222222222,\"#7201a8\"],[0.3333333333333333,\"#9c179e\"],[0.4444444444444444,\"#bd3786\"],[0.5555555555555556,\"#d8576b\"],[0.6666666666666666,\"#ed7953\"],[0.7777777777777778,\"#fb9f3a\"],[0.8888888888888888,\"#fdca26\"],[1.0,\"#f0f921\"]],\"type\":\"heatmapgl\"}],\"heatmap\":[{\"colorbar\":{\"outlinewidth\":0,\"ticks\":\"\"},\"colorscale\":[[0.0,\"#0d0887\"],[0.1111111111111111,\"#46039f\"],[0.2222222222222222,\"#7201a8\"],[0.3333333333333333,\"#9c179e\"],[0.4444444444444444,\"#bd3786\"],[0.5555555555555556,\"#d8576b\"],[0.6666666666666666,\"#ed7953\"],[0.7777777777777778,\"#fb9f3a\"],[0.8888888888888888,\"#fdca26\"],[1.0,\"#f0f921\"]],\"type\":\"heatmap\"}],\"histogram2dcontour\":[{\"colorbar\":{\"outlinewidth\":0,\"ticks\":\"\"},\"colorscale\":[[0.0,\"#0d0887\"],[0.1111111111111111,\"#46039f\"],[0.2222222222222222,\"#7201a8\"],[0.3333333333333333,\"#9c179e\"],[0.4444444444444444,\"#bd3786\"],[0.5555555555555556,\"#d8576b\"],[0.6666666666666666,\"#ed7953\"],[0.7777777777777778,\"#fb9f3a\"],[0.8888888888888888,\"#fdca26\"],[1.0,\"#f0f921\"]],\"type\":\"histogram2dcontour\"}],\"histogram2d\":[{\"colorbar\":{\"outlinewidth\":0,\"ticks\":\"\"},\"colorscale\":[[0.0,\"#0d0887\"],[0.1111111111111111,\"#46039f\"],[0.2222222222222222,\"#7201a8\"],[0.3333333333333333,\"#9c179e\"],[0.4444444444444444,\"#bd3786\"],[0.5555555555555556,\"#d8576b\"],[0.6666666666666666,\"#ed7953\"],[0.7777777777777778,\"#fb9f3a\"],[0.8888888888888888,\"#fdca26\"],[1.0,\"#f0f921\"]],\"type\":\"histogram2d\"}],\"histogram\":[{\"marker\":{\"pattern\":{\"fillmode\":\"overlay\",\"size\":10,\"solidity\":0.2}},\"type\":\"histogram\"}],\"mesh3d\":[{\"colorbar\":{\"outlinewidth\":0,\"ticks\":\"\"},\"type\":\"mesh3d\"}],\"parcoords\":[{\"line\":{\"colorbar\":{\"outlinewidth\":0,\"ticks\":\"\"}},\"type\":\"parcoords\"}],\"pie\":[{\"automargin\":true,\"type\":\"pie\"}],\"scatter3d\":[{\"line\":{\"colorbar\":{\"outlinewidth\":0,\"ticks\":\"\"}},\"marker\":{\"colorbar\":{\"outlinewidth\":0,\"ticks\":\"\"}},\"type\":\"scatter3d\"}],\"scattercarpet\":[{\"marker\":{\"colorbar\":{\"outlinewidth\":0,\"ticks\":\"\"}},\"type\":\"scattercarpet\"}],\"scattergeo\":[{\"marker\":{\"colorbar\":{\"outlinewidth\":0,\"ticks\":\"\"}},\"type\":\"scattergeo\"}],\"scattergl\":[{\"marker\":{\"colorbar\":{\"outlinewidth\":0,\"ticks\":\"\"}},\"type\":\"scattergl\"}],\"scattermapbox\":[{\"marker\":{\"colorbar\":{\"outlinewidth\":0,\"ticks\":\"\"}},\"type\":\"scattermapbox\"}],\"scatterpolargl\":[{\"marker\":{\"colorbar\":{\"outlinewidth\":0,\"ticks\":\"\"}},\"type\":\"scatterpolargl\"}],\"scatterpolar\":[{\"marker\":{\"colorbar\":{\"outlinewidth\":0,\"ticks\":\"\"}},\"type\":\"scatterpolar\"}],\"scatter\":[{\"fillpattern\":{\"fillmode\":\"overlay\",\"size\":10,\"solidity\":0.2},\"type\":\"scatter\"}],\"scatterternary\":[{\"marker\":{\"colorbar\":{\"outlinewidth\":0,\"ticks\":\"\"}},\"type\":\"scatterternary\"}],\"surface\":[{\"colorbar\":{\"outlinewidth\":0,\"ticks\":\"\"},\"colorscale\":[[0.0,\"#0d0887\"],[0.1111111111111111,\"#46039f\"],[0.2222222222222222,\"#7201a8\"],[0.3333333333333333,\"#9c179e\"],[0.4444444444444444,\"#bd3786\"],[0.5555555555555556,\"#d8576b\"],[0.6666666666666666,\"#ed7953\"],[0.7777777777777778,\"#fb9f3a\"],[0.8888888888888888,\"#fdca26\"],[1.0,\"#f0f921\"]],\"type\":\"surface\"}],\"table\":[{\"cells\":{\"fill\":{\"color\":\"#EBF0F8\"},\"line\":{\"color\":\"white\"}},\"header\":{\"fill\":{\"color\":\"#C8D4E3\"},\"line\":{\"color\":\"white\"}},\"type\":\"table\"}]},\"layout\":{\"annotationdefaults\":{\"arrowcolor\":\"#2a3f5f\",\"arrowhead\":0,\"arrowwidth\":1},\"autotypenumbers\":\"strict\",\"coloraxis\":{\"colorbar\":{\"outlinewidth\":0,\"ticks\":\"\"}},\"colorscale\":{\"diverging\":[[0,\"#8e0152\"],[0.1,\"#c51b7d\"],[0.2,\"#de77ae\"],[0.3,\"#f1b6da\"],[0.4,\"#fde0ef\"],[0.5,\"#f7f7f7\"],[0.6,\"#e6f5d0\"],[0.7,\"#b8e186\"],[0.8,\"#7fbc41\"],[0.9,\"#4d9221\"],[1,\"#276419\"]],\"sequential\":[[0.0,\"#0d0887\"],[0.1111111111111111,\"#46039f\"],[0.2222222222222222,\"#7201a8\"],[0.3333333333333333,\"#9c179e\"],[0.4444444444444444,\"#bd3786\"],[0.5555555555555556,\"#d8576b\"],[0.6666666666666666,\"#ed7953\"],[0.7777777777777778,\"#fb9f3a\"],[0.8888888888888888,\"#fdca26\"],[1.0,\"#f0f921\"]],\"sequentialminus\":[[0.0,\"#0d0887\"],[0.1111111111111111,\"#46039f\"],[0.2222222222222222,\"#7201a8\"],[0.3333333333333333,\"#9c179e\"],[0.4444444444444444,\"#bd3786\"],[0.5555555555555556,\"#d8576b\"],[0.6666666666666666,\"#ed7953\"],[0.7777777777777778,\"#fb9f3a\"],[0.8888888888888888,\"#fdca26\"],[1.0,\"#f0f921\"]]},\"colorway\":[\"#636efa\",\"#EF553B\",\"#00cc96\",\"#ab63fa\",\"#FFA15A\",\"#19d3f3\",\"#FF6692\",\"#B6E880\",\"#FF97FF\",\"#FECB52\"],\"font\":{\"color\":\"#2a3f5f\"},\"geo\":{\"bgcolor\":\"white\",\"lakecolor\":\"white\",\"landcolor\":\"#E5ECF6\",\"showlakes\":true,\"showland\":true,\"subunitcolor\":\"white\"},\"hoverlabel\":{\"align\":\"left\"},\"hovermode\":\"closest\",\"mapbox\":{\"style\":\"light\"},\"paper_bgcolor\":\"white\",\"plot_bgcolor\":\"#E5ECF6\",\"polar\":{\"angularaxis\":{\"gridcolor\":\"white\",\"linecolor\":\"white\",\"ticks\":\"\"},\"bgcolor\":\"#E5ECF6\",\"radialaxis\":{\"gridcolor\":\"white\",\"linecolor\":\"white\",\"ticks\":\"\"}},\"scene\":{\"xaxis\":{\"backgroundcolor\":\"#E5ECF6\",\"gridcolor\":\"white\",\"gridwidth\":2,\"linecolor\":\"white\",\"showbackground\":true,\"ticks\":\"\",\"zerolinecolor\":\"white\"},\"yaxis\":{\"backgroundcolor\":\"#E5ECF6\",\"gridcolor\":\"white\",\"gridwidth\":2,\"linecolor\":\"white\",\"showbackground\":true,\"ticks\":\"\",\"zerolinecolor\":\"white\"},\"zaxis\":{\"backgroundcolor\":\"#E5ECF6\",\"gridcolor\":\"white\",\"gridwidth\":2,\"linecolor\":\"white\",\"showbackground\":true,\"ticks\":\"\",\"zerolinecolor\":\"white\"}},\"shapedefaults\":{\"line\":{\"color\":\"#2a3f5f\"}},\"ternary\":{\"aaxis\":{\"gridcolor\":\"white\",\"linecolor\":\"white\",\"ticks\":\"\"},\"baxis\":{\"gridcolor\":\"white\",\"linecolor\":\"white\",\"ticks\":\"\"},\"bgcolor\":\"#E5ECF6\",\"caxis\":{\"gridcolor\":\"white\",\"linecolor\":\"white\",\"ticks\":\"\"}},\"title\":{\"x\":0.05},\"xaxis\":{\"automargin\":true,\"gridcolor\":\"white\",\"linecolor\":\"white\",\"ticks\":\"\",\"title\":{\"standoff\":15},\"zerolinecolor\":\"white\",\"zerolinewidth\":2},\"yaxis\":{\"automargin\":true,\"gridcolor\":\"white\",\"linecolor\":\"white\",\"ticks\":\"\",\"title\":{\"standoff\":15},\"zerolinecolor\":\"white\",\"zerolinewidth\":2}}},\"title\":{\"font\":{\"color\":\"#4D5663\"}},\"xaxis\":{\"gridcolor\":\"#E1E5ED\",\"showgrid\":true,\"tickfont\":{\"color\":\"#4D5663\"},\"title\":{\"font\":{\"color\":\"#4D5663\"},\"text\":\"\"},\"zerolinecolor\":\"#E1E5ED\"},\"yaxis\":{\"gridcolor\":\"#E1E5ED\",\"showgrid\":true,\"tickfont\":{\"color\":\"#4D5663\"},\"title\":{\"font\":{\"color\":\"#4D5663\"},\"text\":\"\"},\"zerolinecolor\":\"#E1E5ED\"}},                        {\"showLink\": true, \"linkText\": \"Export to plot.ly\", \"plotlyServerURL\": \"https://plot.ly\", \"responsive\": true}                    ).then(function(){\n",
       "                            \n",
       "var gd = document.getElementById('5c29787a-f0de-4c94-9be9-41311e42ae89');\n",
       "var x = new MutationObserver(function (mutations, observer) {{\n",
       "        var display = window.getComputedStyle(gd).display;\n",
       "        if (!display || display === 'none') {{\n",
       "            console.log([gd, 'removed!']);\n",
       "            Plotly.purge(gd);\n",
       "            observer.disconnect();\n",
       "        }}\n",
       "}});\n",
       "\n",
       "// Listen for the removal of the full notebook cells\n",
       "var notebookContainer = gd.closest('#notebook-container');\n",
       "if (notebookContainer) {{\n",
       "    x.observe(notebookContainer, {childList: true});\n",
       "}}\n",
       "\n",
       "// Listen for the clearing of the current output cell\n",
       "var outputEl = gd.closest('.output');\n",
       "if (outputEl) {{\n",
       "    x.observe(outputEl, {childList: true});\n",
       "}}\n",
       "\n",
       "                        })                };                });            </script>        </div>"
      ]
     },
     "metadata": {},
     "output_type": "display_data"
    }
   ],
   "source": [
    "df['A'].iplot(kind='hist', bins=50)"
   ]
  },
  {
   "cell_type": "code",
   "execution_count": 31,
   "id": "ef01d52b",
   "metadata": {},
   "outputs": [
    {
     "data": {
      "application/vnd.plotly.v1+json": {
       "config": {
        "linkText": "Export to plot.ly",
        "plotlyServerURL": "https://plot.ly",
        "showLink": true
       },
       "data": [
        {
         "histfunc": "count",
         "histnorm": "",
         "marker": {
          "color": "rgba(255, 153, 51, 1.0)",
          "line": {
           "color": "#4D5663",
           "width": 1.3
          }
         },
         "name": "A",
         "opacity": 0.8,
         "orientation": "v",
         "type": "histogram",
         "x": [
          0.43539700148335236,
          0.15819395423214852,
          0.62879333196527,
          -0.26401107422169673,
          -1.8324809705325915,
          0.7704629872779027,
          1.7497298283959724,
          -1.0015334595201602,
          -1.718240559825639,
          0.628596523719882,
          -0.42019354274908316,
          2.7136701685643403,
          -0.9378495172398871,
          0.6598021382631747,
          1.6184775733872263,
          1.3954033785382987,
          1.405495874826309,
          -1.166616968739883,
          2.365923532026527,
          1.1133259856604942,
          -1.6813679639527261,
          -0.04667403900552732,
          -0.6363654890464304,
          -1.5425012567014285,
          -1.012741270794969,
          0.12132634073101281,
          1.595602460076769,
          1.7305965984334635,
          -1.9217891095448971,
          1.1860294383645715,
          0.26201847879465384,
          -1.2055378111750752,
          2.3438810173248927,
          1.2086288002904493,
          -1.8314084636430585,
          1.7619781396825958,
          2.1031817281439817,
          -2.5307453072827966,
          1.2761298243307624,
          -1.772353423710465,
          -0.636420642902602,
          -1.930564293340949,
          -1.0610308479700656,
          -0.450655785586209,
          -2.1425651099825824,
          -1.0903966470383508,
          -0.5620779766373142,
          -0.770744501166946,
          0.317708947982711,
          0.1318688172018447,
          -1.2201324264384652,
          -0.19136686704154338,
          -0.06257792497623924,
          0.5936190711859071,
          1.1391272098088527,
          0.7464631766024825,
          -0.8977662361522014,
          0.14140290562352897,
          0.3256123427724348,
          0.9112030544266069,
          0.8357966193733269,
          1.7487601057521938,
          -0.49373510396354875,
          -0.6666213874172607,
          1.1831818138576176,
          -1.0182097832516077,
          -0.04630874727601642,
          -0.9836337689727818,
          1.9926142232426531,
          0.7440871065414701,
          0.28972919333565683,
          -0.5480211897462933,
          0.8413311240763615,
          -0.6346241128971083,
          -0.4398922253755513,
          -0.28149585930036625,
          0.6490498459345291,
          -0.23584960142982708,
          -1.5937987594535374,
          0.051213682792660656,
          -0.374994885556381,
          0.7207560378542024,
          0.5394156502485068,
          1.1572917713327477,
          -2.5643244253052964,
          -0.10181612060765612,
          0.11183773067467831,
          1.1028927065391063,
          -1.3752211222891688,
          2.16105987106691,
          -0.7898043390090209,
          1.6487450904111807,
          -1.7240798592526558,
          0.4254960002374844,
          0.2156919556300176,
          0.2031078608182616,
          0.21648296318241012,
          0.6718965344393238,
          -1.8998227182750862,
          -0.017153916755728384
         ]
        },
        {
         "histfunc": "count",
         "histnorm": "",
         "marker": {
          "color": "rgba(55, 128, 191, 1.0)",
          "line": {
           "color": "#4D5663",
           "width": 1.3
          }
         },
         "name": "B",
         "opacity": 0.8,
         "orientation": "v",
         "type": "histogram",
         "x": [
          0.760388682451242,
          -0.3014770718387929,
          -0.8104320504480762,
          1.1583102446320703,
          0.66259937418456,
          -0.8731559685701944,
          -0.10732150644350782,
          -1.4845842008871466,
          -1.1868462655772307,
          1.613590761177109,
          -1.9381099315529704,
          -0.29380824929788424,
          1.3599307756073165,
          -0.36836520730565253,
          -0.3269586169498003,
          -0.8722022296216736,
          1.7599609916589511,
          2.412515853128903,
          -1.1138794684306152,
          1.5653823254598276,
          1.7614719313614335,
          -1.2290358322794215,
          2.6522230722984435,
          1.0163014618558739,
          0.6293809696480948,
          -1.5146156122233023,
          0.016940034354393264,
          0.0032133467236007663,
          -0.5981712356892535,
          0.020951829720675653,
          1.9963821917383087,
          1.0740671422306807,
          0.17809074697460173,
          0.04485989073294413,
          -0.4227495550182459,
          -0.32645695274430736,
          0.698607870034912,
          0.6330148722372047,
          0.2875584885528013,
          1.1234133729510283,
          0.24214275695220294,
          -0.9745143810694096,
          -0.09487224825524246,
          -0.05206076437308604,
          0.1700768924108305,
          1.300218316913883,
          -0.14751521656419564,
          -0.30080352426550006,
          -0.8520916792252314,
          1.1620463903000628,
          1.2476009203676264,
          -0.629125183496713,
          -0.3785357939583569,
          -0.914900498176864,
          0.15739646399040055,
          -0.08110020866252839,
          1.2781757771914946,
          1.9785521600539933,
          -0.07924996180658282,
          -0.17064150415758025,
          -0.33892612512205456,
          -0.8766265534473259,
          -0.8696592484215764,
          1.1323493113477194,
          -1.7050942234370272,
          -0.600405565715628,
          -0.1789375334228437,
          0.2764438144488436,
          -1.3979390762783197,
          1.3262592652981067,
          0.703525942698256,
          1.411777371228823,
          -1.6110804563893522,
          0.39705885749036557,
          -0.24578206196537786,
          -1.0140463874894474,
          0.35097105186424615,
          0.22520868769189759,
          0.11269335584705568,
          -0.6275979165028887,
          0.830374106714317,
          0.21139937581431129,
          -0.5613355709825517,
          0.5599973868588114,
          0.10923587614740028,
          -0.21228235369384083,
          0.9848944487618184,
          0.15230352046132178,
          -0.24908169790355753,
          -0.5547350602916322,
          -0.26024067645453,
          -0.12512543124851477,
          1.4959303828793944,
          -0.8075642744958867,
          -0.7868387528914741,
          0.11502021583953378,
          1.052635171665947,
          -2.005202626886498,
          0.36358094296755,
          -1.292869329621461
         ]
        },
        {
         "histfunc": "count",
         "histnorm": "",
         "marker": {
          "color": "rgba(50, 171, 96, 1.0)",
          "line": {
           "color": "#4D5663",
           "width": 1.3
          }
         },
         "name": "C",
         "opacity": 0.8,
         "orientation": "v",
         "type": "histogram",
         "x": [
          1.7506839868116808,
          -0.05525851995596629,
          0.6170957201984968,
          -0.1115916319829114,
          0.5116816361868437,
          -2.2152101125435837,
          0.3315284364893782,
          0.12061261355873394,
          0.5657298475690731,
          0.528530005982104,
          1.3505673671144591,
          -1.1948625165823614,
          0.1861245268017284,
          1.466340663888806,
          -1.2496218278444502,
          -0.042254756026113054,
          0.5746877175630754,
          -1.4166594196141769,
          -1.1968199850030214,
          -0.8183800016923555,
          -0.5647855815888667,
          1.6581385906754473,
          -0.7466315211949155,
          0.1952774246638472,
          -1.4104910973740832,
          1.4284226905547313,
          -0.7664668283501381,
          -1.0838001767570018,
          0.7010686784174124,
          -0.1023297922421422,
          -1.2886240495582049,
          -0.7061207593027529,
          2.897502161129242,
          0.9010808303981163,
          0.5016339407709492,
          0.9970946254454802,
          -0.47115995979066305,
          -0.1973994499002884,
          1.7604450496094302,
          -0.6051709023066923,
          0.9185178513752467,
          -0.8971569837423113,
          1.092970248153521,
          -2.8136003677014547,
          -0.4576797890519921,
          0.6447060998883003,
          -0.8028938635150691,
          0.003505585948315358,
          0.3383690386122811,
          1.198436831143238,
          2.771847156459742,
          -2.254330916431132,
          0.9530849486491482,
          0.6857462587854266,
          2.026903317173535,
          0.21174591471811552,
          0.22119891318704257,
          -0.05312608477809972,
          -0.7409850974978949,
          1.892017237178089,
          -0.15679681385950367,
          -0.17109223041264868,
          1.6471337568749136,
          0.21920988201479505,
          -0.048131328941061535,
          0.006603176246051127,
          -1.20402950851814,
          1.2085801022634717,
          -0.22433096462997068,
          -1.0454463934053035,
          0.1220757939666129,
          1.3928722662278032,
          -1.508180765613294,
          0.9753571596335696,
          1.0784228637983067,
          0.7306926141166368,
          0.791267501618441,
          -0.8911164913797028,
          -1.1300915430771676,
          -0.06772167392315274,
          -1.5982042392029663,
          -1.1891695259259196,
          0.761386083379142,
          -0.4009140073390794,
          0.2095063908492791,
          0.06821644400313408,
          -0.6041624031835817,
          -0.03061682006821153,
          -0.1142173127149515,
          -1.6513277968691016,
          -1.0150656386360692,
          1.020045683034253,
          -1.839457892151129,
          0.6104771664127984,
          1.2816301431717376,
          -0.5420794843175418,
          0.36656788811570845,
          -0.7064686605718921,
          0.5004953964617794,
          1.0191968371752167
         ]
        },
        {
         "histfunc": "count",
         "histnorm": "",
         "marker": {
          "color": "rgba(128, 0, 128, 1.0)",
          "line": {
           "color": "#4D5663",
           "width": 1.3
          }
         },
         "name": "D",
         "opacity": 0.8,
         "orientation": "v",
         "type": "histogram",
         "x": [
          0.8674962935144439,
          -0.15169061237904777,
          1.4833116835967546,
          -1.4074514343551905,
          1.6809840507857228,
          -0.7824343697157726,
          -1.1380900973944608,
          -1.1684071193234065,
          -0.0878769934933399,
          -0.18802903883875,
          1.1054096358312044,
          -0.24648969074191718,
          -0.5241680651347467,
          0.035331855455702256,
          0.015225596692327365,
          -0.6060087395337597,
          -0.9434835248285206,
          0.1497847075865502,
          0.1522093133466193,
          1.4150504705341356,
          0.6358530188099831,
          0.41411480056120253,
          0.5012150075195608,
          1.0918677517923927,
          -1.0110630912716843,
          0.7501167863796132,
          0.22526828659737172,
          -0.3928236835144014,
          0.05139529009097846,
          -1.5088301646601956,
          -0.006479746879657132,
          -1.3783917816596891,
          0.4028905799711096,
          -1.239179450863049,
          1.718021008393491,
          0.5505466944824268,
          -0.14824266673830355,
          1.4971862088434158,
          1.7856499631672211,
          -1.5121481986483902,
          -0.6158928496562914,
          -1.553905392676682,
          -0.4806126433270155,
          0.8549312578480122,
          -0.04568548986192174,
          -0.09289049173836152,
          0.6322409552767246,
          -0.5599033007259137,
          -0.3037859876969862,
          0.16983967055496837,
          0.1709607920225609,
          -0.34886082288164394,
          -1.3692790368586323,
          0.7885755016061133,
          -0.07133724885285725,
          -0.3575113346043425,
          0.8439328842517401,
          1.004879695851903,
          -0.36505763244114714,
          0.34469487183119296,
          0.08414626368852046,
          -1.0809642257758973,
          -2.544189181053026,
          -0.011664663423132037,
          -0.6412660010849413,
          0.849998385732044,
          1.622056962493663,
          0.9356600649157409,
          -0.897115091137332,
          0.7381536272834047,
          -0.8793215655655365,
          0.2889625791761557,
          1.554875265954636,
          -0.48248282999102315,
          -0.5391204960250202,
          0.3763552292283802,
          1.8407821584581037,
          0.3211550805423586,
          1.201203797763351,
          0.39424029396382054,
          0.5878383417101924,
          0.6698006096665847,
          -0.8586992507168567,
          -1.6366547297430356,
          0.054812542476560415,
          0.19531981977357643,
          -0.5023449008405783,
          1.359709951480831,
          -0.7040273728122117,
          -2.51023297090885,
          1.774352674744687,
          0.04172615855687068,
          0.35652881894014826,
          0.914906888607246,
          0.27973928313574714,
          -0.6987222670653883,
          -2.0880394552582535,
          0.032666666094802205,
          -0.8203891211559984,
          0.8018099020438711
         ]
        }
       ],
       "layout": {
        "barmode": "overlay",
        "legend": {
         "bgcolor": "#F5F6F9",
         "font": {
          "color": "#4D5663"
         }
        },
        "paper_bgcolor": "#F5F6F9",
        "plot_bgcolor": "#F5F6F9",
        "template": {
         "data": {
          "bar": [
           {
            "error_x": {
             "color": "#2a3f5f"
            },
            "error_y": {
             "color": "#2a3f5f"
            },
            "marker": {
             "line": {
              "color": "#E5ECF6",
              "width": 0.5
             },
             "pattern": {
              "fillmode": "overlay",
              "size": 10,
              "solidity": 0.2
             }
            },
            "type": "bar"
           }
          ],
          "barpolar": [
           {
            "marker": {
             "line": {
              "color": "#E5ECF6",
              "width": 0.5
             },
             "pattern": {
              "fillmode": "overlay",
              "size": 10,
              "solidity": 0.2
             }
            },
            "type": "barpolar"
           }
          ],
          "carpet": [
           {
            "aaxis": {
             "endlinecolor": "#2a3f5f",
             "gridcolor": "white",
             "linecolor": "white",
             "minorgridcolor": "white",
             "startlinecolor": "#2a3f5f"
            },
            "baxis": {
             "endlinecolor": "#2a3f5f",
             "gridcolor": "white",
             "linecolor": "white",
             "minorgridcolor": "white",
             "startlinecolor": "#2a3f5f"
            },
            "type": "carpet"
           }
          ],
          "choropleth": [
           {
            "colorbar": {
             "outlinewidth": 0,
             "ticks": ""
            },
            "type": "choropleth"
           }
          ],
          "contour": [
           {
            "colorbar": {
             "outlinewidth": 0,
             "ticks": ""
            },
            "colorscale": [
             [
              0,
              "#0d0887"
             ],
             [
              0.1111111111111111,
              "#46039f"
             ],
             [
              0.2222222222222222,
              "#7201a8"
             ],
             [
              0.3333333333333333,
              "#9c179e"
             ],
             [
              0.4444444444444444,
              "#bd3786"
             ],
             [
              0.5555555555555556,
              "#d8576b"
             ],
             [
              0.6666666666666666,
              "#ed7953"
             ],
             [
              0.7777777777777778,
              "#fb9f3a"
             ],
             [
              0.8888888888888888,
              "#fdca26"
             ],
             [
              1,
              "#f0f921"
             ]
            ],
            "type": "contour"
           }
          ],
          "contourcarpet": [
           {
            "colorbar": {
             "outlinewidth": 0,
             "ticks": ""
            },
            "type": "contourcarpet"
           }
          ],
          "heatmap": [
           {
            "colorbar": {
             "outlinewidth": 0,
             "ticks": ""
            },
            "colorscale": [
             [
              0,
              "#0d0887"
             ],
             [
              0.1111111111111111,
              "#46039f"
             ],
             [
              0.2222222222222222,
              "#7201a8"
             ],
             [
              0.3333333333333333,
              "#9c179e"
             ],
             [
              0.4444444444444444,
              "#bd3786"
             ],
             [
              0.5555555555555556,
              "#d8576b"
             ],
             [
              0.6666666666666666,
              "#ed7953"
             ],
             [
              0.7777777777777778,
              "#fb9f3a"
             ],
             [
              0.8888888888888888,
              "#fdca26"
             ],
             [
              1,
              "#f0f921"
             ]
            ],
            "type": "heatmap"
           }
          ],
          "heatmapgl": [
           {
            "colorbar": {
             "outlinewidth": 0,
             "ticks": ""
            },
            "colorscale": [
             [
              0,
              "#0d0887"
             ],
             [
              0.1111111111111111,
              "#46039f"
             ],
             [
              0.2222222222222222,
              "#7201a8"
             ],
             [
              0.3333333333333333,
              "#9c179e"
             ],
             [
              0.4444444444444444,
              "#bd3786"
             ],
             [
              0.5555555555555556,
              "#d8576b"
             ],
             [
              0.6666666666666666,
              "#ed7953"
             ],
             [
              0.7777777777777778,
              "#fb9f3a"
             ],
             [
              0.8888888888888888,
              "#fdca26"
             ],
             [
              1,
              "#f0f921"
             ]
            ],
            "type": "heatmapgl"
           }
          ],
          "histogram": [
           {
            "marker": {
             "pattern": {
              "fillmode": "overlay",
              "size": 10,
              "solidity": 0.2
             }
            },
            "type": "histogram"
           }
          ],
          "histogram2d": [
           {
            "colorbar": {
             "outlinewidth": 0,
             "ticks": ""
            },
            "colorscale": [
             [
              0,
              "#0d0887"
             ],
             [
              0.1111111111111111,
              "#46039f"
             ],
             [
              0.2222222222222222,
              "#7201a8"
             ],
             [
              0.3333333333333333,
              "#9c179e"
             ],
             [
              0.4444444444444444,
              "#bd3786"
             ],
             [
              0.5555555555555556,
              "#d8576b"
             ],
             [
              0.6666666666666666,
              "#ed7953"
             ],
             [
              0.7777777777777778,
              "#fb9f3a"
             ],
             [
              0.8888888888888888,
              "#fdca26"
             ],
             [
              1,
              "#f0f921"
             ]
            ],
            "type": "histogram2d"
           }
          ],
          "histogram2dcontour": [
           {
            "colorbar": {
             "outlinewidth": 0,
             "ticks": ""
            },
            "colorscale": [
             [
              0,
              "#0d0887"
             ],
             [
              0.1111111111111111,
              "#46039f"
             ],
             [
              0.2222222222222222,
              "#7201a8"
             ],
             [
              0.3333333333333333,
              "#9c179e"
             ],
             [
              0.4444444444444444,
              "#bd3786"
             ],
             [
              0.5555555555555556,
              "#d8576b"
             ],
             [
              0.6666666666666666,
              "#ed7953"
             ],
             [
              0.7777777777777778,
              "#fb9f3a"
             ],
             [
              0.8888888888888888,
              "#fdca26"
             ],
             [
              1,
              "#f0f921"
             ]
            ],
            "type": "histogram2dcontour"
           }
          ],
          "mesh3d": [
           {
            "colorbar": {
             "outlinewidth": 0,
             "ticks": ""
            },
            "type": "mesh3d"
           }
          ],
          "parcoords": [
           {
            "line": {
             "colorbar": {
              "outlinewidth": 0,
              "ticks": ""
             }
            },
            "type": "parcoords"
           }
          ],
          "pie": [
           {
            "automargin": true,
            "type": "pie"
           }
          ],
          "scatter": [
           {
            "fillpattern": {
             "fillmode": "overlay",
             "size": 10,
             "solidity": 0.2
            },
            "type": "scatter"
           }
          ],
          "scatter3d": [
           {
            "line": {
             "colorbar": {
              "outlinewidth": 0,
              "ticks": ""
             }
            },
            "marker": {
             "colorbar": {
              "outlinewidth": 0,
              "ticks": ""
             }
            },
            "type": "scatter3d"
           }
          ],
          "scattercarpet": [
           {
            "marker": {
             "colorbar": {
              "outlinewidth": 0,
              "ticks": ""
             }
            },
            "type": "scattercarpet"
           }
          ],
          "scattergeo": [
           {
            "marker": {
             "colorbar": {
              "outlinewidth": 0,
              "ticks": ""
             }
            },
            "type": "scattergeo"
           }
          ],
          "scattergl": [
           {
            "marker": {
             "colorbar": {
              "outlinewidth": 0,
              "ticks": ""
             }
            },
            "type": "scattergl"
           }
          ],
          "scattermapbox": [
           {
            "marker": {
             "colorbar": {
              "outlinewidth": 0,
              "ticks": ""
             }
            },
            "type": "scattermapbox"
           }
          ],
          "scatterpolar": [
           {
            "marker": {
             "colorbar": {
              "outlinewidth": 0,
              "ticks": ""
             }
            },
            "type": "scatterpolar"
           }
          ],
          "scatterpolargl": [
           {
            "marker": {
             "colorbar": {
              "outlinewidth": 0,
              "ticks": ""
             }
            },
            "type": "scatterpolargl"
           }
          ],
          "scatterternary": [
           {
            "marker": {
             "colorbar": {
              "outlinewidth": 0,
              "ticks": ""
             }
            },
            "type": "scatterternary"
           }
          ],
          "surface": [
           {
            "colorbar": {
             "outlinewidth": 0,
             "ticks": ""
            },
            "colorscale": [
             [
              0,
              "#0d0887"
             ],
             [
              0.1111111111111111,
              "#46039f"
             ],
             [
              0.2222222222222222,
              "#7201a8"
             ],
             [
              0.3333333333333333,
              "#9c179e"
             ],
             [
              0.4444444444444444,
              "#bd3786"
             ],
             [
              0.5555555555555556,
              "#d8576b"
             ],
             [
              0.6666666666666666,
              "#ed7953"
             ],
             [
              0.7777777777777778,
              "#fb9f3a"
             ],
             [
              0.8888888888888888,
              "#fdca26"
             ],
             [
              1,
              "#f0f921"
             ]
            ],
            "type": "surface"
           }
          ],
          "table": [
           {
            "cells": {
             "fill": {
              "color": "#EBF0F8"
             },
             "line": {
              "color": "white"
             }
            },
            "header": {
             "fill": {
              "color": "#C8D4E3"
             },
             "line": {
              "color": "white"
             }
            },
            "type": "table"
           }
          ]
         },
         "layout": {
          "annotationdefaults": {
           "arrowcolor": "#2a3f5f",
           "arrowhead": 0,
           "arrowwidth": 1
          },
          "autotypenumbers": "strict",
          "coloraxis": {
           "colorbar": {
            "outlinewidth": 0,
            "ticks": ""
           }
          },
          "colorscale": {
           "diverging": [
            [
             0,
             "#8e0152"
            ],
            [
             0.1,
             "#c51b7d"
            ],
            [
             0.2,
             "#de77ae"
            ],
            [
             0.3,
             "#f1b6da"
            ],
            [
             0.4,
             "#fde0ef"
            ],
            [
             0.5,
             "#f7f7f7"
            ],
            [
             0.6,
             "#e6f5d0"
            ],
            [
             0.7,
             "#b8e186"
            ],
            [
             0.8,
             "#7fbc41"
            ],
            [
             0.9,
             "#4d9221"
            ],
            [
             1,
             "#276419"
            ]
           ],
           "sequential": [
            [
             0,
             "#0d0887"
            ],
            [
             0.1111111111111111,
             "#46039f"
            ],
            [
             0.2222222222222222,
             "#7201a8"
            ],
            [
             0.3333333333333333,
             "#9c179e"
            ],
            [
             0.4444444444444444,
             "#bd3786"
            ],
            [
             0.5555555555555556,
             "#d8576b"
            ],
            [
             0.6666666666666666,
             "#ed7953"
            ],
            [
             0.7777777777777778,
             "#fb9f3a"
            ],
            [
             0.8888888888888888,
             "#fdca26"
            ],
            [
             1,
             "#f0f921"
            ]
           ],
           "sequentialminus": [
            [
             0,
             "#0d0887"
            ],
            [
             0.1111111111111111,
             "#46039f"
            ],
            [
             0.2222222222222222,
             "#7201a8"
            ],
            [
             0.3333333333333333,
             "#9c179e"
            ],
            [
             0.4444444444444444,
             "#bd3786"
            ],
            [
             0.5555555555555556,
             "#d8576b"
            ],
            [
             0.6666666666666666,
             "#ed7953"
            ],
            [
             0.7777777777777778,
             "#fb9f3a"
            ],
            [
             0.8888888888888888,
             "#fdca26"
            ],
            [
             1,
             "#f0f921"
            ]
           ]
          },
          "colorway": [
           "#636efa",
           "#EF553B",
           "#00cc96",
           "#ab63fa",
           "#FFA15A",
           "#19d3f3",
           "#FF6692",
           "#B6E880",
           "#FF97FF",
           "#FECB52"
          ],
          "font": {
           "color": "#2a3f5f"
          },
          "geo": {
           "bgcolor": "white",
           "lakecolor": "white",
           "landcolor": "#E5ECF6",
           "showlakes": true,
           "showland": true,
           "subunitcolor": "white"
          },
          "hoverlabel": {
           "align": "left"
          },
          "hovermode": "closest",
          "mapbox": {
           "style": "light"
          },
          "paper_bgcolor": "white",
          "plot_bgcolor": "#E5ECF6",
          "polar": {
           "angularaxis": {
            "gridcolor": "white",
            "linecolor": "white",
            "ticks": ""
           },
           "bgcolor": "#E5ECF6",
           "radialaxis": {
            "gridcolor": "white",
            "linecolor": "white",
            "ticks": ""
           }
          },
          "scene": {
           "xaxis": {
            "backgroundcolor": "#E5ECF6",
            "gridcolor": "white",
            "gridwidth": 2,
            "linecolor": "white",
            "showbackground": true,
            "ticks": "",
            "zerolinecolor": "white"
           },
           "yaxis": {
            "backgroundcolor": "#E5ECF6",
            "gridcolor": "white",
            "gridwidth": 2,
            "linecolor": "white",
            "showbackground": true,
            "ticks": "",
            "zerolinecolor": "white"
           },
           "zaxis": {
            "backgroundcolor": "#E5ECF6",
            "gridcolor": "white",
            "gridwidth": 2,
            "linecolor": "white",
            "showbackground": true,
            "ticks": "",
            "zerolinecolor": "white"
           }
          },
          "shapedefaults": {
           "line": {
            "color": "#2a3f5f"
           }
          },
          "ternary": {
           "aaxis": {
            "gridcolor": "white",
            "linecolor": "white",
            "ticks": ""
           },
           "baxis": {
            "gridcolor": "white",
            "linecolor": "white",
            "ticks": ""
           },
           "bgcolor": "#E5ECF6",
           "caxis": {
            "gridcolor": "white",
            "linecolor": "white",
            "ticks": ""
           }
          },
          "title": {
           "x": 0.05
          },
          "xaxis": {
           "automargin": true,
           "gridcolor": "white",
           "linecolor": "white",
           "ticks": "",
           "title": {
            "standoff": 15
           },
           "zerolinecolor": "white",
           "zerolinewidth": 2
          },
          "yaxis": {
           "automargin": true,
           "gridcolor": "white",
           "linecolor": "white",
           "ticks": "",
           "title": {
            "standoff": 15
           },
           "zerolinecolor": "white",
           "zerolinewidth": 2
          }
         }
        },
        "title": {
         "font": {
          "color": "#4D5663"
         }
        },
        "xaxis": {
         "gridcolor": "#E1E5ED",
         "showgrid": true,
         "tickfont": {
          "color": "#4D5663"
         },
         "title": {
          "font": {
           "color": "#4D5663"
          },
          "text": ""
         },
         "zerolinecolor": "#E1E5ED"
        },
        "yaxis": {
         "gridcolor": "#E1E5ED",
         "showgrid": true,
         "tickfont": {
          "color": "#4D5663"
         },
         "title": {
          "font": {
           "color": "#4D5663"
          },
          "text": ""
         },
         "zerolinecolor": "#E1E5ED"
        }
       }
      },
      "text/html": [
       "<div>                            <div id=\"72e4199d-af34-41c4-b87e-6d1172e1c676\" class=\"plotly-graph-div\" style=\"height:525px; width:100%;\"></div>            <script type=\"text/javascript\">                require([\"plotly\"], function(Plotly) {                    window.PLOTLYENV=window.PLOTLYENV || {};\n",
       "                    window.PLOTLYENV.BASE_URL='https://plot.ly';                                    if (document.getElementById(\"72e4199d-af34-41c4-b87e-6d1172e1c676\")) {                    Plotly.newPlot(                        \"72e4199d-af34-41c4-b87e-6d1172e1c676\",                        [{\"histfunc\":\"count\",\"histnorm\":\"\",\"marker\":{\"color\":\"rgba(255, 153, 51, 1.0)\",\"line\":{\"color\":\"#4D5663\",\"width\":1.3}},\"name\":\"A\",\"opacity\":0.8,\"orientation\":\"v\",\"x\":[0.43539700148335236,0.15819395423214852,0.62879333196527,-0.26401107422169673,-1.8324809705325915,0.7704629872779027,1.7497298283959724,-1.0015334595201602,-1.718240559825639,0.628596523719882,-0.42019354274908316,2.7136701685643403,-0.9378495172398871,0.6598021382631747,1.6184775733872263,1.3954033785382987,1.405495874826309,-1.166616968739883,2.365923532026527,1.1133259856604942,-1.6813679639527261,-0.04667403900552732,-0.6363654890464304,-1.5425012567014285,-1.012741270794969,0.12132634073101281,1.595602460076769,1.7305965984334635,-1.9217891095448971,1.1860294383645715,0.26201847879465384,-1.2055378111750752,2.3438810173248927,1.2086288002904493,-1.8314084636430585,1.7619781396825958,2.1031817281439817,-2.5307453072827966,1.2761298243307624,-1.772353423710465,-0.636420642902602,-1.930564293340949,-1.0610308479700656,-0.450655785586209,-2.1425651099825824,-1.0903966470383508,-0.5620779766373142,-0.770744501166946,0.317708947982711,0.1318688172018447,-1.2201324264384652,-0.19136686704154338,-0.06257792497623924,0.5936190711859071,1.1391272098088527,0.7464631766024825,-0.8977662361522014,0.14140290562352897,0.3256123427724348,0.9112030544266069,0.8357966193733269,1.7487601057521938,-0.49373510396354875,-0.6666213874172607,1.1831818138576176,-1.0182097832516077,-0.04630874727601642,-0.9836337689727818,1.9926142232426531,0.7440871065414701,0.28972919333565683,-0.5480211897462933,0.8413311240763615,-0.6346241128971083,-0.4398922253755513,-0.28149585930036625,0.6490498459345291,-0.23584960142982708,-1.5937987594535374,0.051213682792660656,-0.374994885556381,0.7207560378542024,0.5394156502485068,1.1572917713327477,-2.5643244253052964,-0.10181612060765612,0.11183773067467831,1.1028927065391063,-1.3752211222891688,2.16105987106691,-0.7898043390090209,1.6487450904111807,-1.7240798592526558,0.4254960002374844,0.2156919556300176,0.2031078608182616,0.21648296318241012,0.6718965344393238,-1.8998227182750862,-0.017153916755728384],\"type\":\"histogram\"},{\"histfunc\":\"count\",\"histnorm\":\"\",\"marker\":{\"color\":\"rgba(55, 128, 191, 1.0)\",\"line\":{\"color\":\"#4D5663\",\"width\":1.3}},\"name\":\"B\",\"opacity\":0.8,\"orientation\":\"v\",\"x\":[0.760388682451242,-0.3014770718387929,-0.8104320504480762,1.1583102446320703,0.66259937418456,-0.8731559685701944,-0.10732150644350782,-1.4845842008871466,-1.1868462655772307,1.613590761177109,-1.9381099315529704,-0.29380824929788424,1.3599307756073165,-0.36836520730565253,-0.3269586169498003,-0.8722022296216736,1.7599609916589511,2.412515853128903,-1.1138794684306152,1.5653823254598276,1.7614719313614335,-1.2290358322794215,2.6522230722984435,1.0163014618558739,0.6293809696480948,-1.5146156122233023,0.016940034354393264,0.0032133467236007663,-0.5981712356892535,0.020951829720675653,1.9963821917383087,1.0740671422306807,0.17809074697460173,0.04485989073294413,-0.4227495550182459,-0.32645695274430736,0.698607870034912,0.6330148722372047,0.2875584885528013,1.1234133729510283,0.24214275695220294,-0.9745143810694096,-0.09487224825524246,-0.05206076437308604,0.1700768924108305,1.300218316913883,-0.14751521656419564,-0.30080352426550006,-0.8520916792252314,1.1620463903000628,1.2476009203676264,-0.629125183496713,-0.3785357939583569,-0.914900498176864,0.15739646399040055,-0.08110020866252839,1.2781757771914946,1.9785521600539933,-0.07924996180658282,-0.17064150415758025,-0.33892612512205456,-0.8766265534473259,-0.8696592484215764,1.1323493113477194,-1.7050942234370272,-0.600405565715628,-0.1789375334228437,0.2764438144488436,-1.3979390762783197,1.3262592652981067,0.703525942698256,1.411777371228823,-1.6110804563893522,0.39705885749036557,-0.24578206196537786,-1.0140463874894474,0.35097105186424615,0.22520868769189759,0.11269335584705568,-0.6275979165028887,0.830374106714317,0.21139937581431129,-0.5613355709825517,0.5599973868588114,0.10923587614740028,-0.21228235369384083,0.9848944487618184,0.15230352046132178,-0.24908169790355753,-0.5547350602916322,-0.26024067645453,-0.12512543124851477,1.4959303828793944,-0.8075642744958867,-0.7868387528914741,0.11502021583953378,1.052635171665947,-2.005202626886498,0.36358094296755,-1.292869329621461],\"type\":\"histogram\"},{\"histfunc\":\"count\",\"histnorm\":\"\",\"marker\":{\"color\":\"rgba(50, 171, 96, 1.0)\",\"line\":{\"color\":\"#4D5663\",\"width\":1.3}},\"name\":\"C\",\"opacity\":0.8,\"orientation\":\"v\",\"x\":[1.7506839868116808,-0.05525851995596629,0.6170957201984968,-0.1115916319829114,0.5116816361868437,-2.2152101125435837,0.3315284364893782,0.12061261355873394,0.5657298475690731,0.528530005982104,1.3505673671144591,-1.1948625165823614,0.1861245268017284,1.466340663888806,-1.2496218278444502,-0.042254756026113054,0.5746877175630754,-1.4166594196141769,-1.1968199850030214,-0.8183800016923555,-0.5647855815888667,1.6581385906754473,-0.7466315211949155,0.1952774246638472,-1.4104910973740832,1.4284226905547313,-0.7664668283501381,-1.0838001767570018,0.7010686784174124,-0.1023297922421422,-1.2886240495582049,-0.7061207593027529,2.897502161129242,0.9010808303981163,0.5016339407709492,0.9970946254454802,-0.47115995979066305,-0.1973994499002884,1.7604450496094302,-0.6051709023066923,0.9185178513752467,-0.8971569837423113,1.092970248153521,-2.8136003677014547,-0.4576797890519921,0.6447060998883003,-0.8028938635150691,0.003505585948315358,0.3383690386122811,1.198436831143238,2.771847156459742,-2.254330916431132,0.9530849486491482,0.6857462587854266,2.026903317173535,0.21174591471811552,0.22119891318704257,-0.05312608477809972,-0.7409850974978949,1.892017237178089,-0.15679681385950367,-0.17109223041264868,1.6471337568749136,0.21920988201479505,-0.048131328941061535,0.006603176246051127,-1.20402950851814,1.2085801022634717,-0.22433096462997068,-1.0454463934053035,0.1220757939666129,1.3928722662278032,-1.508180765613294,0.9753571596335696,1.0784228637983067,0.7306926141166368,0.791267501618441,-0.8911164913797028,-1.1300915430771676,-0.06772167392315274,-1.5982042392029663,-1.1891695259259196,0.761386083379142,-0.4009140073390794,0.2095063908492791,0.06821644400313408,-0.6041624031835817,-0.03061682006821153,-0.1142173127149515,-1.6513277968691016,-1.0150656386360692,1.020045683034253,-1.839457892151129,0.6104771664127984,1.2816301431717376,-0.5420794843175418,0.36656788811570845,-0.7064686605718921,0.5004953964617794,1.0191968371752167],\"type\":\"histogram\"},{\"histfunc\":\"count\",\"histnorm\":\"\",\"marker\":{\"color\":\"rgba(128, 0, 128, 1.0)\",\"line\":{\"color\":\"#4D5663\",\"width\":1.3}},\"name\":\"D\",\"opacity\":0.8,\"orientation\":\"v\",\"x\":[0.8674962935144439,-0.15169061237904777,1.4833116835967546,-1.4074514343551905,1.6809840507857228,-0.7824343697157726,-1.1380900973944608,-1.1684071193234065,-0.0878769934933399,-0.18802903883875,1.1054096358312044,-0.24648969074191718,-0.5241680651347467,0.035331855455702256,0.015225596692327365,-0.6060087395337597,-0.9434835248285206,0.1497847075865502,0.1522093133466193,1.4150504705341356,0.6358530188099831,0.41411480056120253,0.5012150075195608,1.0918677517923927,-1.0110630912716843,0.7501167863796132,0.22526828659737172,-0.3928236835144014,0.05139529009097846,-1.5088301646601956,-0.006479746879657132,-1.3783917816596891,0.4028905799711096,-1.239179450863049,1.718021008393491,0.5505466944824268,-0.14824266673830355,1.4971862088434158,1.7856499631672211,-1.5121481986483902,-0.6158928496562914,-1.553905392676682,-0.4806126433270155,0.8549312578480122,-0.04568548986192174,-0.09289049173836152,0.6322409552767246,-0.5599033007259137,-0.3037859876969862,0.16983967055496837,0.1709607920225609,-0.34886082288164394,-1.3692790368586323,0.7885755016061133,-0.07133724885285725,-0.3575113346043425,0.8439328842517401,1.004879695851903,-0.36505763244114714,0.34469487183119296,0.08414626368852046,-1.0809642257758973,-2.544189181053026,-0.011664663423132037,-0.6412660010849413,0.849998385732044,1.622056962493663,0.9356600649157409,-0.897115091137332,0.7381536272834047,-0.8793215655655365,0.2889625791761557,1.554875265954636,-0.48248282999102315,-0.5391204960250202,0.3763552292283802,1.8407821584581037,0.3211550805423586,1.201203797763351,0.39424029396382054,0.5878383417101924,0.6698006096665847,-0.8586992507168567,-1.6366547297430356,0.054812542476560415,0.19531981977357643,-0.5023449008405783,1.359709951480831,-0.7040273728122117,-2.51023297090885,1.774352674744687,0.04172615855687068,0.35652881894014826,0.914906888607246,0.27973928313574714,-0.6987222670653883,-2.0880394552582535,0.032666666094802205,-0.8203891211559984,0.8018099020438711],\"type\":\"histogram\"}],                        {\"barmode\":\"overlay\",\"legend\":{\"bgcolor\":\"#F5F6F9\",\"font\":{\"color\":\"#4D5663\"}},\"paper_bgcolor\":\"#F5F6F9\",\"plot_bgcolor\":\"#F5F6F9\",\"template\":{\"data\":{\"barpolar\":[{\"marker\":{\"line\":{\"color\":\"#E5ECF6\",\"width\":0.5},\"pattern\":{\"fillmode\":\"overlay\",\"size\":10,\"solidity\":0.2}},\"type\":\"barpolar\"}],\"bar\":[{\"error_x\":{\"color\":\"#2a3f5f\"},\"error_y\":{\"color\":\"#2a3f5f\"},\"marker\":{\"line\":{\"color\":\"#E5ECF6\",\"width\":0.5},\"pattern\":{\"fillmode\":\"overlay\",\"size\":10,\"solidity\":0.2}},\"type\":\"bar\"}],\"carpet\":[{\"aaxis\":{\"endlinecolor\":\"#2a3f5f\",\"gridcolor\":\"white\",\"linecolor\":\"white\",\"minorgridcolor\":\"white\",\"startlinecolor\":\"#2a3f5f\"},\"baxis\":{\"endlinecolor\":\"#2a3f5f\",\"gridcolor\":\"white\",\"linecolor\":\"white\",\"minorgridcolor\":\"white\",\"startlinecolor\":\"#2a3f5f\"},\"type\":\"carpet\"}],\"choropleth\":[{\"colorbar\":{\"outlinewidth\":0,\"ticks\":\"\"},\"type\":\"choropleth\"}],\"contourcarpet\":[{\"colorbar\":{\"outlinewidth\":0,\"ticks\":\"\"},\"type\":\"contourcarpet\"}],\"contour\":[{\"colorbar\":{\"outlinewidth\":0,\"ticks\":\"\"},\"colorscale\":[[0.0,\"#0d0887\"],[0.1111111111111111,\"#46039f\"],[0.2222222222222222,\"#7201a8\"],[0.3333333333333333,\"#9c179e\"],[0.4444444444444444,\"#bd3786\"],[0.5555555555555556,\"#d8576b\"],[0.6666666666666666,\"#ed7953\"],[0.7777777777777778,\"#fb9f3a\"],[0.8888888888888888,\"#fdca26\"],[1.0,\"#f0f921\"]],\"type\":\"contour\"}],\"heatmapgl\":[{\"colorbar\":{\"outlinewidth\":0,\"ticks\":\"\"},\"colorscale\":[[0.0,\"#0d0887\"],[0.1111111111111111,\"#46039f\"],[0.2222222222222222,\"#7201a8\"],[0.3333333333333333,\"#9c179e\"],[0.4444444444444444,\"#bd3786\"],[0.5555555555555556,\"#d8576b\"],[0.6666666666666666,\"#ed7953\"],[0.7777777777777778,\"#fb9f3a\"],[0.8888888888888888,\"#fdca26\"],[1.0,\"#f0f921\"]],\"type\":\"heatmapgl\"}],\"heatmap\":[{\"colorbar\":{\"outlinewidth\":0,\"ticks\":\"\"},\"colorscale\":[[0.0,\"#0d0887\"],[0.1111111111111111,\"#46039f\"],[0.2222222222222222,\"#7201a8\"],[0.3333333333333333,\"#9c179e\"],[0.4444444444444444,\"#bd3786\"],[0.5555555555555556,\"#d8576b\"],[0.6666666666666666,\"#ed7953\"],[0.7777777777777778,\"#fb9f3a\"],[0.8888888888888888,\"#fdca26\"],[1.0,\"#f0f921\"]],\"type\":\"heatmap\"}],\"histogram2dcontour\":[{\"colorbar\":{\"outlinewidth\":0,\"ticks\":\"\"},\"colorscale\":[[0.0,\"#0d0887\"],[0.1111111111111111,\"#46039f\"],[0.2222222222222222,\"#7201a8\"],[0.3333333333333333,\"#9c179e\"],[0.4444444444444444,\"#bd3786\"],[0.5555555555555556,\"#d8576b\"],[0.6666666666666666,\"#ed7953\"],[0.7777777777777778,\"#fb9f3a\"],[0.8888888888888888,\"#fdca26\"],[1.0,\"#f0f921\"]],\"type\":\"histogram2dcontour\"}],\"histogram2d\":[{\"colorbar\":{\"outlinewidth\":0,\"ticks\":\"\"},\"colorscale\":[[0.0,\"#0d0887\"],[0.1111111111111111,\"#46039f\"],[0.2222222222222222,\"#7201a8\"],[0.3333333333333333,\"#9c179e\"],[0.4444444444444444,\"#bd3786\"],[0.5555555555555556,\"#d8576b\"],[0.6666666666666666,\"#ed7953\"],[0.7777777777777778,\"#fb9f3a\"],[0.8888888888888888,\"#fdca26\"],[1.0,\"#f0f921\"]],\"type\":\"histogram2d\"}],\"histogram\":[{\"marker\":{\"pattern\":{\"fillmode\":\"overlay\",\"size\":10,\"solidity\":0.2}},\"type\":\"histogram\"}],\"mesh3d\":[{\"colorbar\":{\"outlinewidth\":0,\"ticks\":\"\"},\"type\":\"mesh3d\"}],\"parcoords\":[{\"line\":{\"colorbar\":{\"outlinewidth\":0,\"ticks\":\"\"}},\"type\":\"parcoords\"}],\"pie\":[{\"automargin\":true,\"type\":\"pie\"}],\"scatter3d\":[{\"line\":{\"colorbar\":{\"outlinewidth\":0,\"ticks\":\"\"}},\"marker\":{\"colorbar\":{\"outlinewidth\":0,\"ticks\":\"\"}},\"type\":\"scatter3d\"}],\"scattercarpet\":[{\"marker\":{\"colorbar\":{\"outlinewidth\":0,\"ticks\":\"\"}},\"type\":\"scattercarpet\"}],\"scattergeo\":[{\"marker\":{\"colorbar\":{\"outlinewidth\":0,\"ticks\":\"\"}},\"type\":\"scattergeo\"}],\"scattergl\":[{\"marker\":{\"colorbar\":{\"outlinewidth\":0,\"ticks\":\"\"}},\"type\":\"scattergl\"}],\"scattermapbox\":[{\"marker\":{\"colorbar\":{\"outlinewidth\":0,\"ticks\":\"\"}},\"type\":\"scattermapbox\"}],\"scatterpolargl\":[{\"marker\":{\"colorbar\":{\"outlinewidth\":0,\"ticks\":\"\"}},\"type\":\"scatterpolargl\"}],\"scatterpolar\":[{\"marker\":{\"colorbar\":{\"outlinewidth\":0,\"ticks\":\"\"}},\"type\":\"scatterpolar\"}],\"scatter\":[{\"fillpattern\":{\"fillmode\":\"overlay\",\"size\":10,\"solidity\":0.2},\"type\":\"scatter\"}],\"scatterternary\":[{\"marker\":{\"colorbar\":{\"outlinewidth\":0,\"ticks\":\"\"}},\"type\":\"scatterternary\"}],\"surface\":[{\"colorbar\":{\"outlinewidth\":0,\"ticks\":\"\"},\"colorscale\":[[0.0,\"#0d0887\"],[0.1111111111111111,\"#46039f\"],[0.2222222222222222,\"#7201a8\"],[0.3333333333333333,\"#9c179e\"],[0.4444444444444444,\"#bd3786\"],[0.5555555555555556,\"#d8576b\"],[0.6666666666666666,\"#ed7953\"],[0.7777777777777778,\"#fb9f3a\"],[0.8888888888888888,\"#fdca26\"],[1.0,\"#f0f921\"]],\"type\":\"surface\"}],\"table\":[{\"cells\":{\"fill\":{\"color\":\"#EBF0F8\"},\"line\":{\"color\":\"white\"}},\"header\":{\"fill\":{\"color\":\"#C8D4E3\"},\"line\":{\"color\":\"white\"}},\"type\":\"table\"}]},\"layout\":{\"annotationdefaults\":{\"arrowcolor\":\"#2a3f5f\",\"arrowhead\":0,\"arrowwidth\":1},\"autotypenumbers\":\"strict\",\"coloraxis\":{\"colorbar\":{\"outlinewidth\":0,\"ticks\":\"\"}},\"colorscale\":{\"diverging\":[[0,\"#8e0152\"],[0.1,\"#c51b7d\"],[0.2,\"#de77ae\"],[0.3,\"#f1b6da\"],[0.4,\"#fde0ef\"],[0.5,\"#f7f7f7\"],[0.6,\"#e6f5d0\"],[0.7,\"#b8e186\"],[0.8,\"#7fbc41\"],[0.9,\"#4d9221\"],[1,\"#276419\"]],\"sequential\":[[0.0,\"#0d0887\"],[0.1111111111111111,\"#46039f\"],[0.2222222222222222,\"#7201a8\"],[0.3333333333333333,\"#9c179e\"],[0.4444444444444444,\"#bd3786\"],[0.5555555555555556,\"#d8576b\"],[0.6666666666666666,\"#ed7953\"],[0.7777777777777778,\"#fb9f3a\"],[0.8888888888888888,\"#fdca26\"],[1.0,\"#f0f921\"]],\"sequentialminus\":[[0.0,\"#0d0887\"],[0.1111111111111111,\"#46039f\"],[0.2222222222222222,\"#7201a8\"],[0.3333333333333333,\"#9c179e\"],[0.4444444444444444,\"#bd3786\"],[0.5555555555555556,\"#d8576b\"],[0.6666666666666666,\"#ed7953\"],[0.7777777777777778,\"#fb9f3a\"],[0.8888888888888888,\"#fdca26\"],[1.0,\"#f0f921\"]]},\"colorway\":[\"#636efa\",\"#EF553B\",\"#00cc96\",\"#ab63fa\",\"#FFA15A\",\"#19d3f3\",\"#FF6692\",\"#B6E880\",\"#FF97FF\",\"#FECB52\"],\"font\":{\"color\":\"#2a3f5f\"},\"geo\":{\"bgcolor\":\"white\",\"lakecolor\":\"white\",\"landcolor\":\"#E5ECF6\",\"showlakes\":true,\"showland\":true,\"subunitcolor\":\"white\"},\"hoverlabel\":{\"align\":\"left\"},\"hovermode\":\"closest\",\"mapbox\":{\"style\":\"light\"},\"paper_bgcolor\":\"white\",\"plot_bgcolor\":\"#E5ECF6\",\"polar\":{\"angularaxis\":{\"gridcolor\":\"white\",\"linecolor\":\"white\",\"ticks\":\"\"},\"bgcolor\":\"#E5ECF6\",\"radialaxis\":{\"gridcolor\":\"white\",\"linecolor\":\"white\",\"ticks\":\"\"}},\"scene\":{\"xaxis\":{\"backgroundcolor\":\"#E5ECF6\",\"gridcolor\":\"white\",\"gridwidth\":2,\"linecolor\":\"white\",\"showbackground\":true,\"ticks\":\"\",\"zerolinecolor\":\"white\"},\"yaxis\":{\"backgroundcolor\":\"#E5ECF6\",\"gridcolor\":\"white\",\"gridwidth\":2,\"linecolor\":\"white\",\"showbackground\":true,\"ticks\":\"\",\"zerolinecolor\":\"white\"},\"zaxis\":{\"backgroundcolor\":\"#E5ECF6\",\"gridcolor\":\"white\",\"gridwidth\":2,\"linecolor\":\"white\",\"showbackground\":true,\"ticks\":\"\",\"zerolinecolor\":\"white\"}},\"shapedefaults\":{\"line\":{\"color\":\"#2a3f5f\"}},\"ternary\":{\"aaxis\":{\"gridcolor\":\"white\",\"linecolor\":\"white\",\"ticks\":\"\"},\"baxis\":{\"gridcolor\":\"white\",\"linecolor\":\"white\",\"ticks\":\"\"},\"bgcolor\":\"#E5ECF6\",\"caxis\":{\"gridcolor\":\"white\",\"linecolor\":\"white\",\"ticks\":\"\"}},\"title\":{\"x\":0.05},\"xaxis\":{\"automargin\":true,\"gridcolor\":\"white\",\"linecolor\":\"white\",\"ticks\":\"\",\"title\":{\"standoff\":15},\"zerolinecolor\":\"white\",\"zerolinewidth\":2},\"yaxis\":{\"automargin\":true,\"gridcolor\":\"white\",\"linecolor\":\"white\",\"ticks\":\"\",\"title\":{\"standoff\":15},\"zerolinecolor\":\"white\",\"zerolinewidth\":2}}},\"title\":{\"font\":{\"color\":\"#4D5663\"}},\"xaxis\":{\"gridcolor\":\"#E1E5ED\",\"showgrid\":true,\"tickfont\":{\"color\":\"#4D5663\"},\"title\":{\"font\":{\"color\":\"#4D5663\"},\"text\":\"\"},\"zerolinecolor\":\"#E1E5ED\"},\"yaxis\":{\"gridcolor\":\"#E1E5ED\",\"showgrid\":true,\"tickfont\":{\"color\":\"#4D5663\"},\"title\":{\"font\":{\"color\":\"#4D5663\"},\"text\":\"\"},\"zerolinecolor\":\"#E1E5ED\"}},                        {\"showLink\": true, \"linkText\": \"Export to plot.ly\", \"plotlyServerURL\": \"https://plot.ly\", \"responsive\": true}                    ).then(function(){\n",
       "                            \n",
       "var gd = document.getElementById('72e4199d-af34-41c4-b87e-6d1172e1c676');\n",
       "var x = new MutationObserver(function (mutations, observer) {{\n",
       "        var display = window.getComputedStyle(gd).display;\n",
       "        if (!display || display === 'none') {{\n",
       "            console.log([gd, 'removed!']);\n",
       "            Plotly.purge(gd);\n",
       "            observer.disconnect();\n",
       "        }}\n",
       "}});\n",
       "\n",
       "// Listen for the removal of the full notebook cells\n",
       "var notebookContainer = gd.closest('#notebook-container');\n",
       "if (notebookContainer) {{\n",
       "    x.observe(notebookContainer, {childList: true});\n",
       "}}\n",
       "\n",
       "// Listen for the clearing of the current output cell\n",
       "var outputEl = gd.closest('.output');\n",
       "if (outputEl) {{\n",
       "    x.observe(outputEl, {childList: true});\n",
       "}}\n",
       "\n",
       "                        })                };                });            </script>        </div>"
      ]
     },
     "metadata": {},
     "output_type": "display_data"
    }
   ],
   "source": [
    "df.iplot(kind='hist')"
   ]
  },
  {
   "cell_type": "code",
   "execution_count": 32,
   "id": "7a301d43",
   "metadata": {},
   "outputs": [
    {
     "data": {
      "text/html": [
       "<div>\n",
       "<style scoped>\n",
       "    .dataframe tbody tr th:only-of-type {\n",
       "        vertical-align: middle;\n",
       "    }\n",
       "\n",
       "    .dataframe tbody tr th {\n",
       "        vertical-align: top;\n",
       "    }\n",
       "\n",
       "    .dataframe thead th {\n",
       "        text-align: right;\n",
       "    }\n",
       "</style>\n",
       "<table border=\"1\" class=\"dataframe\">\n",
       "  <thead>\n",
       "    <tr style=\"text-align: right;\">\n",
       "      <th></th>\n",
       "      <th>A</th>\n",
       "      <th>B</th>\n",
       "    </tr>\n",
       "  </thead>\n",
       "  <tbody>\n",
       "    <tr>\n",
       "      <th>0</th>\n",
       "      <td>0.435397</td>\n",
       "      <td>0.760389</td>\n",
       "    </tr>\n",
       "    <tr>\n",
       "      <th>1</th>\n",
       "      <td>0.158194</td>\n",
       "      <td>-0.301477</td>\n",
       "    </tr>\n",
       "    <tr>\n",
       "      <th>2</th>\n",
       "      <td>0.628793</td>\n",
       "      <td>-0.810432</td>\n",
       "    </tr>\n",
       "    <tr>\n",
       "      <th>3</th>\n",
       "      <td>-0.264011</td>\n",
       "      <td>1.158310</td>\n",
       "    </tr>\n",
       "    <tr>\n",
       "      <th>4</th>\n",
       "      <td>-1.832481</td>\n",
       "      <td>0.662599</td>\n",
       "    </tr>\n",
       "    <tr>\n",
       "      <th>...</th>\n",
       "      <td>...</td>\n",
       "      <td>...</td>\n",
       "    </tr>\n",
       "    <tr>\n",
       "      <th>95</th>\n",
       "      <td>0.203108</td>\n",
       "      <td>0.115020</td>\n",
       "    </tr>\n",
       "    <tr>\n",
       "      <th>96</th>\n",
       "      <td>0.216483</td>\n",
       "      <td>1.052635</td>\n",
       "    </tr>\n",
       "    <tr>\n",
       "      <th>97</th>\n",
       "      <td>0.671897</td>\n",
       "      <td>-2.005203</td>\n",
       "    </tr>\n",
       "    <tr>\n",
       "      <th>98</th>\n",
       "      <td>-1.899823</td>\n",
       "      <td>0.363581</td>\n",
       "    </tr>\n",
       "    <tr>\n",
       "      <th>99</th>\n",
       "      <td>-0.017154</td>\n",
       "      <td>-1.292869</td>\n",
       "    </tr>\n",
       "  </tbody>\n",
       "</table>\n",
       "<p>100 rows × 2 columns</p>\n",
       "</div>"
      ],
      "text/plain": [
       "           A         B\n",
       "0   0.435397  0.760389\n",
       "1   0.158194 -0.301477\n",
       "2   0.628793 -0.810432\n",
       "3  -0.264011  1.158310\n",
       "4  -1.832481  0.662599\n",
       "..       ...       ...\n",
       "95  0.203108  0.115020\n",
       "96  0.216483  1.052635\n",
       "97  0.671897 -2.005203\n",
       "98 -1.899823  0.363581\n",
       "99 -0.017154 -1.292869\n",
       "\n",
       "[100 rows x 2 columns]"
      ]
     },
     "execution_count": 32,
     "metadata": {},
     "output_type": "execute_result"
    }
   ],
   "source": [
    "df[['A', 'B']]"
   ]
  },
  {
   "cell_type": "code",
   "execution_count": 33,
   "id": "96e9ad3d",
   "metadata": {},
   "outputs": [
    {
     "name": "stderr",
     "output_type": "stream",
     "text": [
      "E:\\software_files\\anaconda3\\lib\\site-packages\\cufflinks\\plotlytools.py:849: FutureWarning:\n",
      "\n",
      "The pandas.np module is deprecated and will be removed from pandas in a future version. Import numpy directly instead.\n",
      "\n",
      "E:\\software_files\\anaconda3\\lib\\site-packages\\cufflinks\\plotlytools.py:850: FutureWarning:\n",
      "\n",
      "The pandas.np module is deprecated and will be removed from pandas in a future version. Import numpy directly instead.\n",
      "\n"
     ]
    },
    {
     "data": {
      "application/vnd.plotly.v1+json": {
       "config": {
        "linkText": "Export to plot.ly",
        "plotlyServerURL": "https://plot.ly",
        "showLink": true
       },
       "data": [
        {
         "line": {
          "color": "rgba(255, 153, 51, 1.0)",
          "dash": "solid",
          "shape": "linear",
          "width": 1.3
         },
         "mode": "lines",
         "name": "A",
         "text": "",
         "type": "scatter",
         "x": [
          0,
          1,
          2,
          3,
          4,
          5,
          6,
          7,
          8,
          9,
          10,
          11,
          12,
          13,
          14,
          15,
          16,
          17,
          18,
          19,
          20,
          21,
          22,
          23,
          24,
          25,
          26,
          27,
          28,
          29,
          30,
          31,
          32,
          33,
          34,
          35,
          36,
          37,
          38,
          39,
          40,
          41,
          42,
          43,
          44,
          45,
          46,
          47,
          48,
          49,
          50,
          51,
          52,
          53,
          54,
          55,
          56,
          57,
          58,
          59,
          60,
          61,
          62,
          63,
          64,
          65,
          66,
          67,
          68,
          69,
          70,
          71,
          72,
          73,
          74,
          75,
          76,
          77,
          78,
          79,
          80,
          81,
          82,
          83,
          84,
          85,
          86,
          87,
          88,
          89,
          90,
          91,
          92,
          93,
          94,
          95,
          96,
          97,
          98,
          99
         ],
         "y": [
          0.43539700148335236,
          0.15819395423214852,
          0.62879333196527,
          -0.26401107422169673,
          -1.8324809705325915,
          0.7704629872779027,
          1.7497298283959724,
          -1.0015334595201602,
          -1.718240559825639,
          0.628596523719882,
          -0.42019354274908316,
          2.7136701685643403,
          -0.9378495172398871,
          0.6598021382631747,
          1.6184775733872263,
          1.3954033785382987,
          1.405495874826309,
          -1.166616968739883,
          2.365923532026527,
          1.1133259856604942,
          -1.6813679639527261,
          -0.04667403900552732,
          -0.6363654890464304,
          -1.5425012567014285,
          -1.012741270794969,
          0.12132634073101281,
          1.595602460076769,
          1.7305965984334635,
          -1.9217891095448971,
          1.1860294383645715,
          0.26201847879465384,
          -1.2055378111750752,
          2.3438810173248927,
          1.2086288002904493,
          -1.8314084636430585,
          1.7619781396825958,
          2.1031817281439817,
          -2.5307453072827966,
          1.2761298243307624,
          -1.772353423710465,
          -0.636420642902602,
          -1.930564293340949,
          -1.0610308479700656,
          -0.450655785586209,
          -2.1425651099825824,
          -1.0903966470383508,
          -0.5620779766373142,
          -0.770744501166946,
          0.317708947982711,
          0.1318688172018447,
          -1.2201324264384652,
          -0.19136686704154338,
          -0.06257792497623924,
          0.5936190711859071,
          1.1391272098088527,
          0.7464631766024825,
          -0.8977662361522014,
          0.14140290562352897,
          0.3256123427724348,
          0.9112030544266069,
          0.8357966193733269,
          1.7487601057521938,
          -0.49373510396354875,
          -0.6666213874172607,
          1.1831818138576176,
          -1.0182097832516077,
          -0.04630874727601642,
          -0.9836337689727818,
          1.9926142232426531,
          0.7440871065414701,
          0.28972919333565683,
          -0.5480211897462933,
          0.8413311240763615,
          -0.6346241128971083,
          -0.4398922253755513,
          -0.28149585930036625,
          0.6490498459345291,
          -0.23584960142982708,
          -1.5937987594535374,
          0.051213682792660656,
          -0.374994885556381,
          0.7207560378542024,
          0.5394156502485068,
          1.1572917713327477,
          -2.5643244253052964,
          -0.10181612060765612,
          0.11183773067467831,
          1.1028927065391063,
          -1.3752211222891688,
          2.16105987106691,
          -0.7898043390090209,
          1.6487450904111807,
          -1.7240798592526558,
          0.4254960002374844,
          0.2156919556300176,
          0.2031078608182616,
          0.21648296318241012,
          0.6718965344393238,
          -1.8998227182750862,
          -0.017153916755728384
         ]
        },
        {
         "line": {
          "color": "rgba(55, 128, 191, 1.0)",
          "dash": "solid",
          "shape": "linear",
          "width": 1.3
         },
         "mode": "lines",
         "name": "B",
         "text": "",
         "type": "scatter",
         "x": [
          0,
          1,
          2,
          3,
          4,
          5,
          6,
          7,
          8,
          9,
          10,
          11,
          12,
          13,
          14,
          15,
          16,
          17,
          18,
          19,
          20,
          21,
          22,
          23,
          24,
          25,
          26,
          27,
          28,
          29,
          30,
          31,
          32,
          33,
          34,
          35,
          36,
          37,
          38,
          39,
          40,
          41,
          42,
          43,
          44,
          45,
          46,
          47,
          48,
          49,
          50,
          51,
          52,
          53,
          54,
          55,
          56,
          57,
          58,
          59,
          60,
          61,
          62,
          63,
          64,
          65,
          66,
          67,
          68,
          69,
          70,
          71,
          72,
          73,
          74,
          75,
          76,
          77,
          78,
          79,
          80,
          81,
          82,
          83,
          84,
          85,
          86,
          87,
          88,
          89,
          90,
          91,
          92,
          93,
          94,
          95,
          96,
          97,
          98,
          99
         ],
         "y": [
          0.760388682451242,
          -0.3014770718387929,
          -0.8104320504480762,
          1.1583102446320703,
          0.66259937418456,
          -0.8731559685701944,
          -0.10732150644350782,
          -1.4845842008871466,
          -1.1868462655772307,
          1.613590761177109,
          -1.9381099315529704,
          -0.29380824929788424,
          1.3599307756073165,
          -0.36836520730565253,
          -0.3269586169498003,
          -0.8722022296216736,
          1.7599609916589511,
          2.412515853128903,
          -1.1138794684306152,
          1.5653823254598276,
          1.7614719313614335,
          -1.2290358322794215,
          2.6522230722984435,
          1.0163014618558739,
          0.6293809696480948,
          -1.5146156122233023,
          0.016940034354393264,
          0.0032133467236007663,
          -0.5981712356892535,
          0.020951829720675653,
          1.9963821917383087,
          1.0740671422306807,
          0.17809074697460173,
          0.04485989073294413,
          -0.4227495550182459,
          -0.32645695274430736,
          0.698607870034912,
          0.6330148722372047,
          0.2875584885528013,
          1.1234133729510283,
          0.24214275695220294,
          -0.9745143810694096,
          -0.09487224825524246,
          -0.05206076437308604,
          0.1700768924108305,
          1.300218316913883,
          -0.14751521656419564,
          -0.30080352426550006,
          -0.8520916792252314,
          1.1620463903000628,
          1.2476009203676264,
          -0.629125183496713,
          -0.3785357939583569,
          -0.914900498176864,
          0.15739646399040055,
          -0.08110020866252839,
          1.2781757771914946,
          1.9785521600539933,
          -0.07924996180658282,
          -0.17064150415758025,
          -0.33892612512205456,
          -0.8766265534473259,
          -0.8696592484215764,
          1.1323493113477194,
          -1.7050942234370272,
          -0.600405565715628,
          -0.1789375334228437,
          0.2764438144488436,
          -1.3979390762783197,
          1.3262592652981067,
          0.703525942698256,
          1.411777371228823,
          -1.6110804563893522,
          0.39705885749036557,
          -0.24578206196537786,
          -1.0140463874894474,
          0.35097105186424615,
          0.22520868769189759,
          0.11269335584705568,
          -0.6275979165028887,
          0.830374106714317,
          0.21139937581431129,
          -0.5613355709825517,
          0.5599973868588114,
          0.10923587614740028,
          -0.21228235369384083,
          0.9848944487618184,
          0.15230352046132178,
          -0.24908169790355753,
          -0.5547350602916322,
          -0.26024067645453,
          -0.12512543124851477,
          1.4959303828793944,
          -0.8075642744958867,
          -0.7868387528914741,
          0.11502021583953378,
          1.052635171665947,
          -2.005202626886498,
          0.36358094296755,
          -1.292869329621461
         ]
        },
        {
         "connectgaps": false,
         "fill": "tozeroy",
         "line": {
          "color": "green",
          "dash": "solid",
          "shape": "linear",
          "width": 0.5
         },
         "mode": "lines",
         "name": "Spread",
         "showlegend": false,
         "type": "scatter",
         "x": [
          0,
          1,
          2,
          3,
          4,
          5,
          6,
          7,
          8,
          9,
          10,
          11,
          12,
          13,
          14,
          15,
          16,
          17,
          18,
          19,
          20,
          21,
          22,
          23,
          24,
          25,
          26,
          27,
          28,
          29,
          30,
          31,
          32,
          33,
          34,
          35,
          36,
          37,
          38,
          39,
          40,
          41,
          42,
          43,
          44,
          45,
          46,
          47,
          48,
          49,
          50,
          51,
          52,
          53,
          54,
          55,
          56,
          57,
          58,
          59,
          60,
          61,
          62,
          63,
          64,
          65,
          66,
          67,
          68,
          69,
          70,
          71,
          72,
          73,
          74,
          75,
          76,
          77,
          78,
          79,
          80,
          81,
          82,
          83,
          84,
          85,
          86,
          87,
          88,
          89,
          90,
          91,
          92,
          93,
          94,
          95,
          96,
          97,
          98,
          99
         ],
         "xaxis": "x2",
         "y": [
          "",
          0.45967102607094146,
          1.4392253824133463,
          "",
          "",
          1.6436189558480971,
          1.8570513348394802,
          0.48305074136698645,
          "",
          "",
          1.5179163888038874,
          3.0074784178622247,
          "",
          1.0281673455688272,
          1.9454361903370265,
          2.2676056081599723,
          "",
          "",
          3.4798030004571423,
          "",
          "",
          1.1823617932738941,
          "",
          "",
          "",
          1.635941952954315,
          1.5786624257223758,
          1.7273832517098626,
          "",
          1.1650776086438959,
          "",
          "",
          2.165790270350291,
          1.1637689095575052,
          "",
          2.088435092426903,
          1.4045738581090697,
          "",
          0.9885713357779611,
          "",
          "",
          "",
          "",
          "",
          "",
          "",
          "",
          "",
          1.1698006272079424,
          "",
          "",
          0.4377583164551696,
          0.31595786898211764,
          1.508519569362771,
          0.9817307458184522,
          0.8275633852650109,
          "",
          "",
          0.4048623045790176,
          1.0818445585841872,
          1.1747227444953814,
          2.6253866591995196,
          0.37592414445802763,
          "",
          2.888276037294645,
          "",
          0.13262878614682727,
          "",
          3.390553299520973,
          "",
          "",
          "",
          2.4524115804657134,
          "",
          "",
          0.7325505281890812,
          0.2980787940702829,
          "",
          "",
          0.6788115992955494,
          "",
          0.509356662039891,
          1.1007512212310586,
          0.5972943844739363,
          "",
          0.11046623308618471,
          "",
          0.9505891860777845,
          "",
          2.715794931358542,
          "",
          1.7738705216596955,
          "",
          1.2330602747333712,
          1.0025307085214916,
          0.08808764497872781,
          "",
          2.6770991613258217,
          "",
          1.2757154128657326
         ],
         "yaxis": "y2"
        },
        {
         "connectgaps": false,
         "fill": "tozeroy",
         "line": {
          "color": "red",
          "dash": "solid",
          "shape": "linear",
          "width": 0.5
         },
         "mode": "lines",
         "name": "Spread",
         "showlegend": false,
         "type": "scatter",
         "x": [
          0,
          1,
          2,
          3,
          4,
          5,
          6,
          7,
          8,
          9,
          10,
          11,
          12,
          13,
          14,
          15,
          16,
          17,
          18,
          19,
          20,
          21,
          22,
          23,
          24,
          25,
          26,
          27,
          28,
          29,
          30,
          31,
          32,
          33,
          34,
          35,
          36,
          37,
          38,
          39,
          40,
          41,
          42,
          43,
          44,
          45,
          46,
          47,
          48,
          49,
          50,
          51,
          52,
          53,
          54,
          55,
          56,
          57,
          58,
          59,
          60,
          61,
          62,
          63,
          64,
          65,
          66,
          67,
          68,
          69,
          70,
          71,
          72,
          73,
          74,
          75,
          76,
          77,
          78,
          79,
          80,
          81,
          82,
          83,
          84,
          85,
          86,
          87,
          88,
          89,
          90,
          91,
          92,
          93,
          94,
          95,
          96,
          97,
          98,
          99
         ],
         "xaxis": "x2",
         "y": [
          -0.32499168096788966,
          "",
          "",
          -1.4223213188537671,
          -2.4950803447171515,
          "",
          "",
          "",
          -0.5313942942484082,
          -0.984994237457227,
          "",
          "",
          -2.2977802928472038,
          "",
          "",
          "",
          -0.35446511683264204,
          -3.579132821868786,
          "",
          -0.45205633979933335,
          -3.44283989531416,
          "",
          -3.288588561344874,
          -2.5588027185573026,
          -1.6421222404430638,
          "",
          "",
          "",
          -1.3236178738556437,
          "",
          -1.7343637129436549,
          -2.279604953405756,
          "",
          "",
          -1.4086589086248127,
          "",
          "",
          -3.1637601795200014,
          "",
          -2.8957667966614933,
          -0.878563399854805,
          -0.9560499122715395,
          -0.9661585997148232,
          -0.39859502121312296,
          -2.312642002393413,
          -2.390614963952234,
          -0.41456276007311854,
          -0.469940976901446,
          "",
          -1.0301775730982181,
          -2.4677333468060914,
          "",
          "",
          "",
          "",
          "",
          -2.175942013343696,
          -1.8371492544304644,
          "",
          "",
          "",
          "",
          "",
          -1.7989706987649803,
          "",
          -0.41780421753597974,
          "",
          -1.2600775834216253,
          "",
          -0.5821721587566365,
          -0.41379674936259914,
          -1.9597985609751163,
          "",
          -1.031682970387474,
          -0.19411016341017343,
          "",
          "",
          -0.46105828912172464,
          -1.7064921153005932,
          "",
          -1.205368992270698,
          "",
          "",
          "",
          -2.6735603014526967,
          "",
          -0.8730567180871401,
          "",
          -1.1261394243856113,
          "",
          -0.5295636625544909,
          "",
          -3.2200102421320502,
          "",
          "",
          "",
          -0.8361522084835369,
          "",
          -2.263403661242636,
          ""
         ],
         "yaxis": "y2"
        }
       ],
       "layout": {
        "hovermode": "x",
        "legend": {
         "bgcolor": "#F5F6F9",
         "font": {
          "color": "#4D5663"
         }
        },
        "paper_bgcolor": "#F5F6F9",
        "plot_bgcolor": "#F5F6F9",
        "template": {
         "data": {
          "bar": [
           {
            "error_x": {
             "color": "#2a3f5f"
            },
            "error_y": {
             "color": "#2a3f5f"
            },
            "marker": {
             "line": {
              "color": "#E5ECF6",
              "width": 0.5
             },
             "pattern": {
              "fillmode": "overlay",
              "size": 10,
              "solidity": 0.2
             }
            },
            "type": "bar"
           }
          ],
          "barpolar": [
           {
            "marker": {
             "line": {
              "color": "#E5ECF6",
              "width": 0.5
             },
             "pattern": {
              "fillmode": "overlay",
              "size": 10,
              "solidity": 0.2
             }
            },
            "type": "barpolar"
           }
          ],
          "carpet": [
           {
            "aaxis": {
             "endlinecolor": "#2a3f5f",
             "gridcolor": "white",
             "linecolor": "white",
             "minorgridcolor": "white",
             "startlinecolor": "#2a3f5f"
            },
            "baxis": {
             "endlinecolor": "#2a3f5f",
             "gridcolor": "white",
             "linecolor": "white",
             "minorgridcolor": "white",
             "startlinecolor": "#2a3f5f"
            },
            "type": "carpet"
           }
          ],
          "choropleth": [
           {
            "colorbar": {
             "outlinewidth": 0,
             "ticks": ""
            },
            "type": "choropleth"
           }
          ],
          "contour": [
           {
            "colorbar": {
             "outlinewidth": 0,
             "ticks": ""
            },
            "colorscale": [
             [
              0,
              "#0d0887"
             ],
             [
              0.1111111111111111,
              "#46039f"
             ],
             [
              0.2222222222222222,
              "#7201a8"
             ],
             [
              0.3333333333333333,
              "#9c179e"
             ],
             [
              0.4444444444444444,
              "#bd3786"
             ],
             [
              0.5555555555555556,
              "#d8576b"
             ],
             [
              0.6666666666666666,
              "#ed7953"
             ],
             [
              0.7777777777777778,
              "#fb9f3a"
             ],
             [
              0.8888888888888888,
              "#fdca26"
             ],
             [
              1,
              "#f0f921"
             ]
            ],
            "type": "contour"
           }
          ],
          "contourcarpet": [
           {
            "colorbar": {
             "outlinewidth": 0,
             "ticks": ""
            },
            "type": "contourcarpet"
           }
          ],
          "heatmap": [
           {
            "colorbar": {
             "outlinewidth": 0,
             "ticks": ""
            },
            "colorscale": [
             [
              0,
              "#0d0887"
             ],
             [
              0.1111111111111111,
              "#46039f"
             ],
             [
              0.2222222222222222,
              "#7201a8"
             ],
             [
              0.3333333333333333,
              "#9c179e"
             ],
             [
              0.4444444444444444,
              "#bd3786"
             ],
             [
              0.5555555555555556,
              "#d8576b"
             ],
             [
              0.6666666666666666,
              "#ed7953"
             ],
             [
              0.7777777777777778,
              "#fb9f3a"
             ],
             [
              0.8888888888888888,
              "#fdca26"
             ],
             [
              1,
              "#f0f921"
             ]
            ],
            "type": "heatmap"
           }
          ],
          "heatmapgl": [
           {
            "colorbar": {
             "outlinewidth": 0,
             "ticks": ""
            },
            "colorscale": [
             [
              0,
              "#0d0887"
             ],
             [
              0.1111111111111111,
              "#46039f"
             ],
             [
              0.2222222222222222,
              "#7201a8"
             ],
             [
              0.3333333333333333,
              "#9c179e"
             ],
             [
              0.4444444444444444,
              "#bd3786"
             ],
             [
              0.5555555555555556,
              "#d8576b"
             ],
             [
              0.6666666666666666,
              "#ed7953"
             ],
             [
              0.7777777777777778,
              "#fb9f3a"
             ],
             [
              0.8888888888888888,
              "#fdca26"
             ],
             [
              1,
              "#f0f921"
             ]
            ],
            "type": "heatmapgl"
           }
          ],
          "histogram": [
           {
            "marker": {
             "pattern": {
              "fillmode": "overlay",
              "size": 10,
              "solidity": 0.2
             }
            },
            "type": "histogram"
           }
          ],
          "histogram2d": [
           {
            "colorbar": {
             "outlinewidth": 0,
             "ticks": ""
            },
            "colorscale": [
             [
              0,
              "#0d0887"
             ],
             [
              0.1111111111111111,
              "#46039f"
             ],
             [
              0.2222222222222222,
              "#7201a8"
             ],
             [
              0.3333333333333333,
              "#9c179e"
             ],
             [
              0.4444444444444444,
              "#bd3786"
             ],
             [
              0.5555555555555556,
              "#d8576b"
             ],
             [
              0.6666666666666666,
              "#ed7953"
             ],
             [
              0.7777777777777778,
              "#fb9f3a"
             ],
             [
              0.8888888888888888,
              "#fdca26"
             ],
             [
              1,
              "#f0f921"
             ]
            ],
            "type": "histogram2d"
           }
          ],
          "histogram2dcontour": [
           {
            "colorbar": {
             "outlinewidth": 0,
             "ticks": ""
            },
            "colorscale": [
             [
              0,
              "#0d0887"
             ],
             [
              0.1111111111111111,
              "#46039f"
             ],
             [
              0.2222222222222222,
              "#7201a8"
             ],
             [
              0.3333333333333333,
              "#9c179e"
             ],
             [
              0.4444444444444444,
              "#bd3786"
             ],
             [
              0.5555555555555556,
              "#d8576b"
             ],
             [
              0.6666666666666666,
              "#ed7953"
             ],
             [
              0.7777777777777778,
              "#fb9f3a"
             ],
             [
              0.8888888888888888,
              "#fdca26"
             ],
             [
              1,
              "#f0f921"
             ]
            ],
            "type": "histogram2dcontour"
           }
          ],
          "mesh3d": [
           {
            "colorbar": {
             "outlinewidth": 0,
             "ticks": ""
            },
            "type": "mesh3d"
           }
          ],
          "parcoords": [
           {
            "line": {
             "colorbar": {
              "outlinewidth": 0,
              "ticks": ""
             }
            },
            "type": "parcoords"
           }
          ],
          "pie": [
           {
            "automargin": true,
            "type": "pie"
           }
          ],
          "scatter": [
           {
            "fillpattern": {
             "fillmode": "overlay",
             "size": 10,
             "solidity": 0.2
            },
            "type": "scatter"
           }
          ],
          "scatter3d": [
           {
            "line": {
             "colorbar": {
              "outlinewidth": 0,
              "ticks": ""
             }
            },
            "marker": {
             "colorbar": {
              "outlinewidth": 0,
              "ticks": ""
             }
            },
            "type": "scatter3d"
           }
          ],
          "scattercarpet": [
           {
            "marker": {
             "colorbar": {
              "outlinewidth": 0,
              "ticks": ""
             }
            },
            "type": "scattercarpet"
           }
          ],
          "scattergeo": [
           {
            "marker": {
             "colorbar": {
              "outlinewidth": 0,
              "ticks": ""
             }
            },
            "type": "scattergeo"
           }
          ],
          "scattergl": [
           {
            "marker": {
             "colorbar": {
              "outlinewidth": 0,
              "ticks": ""
             }
            },
            "type": "scattergl"
           }
          ],
          "scattermapbox": [
           {
            "marker": {
             "colorbar": {
              "outlinewidth": 0,
              "ticks": ""
             }
            },
            "type": "scattermapbox"
           }
          ],
          "scatterpolar": [
           {
            "marker": {
             "colorbar": {
              "outlinewidth": 0,
              "ticks": ""
             }
            },
            "type": "scatterpolar"
           }
          ],
          "scatterpolargl": [
           {
            "marker": {
             "colorbar": {
              "outlinewidth": 0,
              "ticks": ""
             }
            },
            "type": "scatterpolargl"
           }
          ],
          "scatterternary": [
           {
            "marker": {
             "colorbar": {
              "outlinewidth": 0,
              "ticks": ""
             }
            },
            "type": "scatterternary"
           }
          ],
          "surface": [
           {
            "colorbar": {
             "outlinewidth": 0,
             "ticks": ""
            },
            "colorscale": [
             [
              0,
              "#0d0887"
             ],
             [
              0.1111111111111111,
              "#46039f"
             ],
             [
              0.2222222222222222,
              "#7201a8"
             ],
             [
              0.3333333333333333,
              "#9c179e"
             ],
             [
              0.4444444444444444,
              "#bd3786"
             ],
             [
              0.5555555555555556,
              "#d8576b"
             ],
             [
              0.6666666666666666,
              "#ed7953"
             ],
             [
              0.7777777777777778,
              "#fb9f3a"
             ],
             [
              0.8888888888888888,
              "#fdca26"
             ],
             [
              1,
              "#f0f921"
             ]
            ],
            "type": "surface"
           }
          ],
          "table": [
           {
            "cells": {
             "fill": {
              "color": "#EBF0F8"
             },
             "line": {
              "color": "white"
             }
            },
            "header": {
             "fill": {
              "color": "#C8D4E3"
             },
             "line": {
              "color": "white"
             }
            },
            "type": "table"
           }
          ]
         },
         "layout": {
          "annotationdefaults": {
           "arrowcolor": "#2a3f5f",
           "arrowhead": 0,
           "arrowwidth": 1
          },
          "autotypenumbers": "strict",
          "coloraxis": {
           "colorbar": {
            "outlinewidth": 0,
            "ticks": ""
           }
          },
          "colorscale": {
           "diverging": [
            [
             0,
             "#8e0152"
            ],
            [
             0.1,
             "#c51b7d"
            ],
            [
             0.2,
             "#de77ae"
            ],
            [
             0.3,
             "#f1b6da"
            ],
            [
             0.4,
             "#fde0ef"
            ],
            [
             0.5,
             "#f7f7f7"
            ],
            [
             0.6,
             "#e6f5d0"
            ],
            [
             0.7,
             "#b8e186"
            ],
            [
             0.8,
             "#7fbc41"
            ],
            [
             0.9,
             "#4d9221"
            ],
            [
             1,
             "#276419"
            ]
           ],
           "sequential": [
            [
             0,
             "#0d0887"
            ],
            [
             0.1111111111111111,
             "#46039f"
            ],
            [
             0.2222222222222222,
             "#7201a8"
            ],
            [
             0.3333333333333333,
             "#9c179e"
            ],
            [
             0.4444444444444444,
             "#bd3786"
            ],
            [
             0.5555555555555556,
             "#d8576b"
            ],
            [
             0.6666666666666666,
             "#ed7953"
            ],
            [
             0.7777777777777778,
             "#fb9f3a"
            ],
            [
             0.8888888888888888,
             "#fdca26"
            ],
            [
             1,
             "#f0f921"
            ]
           ],
           "sequentialminus": [
            [
             0,
             "#0d0887"
            ],
            [
             0.1111111111111111,
             "#46039f"
            ],
            [
             0.2222222222222222,
             "#7201a8"
            ],
            [
             0.3333333333333333,
             "#9c179e"
            ],
            [
             0.4444444444444444,
             "#bd3786"
            ],
            [
             0.5555555555555556,
             "#d8576b"
            ],
            [
             0.6666666666666666,
             "#ed7953"
            ],
            [
             0.7777777777777778,
             "#fb9f3a"
            ],
            [
             0.8888888888888888,
             "#fdca26"
            ],
            [
             1,
             "#f0f921"
            ]
           ]
          },
          "colorway": [
           "#636efa",
           "#EF553B",
           "#00cc96",
           "#ab63fa",
           "#FFA15A",
           "#19d3f3",
           "#FF6692",
           "#B6E880",
           "#FF97FF",
           "#FECB52"
          ],
          "font": {
           "color": "#2a3f5f"
          },
          "geo": {
           "bgcolor": "white",
           "lakecolor": "white",
           "landcolor": "#E5ECF6",
           "showlakes": true,
           "showland": true,
           "subunitcolor": "white"
          },
          "hoverlabel": {
           "align": "left"
          },
          "hovermode": "closest",
          "mapbox": {
           "style": "light"
          },
          "paper_bgcolor": "white",
          "plot_bgcolor": "#E5ECF6",
          "polar": {
           "angularaxis": {
            "gridcolor": "white",
            "linecolor": "white",
            "ticks": ""
           },
           "bgcolor": "#E5ECF6",
           "radialaxis": {
            "gridcolor": "white",
            "linecolor": "white",
            "ticks": ""
           }
          },
          "scene": {
           "xaxis": {
            "backgroundcolor": "#E5ECF6",
            "gridcolor": "white",
            "gridwidth": 2,
            "linecolor": "white",
            "showbackground": true,
            "ticks": "",
            "zerolinecolor": "white"
           },
           "yaxis": {
            "backgroundcolor": "#E5ECF6",
            "gridcolor": "white",
            "gridwidth": 2,
            "linecolor": "white",
            "showbackground": true,
            "ticks": "",
            "zerolinecolor": "white"
           },
           "zaxis": {
            "backgroundcolor": "#E5ECF6",
            "gridcolor": "white",
            "gridwidth": 2,
            "linecolor": "white",
            "showbackground": true,
            "ticks": "",
            "zerolinecolor": "white"
           }
          },
          "shapedefaults": {
           "line": {
            "color": "#2a3f5f"
           }
          },
          "ternary": {
           "aaxis": {
            "gridcolor": "white",
            "linecolor": "white",
            "ticks": ""
           },
           "baxis": {
            "gridcolor": "white",
            "linecolor": "white",
            "ticks": ""
           },
           "bgcolor": "#E5ECF6",
           "caxis": {
            "gridcolor": "white",
            "linecolor": "white",
            "ticks": ""
           }
          },
          "title": {
           "x": 0.05
          },
          "xaxis": {
           "automargin": true,
           "gridcolor": "white",
           "linecolor": "white",
           "ticks": "",
           "title": {
            "standoff": 15
           },
           "zerolinecolor": "white",
           "zerolinewidth": 2
          },
          "yaxis": {
           "automargin": true,
           "gridcolor": "white",
           "linecolor": "white",
           "ticks": "",
           "title": {
            "standoff": 15
           },
           "zerolinecolor": "white",
           "zerolinewidth": 2
          }
         }
        },
        "title": {
         "font": {
          "color": "#4D5663"
         }
        },
        "xaxis": {
         "gridcolor": "#E1E5ED",
         "showgrid": true,
         "tickfont": {
          "color": "#4D5663"
         },
         "title": {
          "font": {
           "color": "#4D5663"
          },
          "text": ""
         },
         "zerolinecolor": "#E1E5ED"
        },
        "xaxis2": {
         "anchor": "y2",
         "gridcolor": "#E1E5ED",
         "showgrid": true,
         "showticklabels": false,
         "tickfont": {
          "color": "#4D5663"
         },
         "title": {
          "font": {
           "color": "#4D5663"
          },
          "text": ""
         },
         "zerolinecolor": "#E1E5ED"
        },
        "yaxis": {
         "domain": [
          0.3,
          1
         ],
         "gridcolor": "#E1E5ED",
         "showgrid": true,
         "tickfont": {
          "color": "#4D5663"
         },
         "title": {
          "font": {
           "color": "#4D5663"
          },
          "text": ""
         },
         "zerolinecolor": "#E1E5ED"
        },
        "yaxis2": {
         "domain": [
          0,
          0.25
         ],
         "gridcolor": "#E1E5ED",
         "showgrid": true,
         "tickfont": {
          "color": "#4D5663"
         },
         "title": {
          "font": {
           "color": "#4D5663"
          },
          "text": "Spread"
         },
         "zerolinecolor": "#E1E5ED"
        }
       }
      },
      "text/html": [
       "<div>                            <div id=\"a6b1a59e-2644-4d08-ae94-9e2ff15738a7\" class=\"plotly-graph-div\" style=\"height:525px; width:100%;\"></div>            <script type=\"text/javascript\">                require([\"plotly\"], function(Plotly) {                    window.PLOTLYENV=window.PLOTLYENV || {};\n",
       "                    window.PLOTLYENV.BASE_URL='https://plot.ly';                                    if (document.getElementById(\"a6b1a59e-2644-4d08-ae94-9e2ff15738a7\")) {                    Plotly.newPlot(                        \"a6b1a59e-2644-4d08-ae94-9e2ff15738a7\",                        [{\"line\":{\"color\":\"rgba(255, 153, 51, 1.0)\",\"dash\":\"solid\",\"shape\":\"linear\",\"width\":1.3},\"mode\":\"lines\",\"name\":\"A\",\"text\":\"\",\"x\":[0,1,2,3,4,5,6,7,8,9,10,11,12,13,14,15,16,17,18,19,20,21,22,23,24,25,26,27,28,29,30,31,32,33,34,35,36,37,38,39,40,41,42,43,44,45,46,47,48,49,50,51,52,53,54,55,56,57,58,59,60,61,62,63,64,65,66,67,68,69,70,71,72,73,74,75,76,77,78,79,80,81,82,83,84,85,86,87,88,89,90,91,92,93,94,95,96,97,98,99],\"y\":[0.43539700148335236,0.15819395423214852,0.62879333196527,-0.26401107422169673,-1.8324809705325915,0.7704629872779027,1.7497298283959724,-1.0015334595201602,-1.718240559825639,0.628596523719882,-0.42019354274908316,2.7136701685643403,-0.9378495172398871,0.6598021382631747,1.6184775733872263,1.3954033785382987,1.405495874826309,-1.166616968739883,2.365923532026527,1.1133259856604942,-1.6813679639527261,-0.04667403900552732,-0.6363654890464304,-1.5425012567014285,-1.012741270794969,0.12132634073101281,1.595602460076769,1.7305965984334635,-1.9217891095448971,1.1860294383645715,0.26201847879465384,-1.2055378111750752,2.3438810173248927,1.2086288002904493,-1.8314084636430585,1.7619781396825958,2.1031817281439817,-2.5307453072827966,1.2761298243307624,-1.772353423710465,-0.636420642902602,-1.930564293340949,-1.0610308479700656,-0.450655785586209,-2.1425651099825824,-1.0903966470383508,-0.5620779766373142,-0.770744501166946,0.317708947982711,0.1318688172018447,-1.2201324264384652,-0.19136686704154338,-0.06257792497623924,0.5936190711859071,1.1391272098088527,0.7464631766024825,-0.8977662361522014,0.14140290562352897,0.3256123427724348,0.9112030544266069,0.8357966193733269,1.7487601057521938,-0.49373510396354875,-0.6666213874172607,1.1831818138576176,-1.0182097832516077,-0.04630874727601642,-0.9836337689727818,1.9926142232426531,0.7440871065414701,0.28972919333565683,-0.5480211897462933,0.8413311240763615,-0.6346241128971083,-0.4398922253755513,-0.28149585930036625,0.6490498459345291,-0.23584960142982708,-1.5937987594535374,0.051213682792660656,-0.374994885556381,0.7207560378542024,0.5394156502485068,1.1572917713327477,-2.5643244253052964,-0.10181612060765612,0.11183773067467831,1.1028927065391063,-1.3752211222891688,2.16105987106691,-0.7898043390090209,1.6487450904111807,-1.7240798592526558,0.4254960002374844,0.2156919556300176,0.2031078608182616,0.21648296318241012,0.6718965344393238,-1.8998227182750862,-0.017153916755728384],\"type\":\"scatter\"},{\"line\":{\"color\":\"rgba(55, 128, 191, 1.0)\",\"dash\":\"solid\",\"shape\":\"linear\",\"width\":1.3},\"mode\":\"lines\",\"name\":\"B\",\"text\":\"\",\"x\":[0,1,2,3,4,5,6,7,8,9,10,11,12,13,14,15,16,17,18,19,20,21,22,23,24,25,26,27,28,29,30,31,32,33,34,35,36,37,38,39,40,41,42,43,44,45,46,47,48,49,50,51,52,53,54,55,56,57,58,59,60,61,62,63,64,65,66,67,68,69,70,71,72,73,74,75,76,77,78,79,80,81,82,83,84,85,86,87,88,89,90,91,92,93,94,95,96,97,98,99],\"y\":[0.760388682451242,-0.3014770718387929,-0.8104320504480762,1.1583102446320703,0.66259937418456,-0.8731559685701944,-0.10732150644350782,-1.4845842008871466,-1.1868462655772307,1.613590761177109,-1.9381099315529704,-0.29380824929788424,1.3599307756073165,-0.36836520730565253,-0.3269586169498003,-0.8722022296216736,1.7599609916589511,2.412515853128903,-1.1138794684306152,1.5653823254598276,1.7614719313614335,-1.2290358322794215,2.6522230722984435,1.0163014618558739,0.6293809696480948,-1.5146156122233023,0.016940034354393264,0.0032133467236007663,-0.5981712356892535,0.020951829720675653,1.9963821917383087,1.0740671422306807,0.17809074697460173,0.04485989073294413,-0.4227495550182459,-0.32645695274430736,0.698607870034912,0.6330148722372047,0.2875584885528013,1.1234133729510283,0.24214275695220294,-0.9745143810694096,-0.09487224825524246,-0.05206076437308604,0.1700768924108305,1.300218316913883,-0.14751521656419564,-0.30080352426550006,-0.8520916792252314,1.1620463903000628,1.2476009203676264,-0.629125183496713,-0.3785357939583569,-0.914900498176864,0.15739646399040055,-0.08110020866252839,1.2781757771914946,1.9785521600539933,-0.07924996180658282,-0.17064150415758025,-0.33892612512205456,-0.8766265534473259,-0.8696592484215764,1.1323493113477194,-1.7050942234370272,-0.600405565715628,-0.1789375334228437,0.2764438144488436,-1.3979390762783197,1.3262592652981067,0.703525942698256,1.411777371228823,-1.6110804563893522,0.39705885749036557,-0.24578206196537786,-1.0140463874894474,0.35097105186424615,0.22520868769189759,0.11269335584705568,-0.6275979165028887,0.830374106714317,0.21139937581431129,-0.5613355709825517,0.5599973868588114,0.10923587614740028,-0.21228235369384083,0.9848944487618184,0.15230352046132178,-0.24908169790355753,-0.5547350602916322,-0.26024067645453,-0.12512543124851477,1.4959303828793944,-0.8075642744958867,-0.7868387528914741,0.11502021583953378,1.052635171665947,-2.005202626886498,0.36358094296755,-1.292869329621461],\"type\":\"scatter\"},{\"connectgaps\":false,\"fill\":\"tozeroy\",\"line\":{\"color\":\"green\",\"dash\":\"solid\",\"shape\":\"linear\",\"width\":0.5},\"mode\":\"lines\",\"name\":\"Spread\",\"showlegend\":false,\"x\":[0,1,2,3,4,5,6,7,8,9,10,11,12,13,14,15,16,17,18,19,20,21,22,23,24,25,26,27,28,29,30,31,32,33,34,35,36,37,38,39,40,41,42,43,44,45,46,47,48,49,50,51,52,53,54,55,56,57,58,59,60,61,62,63,64,65,66,67,68,69,70,71,72,73,74,75,76,77,78,79,80,81,82,83,84,85,86,87,88,89,90,91,92,93,94,95,96,97,98,99],\"xaxis\":\"x2\",\"y\":[\"\",0.45967102607094146,1.4392253824133463,\"\",\"\",1.6436189558480971,1.8570513348394802,0.48305074136698645,\"\",\"\",1.5179163888038874,3.0074784178622247,\"\",1.0281673455688272,1.9454361903370265,2.2676056081599723,\"\",\"\",3.4798030004571423,\"\",\"\",1.1823617932738941,\"\",\"\",\"\",1.635941952954315,1.5786624257223758,1.7273832517098626,\"\",1.1650776086438959,\"\",\"\",2.165790270350291,1.1637689095575052,\"\",2.088435092426903,1.4045738581090697,\"\",0.9885713357779611,\"\",\"\",\"\",\"\",\"\",\"\",\"\",\"\",\"\",1.1698006272079424,\"\",\"\",0.4377583164551696,0.31595786898211764,1.508519569362771,0.9817307458184522,0.8275633852650109,\"\",\"\",0.4048623045790176,1.0818445585841872,1.1747227444953814,2.6253866591995196,0.37592414445802763,\"\",2.888276037294645,\"\",0.13262878614682727,\"\",3.390553299520973,\"\",\"\",\"\",2.4524115804657134,\"\",\"\",0.7325505281890812,0.2980787940702829,\"\",\"\",0.6788115992955494,\"\",0.509356662039891,1.1007512212310586,0.5972943844739363,\"\",0.11046623308618471,\"\",0.9505891860777845,\"\",2.715794931358542,\"\",1.7738705216596955,\"\",1.2330602747333712,1.0025307085214916,0.08808764497872781,\"\",2.6770991613258217,\"\",1.2757154128657326],\"yaxis\":\"y2\",\"type\":\"scatter\"},{\"connectgaps\":false,\"fill\":\"tozeroy\",\"line\":{\"color\":\"red\",\"dash\":\"solid\",\"shape\":\"linear\",\"width\":0.5},\"mode\":\"lines\",\"name\":\"Spread\",\"showlegend\":false,\"x\":[0,1,2,3,4,5,6,7,8,9,10,11,12,13,14,15,16,17,18,19,20,21,22,23,24,25,26,27,28,29,30,31,32,33,34,35,36,37,38,39,40,41,42,43,44,45,46,47,48,49,50,51,52,53,54,55,56,57,58,59,60,61,62,63,64,65,66,67,68,69,70,71,72,73,74,75,76,77,78,79,80,81,82,83,84,85,86,87,88,89,90,91,92,93,94,95,96,97,98,99],\"xaxis\":\"x2\",\"y\":[-0.32499168096788966,\"\",\"\",-1.4223213188537671,-2.4950803447171515,\"\",\"\",\"\",-0.5313942942484082,-0.984994237457227,\"\",\"\",-2.2977802928472038,\"\",\"\",\"\",-0.35446511683264204,-3.579132821868786,\"\",-0.45205633979933335,-3.44283989531416,\"\",-3.288588561344874,-2.5588027185573026,-1.6421222404430638,\"\",\"\",\"\",-1.3236178738556437,\"\",-1.7343637129436549,-2.279604953405756,\"\",\"\",-1.4086589086248127,\"\",\"\",-3.1637601795200014,\"\",-2.8957667966614933,-0.878563399854805,-0.9560499122715395,-0.9661585997148232,-0.39859502121312296,-2.312642002393413,-2.390614963952234,-0.41456276007311854,-0.469940976901446,\"\",-1.0301775730982181,-2.4677333468060914,\"\",\"\",\"\",\"\",\"\",-2.175942013343696,-1.8371492544304644,\"\",\"\",\"\",\"\",\"\",-1.7989706987649803,\"\",-0.41780421753597974,\"\",-1.2600775834216253,\"\",-0.5821721587566365,-0.41379674936259914,-1.9597985609751163,\"\",-1.031682970387474,-0.19411016341017343,\"\",\"\",-0.46105828912172464,-1.7064921153005932,\"\",-1.205368992270698,\"\",\"\",\"\",-2.6735603014526967,\"\",-0.8730567180871401,\"\",-1.1261394243856113,\"\",-0.5295636625544909,\"\",-3.2200102421320502,\"\",\"\",\"\",-0.8361522084835369,\"\",-2.263403661242636,\"\"],\"yaxis\":\"y2\",\"type\":\"scatter\"}],                        {\"hovermode\":\"x\",\"legend\":{\"bgcolor\":\"#F5F6F9\",\"font\":{\"color\":\"#4D5663\"}},\"paper_bgcolor\":\"#F5F6F9\",\"plot_bgcolor\":\"#F5F6F9\",\"template\":{\"data\":{\"barpolar\":[{\"marker\":{\"line\":{\"color\":\"#E5ECF6\",\"width\":0.5},\"pattern\":{\"fillmode\":\"overlay\",\"size\":10,\"solidity\":0.2}},\"type\":\"barpolar\"}],\"bar\":[{\"error_x\":{\"color\":\"#2a3f5f\"},\"error_y\":{\"color\":\"#2a3f5f\"},\"marker\":{\"line\":{\"color\":\"#E5ECF6\",\"width\":0.5},\"pattern\":{\"fillmode\":\"overlay\",\"size\":10,\"solidity\":0.2}},\"type\":\"bar\"}],\"carpet\":[{\"aaxis\":{\"endlinecolor\":\"#2a3f5f\",\"gridcolor\":\"white\",\"linecolor\":\"white\",\"minorgridcolor\":\"white\",\"startlinecolor\":\"#2a3f5f\"},\"baxis\":{\"endlinecolor\":\"#2a3f5f\",\"gridcolor\":\"white\",\"linecolor\":\"white\",\"minorgridcolor\":\"white\",\"startlinecolor\":\"#2a3f5f\"},\"type\":\"carpet\"}],\"choropleth\":[{\"colorbar\":{\"outlinewidth\":0,\"ticks\":\"\"},\"type\":\"choropleth\"}],\"contourcarpet\":[{\"colorbar\":{\"outlinewidth\":0,\"ticks\":\"\"},\"type\":\"contourcarpet\"}],\"contour\":[{\"colorbar\":{\"outlinewidth\":0,\"ticks\":\"\"},\"colorscale\":[[0.0,\"#0d0887\"],[0.1111111111111111,\"#46039f\"],[0.2222222222222222,\"#7201a8\"],[0.3333333333333333,\"#9c179e\"],[0.4444444444444444,\"#bd3786\"],[0.5555555555555556,\"#d8576b\"],[0.6666666666666666,\"#ed7953\"],[0.7777777777777778,\"#fb9f3a\"],[0.8888888888888888,\"#fdca26\"],[1.0,\"#f0f921\"]],\"type\":\"contour\"}],\"heatmapgl\":[{\"colorbar\":{\"outlinewidth\":0,\"ticks\":\"\"},\"colorscale\":[[0.0,\"#0d0887\"],[0.1111111111111111,\"#46039f\"],[0.2222222222222222,\"#7201a8\"],[0.3333333333333333,\"#9c179e\"],[0.4444444444444444,\"#bd3786\"],[0.5555555555555556,\"#d8576b\"],[0.6666666666666666,\"#ed7953\"],[0.7777777777777778,\"#fb9f3a\"],[0.8888888888888888,\"#fdca26\"],[1.0,\"#f0f921\"]],\"type\":\"heatmapgl\"}],\"heatmap\":[{\"colorbar\":{\"outlinewidth\":0,\"ticks\":\"\"},\"colorscale\":[[0.0,\"#0d0887\"],[0.1111111111111111,\"#46039f\"],[0.2222222222222222,\"#7201a8\"],[0.3333333333333333,\"#9c179e\"],[0.4444444444444444,\"#bd3786\"],[0.5555555555555556,\"#d8576b\"],[0.6666666666666666,\"#ed7953\"],[0.7777777777777778,\"#fb9f3a\"],[0.8888888888888888,\"#fdca26\"],[1.0,\"#f0f921\"]],\"type\":\"heatmap\"}],\"histogram2dcontour\":[{\"colorbar\":{\"outlinewidth\":0,\"ticks\":\"\"},\"colorscale\":[[0.0,\"#0d0887\"],[0.1111111111111111,\"#46039f\"],[0.2222222222222222,\"#7201a8\"],[0.3333333333333333,\"#9c179e\"],[0.4444444444444444,\"#bd3786\"],[0.5555555555555556,\"#d8576b\"],[0.6666666666666666,\"#ed7953\"],[0.7777777777777778,\"#fb9f3a\"],[0.8888888888888888,\"#fdca26\"],[1.0,\"#f0f921\"]],\"type\":\"histogram2dcontour\"}],\"histogram2d\":[{\"colorbar\":{\"outlinewidth\":0,\"ticks\":\"\"},\"colorscale\":[[0.0,\"#0d0887\"],[0.1111111111111111,\"#46039f\"],[0.2222222222222222,\"#7201a8\"],[0.3333333333333333,\"#9c179e\"],[0.4444444444444444,\"#bd3786\"],[0.5555555555555556,\"#d8576b\"],[0.6666666666666666,\"#ed7953\"],[0.7777777777777778,\"#fb9f3a\"],[0.8888888888888888,\"#fdca26\"],[1.0,\"#f0f921\"]],\"type\":\"histogram2d\"}],\"histogram\":[{\"marker\":{\"pattern\":{\"fillmode\":\"overlay\",\"size\":10,\"solidity\":0.2}},\"type\":\"histogram\"}],\"mesh3d\":[{\"colorbar\":{\"outlinewidth\":0,\"ticks\":\"\"},\"type\":\"mesh3d\"}],\"parcoords\":[{\"line\":{\"colorbar\":{\"outlinewidth\":0,\"ticks\":\"\"}},\"type\":\"parcoords\"}],\"pie\":[{\"automargin\":true,\"type\":\"pie\"}],\"scatter3d\":[{\"line\":{\"colorbar\":{\"outlinewidth\":0,\"ticks\":\"\"}},\"marker\":{\"colorbar\":{\"outlinewidth\":0,\"ticks\":\"\"}},\"type\":\"scatter3d\"}],\"scattercarpet\":[{\"marker\":{\"colorbar\":{\"outlinewidth\":0,\"ticks\":\"\"}},\"type\":\"scattercarpet\"}],\"scattergeo\":[{\"marker\":{\"colorbar\":{\"outlinewidth\":0,\"ticks\":\"\"}},\"type\":\"scattergeo\"}],\"scattergl\":[{\"marker\":{\"colorbar\":{\"outlinewidth\":0,\"ticks\":\"\"}},\"type\":\"scattergl\"}],\"scattermapbox\":[{\"marker\":{\"colorbar\":{\"outlinewidth\":0,\"ticks\":\"\"}},\"type\":\"scattermapbox\"}],\"scatterpolargl\":[{\"marker\":{\"colorbar\":{\"outlinewidth\":0,\"ticks\":\"\"}},\"type\":\"scatterpolargl\"}],\"scatterpolar\":[{\"marker\":{\"colorbar\":{\"outlinewidth\":0,\"ticks\":\"\"}},\"type\":\"scatterpolar\"}],\"scatter\":[{\"fillpattern\":{\"fillmode\":\"overlay\",\"size\":10,\"solidity\":0.2},\"type\":\"scatter\"}],\"scatterternary\":[{\"marker\":{\"colorbar\":{\"outlinewidth\":0,\"ticks\":\"\"}},\"type\":\"scatterternary\"}],\"surface\":[{\"colorbar\":{\"outlinewidth\":0,\"ticks\":\"\"},\"colorscale\":[[0.0,\"#0d0887\"],[0.1111111111111111,\"#46039f\"],[0.2222222222222222,\"#7201a8\"],[0.3333333333333333,\"#9c179e\"],[0.4444444444444444,\"#bd3786\"],[0.5555555555555556,\"#d8576b\"],[0.6666666666666666,\"#ed7953\"],[0.7777777777777778,\"#fb9f3a\"],[0.8888888888888888,\"#fdca26\"],[1.0,\"#f0f921\"]],\"type\":\"surface\"}],\"table\":[{\"cells\":{\"fill\":{\"color\":\"#EBF0F8\"},\"line\":{\"color\":\"white\"}},\"header\":{\"fill\":{\"color\":\"#C8D4E3\"},\"line\":{\"color\":\"white\"}},\"type\":\"table\"}]},\"layout\":{\"annotationdefaults\":{\"arrowcolor\":\"#2a3f5f\",\"arrowhead\":0,\"arrowwidth\":1},\"autotypenumbers\":\"strict\",\"coloraxis\":{\"colorbar\":{\"outlinewidth\":0,\"ticks\":\"\"}},\"colorscale\":{\"diverging\":[[0,\"#8e0152\"],[0.1,\"#c51b7d\"],[0.2,\"#de77ae\"],[0.3,\"#f1b6da\"],[0.4,\"#fde0ef\"],[0.5,\"#f7f7f7\"],[0.6,\"#e6f5d0\"],[0.7,\"#b8e186\"],[0.8,\"#7fbc41\"],[0.9,\"#4d9221\"],[1,\"#276419\"]],\"sequential\":[[0.0,\"#0d0887\"],[0.1111111111111111,\"#46039f\"],[0.2222222222222222,\"#7201a8\"],[0.3333333333333333,\"#9c179e\"],[0.4444444444444444,\"#bd3786\"],[0.5555555555555556,\"#d8576b\"],[0.6666666666666666,\"#ed7953\"],[0.7777777777777778,\"#fb9f3a\"],[0.8888888888888888,\"#fdca26\"],[1.0,\"#f0f921\"]],\"sequentialminus\":[[0.0,\"#0d0887\"],[0.1111111111111111,\"#46039f\"],[0.2222222222222222,\"#7201a8\"],[0.3333333333333333,\"#9c179e\"],[0.4444444444444444,\"#bd3786\"],[0.5555555555555556,\"#d8576b\"],[0.6666666666666666,\"#ed7953\"],[0.7777777777777778,\"#fb9f3a\"],[0.8888888888888888,\"#fdca26\"],[1.0,\"#f0f921\"]]},\"colorway\":[\"#636efa\",\"#EF553B\",\"#00cc96\",\"#ab63fa\",\"#FFA15A\",\"#19d3f3\",\"#FF6692\",\"#B6E880\",\"#FF97FF\",\"#FECB52\"],\"font\":{\"color\":\"#2a3f5f\"},\"geo\":{\"bgcolor\":\"white\",\"lakecolor\":\"white\",\"landcolor\":\"#E5ECF6\",\"showlakes\":true,\"showland\":true,\"subunitcolor\":\"white\"},\"hoverlabel\":{\"align\":\"left\"},\"hovermode\":\"closest\",\"mapbox\":{\"style\":\"light\"},\"paper_bgcolor\":\"white\",\"plot_bgcolor\":\"#E5ECF6\",\"polar\":{\"angularaxis\":{\"gridcolor\":\"white\",\"linecolor\":\"white\",\"ticks\":\"\"},\"bgcolor\":\"#E5ECF6\",\"radialaxis\":{\"gridcolor\":\"white\",\"linecolor\":\"white\",\"ticks\":\"\"}},\"scene\":{\"xaxis\":{\"backgroundcolor\":\"#E5ECF6\",\"gridcolor\":\"white\",\"gridwidth\":2,\"linecolor\":\"white\",\"showbackground\":true,\"ticks\":\"\",\"zerolinecolor\":\"white\"},\"yaxis\":{\"backgroundcolor\":\"#E5ECF6\",\"gridcolor\":\"white\",\"gridwidth\":2,\"linecolor\":\"white\",\"showbackground\":true,\"ticks\":\"\",\"zerolinecolor\":\"white\"},\"zaxis\":{\"backgroundcolor\":\"#E5ECF6\",\"gridcolor\":\"white\",\"gridwidth\":2,\"linecolor\":\"white\",\"showbackground\":true,\"ticks\":\"\",\"zerolinecolor\":\"white\"}},\"shapedefaults\":{\"line\":{\"color\":\"#2a3f5f\"}},\"ternary\":{\"aaxis\":{\"gridcolor\":\"white\",\"linecolor\":\"white\",\"ticks\":\"\"},\"baxis\":{\"gridcolor\":\"white\",\"linecolor\":\"white\",\"ticks\":\"\"},\"bgcolor\":\"#E5ECF6\",\"caxis\":{\"gridcolor\":\"white\",\"linecolor\":\"white\",\"ticks\":\"\"}},\"title\":{\"x\":0.05},\"xaxis\":{\"automargin\":true,\"gridcolor\":\"white\",\"linecolor\":\"white\",\"ticks\":\"\",\"title\":{\"standoff\":15},\"zerolinecolor\":\"white\",\"zerolinewidth\":2},\"yaxis\":{\"automargin\":true,\"gridcolor\":\"white\",\"linecolor\":\"white\",\"ticks\":\"\",\"title\":{\"standoff\":15},\"zerolinecolor\":\"white\",\"zerolinewidth\":2}}},\"title\":{\"font\":{\"color\":\"#4D5663\"}},\"xaxis\":{\"gridcolor\":\"#E1E5ED\",\"showgrid\":true,\"tickfont\":{\"color\":\"#4D5663\"},\"title\":{\"font\":{\"color\":\"#4D5663\"},\"text\":\"\"},\"zerolinecolor\":\"#E1E5ED\"},\"yaxis\":{\"domain\":[0.3,1],\"gridcolor\":\"#E1E5ED\",\"showgrid\":true,\"tickfont\":{\"color\":\"#4D5663\"},\"title\":{\"font\":{\"color\":\"#4D5663\"},\"text\":\"\"},\"zerolinecolor\":\"#E1E5ED\"},\"yaxis2\":{\"domain\":[0,0.25],\"gridcolor\":\"#E1E5ED\",\"showgrid\":true,\"tickfont\":{\"color\":\"#4D5663\"},\"title\":{\"font\":{\"color\":\"#4D5663\"},\"text\":\"Spread\"},\"zerolinecolor\":\"#E1E5ED\"},\"xaxis2\":{\"anchor\":\"y2\",\"gridcolor\":\"#E1E5ED\",\"showgrid\":true,\"showticklabels\":false,\"tickfont\":{\"color\":\"#4D5663\"},\"title\":{\"font\":{\"color\":\"#4D5663\"},\"text\":\"\"},\"zerolinecolor\":\"#E1E5ED\"}},                        {\"showLink\": true, \"linkText\": \"Export to plot.ly\", \"plotlyServerURL\": \"https://plot.ly\", \"responsive\": true}                    ).then(function(){\n",
       "                            \n",
       "var gd = document.getElementById('a6b1a59e-2644-4d08-ae94-9e2ff15738a7');\n",
       "var x = new MutationObserver(function (mutations, observer) {{\n",
       "        var display = window.getComputedStyle(gd).display;\n",
       "        if (!display || display === 'none') {{\n",
       "            console.log([gd, 'removed!']);\n",
       "            Plotly.purge(gd);\n",
       "            observer.disconnect();\n",
       "        }}\n",
       "}});\n",
       "\n",
       "// Listen for the removal of the full notebook cells\n",
       "var notebookContainer = gd.closest('#notebook-container');\n",
       "if (notebookContainer) {{\n",
       "    x.observe(notebookContainer, {childList: true});\n",
       "}}\n",
       "\n",
       "// Listen for the clearing of the current output cell\n",
       "var outputEl = gd.closest('.output');\n",
       "if (outputEl) {{\n",
       "    x.observe(outputEl, {childList: true});\n",
       "}}\n",
       "\n",
       "                        })                };                });            </script>        </div>"
      ]
     },
     "metadata": {},
     "output_type": "display_data"
    }
   ],
   "source": [
    "df[['A', 'B']].iplot(kind='spread')"
   ]
  },
  {
   "cell_type": "code",
   "execution_count": 34,
   "id": "149130af",
   "metadata": {},
   "outputs": [
    {
     "data": {
      "application/vnd.plotly.v1+json": {
       "config": {
        "linkText": "Export to plot.ly",
        "plotlyServerURL": "https://plot.ly",
        "showLink": true
       },
       "data": [
        {
         "marker": {
          "color": [
           "rgb(255, 153, 51)",
           "rgb(55, 128, 191)",
           "rgb(50, 171, 96)",
           "rgb(128, 0, 128)",
           "rgb(219, 64, 82)",
           "rgb(0, 128, 128)",
           "rgb(255, 255, 51)",
           "rgb(128, 128, 0)",
           "rgb(251, 128, 114)",
           "rgb(128, 177, 211)"
          ],
          "line": {
           "width": 1.3
          },
          "size": [
           91,
           60,
           72,
           59,
           70,
           22,
           67,
           63,
           71,
           70,
           84,
           40,
           64,
           86,
           39,
           60,
           71,
           36,
           40,
           46,
           51,
           90,
           48,
           64,
           36,
           86,
           47,
           42,
           73,
           59,
           38,
           48,
           112,
           77,
           70,
           78,
           53,
           57,
           92,
           50,
           77,
           45,
           80,
           12,
           53,
           72,
           47,
           61,
           67,
           82,
           109,
           21,
           77,
           73,
           96,
           64,
           65,
           60,
           48,
           94,
           58,
           58,
           90,
           65,
           60,
           61,
           40,
           82,
           57,
           42,
           63,
           85,
           34,
           78,
           80,
           74,
           75,
           45,
           41,
           60,
           33,
           40,
           74,
           54,
           64,
           62,
           50,
           60,
           59,
           32,
           43,
           79,
           29,
           71,
           83,
           51,
           67,
           48,
           70,
           79
          ],
          "symbol": "circle"
         },
         "mode": "markers",
         "text": "",
         "type": "scatter",
         "x": [
          0.43539700148335236,
          0.15819395423214852,
          0.62879333196527,
          -0.26401107422169673,
          -1.8324809705325915,
          0.7704629872779027,
          1.7497298283959724,
          -1.0015334595201602,
          -1.718240559825639,
          0.628596523719882,
          -0.42019354274908316,
          2.7136701685643403,
          -0.9378495172398871,
          0.6598021382631747,
          1.6184775733872263,
          1.3954033785382987,
          1.405495874826309,
          -1.166616968739883,
          2.365923532026527,
          1.1133259856604942,
          -1.6813679639527261,
          -0.04667403900552732,
          -0.6363654890464304,
          -1.5425012567014285,
          -1.012741270794969,
          0.12132634073101281,
          1.595602460076769,
          1.7305965984334635,
          -1.9217891095448971,
          1.1860294383645715,
          0.26201847879465384,
          -1.2055378111750752,
          2.3438810173248927,
          1.2086288002904493,
          -1.8314084636430585,
          1.7619781396825958,
          2.1031817281439817,
          -2.5307453072827966,
          1.2761298243307624,
          -1.772353423710465,
          -0.636420642902602,
          -1.930564293340949,
          -1.0610308479700656,
          -0.450655785586209,
          -2.1425651099825824,
          -1.0903966470383508,
          -0.5620779766373142,
          -0.770744501166946,
          0.317708947982711,
          0.1318688172018447,
          -1.2201324264384652,
          -0.19136686704154338,
          -0.06257792497623924,
          0.5936190711859071,
          1.1391272098088527,
          0.7464631766024825,
          -0.8977662361522014,
          0.14140290562352897,
          0.3256123427724348,
          0.9112030544266069,
          0.8357966193733269,
          1.7487601057521938,
          -0.49373510396354875,
          -0.6666213874172607,
          1.1831818138576176,
          -1.0182097832516077,
          -0.04630874727601642,
          -0.9836337689727818,
          1.9926142232426531,
          0.7440871065414701,
          0.28972919333565683,
          -0.5480211897462933,
          0.8413311240763615,
          -0.6346241128971083,
          -0.4398922253755513,
          -0.28149585930036625,
          0.6490498459345291,
          -0.23584960142982708,
          -1.5937987594535374,
          0.051213682792660656,
          -0.374994885556381,
          0.7207560378542024,
          0.5394156502485068,
          1.1572917713327477,
          -2.5643244253052964,
          -0.10181612060765612,
          0.11183773067467831,
          1.1028927065391063,
          -1.3752211222891688,
          2.16105987106691,
          -0.7898043390090209,
          1.6487450904111807,
          -1.7240798592526558,
          0.4254960002374844,
          0.2156919556300176,
          0.2031078608182616,
          0.21648296318241012,
          0.6718965344393238,
          -1.8998227182750862,
          -0.017153916755728384
         ],
         "y": [
          0.760388682451242,
          -0.3014770718387929,
          -0.8104320504480762,
          1.1583102446320703,
          0.66259937418456,
          -0.8731559685701944,
          -0.10732150644350782,
          -1.4845842008871466,
          -1.1868462655772307,
          1.613590761177109,
          -1.9381099315529704,
          -0.29380824929788424,
          1.3599307756073165,
          -0.36836520730565253,
          -0.3269586169498003,
          -0.8722022296216736,
          1.7599609916589511,
          2.412515853128903,
          -1.1138794684306152,
          1.5653823254598276,
          1.7614719313614335,
          -1.2290358322794215,
          2.6522230722984435,
          1.0163014618558739,
          0.6293809696480948,
          -1.5146156122233023,
          0.016940034354393264,
          0.0032133467236007663,
          -0.5981712356892535,
          0.020951829720675653,
          1.9963821917383087,
          1.0740671422306807,
          0.17809074697460173,
          0.04485989073294413,
          -0.4227495550182459,
          -0.32645695274430736,
          0.698607870034912,
          0.6330148722372047,
          0.2875584885528013,
          1.1234133729510283,
          0.24214275695220294,
          -0.9745143810694096,
          -0.09487224825524246,
          -0.05206076437308604,
          0.1700768924108305,
          1.300218316913883,
          -0.14751521656419564,
          -0.30080352426550006,
          -0.8520916792252314,
          1.1620463903000628,
          1.2476009203676264,
          -0.629125183496713,
          -0.3785357939583569,
          -0.914900498176864,
          0.15739646399040055,
          -0.08110020866252839,
          1.2781757771914946,
          1.9785521600539933,
          -0.07924996180658282,
          -0.17064150415758025,
          -0.33892612512205456,
          -0.8766265534473259,
          -0.8696592484215764,
          1.1323493113477194,
          -1.7050942234370272,
          -0.600405565715628,
          -0.1789375334228437,
          0.2764438144488436,
          -1.3979390762783197,
          1.3262592652981067,
          0.703525942698256,
          1.411777371228823,
          -1.6110804563893522,
          0.39705885749036557,
          -0.24578206196537786,
          -1.0140463874894474,
          0.35097105186424615,
          0.22520868769189759,
          0.11269335584705568,
          -0.6275979165028887,
          0.830374106714317,
          0.21139937581431129,
          -0.5613355709825517,
          0.5599973868588114,
          0.10923587614740028,
          -0.21228235369384083,
          0.9848944487618184,
          0.15230352046132178,
          -0.24908169790355753,
          -0.5547350602916322,
          -0.26024067645453,
          -0.12512543124851477,
          1.4959303828793944,
          -0.8075642744958867,
          -0.7868387528914741,
          0.11502021583953378,
          1.052635171665947,
          -2.005202626886498,
          0.36358094296755,
          -1.292869329621461
         ]
        }
       ],
       "layout": {
        "legend": {
         "bgcolor": "#F5F6F9",
         "font": {
          "color": "#4D5663"
         }
        },
        "paper_bgcolor": "#F5F6F9",
        "plot_bgcolor": "#F5F6F9",
        "template": {
         "data": {
          "bar": [
           {
            "error_x": {
             "color": "#2a3f5f"
            },
            "error_y": {
             "color": "#2a3f5f"
            },
            "marker": {
             "line": {
              "color": "#E5ECF6",
              "width": 0.5
             },
             "pattern": {
              "fillmode": "overlay",
              "size": 10,
              "solidity": 0.2
             }
            },
            "type": "bar"
           }
          ],
          "barpolar": [
           {
            "marker": {
             "line": {
              "color": "#E5ECF6",
              "width": 0.5
             },
             "pattern": {
              "fillmode": "overlay",
              "size": 10,
              "solidity": 0.2
             }
            },
            "type": "barpolar"
           }
          ],
          "carpet": [
           {
            "aaxis": {
             "endlinecolor": "#2a3f5f",
             "gridcolor": "white",
             "linecolor": "white",
             "minorgridcolor": "white",
             "startlinecolor": "#2a3f5f"
            },
            "baxis": {
             "endlinecolor": "#2a3f5f",
             "gridcolor": "white",
             "linecolor": "white",
             "minorgridcolor": "white",
             "startlinecolor": "#2a3f5f"
            },
            "type": "carpet"
           }
          ],
          "choropleth": [
           {
            "colorbar": {
             "outlinewidth": 0,
             "ticks": ""
            },
            "type": "choropleth"
           }
          ],
          "contour": [
           {
            "colorbar": {
             "outlinewidth": 0,
             "ticks": ""
            },
            "colorscale": [
             [
              0,
              "#0d0887"
             ],
             [
              0.1111111111111111,
              "#46039f"
             ],
             [
              0.2222222222222222,
              "#7201a8"
             ],
             [
              0.3333333333333333,
              "#9c179e"
             ],
             [
              0.4444444444444444,
              "#bd3786"
             ],
             [
              0.5555555555555556,
              "#d8576b"
             ],
             [
              0.6666666666666666,
              "#ed7953"
             ],
             [
              0.7777777777777778,
              "#fb9f3a"
             ],
             [
              0.8888888888888888,
              "#fdca26"
             ],
             [
              1,
              "#f0f921"
             ]
            ],
            "type": "contour"
           }
          ],
          "contourcarpet": [
           {
            "colorbar": {
             "outlinewidth": 0,
             "ticks": ""
            },
            "type": "contourcarpet"
           }
          ],
          "heatmap": [
           {
            "colorbar": {
             "outlinewidth": 0,
             "ticks": ""
            },
            "colorscale": [
             [
              0,
              "#0d0887"
             ],
             [
              0.1111111111111111,
              "#46039f"
             ],
             [
              0.2222222222222222,
              "#7201a8"
             ],
             [
              0.3333333333333333,
              "#9c179e"
             ],
             [
              0.4444444444444444,
              "#bd3786"
             ],
             [
              0.5555555555555556,
              "#d8576b"
             ],
             [
              0.6666666666666666,
              "#ed7953"
             ],
             [
              0.7777777777777778,
              "#fb9f3a"
             ],
             [
              0.8888888888888888,
              "#fdca26"
             ],
             [
              1,
              "#f0f921"
             ]
            ],
            "type": "heatmap"
           }
          ],
          "heatmapgl": [
           {
            "colorbar": {
             "outlinewidth": 0,
             "ticks": ""
            },
            "colorscale": [
             [
              0,
              "#0d0887"
             ],
             [
              0.1111111111111111,
              "#46039f"
             ],
             [
              0.2222222222222222,
              "#7201a8"
             ],
             [
              0.3333333333333333,
              "#9c179e"
             ],
             [
              0.4444444444444444,
              "#bd3786"
             ],
             [
              0.5555555555555556,
              "#d8576b"
             ],
             [
              0.6666666666666666,
              "#ed7953"
             ],
             [
              0.7777777777777778,
              "#fb9f3a"
             ],
             [
              0.8888888888888888,
              "#fdca26"
             ],
             [
              1,
              "#f0f921"
             ]
            ],
            "type": "heatmapgl"
           }
          ],
          "histogram": [
           {
            "marker": {
             "pattern": {
              "fillmode": "overlay",
              "size": 10,
              "solidity": 0.2
             }
            },
            "type": "histogram"
           }
          ],
          "histogram2d": [
           {
            "colorbar": {
             "outlinewidth": 0,
             "ticks": ""
            },
            "colorscale": [
             [
              0,
              "#0d0887"
             ],
             [
              0.1111111111111111,
              "#46039f"
             ],
             [
              0.2222222222222222,
              "#7201a8"
             ],
             [
              0.3333333333333333,
              "#9c179e"
             ],
             [
              0.4444444444444444,
              "#bd3786"
             ],
             [
              0.5555555555555556,
              "#d8576b"
             ],
             [
              0.6666666666666666,
              "#ed7953"
             ],
             [
              0.7777777777777778,
              "#fb9f3a"
             ],
             [
              0.8888888888888888,
              "#fdca26"
             ],
             [
              1,
              "#f0f921"
             ]
            ],
            "type": "histogram2d"
           }
          ],
          "histogram2dcontour": [
           {
            "colorbar": {
             "outlinewidth": 0,
             "ticks": ""
            },
            "colorscale": [
             [
              0,
              "#0d0887"
             ],
             [
              0.1111111111111111,
              "#46039f"
             ],
             [
              0.2222222222222222,
              "#7201a8"
             ],
             [
              0.3333333333333333,
              "#9c179e"
             ],
             [
              0.4444444444444444,
              "#bd3786"
             ],
             [
              0.5555555555555556,
              "#d8576b"
             ],
             [
              0.6666666666666666,
              "#ed7953"
             ],
             [
              0.7777777777777778,
              "#fb9f3a"
             ],
             [
              0.8888888888888888,
              "#fdca26"
             ],
             [
              1,
              "#f0f921"
             ]
            ],
            "type": "histogram2dcontour"
           }
          ],
          "mesh3d": [
           {
            "colorbar": {
             "outlinewidth": 0,
             "ticks": ""
            },
            "type": "mesh3d"
           }
          ],
          "parcoords": [
           {
            "line": {
             "colorbar": {
              "outlinewidth": 0,
              "ticks": ""
             }
            },
            "type": "parcoords"
           }
          ],
          "pie": [
           {
            "automargin": true,
            "type": "pie"
           }
          ],
          "scatter": [
           {
            "fillpattern": {
             "fillmode": "overlay",
             "size": 10,
             "solidity": 0.2
            },
            "type": "scatter"
           }
          ],
          "scatter3d": [
           {
            "line": {
             "colorbar": {
              "outlinewidth": 0,
              "ticks": ""
             }
            },
            "marker": {
             "colorbar": {
              "outlinewidth": 0,
              "ticks": ""
             }
            },
            "type": "scatter3d"
           }
          ],
          "scattercarpet": [
           {
            "marker": {
             "colorbar": {
              "outlinewidth": 0,
              "ticks": ""
             }
            },
            "type": "scattercarpet"
           }
          ],
          "scattergeo": [
           {
            "marker": {
             "colorbar": {
              "outlinewidth": 0,
              "ticks": ""
             }
            },
            "type": "scattergeo"
           }
          ],
          "scattergl": [
           {
            "marker": {
             "colorbar": {
              "outlinewidth": 0,
              "ticks": ""
             }
            },
            "type": "scattergl"
           }
          ],
          "scattermapbox": [
           {
            "marker": {
             "colorbar": {
              "outlinewidth": 0,
              "ticks": ""
             }
            },
            "type": "scattermapbox"
           }
          ],
          "scatterpolar": [
           {
            "marker": {
             "colorbar": {
              "outlinewidth": 0,
              "ticks": ""
             }
            },
            "type": "scatterpolar"
           }
          ],
          "scatterpolargl": [
           {
            "marker": {
             "colorbar": {
              "outlinewidth": 0,
              "ticks": ""
             }
            },
            "type": "scatterpolargl"
           }
          ],
          "scatterternary": [
           {
            "marker": {
             "colorbar": {
              "outlinewidth": 0,
              "ticks": ""
             }
            },
            "type": "scatterternary"
           }
          ],
          "surface": [
           {
            "colorbar": {
             "outlinewidth": 0,
             "ticks": ""
            },
            "colorscale": [
             [
              0,
              "#0d0887"
             ],
             [
              0.1111111111111111,
              "#46039f"
             ],
             [
              0.2222222222222222,
              "#7201a8"
             ],
             [
              0.3333333333333333,
              "#9c179e"
             ],
             [
              0.4444444444444444,
              "#bd3786"
             ],
             [
              0.5555555555555556,
              "#d8576b"
             ],
             [
              0.6666666666666666,
              "#ed7953"
             ],
             [
              0.7777777777777778,
              "#fb9f3a"
             ],
             [
              0.8888888888888888,
              "#fdca26"
             ],
             [
              1,
              "#f0f921"
             ]
            ],
            "type": "surface"
           }
          ],
          "table": [
           {
            "cells": {
             "fill": {
              "color": "#EBF0F8"
             },
             "line": {
              "color": "white"
             }
            },
            "header": {
             "fill": {
              "color": "#C8D4E3"
             },
             "line": {
              "color": "white"
             }
            },
            "type": "table"
           }
          ]
         },
         "layout": {
          "annotationdefaults": {
           "arrowcolor": "#2a3f5f",
           "arrowhead": 0,
           "arrowwidth": 1
          },
          "autotypenumbers": "strict",
          "coloraxis": {
           "colorbar": {
            "outlinewidth": 0,
            "ticks": ""
           }
          },
          "colorscale": {
           "diverging": [
            [
             0,
             "#8e0152"
            ],
            [
             0.1,
             "#c51b7d"
            ],
            [
             0.2,
             "#de77ae"
            ],
            [
             0.3,
             "#f1b6da"
            ],
            [
             0.4,
             "#fde0ef"
            ],
            [
             0.5,
             "#f7f7f7"
            ],
            [
             0.6,
             "#e6f5d0"
            ],
            [
             0.7,
             "#b8e186"
            ],
            [
             0.8,
             "#7fbc41"
            ],
            [
             0.9,
             "#4d9221"
            ],
            [
             1,
             "#276419"
            ]
           ],
           "sequential": [
            [
             0,
             "#0d0887"
            ],
            [
             0.1111111111111111,
             "#46039f"
            ],
            [
             0.2222222222222222,
             "#7201a8"
            ],
            [
             0.3333333333333333,
             "#9c179e"
            ],
            [
             0.4444444444444444,
             "#bd3786"
            ],
            [
             0.5555555555555556,
             "#d8576b"
            ],
            [
             0.6666666666666666,
             "#ed7953"
            ],
            [
             0.7777777777777778,
             "#fb9f3a"
            ],
            [
             0.8888888888888888,
             "#fdca26"
            ],
            [
             1,
             "#f0f921"
            ]
           ],
           "sequentialminus": [
            [
             0,
             "#0d0887"
            ],
            [
             0.1111111111111111,
             "#46039f"
            ],
            [
             0.2222222222222222,
             "#7201a8"
            ],
            [
             0.3333333333333333,
             "#9c179e"
            ],
            [
             0.4444444444444444,
             "#bd3786"
            ],
            [
             0.5555555555555556,
             "#d8576b"
            ],
            [
             0.6666666666666666,
             "#ed7953"
            ],
            [
             0.7777777777777778,
             "#fb9f3a"
            ],
            [
             0.8888888888888888,
             "#fdca26"
            ],
            [
             1,
             "#f0f921"
            ]
           ]
          },
          "colorway": [
           "#636efa",
           "#EF553B",
           "#00cc96",
           "#ab63fa",
           "#FFA15A",
           "#19d3f3",
           "#FF6692",
           "#B6E880",
           "#FF97FF",
           "#FECB52"
          ],
          "font": {
           "color": "#2a3f5f"
          },
          "geo": {
           "bgcolor": "white",
           "lakecolor": "white",
           "landcolor": "#E5ECF6",
           "showlakes": true,
           "showland": true,
           "subunitcolor": "white"
          },
          "hoverlabel": {
           "align": "left"
          },
          "hovermode": "closest",
          "mapbox": {
           "style": "light"
          },
          "paper_bgcolor": "white",
          "plot_bgcolor": "#E5ECF6",
          "polar": {
           "angularaxis": {
            "gridcolor": "white",
            "linecolor": "white",
            "ticks": ""
           },
           "bgcolor": "#E5ECF6",
           "radialaxis": {
            "gridcolor": "white",
            "linecolor": "white",
            "ticks": ""
           }
          },
          "scene": {
           "xaxis": {
            "backgroundcolor": "#E5ECF6",
            "gridcolor": "white",
            "gridwidth": 2,
            "linecolor": "white",
            "showbackground": true,
            "ticks": "",
            "zerolinecolor": "white"
           },
           "yaxis": {
            "backgroundcolor": "#E5ECF6",
            "gridcolor": "white",
            "gridwidth": 2,
            "linecolor": "white",
            "showbackground": true,
            "ticks": "",
            "zerolinecolor": "white"
           },
           "zaxis": {
            "backgroundcolor": "#E5ECF6",
            "gridcolor": "white",
            "gridwidth": 2,
            "linecolor": "white",
            "showbackground": true,
            "ticks": "",
            "zerolinecolor": "white"
           }
          },
          "shapedefaults": {
           "line": {
            "color": "#2a3f5f"
           }
          },
          "ternary": {
           "aaxis": {
            "gridcolor": "white",
            "linecolor": "white",
            "ticks": ""
           },
           "baxis": {
            "gridcolor": "white",
            "linecolor": "white",
            "ticks": ""
           },
           "bgcolor": "#E5ECF6",
           "caxis": {
            "gridcolor": "white",
            "linecolor": "white",
            "ticks": ""
           }
          },
          "title": {
           "x": 0.05
          },
          "xaxis": {
           "automargin": true,
           "gridcolor": "white",
           "linecolor": "white",
           "ticks": "",
           "title": {
            "standoff": 15
           },
           "zerolinecolor": "white",
           "zerolinewidth": 2
          },
          "yaxis": {
           "automargin": true,
           "gridcolor": "white",
           "linecolor": "white",
           "ticks": "",
           "title": {
            "standoff": 15
           },
           "zerolinecolor": "white",
           "zerolinewidth": 2
          }
         }
        },
        "title": {
         "font": {
          "color": "#4D5663"
         }
        },
        "xaxis": {
         "gridcolor": "#E1E5ED",
         "showgrid": true,
         "tickfont": {
          "color": "#4D5663"
         },
         "title": {
          "font": {
           "color": "#4D5663"
          },
          "text": ""
         },
         "zerolinecolor": "#E1E5ED"
        },
        "yaxis": {
         "gridcolor": "#E1E5ED",
         "showgrid": true,
         "tickfont": {
          "color": "#4D5663"
         },
         "title": {
          "font": {
           "color": "#4D5663"
          },
          "text": ""
         },
         "zerolinecolor": "#E1E5ED"
        }
       }
      },
      "text/html": [
       "<div>                            <div id=\"65a871b8-160d-4cc2-bbf8-989f4c95267a\" class=\"plotly-graph-div\" style=\"height:525px; width:100%;\"></div>            <script type=\"text/javascript\">                require([\"plotly\"], function(Plotly) {                    window.PLOTLYENV=window.PLOTLYENV || {};\n",
       "                    window.PLOTLYENV.BASE_URL='https://plot.ly';                                    if (document.getElementById(\"65a871b8-160d-4cc2-bbf8-989f4c95267a\")) {                    Plotly.newPlot(                        \"65a871b8-160d-4cc2-bbf8-989f4c95267a\",                        [{\"marker\":{\"color\":[\"rgb(255, 153, 51)\",\"rgb(55, 128, 191)\",\"rgb(50, 171, 96)\",\"rgb(128, 0, 128)\",\"rgb(219, 64, 82)\",\"rgb(0, 128, 128)\",\"rgb(255, 255, 51)\",\"rgb(128, 128, 0)\",\"rgb(251, 128, 114)\",\"rgb(128, 177, 211)\"],\"line\":{\"width\":1.3},\"size\":[91,60,72,59,70,22,67,63,71,70,84,40,64,86,39,60,71,36,40,46,51,90,48,64,36,86,47,42,73,59,38,48,112,77,70,78,53,57,92,50,77,45,80,12,53,72,47,61,67,82,109,21,77,73,96,64,65,60,48,94,58,58,90,65,60,61,40,82,57,42,63,85,34,78,80,74,75,45,41,60,33,40,74,54,64,62,50,60,59,32,43,79,29,71,83,51,67,48,70,79],\"symbol\":\"circle\"},\"mode\":\"markers\",\"text\":\"\",\"x\":[0.43539700148335236,0.15819395423214852,0.62879333196527,-0.26401107422169673,-1.8324809705325915,0.7704629872779027,1.7497298283959724,-1.0015334595201602,-1.718240559825639,0.628596523719882,-0.42019354274908316,2.7136701685643403,-0.9378495172398871,0.6598021382631747,1.6184775733872263,1.3954033785382987,1.405495874826309,-1.166616968739883,2.365923532026527,1.1133259856604942,-1.6813679639527261,-0.04667403900552732,-0.6363654890464304,-1.5425012567014285,-1.012741270794969,0.12132634073101281,1.595602460076769,1.7305965984334635,-1.9217891095448971,1.1860294383645715,0.26201847879465384,-1.2055378111750752,2.3438810173248927,1.2086288002904493,-1.8314084636430585,1.7619781396825958,2.1031817281439817,-2.5307453072827966,1.2761298243307624,-1.772353423710465,-0.636420642902602,-1.930564293340949,-1.0610308479700656,-0.450655785586209,-2.1425651099825824,-1.0903966470383508,-0.5620779766373142,-0.770744501166946,0.317708947982711,0.1318688172018447,-1.2201324264384652,-0.19136686704154338,-0.06257792497623924,0.5936190711859071,1.1391272098088527,0.7464631766024825,-0.8977662361522014,0.14140290562352897,0.3256123427724348,0.9112030544266069,0.8357966193733269,1.7487601057521938,-0.49373510396354875,-0.6666213874172607,1.1831818138576176,-1.0182097832516077,-0.04630874727601642,-0.9836337689727818,1.9926142232426531,0.7440871065414701,0.28972919333565683,-0.5480211897462933,0.8413311240763615,-0.6346241128971083,-0.4398922253755513,-0.28149585930036625,0.6490498459345291,-0.23584960142982708,-1.5937987594535374,0.051213682792660656,-0.374994885556381,0.7207560378542024,0.5394156502485068,1.1572917713327477,-2.5643244253052964,-0.10181612060765612,0.11183773067467831,1.1028927065391063,-1.3752211222891688,2.16105987106691,-0.7898043390090209,1.6487450904111807,-1.7240798592526558,0.4254960002374844,0.2156919556300176,0.2031078608182616,0.21648296318241012,0.6718965344393238,-1.8998227182750862,-0.017153916755728384],\"y\":[0.760388682451242,-0.3014770718387929,-0.8104320504480762,1.1583102446320703,0.66259937418456,-0.8731559685701944,-0.10732150644350782,-1.4845842008871466,-1.1868462655772307,1.613590761177109,-1.9381099315529704,-0.29380824929788424,1.3599307756073165,-0.36836520730565253,-0.3269586169498003,-0.8722022296216736,1.7599609916589511,2.412515853128903,-1.1138794684306152,1.5653823254598276,1.7614719313614335,-1.2290358322794215,2.6522230722984435,1.0163014618558739,0.6293809696480948,-1.5146156122233023,0.016940034354393264,0.0032133467236007663,-0.5981712356892535,0.020951829720675653,1.9963821917383087,1.0740671422306807,0.17809074697460173,0.04485989073294413,-0.4227495550182459,-0.32645695274430736,0.698607870034912,0.6330148722372047,0.2875584885528013,1.1234133729510283,0.24214275695220294,-0.9745143810694096,-0.09487224825524246,-0.05206076437308604,0.1700768924108305,1.300218316913883,-0.14751521656419564,-0.30080352426550006,-0.8520916792252314,1.1620463903000628,1.2476009203676264,-0.629125183496713,-0.3785357939583569,-0.914900498176864,0.15739646399040055,-0.08110020866252839,1.2781757771914946,1.9785521600539933,-0.07924996180658282,-0.17064150415758025,-0.33892612512205456,-0.8766265534473259,-0.8696592484215764,1.1323493113477194,-1.7050942234370272,-0.600405565715628,-0.1789375334228437,0.2764438144488436,-1.3979390762783197,1.3262592652981067,0.703525942698256,1.411777371228823,-1.6110804563893522,0.39705885749036557,-0.24578206196537786,-1.0140463874894474,0.35097105186424615,0.22520868769189759,0.11269335584705568,-0.6275979165028887,0.830374106714317,0.21139937581431129,-0.5613355709825517,0.5599973868588114,0.10923587614740028,-0.21228235369384083,0.9848944487618184,0.15230352046132178,-0.24908169790355753,-0.5547350602916322,-0.26024067645453,-0.12512543124851477,1.4959303828793944,-0.8075642744958867,-0.7868387528914741,0.11502021583953378,1.052635171665947,-2.005202626886498,0.36358094296755,-1.292869329621461],\"type\":\"scatter\"}],                        {\"legend\":{\"bgcolor\":\"#F5F6F9\",\"font\":{\"color\":\"#4D5663\"}},\"paper_bgcolor\":\"#F5F6F9\",\"plot_bgcolor\":\"#F5F6F9\",\"template\":{\"data\":{\"barpolar\":[{\"marker\":{\"line\":{\"color\":\"#E5ECF6\",\"width\":0.5},\"pattern\":{\"fillmode\":\"overlay\",\"size\":10,\"solidity\":0.2}},\"type\":\"barpolar\"}],\"bar\":[{\"error_x\":{\"color\":\"#2a3f5f\"},\"error_y\":{\"color\":\"#2a3f5f\"},\"marker\":{\"line\":{\"color\":\"#E5ECF6\",\"width\":0.5},\"pattern\":{\"fillmode\":\"overlay\",\"size\":10,\"solidity\":0.2}},\"type\":\"bar\"}],\"carpet\":[{\"aaxis\":{\"endlinecolor\":\"#2a3f5f\",\"gridcolor\":\"white\",\"linecolor\":\"white\",\"minorgridcolor\":\"white\",\"startlinecolor\":\"#2a3f5f\"},\"baxis\":{\"endlinecolor\":\"#2a3f5f\",\"gridcolor\":\"white\",\"linecolor\":\"white\",\"minorgridcolor\":\"white\",\"startlinecolor\":\"#2a3f5f\"},\"type\":\"carpet\"}],\"choropleth\":[{\"colorbar\":{\"outlinewidth\":0,\"ticks\":\"\"},\"type\":\"choropleth\"}],\"contourcarpet\":[{\"colorbar\":{\"outlinewidth\":0,\"ticks\":\"\"},\"type\":\"contourcarpet\"}],\"contour\":[{\"colorbar\":{\"outlinewidth\":0,\"ticks\":\"\"},\"colorscale\":[[0.0,\"#0d0887\"],[0.1111111111111111,\"#46039f\"],[0.2222222222222222,\"#7201a8\"],[0.3333333333333333,\"#9c179e\"],[0.4444444444444444,\"#bd3786\"],[0.5555555555555556,\"#d8576b\"],[0.6666666666666666,\"#ed7953\"],[0.7777777777777778,\"#fb9f3a\"],[0.8888888888888888,\"#fdca26\"],[1.0,\"#f0f921\"]],\"type\":\"contour\"}],\"heatmapgl\":[{\"colorbar\":{\"outlinewidth\":0,\"ticks\":\"\"},\"colorscale\":[[0.0,\"#0d0887\"],[0.1111111111111111,\"#46039f\"],[0.2222222222222222,\"#7201a8\"],[0.3333333333333333,\"#9c179e\"],[0.4444444444444444,\"#bd3786\"],[0.5555555555555556,\"#d8576b\"],[0.6666666666666666,\"#ed7953\"],[0.7777777777777778,\"#fb9f3a\"],[0.8888888888888888,\"#fdca26\"],[1.0,\"#f0f921\"]],\"type\":\"heatmapgl\"}],\"heatmap\":[{\"colorbar\":{\"outlinewidth\":0,\"ticks\":\"\"},\"colorscale\":[[0.0,\"#0d0887\"],[0.1111111111111111,\"#46039f\"],[0.2222222222222222,\"#7201a8\"],[0.3333333333333333,\"#9c179e\"],[0.4444444444444444,\"#bd3786\"],[0.5555555555555556,\"#d8576b\"],[0.6666666666666666,\"#ed7953\"],[0.7777777777777778,\"#fb9f3a\"],[0.8888888888888888,\"#fdca26\"],[1.0,\"#f0f921\"]],\"type\":\"heatmap\"}],\"histogram2dcontour\":[{\"colorbar\":{\"outlinewidth\":0,\"ticks\":\"\"},\"colorscale\":[[0.0,\"#0d0887\"],[0.1111111111111111,\"#46039f\"],[0.2222222222222222,\"#7201a8\"],[0.3333333333333333,\"#9c179e\"],[0.4444444444444444,\"#bd3786\"],[0.5555555555555556,\"#d8576b\"],[0.6666666666666666,\"#ed7953\"],[0.7777777777777778,\"#fb9f3a\"],[0.8888888888888888,\"#fdca26\"],[1.0,\"#f0f921\"]],\"type\":\"histogram2dcontour\"}],\"histogram2d\":[{\"colorbar\":{\"outlinewidth\":0,\"ticks\":\"\"},\"colorscale\":[[0.0,\"#0d0887\"],[0.1111111111111111,\"#46039f\"],[0.2222222222222222,\"#7201a8\"],[0.3333333333333333,\"#9c179e\"],[0.4444444444444444,\"#bd3786\"],[0.5555555555555556,\"#d8576b\"],[0.6666666666666666,\"#ed7953\"],[0.7777777777777778,\"#fb9f3a\"],[0.8888888888888888,\"#fdca26\"],[1.0,\"#f0f921\"]],\"type\":\"histogram2d\"}],\"histogram\":[{\"marker\":{\"pattern\":{\"fillmode\":\"overlay\",\"size\":10,\"solidity\":0.2}},\"type\":\"histogram\"}],\"mesh3d\":[{\"colorbar\":{\"outlinewidth\":0,\"ticks\":\"\"},\"type\":\"mesh3d\"}],\"parcoords\":[{\"line\":{\"colorbar\":{\"outlinewidth\":0,\"ticks\":\"\"}},\"type\":\"parcoords\"}],\"pie\":[{\"automargin\":true,\"type\":\"pie\"}],\"scatter3d\":[{\"line\":{\"colorbar\":{\"outlinewidth\":0,\"ticks\":\"\"}},\"marker\":{\"colorbar\":{\"outlinewidth\":0,\"ticks\":\"\"}},\"type\":\"scatter3d\"}],\"scattercarpet\":[{\"marker\":{\"colorbar\":{\"outlinewidth\":0,\"ticks\":\"\"}},\"type\":\"scattercarpet\"}],\"scattergeo\":[{\"marker\":{\"colorbar\":{\"outlinewidth\":0,\"ticks\":\"\"}},\"type\":\"scattergeo\"}],\"scattergl\":[{\"marker\":{\"colorbar\":{\"outlinewidth\":0,\"ticks\":\"\"}},\"type\":\"scattergl\"}],\"scattermapbox\":[{\"marker\":{\"colorbar\":{\"outlinewidth\":0,\"ticks\":\"\"}},\"type\":\"scattermapbox\"}],\"scatterpolargl\":[{\"marker\":{\"colorbar\":{\"outlinewidth\":0,\"ticks\":\"\"}},\"type\":\"scatterpolargl\"}],\"scatterpolar\":[{\"marker\":{\"colorbar\":{\"outlinewidth\":0,\"ticks\":\"\"}},\"type\":\"scatterpolar\"}],\"scatter\":[{\"fillpattern\":{\"fillmode\":\"overlay\",\"size\":10,\"solidity\":0.2},\"type\":\"scatter\"}],\"scatterternary\":[{\"marker\":{\"colorbar\":{\"outlinewidth\":0,\"ticks\":\"\"}},\"type\":\"scatterternary\"}],\"surface\":[{\"colorbar\":{\"outlinewidth\":0,\"ticks\":\"\"},\"colorscale\":[[0.0,\"#0d0887\"],[0.1111111111111111,\"#46039f\"],[0.2222222222222222,\"#7201a8\"],[0.3333333333333333,\"#9c179e\"],[0.4444444444444444,\"#bd3786\"],[0.5555555555555556,\"#d8576b\"],[0.6666666666666666,\"#ed7953\"],[0.7777777777777778,\"#fb9f3a\"],[0.8888888888888888,\"#fdca26\"],[1.0,\"#f0f921\"]],\"type\":\"surface\"}],\"table\":[{\"cells\":{\"fill\":{\"color\":\"#EBF0F8\"},\"line\":{\"color\":\"white\"}},\"header\":{\"fill\":{\"color\":\"#C8D4E3\"},\"line\":{\"color\":\"white\"}},\"type\":\"table\"}]},\"layout\":{\"annotationdefaults\":{\"arrowcolor\":\"#2a3f5f\",\"arrowhead\":0,\"arrowwidth\":1},\"autotypenumbers\":\"strict\",\"coloraxis\":{\"colorbar\":{\"outlinewidth\":0,\"ticks\":\"\"}},\"colorscale\":{\"diverging\":[[0,\"#8e0152\"],[0.1,\"#c51b7d\"],[0.2,\"#de77ae\"],[0.3,\"#f1b6da\"],[0.4,\"#fde0ef\"],[0.5,\"#f7f7f7\"],[0.6,\"#e6f5d0\"],[0.7,\"#b8e186\"],[0.8,\"#7fbc41\"],[0.9,\"#4d9221\"],[1,\"#276419\"]],\"sequential\":[[0.0,\"#0d0887\"],[0.1111111111111111,\"#46039f\"],[0.2222222222222222,\"#7201a8\"],[0.3333333333333333,\"#9c179e\"],[0.4444444444444444,\"#bd3786\"],[0.5555555555555556,\"#d8576b\"],[0.6666666666666666,\"#ed7953\"],[0.7777777777777778,\"#fb9f3a\"],[0.8888888888888888,\"#fdca26\"],[1.0,\"#f0f921\"]],\"sequentialminus\":[[0.0,\"#0d0887\"],[0.1111111111111111,\"#46039f\"],[0.2222222222222222,\"#7201a8\"],[0.3333333333333333,\"#9c179e\"],[0.4444444444444444,\"#bd3786\"],[0.5555555555555556,\"#d8576b\"],[0.6666666666666666,\"#ed7953\"],[0.7777777777777778,\"#fb9f3a\"],[0.8888888888888888,\"#fdca26\"],[1.0,\"#f0f921\"]]},\"colorway\":[\"#636efa\",\"#EF553B\",\"#00cc96\",\"#ab63fa\",\"#FFA15A\",\"#19d3f3\",\"#FF6692\",\"#B6E880\",\"#FF97FF\",\"#FECB52\"],\"font\":{\"color\":\"#2a3f5f\"},\"geo\":{\"bgcolor\":\"white\",\"lakecolor\":\"white\",\"landcolor\":\"#E5ECF6\",\"showlakes\":true,\"showland\":true,\"subunitcolor\":\"white\"},\"hoverlabel\":{\"align\":\"left\"},\"hovermode\":\"closest\",\"mapbox\":{\"style\":\"light\"},\"paper_bgcolor\":\"white\",\"plot_bgcolor\":\"#E5ECF6\",\"polar\":{\"angularaxis\":{\"gridcolor\":\"white\",\"linecolor\":\"white\",\"ticks\":\"\"},\"bgcolor\":\"#E5ECF6\",\"radialaxis\":{\"gridcolor\":\"white\",\"linecolor\":\"white\",\"ticks\":\"\"}},\"scene\":{\"xaxis\":{\"backgroundcolor\":\"#E5ECF6\",\"gridcolor\":\"white\",\"gridwidth\":2,\"linecolor\":\"white\",\"showbackground\":true,\"ticks\":\"\",\"zerolinecolor\":\"white\"},\"yaxis\":{\"backgroundcolor\":\"#E5ECF6\",\"gridcolor\":\"white\",\"gridwidth\":2,\"linecolor\":\"white\",\"showbackground\":true,\"ticks\":\"\",\"zerolinecolor\":\"white\"},\"zaxis\":{\"backgroundcolor\":\"#E5ECF6\",\"gridcolor\":\"white\",\"gridwidth\":2,\"linecolor\":\"white\",\"showbackground\":true,\"ticks\":\"\",\"zerolinecolor\":\"white\"}},\"shapedefaults\":{\"line\":{\"color\":\"#2a3f5f\"}},\"ternary\":{\"aaxis\":{\"gridcolor\":\"white\",\"linecolor\":\"white\",\"ticks\":\"\"},\"baxis\":{\"gridcolor\":\"white\",\"linecolor\":\"white\",\"ticks\":\"\"},\"bgcolor\":\"#E5ECF6\",\"caxis\":{\"gridcolor\":\"white\",\"linecolor\":\"white\",\"ticks\":\"\"}},\"title\":{\"x\":0.05},\"xaxis\":{\"automargin\":true,\"gridcolor\":\"white\",\"linecolor\":\"white\",\"ticks\":\"\",\"title\":{\"standoff\":15},\"zerolinecolor\":\"white\",\"zerolinewidth\":2},\"yaxis\":{\"automargin\":true,\"gridcolor\":\"white\",\"linecolor\":\"white\",\"ticks\":\"\",\"title\":{\"standoff\":15},\"zerolinecolor\":\"white\",\"zerolinewidth\":2}}},\"title\":{\"font\":{\"color\":\"#4D5663\"}},\"xaxis\":{\"gridcolor\":\"#E1E5ED\",\"showgrid\":true,\"tickfont\":{\"color\":\"#4D5663\"},\"title\":{\"font\":{\"color\":\"#4D5663\"},\"text\":\"\"},\"zerolinecolor\":\"#E1E5ED\"},\"yaxis\":{\"gridcolor\":\"#E1E5ED\",\"showgrid\":true,\"tickfont\":{\"color\":\"#4D5663\"},\"title\":{\"font\":{\"color\":\"#4D5663\"},\"text\":\"\"},\"zerolinecolor\":\"#E1E5ED\"}},                        {\"showLink\": true, \"linkText\": \"Export to plot.ly\", \"plotlyServerURL\": \"https://plot.ly\", \"responsive\": true}                    ).then(function(){\n",
       "                            \n",
       "var gd = document.getElementById('65a871b8-160d-4cc2-bbf8-989f4c95267a');\n",
       "var x = new MutationObserver(function (mutations, observer) {{\n",
       "        var display = window.getComputedStyle(gd).display;\n",
       "        if (!display || display === 'none') {{\n",
       "            console.log([gd, 'removed!']);\n",
       "            Plotly.purge(gd);\n",
       "            observer.disconnect();\n",
       "        }}\n",
       "}});\n",
       "\n",
       "// Listen for the removal of the full notebook cells\n",
       "var notebookContainer = gd.closest('#notebook-container');\n",
       "if (notebookContainer) {{\n",
       "    x.observe(notebookContainer, {childList: true});\n",
       "}}\n",
       "\n",
       "// Listen for the clearing of the current output cell\n",
       "var outputEl = gd.closest('.output');\n",
       "if (outputEl) {{\n",
       "    x.observe(outputEl, {childList: true});\n",
       "}}\n",
       "\n",
       "                        })                };                });            </script>        </div>"
      ]
     },
     "metadata": {},
     "output_type": "display_data"
    }
   ],
   "source": [
    "df.iplot(kind='bubble', x='A', y='B', size='C') # common in UN reports like happiness , GDP"
   ]
  },
  {
   "cell_type": "code",
   "execution_count": 35,
   "id": "b9023921",
   "metadata": {},
   "outputs": [
    {
     "data": {
      "application/vnd.plotly.v1+json": {
       "config": {
        "linkText": "Export to plot.ly",
        "plotlyServerURL": "https://plot.ly",
        "showLink": true
       },
       "data": [
        {
         "histfunc": "count",
         "histnorm": "",
         "marker": {
          "color": "rgba(255, 153, 51, 1.0)",
          "line": {
           "color": "#4D5663",
           "width": 1.3
          }
         },
         "name": "A",
         "nbinsx": 10,
         "opacity": 0.8,
         "orientation": "v",
         "type": "histogram",
         "x": [
          0.43539700148335236,
          0.15819395423214852,
          0.62879333196527,
          -0.26401107422169673,
          -1.8324809705325915,
          0.7704629872779027,
          1.7497298283959724,
          -1.0015334595201602,
          -1.718240559825639,
          0.628596523719882,
          -0.42019354274908316,
          2.7136701685643403,
          -0.9378495172398871,
          0.6598021382631747,
          1.6184775733872263,
          1.3954033785382987,
          1.405495874826309,
          -1.166616968739883,
          2.365923532026527,
          1.1133259856604942,
          -1.6813679639527261,
          -0.04667403900552732,
          -0.6363654890464304,
          -1.5425012567014285,
          -1.012741270794969,
          0.12132634073101281,
          1.595602460076769,
          1.7305965984334635,
          -1.9217891095448971,
          1.1860294383645715,
          0.26201847879465384,
          -1.2055378111750752,
          2.3438810173248927,
          1.2086288002904493,
          -1.8314084636430585,
          1.7619781396825958,
          2.1031817281439817,
          -2.5307453072827966,
          1.2761298243307624,
          -1.772353423710465,
          -0.636420642902602,
          -1.930564293340949,
          -1.0610308479700656,
          -0.450655785586209,
          -2.1425651099825824,
          -1.0903966470383508,
          -0.5620779766373142,
          -0.770744501166946,
          0.317708947982711,
          0.1318688172018447,
          -1.2201324264384652,
          -0.19136686704154338,
          -0.06257792497623924,
          0.5936190711859071,
          1.1391272098088527,
          0.7464631766024825,
          -0.8977662361522014,
          0.14140290562352897,
          0.3256123427724348,
          0.9112030544266069,
          0.8357966193733269,
          1.7487601057521938,
          -0.49373510396354875,
          -0.6666213874172607,
          1.1831818138576176,
          -1.0182097832516077,
          -0.04630874727601642,
          -0.9836337689727818,
          1.9926142232426531,
          0.7440871065414701,
          0.28972919333565683,
          -0.5480211897462933,
          0.8413311240763615,
          -0.6346241128971083,
          -0.4398922253755513,
          -0.28149585930036625,
          0.6490498459345291,
          -0.23584960142982708,
          -1.5937987594535374,
          0.051213682792660656,
          -0.374994885556381,
          0.7207560378542024,
          0.5394156502485068,
          1.1572917713327477,
          -2.5643244253052964,
          -0.10181612060765612,
          0.11183773067467831,
          1.1028927065391063,
          -1.3752211222891688,
          2.16105987106691,
          -0.7898043390090209,
          1.6487450904111807,
          -1.7240798592526558,
          0.4254960002374844,
          0.2156919556300176,
          0.2031078608182616,
          0.21648296318241012,
          0.6718965344393238,
          -1.8998227182750862,
          -0.017153916755728384
         ],
         "xaxis": "x",
         "yaxis": "y"
        },
        {
         "line": {
          "color": "rgba(128, 128, 128, 1.0)",
          "dash": "solid",
          "shape": "linear",
          "width": 1.3
         },
         "marker": {
          "size": 2,
          "symbol": "circle"
         },
         "mode": "markers",
         "name": "A",
         "text": "",
         "type": "scatter",
         "x": [
          0.760388682451242,
          -0.3014770718387929,
          -0.8104320504480762,
          1.1583102446320703,
          0.66259937418456,
          -0.8731559685701944,
          -0.10732150644350782,
          -1.4845842008871466,
          -1.1868462655772307,
          1.613590761177109,
          -1.9381099315529704,
          -0.29380824929788424,
          1.3599307756073165,
          -0.36836520730565253,
          -0.3269586169498003,
          -0.8722022296216736,
          1.7599609916589511,
          2.412515853128903,
          -1.1138794684306152,
          1.5653823254598276,
          1.7614719313614335,
          -1.2290358322794215,
          2.6522230722984435,
          1.0163014618558739,
          0.6293809696480948,
          -1.5146156122233023,
          0.016940034354393264,
          0.0032133467236007663,
          -0.5981712356892535,
          0.020951829720675653,
          1.9963821917383087,
          1.0740671422306807,
          0.17809074697460173,
          0.04485989073294413,
          -0.4227495550182459,
          -0.32645695274430736,
          0.698607870034912,
          0.6330148722372047,
          0.2875584885528013,
          1.1234133729510283,
          0.24214275695220294,
          -0.9745143810694096,
          -0.09487224825524246,
          -0.05206076437308604,
          0.1700768924108305,
          1.300218316913883,
          -0.14751521656419564,
          -0.30080352426550006,
          -0.8520916792252314,
          1.1620463903000628,
          1.2476009203676264,
          -0.629125183496713,
          -0.3785357939583569,
          -0.914900498176864,
          0.15739646399040055,
          -0.08110020866252839,
          1.2781757771914946,
          1.9785521600539933,
          -0.07924996180658282,
          -0.17064150415758025,
          -0.33892612512205456,
          -0.8766265534473259,
          -0.8696592484215764,
          1.1323493113477194,
          -1.7050942234370272,
          -0.600405565715628,
          -0.1789375334228437,
          0.2764438144488436,
          -1.3979390762783197,
          1.3262592652981067,
          0.703525942698256,
          1.411777371228823,
          -1.6110804563893522,
          0.39705885749036557,
          -0.24578206196537786,
          -1.0140463874894474,
          0.35097105186424615,
          0.22520868769189759,
          0.11269335584705568,
          -0.6275979165028887,
          0.830374106714317,
          0.21139937581431129,
          -0.5613355709825517,
          0.5599973868588114,
          0.10923587614740028,
          -0.21228235369384083,
          0.9848944487618184,
          0.15230352046132178,
          -0.24908169790355753,
          -0.5547350602916322,
          -0.26024067645453,
          -0.12512543124851477,
          1.4959303828793944,
          -0.8075642744958867,
          -0.7868387528914741,
          0.11502021583953378,
          1.052635171665947,
          -2.005202626886498,
          0.36358094296755,
          -1.292869329621461
         ],
         "xaxis": "x2",
         "y": [
          0.43539700148335236,
          0.15819395423214852,
          0.62879333196527,
          -0.26401107422169673,
          -1.8324809705325915,
          0.7704629872779027,
          1.7497298283959724,
          -1.0015334595201602,
          -1.718240559825639,
          0.628596523719882,
          -0.42019354274908316,
          2.7136701685643403,
          -0.9378495172398871,
          0.6598021382631747,
          1.6184775733872263,
          1.3954033785382987,
          1.405495874826309,
          -1.166616968739883,
          2.365923532026527,
          1.1133259856604942,
          -1.6813679639527261,
          -0.04667403900552732,
          -0.6363654890464304,
          -1.5425012567014285,
          -1.012741270794969,
          0.12132634073101281,
          1.595602460076769,
          1.7305965984334635,
          -1.9217891095448971,
          1.1860294383645715,
          0.26201847879465384,
          -1.2055378111750752,
          2.3438810173248927,
          1.2086288002904493,
          -1.8314084636430585,
          1.7619781396825958,
          2.1031817281439817,
          -2.5307453072827966,
          1.2761298243307624,
          -1.772353423710465,
          -0.636420642902602,
          -1.930564293340949,
          -1.0610308479700656,
          -0.450655785586209,
          -2.1425651099825824,
          -1.0903966470383508,
          -0.5620779766373142,
          -0.770744501166946,
          0.317708947982711,
          0.1318688172018447,
          -1.2201324264384652,
          -0.19136686704154338,
          -0.06257792497623924,
          0.5936190711859071,
          1.1391272098088527,
          0.7464631766024825,
          -0.8977662361522014,
          0.14140290562352897,
          0.3256123427724348,
          0.9112030544266069,
          0.8357966193733269,
          1.7487601057521938,
          -0.49373510396354875,
          -0.6666213874172607,
          1.1831818138576176,
          -1.0182097832516077,
          -0.04630874727601642,
          -0.9836337689727818,
          1.9926142232426531,
          0.7440871065414701,
          0.28972919333565683,
          -0.5480211897462933,
          0.8413311240763615,
          -0.6346241128971083,
          -0.4398922253755513,
          -0.28149585930036625,
          0.6490498459345291,
          -0.23584960142982708,
          -1.5937987594535374,
          0.051213682792660656,
          -0.374994885556381,
          0.7207560378542024,
          0.5394156502485068,
          1.1572917713327477,
          -2.5643244253052964,
          -0.10181612060765612,
          0.11183773067467831,
          1.1028927065391063,
          -1.3752211222891688,
          2.16105987106691,
          -0.7898043390090209,
          1.6487450904111807,
          -1.7240798592526558,
          0.4254960002374844,
          0.2156919556300176,
          0.2031078608182616,
          0.21648296318241012,
          0.6718965344393238,
          -1.8998227182750862,
          -0.017153916755728384
         ],
         "yaxis": "y2"
        },
        {
         "line": {
          "color": "rgba(128, 128, 128, 1.0)",
          "dash": "solid",
          "shape": "linear",
          "width": 1.3
         },
         "marker": {
          "size": 2,
          "symbol": "circle"
         },
         "mode": "markers",
         "name": "A",
         "text": "",
         "type": "scatter",
         "x": [
          1.7506839868116808,
          -0.05525851995596629,
          0.6170957201984968,
          -0.1115916319829114,
          0.5116816361868437,
          -2.2152101125435837,
          0.3315284364893782,
          0.12061261355873394,
          0.5657298475690731,
          0.528530005982104,
          1.3505673671144591,
          -1.1948625165823614,
          0.1861245268017284,
          1.466340663888806,
          -1.2496218278444502,
          -0.042254756026113054,
          0.5746877175630754,
          -1.4166594196141769,
          -1.1968199850030214,
          -0.8183800016923555,
          -0.5647855815888667,
          1.6581385906754473,
          -0.7466315211949155,
          0.1952774246638472,
          -1.4104910973740832,
          1.4284226905547313,
          -0.7664668283501381,
          -1.0838001767570018,
          0.7010686784174124,
          -0.1023297922421422,
          -1.2886240495582049,
          -0.7061207593027529,
          2.897502161129242,
          0.9010808303981163,
          0.5016339407709492,
          0.9970946254454802,
          -0.47115995979066305,
          -0.1973994499002884,
          1.7604450496094302,
          -0.6051709023066923,
          0.9185178513752467,
          -0.8971569837423113,
          1.092970248153521,
          -2.8136003677014547,
          -0.4576797890519921,
          0.6447060998883003,
          -0.8028938635150691,
          0.003505585948315358,
          0.3383690386122811,
          1.198436831143238,
          2.771847156459742,
          -2.254330916431132,
          0.9530849486491482,
          0.6857462587854266,
          2.026903317173535,
          0.21174591471811552,
          0.22119891318704257,
          -0.05312608477809972,
          -0.7409850974978949,
          1.892017237178089,
          -0.15679681385950367,
          -0.17109223041264868,
          1.6471337568749136,
          0.21920988201479505,
          -0.048131328941061535,
          0.006603176246051127,
          -1.20402950851814,
          1.2085801022634717,
          -0.22433096462997068,
          -1.0454463934053035,
          0.1220757939666129,
          1.3928722662278032,
          -1.508180765613294,
          0.9753571596335696,
          1.0784228637983067,
          0.7306926141166368,
          0.791267501618441,
          -0.8911164913797028,
          -1.1300915430771676,
          -0.06772167392315274,
          -1.5982042392029663,
          -1.1891695259259196,
          0.761386083379142,
          -0.4009140073390794,
          0.2095063908492791,
          0.06821644400313408,
          -0.6041624031835817,
          -0.03061682006821153,
          -0.1142173127149515,
          -1.6513277968691016,
          -1.0150656386360692,
          1.020045683034253,
          -1.839457892151129,
          0.6104771664127984,
          1.2816301431717376,
          -0.5420794843175418,
          0.36656788811570845,
          -0.7064686605718921,
          0.5004953964617794,
          1.0191968371752167
         ],
         "xaxis": "x3",
         "y": [
          0.43539700148335236,
          0.15819395423214852,
          0.62879333196527,
          -0.26401107422169673,
          -1.8324809705325915,
          0.7704629872779027,
          1.7497298283959724,
          -1.0015334595201602,
          -1.718240559825639,
          0.628596523719882,
          -0.42019354274908316,
          2.7136701685643403,
          -0.9378495172398871,
          0.6598021382631747,
          1.6184775733872263,
          1.3954033785382987,
          1.405495874826309,
          -1.166616968739883,
          2.365923532026527,
          1.1133259856604942,
          -1.6813679639527261,
          -0.04667403900552732,
          -0.6363654890464304,
          -1.5425012567014285,
          -1.012741270794969,
          0.12132634073101281,
          1.595602460076769,
          1.7305965984334635,
          -1.9217891095448971,
          1.1860294383645715,
          0.26201847879465384,
          -1.2055378111750752,
          2.3438810173248927,
          1.2086288002904493,
          -1.8314084636430585,
          1.7619781396825958,
          2.1031817281439817,
          -2.5307453072827966,
          1.2761298243307624,
          -1.772353423710465,
          -0.636420642902602,
          -1.930564293340949,
          -1.0610308479700656,
          -0.450655785586209,
          -2.1425651099825824,
          -1.0903966470383508,
          -0.5620779766373142,
          -0.770744501166946,
          0.317708947982711,
          0.1318688172018447,
          -1.2201324264384652,
          -0.19136686704154338,
          -0.06257792497623924,
          0.5936190711859071,
          1.1391272098088527,
          0.7464631766024825,
          -0.8977662361522014,
          0.14140290562352897,
          0.3256123427724348,
          0.9112030544266069,
          0.8357966193733269,
          1.7487601057521938,
          -0.49373510396354875,
          -0.6666213874172607,
          1.1831818138576176,
          -1.0182097832516077,
          -0.04630874727601642,
          -0.9836337689727818,
          1.9926142232426531,
          0.7440871065414701,
          0.28972919333565683,
          -0.5480211897462933,
          0.8413311240763615,
          -0.6346241128971083,
          -0.4398922253755513,
          -0.28149585930036625,
          0.6490498459345291,
          -0.23584960142982708,
          -1.5937987594535374,
          0.051213682792660656,
          -0.374994885556381,
          0.7207560378542024,
          0.5394156502485068,
          1.1572917713327477,
          -2.5643244253052964,
          -0.10181612060765612,
          0.11183773067467831,
          1.1028927065391063,
          -1.3752211222891688,
          2.16105987106691,
          -0.7898043390090209,
          1.6487450904111807,
          -1.7240798592526558,
          0.4254960002374844,
          0.2156919556300176,
          0.2031078608182616,
          0.21648296318241012,
          0.6718965344393238,
          -1.8998227182750862,
          -0.017153916755728384
         ],
         "yaxis": "y3"
        },
        {
         "line": {
          "color": "rgba(128, 128, 128, 1.0)",
          "dash": "solid",
          "shape": "linear",
          "width": 1.3
         },
         "marker": {
          "size": 2,
          "symbol": "circle"
         },
         "mode": "markers",
         "name": "A",
         "text": "",
         "type": "scatter",
         "x": [
          0.8674962935144439,
          -0.15169061237904777,
          1.4833116835967546,
          -1.4074514343551905,
          1.6809840507857228,
          -0.7824343697157726,
          -1.1380900973944608,
          -1.1684071193234065,
          -0.0878769934933399,
          -0.18802903883875,
          1.1054096358312044,
          -0.24648969074191718,
          -0.5241680651347467,
          0.035331855455702256,
          0.015225596692327365,
          -0.6060087395337597,
          -0.9434835248285206,
          0.1497847075865502,
          0.1522093133466193,
          1.4150504705341356,
          0.6358530188099831,
          0.41411480056120253,
          0.5012150075195608,
          1.0918677517923927,
          -1.0110630912716843,
          0.7501167863796132,
          0.22526828659737172,
          -0.3928236835144014,
          0.05139529009097846,
          -1.5088301646601956,
          -0.006479746879657132,
          -1.3783917816596891,
          0.4028905799711096,
          -1.239179450863049,
          1.718021008393491,
          0.5505466944824268,
          -0.14824266673830355,
          1.4971862088434158,
          1.7856499631672211,
          -1.5121481986483902,
          -0.6158928496562914,
          -1.553905392676682,
          -0.4806126433270155,
          0.8549312578480122,
          -0.04568548986192174,
          -0.09289049173836152,
          0.6322409552767246,
          -0.5599033007259137,
          -0.3037859876969862,
          0.16983967055496837,
          0.1709607920225609,
          -0.34886082288164394,
          -1.3692790368586323,
          0.7885755016061133,
          -0.07133724885285725,
          -0.3575113346043425,
          0.8439328842517401,
          1.004879695851903,
          -0.36505763244114714,
          0.34469487183119296,
          0.08414626368852046,
          -1.0809642257758973,
          -2.544189181053026,
          -0.011664663423132037,
          -0.6412660010849413,
          0.849998385732044,
          1.622056962493663,
          0.9356600649157409,
          -0.897115091137332,
          0.7381536272834047,
          -0.8793215655655365,
          0.2889625791761557,
          1.554875265954636,
          -0.48248282999102315,
          -0.5391204960250202,
          0.3763552292283802,
          1.8407821584581037,
          0.3211550805423586,
          1.201203797763351,
          0.39424029396382054,
          0.5878383417101924,
          0.6698006096665847,
          -0.8586992507168567,
          -1.6366547297430356,
          0.054812542476560415,
          0.19531981977357643,
          -0.5023449008405783,
          1.359709951480831,
          -0.7040273728122117,
          -2.51023297090885,
          1.774352674744687,
          0.04172615855687068,
          0.35652881894014826,
          0.914906888607246,
          0.27973928313574714,
          -0.6987222670653883,
          -2.0880394552582535,
          0.032666666094802205,
          -0.8203891211559984,
          0.8018099020438711
         ],
         "xaxis": "x4",
         "y": [
          0.43539700148335236,
          0.15819395423214852,
          0.62879333196527,
          -0.26401107422169673,
          -1.8324809705325915,
          0.7704629872779027,
          1.7497298283959724,
          -1.0015334595201602,
          -1.718240559825639,
          0.628596523719882,
          -0.42019354274908316,
          2.7136701685643403,
          -0.9378495172398871,
          0.6598021382631747,
          1.6184775733872263,
          1.3954033785382987,
          1.405495874826309,
          -1.166616968739883,
          2.365923532026527,
          1.1133259856604942,
          -1.6813679639527261,
          -0.04667403900552732,
          -0.6363654890464304,
          -1.5425012567014285,
          -1.012741270794969,
          0.12132634073101281,
          1.595602460076769,
          1.7305965984334635,
          -1.9217891095448971,
          1.1860294383645715,
          0.26201847879465384,
          -1.2055378111750752,
          2.3438810173248927,
          1.2086288002904493,
          -1.8314084636430585,
          1.7619781396825958,
          2.1031817281439817,
          -2.5307453072827966,
          1.2761298243307624,
          -1.772353423710465,
          -0.636420642902602,
          -1.930564293340949,
          -1.0610308479700656,
          -0.450655785586209,
          -2.1425651099825824,
          -1.0903966470383508,
          -0.5620779766373142,
          -0.770744501166946,
          0.317708947982711,
          0.1318688172018447,
          -1.2201324264384652,
          -0.19136686704154338,
          -0.06257792497623924,
          0.5936190711859071,
          1.1391272098088527,
          0.7464631766024825,
          -0.8977662361522014,
          0.14140290562352897,
          0.3256123427724348,
          0.9112030544266069,
          0.8357966193733269,
          1.7487601057521938,
          -0.49373510396354875,
          -0.6666213874172607,
          1.1831818138576176,
          -1.0182097832516077,
          -0.04630874727601642,
          -0.9836337689727818,
          1.9926142232426531,
          0.7440871065414701,
          0.28972919333565683,
          -0.5480211897462933,
          0.8413311240763615,
          -0.6346241128971083,
          -0.4398922253755513,
          -0.28149585930036625,
          0.6490498459345291,
          -0.23584960142982708,
          -1.5937987594535374,
          0.051213682792660656,
          -0.374994885556381,
          0.7207560378542024,
          0.5394156502485068,
          1.1572917713327477,
          -2.5643244253052964,
          -0.10181612060765612,
          0.11183773067467831,
          1.1028927065391063,
          -1.3752211222891688,
          2.16105987106691,
          -0.7898043390090209,
          1.6487450904111807,
          -1.7240798592526558,
          0.4254960002374844,
          0.2156919556300176,
          0.2031078608182616,
          0.21648296318241012,
          0.6718965344393238,
          -1.8998227182750862,
          -0.017153916755728384
         ],
         "yaxis": "y4"
        },
        {
         "line": {
          "color": "rgba(128, 128, 128, 1.0)",
          "dash": "solid",
          "shape": "linear",
          "width": 1.3
         },
         "marker": {
          "size": 2,
          "symbol": "circle"
         },
         "mode": "markers",
         "name": "B",
         "text": "",
         "type": "scatter",
         "x": [
          0.43539700148335236,
          0.15819395423214852,
          0.62879333196527,
          -0.26401107422169673,
          -1.8324809705325915,
          0.7704629872779027,
          1.7497298283959724,
          -1.0015334595201602,
          -1.718240559825639,
          0.628596523719882,
          -0.42019354274908316,
          2.7136701685643403,
          -0.9378495172398871,
          0.6598021382631747,
          1.6184775733872263,
          1.3954033785382987,
          1.405495874826309,
          -1.166616968739883,
          2.365923532026527,
          1.1133259856604942,
          -1.6813679639527261,
          -0.04667403900552732,
          -0.6363654890464304,
          -1.5425012567014285,
          -1.012741270794969,
          0.12132634073101281,
          1.595602460076769,
          1.7305965984334635,
          -1.9217891095448971,
          1.1860294383645715,
          0.26201847879465384,
          -1.2055378111750752,
          2.3438810173248927,
          1.2086288002904493,
          -1.8314084636430585,
          1.7619781396825958,
          2.1031817281439817,
          -2.5307453072827966,
          1.2761298243307624,
          -1.772353423710465,
          -0.636420642902602,
          -1.930564293340949,
          -1.0610308479700656,
          -0.450655785586209,
          -2.1425651099825824,
          -1.0903966470383508,
          -0.5620779766373142,
          -0.770744501166946,
          0.317708947982711,
          0.1318688172018447,
          -1.2201324264384652,
          -0.19136686704154338,
          -0.06257792497623924,
          0.5936190711859071,
          1.1391272098088527,
          0.7464631766024825,
          -0.8977662361522014,
          0.14140290562352897,
          0.3256123427724348,
          0.9112030544266069,
          0.8357966193733269,
          1.7487601057521938,
          -0.49373510396354875,
          -0.6666213874172607,
          1.1831818138576176,
          -1.0182097832516077,
          -0.04630874727601642,
          -0.9836337689727818,
          1.9926142232426531,
          0.7440871065414701,
          0.28972919333565683,
          -0.5480211897462933,
          0.8413311240763615,
          -0.6346241128971083,
          -0.4398922253755513,
          -0.28149585930036625,
          0.6490498459345291,
          -0.23584960142982708,
          -1.5937987594535374,
          0.051213682792660656,
          -0.374994885556381,
          0.7207560378542024,
          0.5394156502485068,
          1.1572917713327477,
          -2.5643244253052964,
          -0.10181612060765612,
          0.11183773067467831,
          1.1028927065391063,
          -1.3752211222891688,
          2.16105987106691,
          -0.7898043390090209,
          1.6487450904111807,
          -1.7240798592526558,
          0.4254960002374844,
          0.2156919556300176,
          0.2031078608182616,
          0.21648296318241012,
          0.6718965344393238,
          -1.8998227182750862,
          -0.017153916755728384
         ],
         "xaxis": "x5",
         "y": [
          0.760388682451242,
          -0.3014770718387929,
          -0.8104320504480762,
          1.1583102446320703,
          0.66259937418456,
          -0.8731559685701944,
          -0.10732150644350782,
          -1.4845842008871466,
          -1.1868462655772307,
          1.613590761177109,
          -1.9381099315529704,
          -0.29380824929788424,
          1.3599307756073165,
          -0.36836520730565253,
          -0.3269586169498003,
          -0.8722022296216736,
          1.7599609916589511,
          2.412515853128903,
          -1.1138794684306152,
          1.5653823254598276,
          1.7614719313614335,
          -1.2290358322794215,
          2.6522230722984435,
          1.0163014618558739,
          0.6293809696480948,
          -1.5146156122233023,
          0.016940034354393264,
          0.0032133467236007663,
          -0.5981712356892535,
          0.020951829720675653,
          1.9963821917383087,
          1.0740671422306807,
          0.17809074697460173,
          0.04485989073294413,
          -0.4227495550182459,
          -0.32645695274430736,
          0.698607870034912,
          0.6330148722372047,
          0.2875584885528013,
          1.1234133729510283,
          0.24214275695220294,
          -0.9745143810694096,
          -0.09487224825524246,
          -0.05206076437308604,
          0.1700768924108305,
          1.300218316913883,
          -0.14751521656419564,
          -0.30080352426550006,
          -0.8520916792252314,
          1.1620463903000628,
          1.2476009203676264,
          -0.629125183496713,
          -0.3785357939583569,
          -0.914900498176864,
          0.15739646399040055,
          -0.08110020866252839,
          1.2781757771914946,
          1.9785521600539933,
          -0.07924996180658282,
          -0.17064150415758025,
          -0.33892612512205456,
          -0.8766265534473259,
          -0.8696592484215764,
          1.1323493113477194,
          -1.7050942234370272,
          -0.600405565715628,
          -0.1789375334228437,
          0.2764438144488436,
          -1.3979390762783197,
          1.3262592652981067,
          0.703525942698256,
          1.411777371228823,
          -1.6110804563893522,
          0.39705885749036557,
          -0.24578206196537786,
          -1.0140463874894474,
          0.35097105186424615,
          0.22520868769189759,
          0.11269335584705568,
          -0.6275979165028887,
          0.830374106714317,
          0.21139937581431129,
          -0.5613355709825517,
          0.5599973868588114,
          0.10923587614740028,
          -0.21228235369384083,
          0.9848944487618184,
          0.15230352046132178,
          -0.24908169790355753,
          -0.5547350602916322,
          -0.26024067645453,
          -0.12512543124851477,
          1.4959303828793944,
          -0.8075642744958867,
          -0.7868387528914741,
          0.11502021583953378,
          1.052635171665947,
          -2.005202626886498,
          0.36358094296755,
          -1.292869329621461
         ],
         "yaxis": "y5"
        },
        {
         "histfunc": "count",
         "histnorm": "",
         "marker": {
          "color": "rgba(55, 128, 191, 1.0)",
          "line": {
           "color": "#4D5663",
           "width": 1.3
          }
         },
         "name": "B",
         "nbinsx": 10,
         "opacity": 0.8,
         "orientation": "v",
         "type": "histogram",
         "x": [
          0.760388682451242,
          -0.3014770718387929,
          -0.8104320504480762,
          1.1583102446320703,
          0.66259937418456,
          -0.8731559685701944,
          -0.10732150644350782,
          -1.4845842008871466,
          -1.1868462655772307,
          1.613590761177109,
          -1.9381099315529704,
          -0.29380824929788424,
          1.3599307756073165,
          -0.36836520730565253,
          -0.3269586169498003,
          -0.8722022296216736,
          1.7599609916589511,
          2.412515853128903,
          -1.1138794684306152,
          1.5653823254598276,
          1.7614719313614335,
          -1.2290358322794215,
          2.6522230722984435,
          1.0163014618558739,
          0.6293809696480948,
          -1.5146156122233023,
          0.016940034354393264,
          0.0032133467236007663,
          -0.5981712356892535,
          0.020951829720675653,
          1.9963821917383087,
          1.0740671422306807,
          0.17809074697460173,
          0.04485989073294413,
          -0.4227495550182459,
          -0.32645695274430736,
          0.698607870034912,
          0.6330148722372047,
          0.2875584885528013,
          1.1234133729510283,
          0.24214275695220294,
          -0.9745143810694096,
          -0.09487224825524246,
          -0.05206076437308604,
          0.1700768924108305,
          1.300218316913883,
          -0.14751521656419564,
          -0.30080352426550006,
          -0.8520916792252314,
          1.1620463903000628,
          1.2476009203676264,
          -0.629125183496713,
          -0.3785357939583569,
          -0.914900498176864,
          0.15739646399040055,
          -0.08110020866252839,
          1.2781757771914946,
          1.9785521600539933,
          -0.07924996180658282,
          -0.17064150415758025,
          -0.33892612512205456,
          -0.8766265534473259,
          -0.8696592484215764,
          1.1323493113477194,
          -1.7050942234370272,
          -0.600405565715628,
          -0.1789375334228437,
          0.2764438144488436,
          -1.3979390762783197,
          1.3262592652981067,
          0.703525942698256,
          1.411777371228823,
          -1.6110804563893522,
          0.39705885749036557,
          -0.24578206196537786,
          -1.0140463874894474,
          0.35097105186424615,
          0.22520868769189759,
          0.11269335584705568,
          -0.6275979165028887,
          0.830374106714317,
          0.21139937581431129,
          -0.5613355709825517,
          0.5599973868588114,
          0.10923587614740028,
          -0.21228235369384083,
          0.9848944487618184,
          0.15230352046132178,
          -0.24908169790355753,
          -0.5547350602916322,
          -0.26024067645453,
          -0.12512543124851477,
          1.4959303828793944,
          -0.8075642744958867,
          -0.7868387528914741,
          0.11502021583953378,
          1.052635171665947,
          -2.005202626886498,
          0.36358094296755,
          -1.292869329621461
         ],
         "xaxis": "x6",
         "yaxis": "y6"
        },
        {
         "line": {
          "color": "rgba(128, 128, 128, 1.0)",
          "dash": "solid",
          "shape": "linear",
          "width": 1.3
         },
         "marker": {
          "size": 2,
          "symbol": "circle"
         },
         "mode": "markers",
         "name": "B",
         "text": "",
         "type": "scatter",
         "x": [
          1.7506839868116808,
          -0.05525851995596629,
          0.6170957201984968,
          -0.1115916319829114,
          0.5116816361868437,
          -2.2152101125435837,
          0.3315284364893782,
          0.12061261355873394,
          0.5657298475690731,
          0.528530005982104,
          1.3505673671144591,
          -1.1948625165823614,
          0.1861245268017284,
          1.466340663888806,
          -1.2496218278444502,
          -0.042254756026113054,
          0.5746877175630754,
          -1.4166594196141769,
          -1.1968199850030214,
          -0.8183800016923555,
          -0.5647855815888667,
          1.6581385906754473,
          -0.7466315211949155,
          0.1952774246638472,
          -1.4104910973740832,
          1.4284226905547313,
          -0.7664668283501381,
          -1.0838001767570018,
          0.7010686784174124,
          -0.1023297922421422,
          -1.2886240495582049,
          -0.7061207593027529,
          2.897502161129242,
          0.9010808303981163,
          0.5016339407709492,
          0.9970946254454802,
          -0.47115995979066305,
          -0.1973994499002884,
          1.7604450496094302,
          -0.6051709023066923,
          0.9185178513752467,
          -0.8971569837423113,
          1.092970248153521,
          -2.8136003677014547,
          -0.4576797890519921,
          0.6447060998883003,
          -0.8028938635150691,
          0.003505585948315358,
          0.3383690386122811,
          1.198436831143238,
          2.771847156459742,
          -2.254330916431132,
          0.9530849486491482,
          0.6857462587854266,
          2.026903317173535,
          0.21174591471811552,
          0.22119891318704257,
          -0.05312608477809972,
          -0.7409850974978949,
          1.892017237178089,
          -0.15679681385950367,
          -0.17109223041264868,
          1.6471337568749136,
          0.21920988201479505,
          -0.048131328941061535,
          0.006603176246051127,
          -1.20402950851814,
          1.2085801022634717,
          -0.22433096462997068,
          -1.0454463934053035,
          0.1220757939666129,
          1.3928722662278032,
          -1.508180765613294,
          0.9753571596335696,
          1.0784228637983067,
          0.7306926141166368,
          0.791267501618441,
          -0.8911164913797028,
          -1.1300915430771676,
          -0.06772167392315274,
          -1.5982042392029663,
          -1.1891695259259196,
          0.761386083379142,
          -0.4009140073390794,
          0.2095063908492791,
          0.06821644400313408,
          -0.6041624031835817,
          -0.03061682006821153,
          -0.1142173127149515,
          -1.6513277968691016,
          -1.0150656386360692,
          1.020045683034253,
          -1.839457892151129,
          0.6104771664127984,
          1.2816301431717376,
          -0.5420794843175418,
          0.36656788811570845,
          -0.7064686605718921,
          0.5004953964617794,
          1.0191968371752167
         ],
         "xaxis": "x7",
         "y": [
          0.760388682451242,
          -0.3014770718387929,
          -0.8104320504480762,
          1.1583102446320703,
          0.66259937418456,
          -0.8731559685701944,
          -0.10732150644350782,
          -1.4845842008871466,
          -1.1868462655772307,
          1.613590761177109,
          -1.9381099315529704,
          -0.29380824929788424,
          1.3599307756073165,
          -0.36836520730565253,
          -0.3269586169498003,
          -0.8722022296216736,
          1.7599609916589511,
          2.412515853128903,
          -1.1138794684306152,
          1.5653823254598276,
          1.7614719313614335,
          -1.2290358322794215,
          2.6522230722984435,
          1.0163014618558739,
          0.6293809696480948,
          -1.5146156122233023,
          0.016940034354393264,
          0.0032133467236007663,
          -0.5981712356892535,
          0.020951829720675653,
          1.9963821917383087,
          1.0740671422306807,
          0.17809074697460173,
          0.04485989073294413,
          -0.4227495550182459,
          -0.32645695274430736,
          0.698607870034912,
          0.6330148722372047,
          0.2875584885528013,
          1.1234133729510283,
          0.24214275695220294,
          -0.9745143810694096,
          -0.09487224825524246,
          -0.05206076437308604,
          0.1700768924108305,
          1.300218316913883,
          -0.14751521656419564,
          -0.30080352426550006,
          -0.8520916792252314,
          1.1620463903000628,
          1.2476009203676264,
          -0.629125183496713,
          -0.3785357939583569,
          -0.914900498176864,
          0.15739646399040055,
          -0.08110020866252839,
          1.2781757771914946,
          1.9785521600539933,
          -0.07924996180658282,
          -0.17064150415758025,
          -0.33892612512205456,
          -0.8766265534473259,
          -0.8696592484215764,
          1.1323493113477194,
          -1.7050942234370272,
          -0.600405565715628,
          -0.1789375334228437,
          0.2764438144488436,
          -1.3979390762783197,
          1.3262592652981067,
          0.703525942698256,
          1.411777371228823,
          -1.6110804563893522,
          0.39705885749036557,
          -0.24578206196537786,
          -1.0140463874894474,
          0.35097105186424615,
          0.22520868769189759,
          0.11269335584705568,
          -0.6275979165028887,
          0.830374106714317,
          0.21139937581431129,
          -0.5613355709825517,
          0.5599973868588114,
          0.10923587614740028,
          -0.21228235369384083,
          0.9848944487618184,
          0.15230352046132178,
          -0.24908169790355753,
          -0.5547350602916322,
          -0.26024067645453,
          -0.12512543124851477,
          1.4959303828793944,
          -0.8075642744958867,
          -0.7868387528914741,
          0.11502021583953378,
          1.052635171665947,
          -2.005202626886498,
          0.36358094296755,
          -1.292869329621461
         ],
         "yaxis": "y7"
        },
        {
         "line": {
          "color": "rgba(128, 128, 128, 1.0)",
          "dash": "solid",
          "shape": "linear",
          "width": 1.3
         },
         "marker": {
          "size": 2,
          "symbol": "circle"
         },
         "mode": "markers",
         "name": "B",
         "text": "",
         "type": "scatter",
         "x": [
          0.8674962935144439,
          -0.15169061237904777,
          1.4833116835967546,
          -1.4074514343551905,
          1.6809840507857228,
          -0.7824343697157726,
          -1.1380900973944608,
          -1.1684071193234065,
          -0.0878769934933399,
          -0.18802903883875,
          1.1054096358312044,
          -0.24648969074191718,
          -0.5241680651347467,
          0.035331855455702256,
          0.015225596692327365,
          -0.6060087395337597,
          -0.9434835248285206,
          0.1497847075865502,
          0.1522093133466193,
          1.4150504705341356,
          0.6358530188099831,
          0.41411480056120253,
          0.5012150075195608,
          1.0918677517923927,
          -1.0110630912716843,
          0.7501167863796132,
          0.22526828659737172,
          -0.3928236835144014,
          0.05139529009097846,
          -1.5088301646601956,
          -0.006479746879657132,
          -1.3783917816596891,
          0.4028905799711096,
          -1.239179450863049,
          1.718021008393491,
          0.5505466944824268,
          -0.14824266673830355,
          1.4971862088434158,
          1.7856499631672211,
          -1.5121481986483902,
          -0.6158928496562914,
          -1.553905392676682,
          -0.4806126433270155,
          0.8549312578480122,
          -0.04568548986192174,
          -0.09289049173836152,
          0.6322409552767246,
          -0.5599033007259137,
          -0.3037859876969862,
          0.16983967055496837,
          0.1709607920225609,
          -0.34886082288164394,
          -1.3692790368586323,
          0.7885755016061133,
          -0.07133724885285725,
          -0.3575113346043425,
          0.8439328842517401,
          1.004879695851903,
          -0.36505763244114714,
          0.34469487183119296,
          0.08414626368852046,
          -1.0809642257758973,
          -2.544189181053026,
          -0.011664663423132037,
          -0.6412660010849413,
          0.849998385732044,
          1.622056962493663,
          0.9356600649157409,
          -0.897115091137332,
          0.7381536272834047,
          -0.8793215655655365,
          0.2889625791761557,
          1.554875265954636,
          -0.48248282999102315,
          -0.5391204960250202,
          0.3763552292283802,
          1.8407821584581037,
          0.3211550805423586,
          1.201203797763351,
          0.39424029396382054,
          0.5878383417101924,
          0.6698006096665847,
          -0.8586992507168567,
          -1.6366547297430356,
          0.054812542476560415,
          0.19531981977357643,
          -0.5023449008405783,
          1.359709951480831,
          -0.7040273728122117,
          -2.51023297090885,
          1.774352674744687,
          0.04172615855687068,
          0.35652881894014826,
          0.914906888607246,
          0.27973928313574714,
          -0.6987222670653883,
          -2.0880394552582535,
          0.032666666094802205,
          -0.8203891211559984,
          0.8018099020438711
         ],
         "xaxis": "x8",
         "y": [
          0.760388682451242,
          -0.3014770718387929,
          -0.8104320504480762,
          1.1583102446320703,
          0.66259937418456,
          -0.8731559685701944,
          -0.10732150644350782,
          -1.4845842008871466,
          -1.1868462655772307,
          1.613590761177109,
          -1.9381099315529704,
          -0.29380824929788424,
          1.3599307756073165,
          -0.36836520730565253,
          -0.3269586169498003,
          -0.8722022296216736,
          1.7599609916589511,
          2.412515853128903,
          -1.1138794684306152,
          1.5653823254598276,
          1.7614719313614335,
          -1.2290358322794215,
          2.6522230722984435,
          1.0163014618558739,
          0.6293809696480948,
          -1.5146156122233023,
          0.016940034354393264,
          0.0032133467236007663,
          -0.5981712356892535,
          0.020951829720675653,
          1.9963821917383087,
          1.0740671422306807,
          0.17809074697460173,
          0.04485989073294413,
          -0.4227495550182459,
          -0.32645695274430736,
          0.698607870034912,
          0.6330148722372047,
          0.2875584885528013,
          1.1234133729510283,
          0.24214275695220294,
          -0.9745143810694096,
          -0.09487224825524246,
          -0.05206076437308604,
          0.1700768924108305,
          1.300218316913883,
          -0.14751521656419564,
          -0.30080352426550006,
          -0.8520916792252314,
          1.1620463903000628,
          1.2476009203676264,
          -0.629125183496713,
          -0.3785357939583569,
          -0.914900498176864,
          0.15739646399040055,
          -0.08110020866252839,
          1.2781757771914946,
          1.9785521600539933,
          -0.07924996180658282,
          -0.17064150415758025,
          -0.33892612512205456,
          -0.8766265534473259,
          -0.8696592484215764,
          1.1323493113477194,
          -1.7050942234370272,
          -0.600405565715628,
          -0.1789375334228437,
          0.2764438144488436,
          -1.3979390762783197,
          1.3262592652981067,
          0.703525942698256,
          1.411777371228823,
          -1.6110804563893522,
          0.39705885749036557,
          -0.24578206196537786,
          -1.0140463874894474,
          0.35097105186424615,
          0.22520868769189759,
          0.11269335584705568,
          -0.6275979165028887,
          0.830374106714317,
          0.21139937581431129,
          -0.5613355709825517,
          0.5599973868588114,
          0.10923587614740028,
          -0.21228235369384083,
          0.9848944487618184,
          0.15230352046132178,
          -0.24908169790355753,
          -0.5547350602916322,
          -0.26024067645453,
          -0.12512543124851477,
          1.4959303828793944,
          -0.8075642744958867,
          -0.7868387528914741,
          0.11502021583953378,
          1.052635171665947,
          -2.005202626886498,
          0.36358094296755,
          -1.292869329621461
         ],
         "yaxis": "y8"
        },
        {
         "line": {
          "color": "rgba(128, 128, 128, 1.0)",
          "dash": "solid",
          "shape": "linear",
          "width": 1.3
         },
         "marker": {
          "size": 2,
          "symbol": "circle"
         },
         "mode": "markers",
         "name": "C",
         "text": "",
         "type": "scatter",
         "x": [
          0.43539700148335236,
          0.15819395423214852,
          0.62879333196527,
          -0.26401107422169673,
          -1.8324809705325915,
          0.7704629872779027,
          1.7497298283959724,
          -1.0015334595201602,
          -1.718240559825639,
          0.628596523719882,
          -0.42019354274908316,
          2.7136701685643403,
          -0.9378495172398871,
          0.6598021382631747,
          1.6184775733872263,
          1.3954033785382987,
          1.405495874826309,
          -1.166616968739883,
          2.365923532026527,
          1.1133259856604942,
          -1.6813679639527261,
          -0.04667403900552732,
          -0.6363654890464304,
          -1.5425012567014285,
          -1.012741270794969,
          0.12132634073101281,
          1.595602460076769,
          1.7305965984334635,
          -1.9217891095448971,
          1.1860294383645715,
          0.26201847879465384,
          -1.2055378111750752,
          2.3438810173248927,
          1.2086288002904493,
          -1.8314084636430585,
          1.7619781396825958,
          2.1031817281439817,
          -2.5307453072827966,
          1.2761298243307624,
          -1.772353423710465,
          -0.636420642902602,
          -1.930564293340949,
          -1.0610308479700656,
          -0.450655785586209,
          -2.1425651099825824,
          -1.0903966470383508,
          -0.5620779766373142,
          -0.770744501166946,
          0.317708947982711,
          0.1318688172018447,
          -1.2201324264384652,
          -0.19136686704154338,
          -0.06257792497623924,
          0.5936190711859071,
          1.1391272098088527,
          0.7464631766024825,
          -0.8977662361522014,
          0.14140290562352897,
          0.3256123427724348,
          0.9112030544266069,
          0.8357966193733269,
          1.7487601057521938,
          -0.49373510396354875,
          -0.6666213874172607,
          1.1831818138576176,
          -1.0182097832516077,
          -0.04630874727601642,
          -0.9836337689727818,
          1.9926142232426531,
          0.7440871065414701,
          0.28972919333565683,
          -0.5480211897462933,
          0.8413311240763615,
          -0.6346241128971083,
          -0.4398922253755513,
          -0.28149585930036625,
          0.6490498459345291,
          -0.23584960142982708,
          -1.5937987594535374,
          0.051213682792660656,
          -0.374994885556381,
          0.7207560378542024,
          0.5394156502485068,
          1.1572917713327477,
          -2.5643244253052964,
          -0.10181612060765612,
          0.11183773067467831,
          1.1028927065391063,
          -1.3752211222891688,
          2.16105987106691,
          -0.7898043390090209,
          1.6487450904111807,
          -1.7240798592526558,
          0.4254960002374844,
          0.2156919556300176,
          0.2031078608182616,
          0.21648296318241012,
          0.6718965344393238,
          -1.8998227182750862,
          -0.017153916755728384
         ],
         "xaxis": "x9",
         "y": [
          1.7506839868116808,
          -0.05525851995596629,
          0.6170957201984968,
          -0.1115916319829114,
          0.5116816361868437,
          -2.2152101125435837,
          0.3315284364893782,
          0.12061261355873394,
          0.5657298475690731,
          0.528530005982104,
          1.3505673671144591,
          -1.1948625165823614,
          0.1861245268017284,
          1.466340663888806,
          -1.2496218278444502,
          -0.042254756026113054,
          0.5746877175630754,
          -1.4166594196141769,
          -1.1968199850030214,
          -0.8183800016923555,
          -0.5647855815888667,
          1.6581385906754473,
          -0.7466315211949155,
          0.1952774246638472,
          -1.4104910973740832,
          1.4284226905547313,
          -0.7664668283501381,
          -1.0838001767570018,
          0.7010686784174124,
          -0.1023297922421422,
          -1.2886240495582049,
          -0.7061207593027529,
          2.897502161129242,
          0.9010808303981163,
          0.5016339407709492,
          0.9970946254454802,
          -0.47115995979066305,
          -0.1973994499002884,
          1.7604450496094302,
          -0.6051709023066923,
          0.9185178513752467,
          -0.8971569837423113,
          1.092970248153521,
          -2.8136003677014547,
          -0.4576797890519921,
          0.6447060998883003,
          -0.8028938635150691,
          0.003505585948315358,
          0.3383690386122811,
          1.198436831143238,
          2.771847156459742,
          -2.254330916431132,
          0.9530849486491482,
          0.6857462587854266,
          2.026903317173535,
          0.21174591471811552,
          0.22119891318704257,
          -0.05312608477809972,
          -0.7409850974978949,
          1.892017237178089,
          -0.15679681385950367,
          -0.17109223041264868,
          1.6471337568749136,
          0.21920988201479505,
          -0.048131328941061535,
          0.006603176246051127,
          -1.20402950851814,
          1.2085801022634717,
          -0.22433096462997068,
          -1.0454463934053035,
          0.1220757939666129,
          1.3928722662278032,
          -1.508180765613294,
          0.9753571596335696,
          1.0784228637983067,
          0.7306926141166368,
          0.791267501618441,
          -0.8911164913797028,
          -1.1300915430771676,
          -0.06772167392315274,
          -1.5982042392029663,
          -1.1891695259259196,
          0.761386083379142,
          -0.4009140073390794,
          0.2095063908492791,
          0.06821644400313408,
          -0.6041624031835817,
          -0.03061682006821153,
          -0.1142173127149515,
          -1.6513277968691016,
          -1.0150656386360692,
          1.020045683034253,
          -1.839457892151129,
          0.6104771664127984,
          1.2816301431717376,
          -0.5420794843175418,
          0.36656788811570845,
          -0.7064686605718921,
          0.5004953964617794,
          1.0191968371752167
         ],
         "yaxis": "y9"
        },
        {
         "line": {
          "color": "rgba(128, 128, 128, 1.0)",
          "dash": "solid",
          "shape": "linear",
          "width": 1.3
         },
         "marker": {
          "size": 2,
          "symbol": "circle"
         },
         "mode": "markers",
         "name": "C",
         "text": "",
         "type": "scatter",
         "x": [
          0.760388682451242,
          -0.3014770718387929,
          -0.8104320504480762,
          1.1583102446320703,
          0.66259937418456,
          -0.8731559685701944,
          -0.10732150644350782,
          -1.4845842008871466,
          -1.1868462655772307,
          1.613590761177109,
          -1.9381099315529704,
          -0.29380824929788424,
          1.3599307756073165,
          -0.36836520730565253,
          -0.3269586169498003,
          -0.8722022296216736,
          1.7599609916589511,
          2.412515853128903,
          -1.1138794684306152,
          1.5653823254598276,
          1.7614719313614335,
          -1.2290358322794215,
          2.6522230722984435,
          1.0163014618558739,
          0.6293809696480948,
          -1.5146156122233023,
          0.016940034354393264,
          0.0032133467236007663,
          -0.5981712356892535,
          0.020951829720675653,
          1.9963821917383087,
          1.0740671422306807,
          0.17809074697460173,
          0.04485989073294413,
          -0.4227495550182459,
          -0.32645695274430736,
          0.698607870034912,
          0.6330148722372047,
          0.2875584885528013,
          1.1234133729510283,
          0.24214275695220294,
          -0.9745143810694096,
          -0.09487224825524246,
          -0.05206076437308604,
          0.1700768924108305,
          1.300218316913883,
          -0.14751521656419564,
          -0.30080352426550006,
          -0.8520916792252314,
          1.1620463903000628,
          1.2476009203676264,
          -0.629125183496713,
          -0.3785357939583569,
          -0.914900498176864,
          0.15739646399040055,
          -0.08110020866252839,
          1.2781757771914946,
          1.9785521600539933,
          -0.07924996180658282,
          -0.17064150415758025,
          -0.33892612512205456,
          -0.8766265534473259,
          -0.8696592484215764,
          1.1323493113477194,
          -1.7050942234370272,
          -0.600405565715628,
          -0.1789375334228437,
          0.2764438144488436,
          -1.3979390762783197,
          1.3262592652981067,
          0.703525942698256,
          1.411777371228823,
          -1.6110804563893522,
          0.39705885749036557,
          -0.24578206196537786,
          -1.0140463874894474,
          0.35097105186424615,
          0.22520868769189759,
          0.11269335584705568,
          -0.6275979165028887,
          0.830374106714317,
          0.21139937581431129,
          -0.5613355709825517,
          0.5599973868588114,
          0.10923587614740028,
          -0.21228235369384083,
          0.9848944487618184,
          0.15230352046132178,
          -0.24908169790355753,
          -0.5547350602916322,
          -0.26024067645453,
          -0.12512543124851477,
          1.4959303828793944,
          -0.8075642744958867,
          -0.7868387528914741,
          0.11502021583953378,
          1.052635171665947,
          -2.005202626886498,
          0.36358094296755,
          -1.292869329621461
         ],
         "xaxis": "x10",
         "y": [
          1.7506839868116808,
          -0.05525851995596629,
          0.6170957201984968,
          -0.1115916319829114,
          0.5116816361868437,
          -2.2152101125435837,
          0.3315284364893782,
          0.12061261355873394,
          0.5657298475690731,
          0.528530005982104,
          1.3505673671144591,
          -1.1948625165823614,
          0.1861245268017284,
          1.466340663888806,
          -1.2496218278444502,
          -0.042254756026113054,
          0.5746877175630754,
          -1.4166594196141769,
          -1.1968199850030214,
          -0.8183800016923555,
          -0.5647855815888667,
          1.6581385906754473,
          -0.7466315211949155,
          0.1952774246638472,
          -1.4104910973740832,
          1.4284226905547313,
          -0.7664668283501381,
          -1.0838001767570018,
          0.7010686784174124,
          -0.1023297922421422,
          -1.2886240495582049,
          -0.7061207593027529,
          2.897502161129242,
          0.9010808303981163,
          0.5016339407709492,
          0.9970946254454802,
          -0.47115995979066305,
          -0.1973994499002884,
          1.7604450496094302,
          -0.6051709023066923,
          0.9185178513752467,
          -0.8971569837423113,
          1.092970248153521,
          -2.8136003677014547,
          -0.4576797890519921,
          0.6447060998883003,
          -0.8028938635150691,
          0.003505585948315358,
          0.3383690386122811,
          1.198436831143238,
          2.771847156459742,
          -2.254330916431132,
          0.9530849486491482,
          0.6857462587854266,
          2.026903317173535,
          0.21174591471811552,
          0.22119891318704257,
          -0.05312608477809972,
          -0.7409850974978949,
          1.892017237178089,
          -0.15679681385950367,
          -0.17109223041264868,
          1.6471337568749136,
          0.21920988201479505,
          -0.048131328941061535,
          0.006603176246051127,
          -1.20402950851814,
          1.2085801022634717,
          -0.22433096462997068,
          -1.0454463934053035,
          0.1220757939666129,
          1.3928722662278032,
          -1.508180765613294,
          0.9753571596335696,
          1.0784228637983067,
          0.7306926141166368,
          0.791267501618441,
          -0.8911164913797028,
          -1.1300915430771676,
          -0.06772167392315274,
          -1.5982042392029663,
          -1.1891695259259196,
          0.761386083379142,
          -0.4009140073390794,
          0.2095063908492791,
          0.06821644400313408,
          -0.6041624031835817,
          -0.03061682006821153,
          -0.1142173127149515,
          -1.6513277968691016,
          -1.0150656386360692,
          1.020045683034253,
          -1.839457892151129,
          0.6104771664127984,
          1.2816301431717376,
          -0.5420794843175418,
          0.36656788811570845,
          -0.7064686605718921,
          0.5004953964617794,
          1.0191968371752167
         ],
         "yaxis": "y10"
        },
        {
         "histfunc": "count",
         "histnorm": "",
         "marker": {
          "color": "rgba(50, 171, 96, 1.0)",
          "line": {
           "color": "#4D5663",
           "width": 1.3
          }
         },
         "name": "C",
         "nbinsx": 10,
         "opacity": 0.8,
         "orientation": "v",
         "type": "histogram",
         "x": [
          1.7506839868116808,
          -0.05525851995596629,
          0.6170957201984968,
          -0.1115916319829114,
          0.5116816361868437,
          -2.2152101125435837,
          0.3315284364893782,
          0.12061261355873394,
          0.5657298475690731,
          0.528530005982104,
          1.3505673671144591,
          -1.1948625165823614,
          0.1861245268017284,
          1.466340663888806,
          -1.2496218278444502,
          -0.042254756026113054,
          0.5746877175630754,
          -1.4166594196141769,
          -1.1968199850030214,
          -0.8183800016923555,
          -0.5647855815888667,
          1.6581385906754473,
          -0.7466315211949155,
          0.1952774246638472,
          -1.4104910973740832,
          1.4284226905547313,
          -0.7664668283501381,
          -1.0838001767570018,
          0.7010686784174124,
          -0.1023297922421422,
          -1.2886240495582049,
          -0.7061207593027529,
          2.897502161129242,
          0.9010808303981163,
          0.5016339407709492,
          0.9970946254454802,
          -0.47115995979066305,
          -0.1973994499002884,
          1.7604450496094302,
          -0.6051709023066923,
          0.9185178513752467,
          -0.8971569837423113,
          1.092970248153521,
          -2.8136003677014547,
          -0.4576797890519921,
          0.6447060998883003,
          -0.8028938635150691,
          0.003505585948315358,
          0.3383690386122811,
          1.198436831143238,
          2.771847156459742,
          -2.254330916431132,
          0.9530849486491482,
          0.6857462587854266,
          2.026903317173535,
          0.21174591471811552,
          0.22119891318704257,
          -0.05312608477809972,
          -0.7409850974978949,
          1.892017237178089,
          -0.15679681385950367,
          -0.17109223041264868,
          1.6471337568749136,
          0.21920988201479505,
          -0.048131328941061535,
          0.006603176246051127,
          -1.20402950851814,
          1.2085801022634717,
          -0.22433096462997068,
          -1.0454463934053035,
          0.1220757939666129,
          1.3928722662278032,
          -1.508180765613294,
          0.9753571596335696,
          1.0784228637983067,
          0.7306926141166368,
          0.791267501618441,
          -0.8911164913797028,
          -1.1300915430771676,
          -0.06772167392315274,
          -1.5982042392029663,
          -1.1891695259259196,
          0.761386083379142,
          -0.4009140073390794,
          0.2095063908492791,
          0.06821644400313408,
          -0.6041624031835817,
          -0.03061682006821153,
          -0.1142173127149515,
          -1.6513277968691016,
          -1.0150656386360692,
          1.020045683034253,
          -1.839457892151129,
          0.6104771664127984,
          1.2816301431717376,
          -0.5420794843175418,
          0.36656788811570845,
          -0.7064686605718921,
          0.5004953964617794,
          1.0191968371752167
         ],
         "xaxis": "x11",
         "yaxis": "y11"
        },
        {
         "line": {
          "color": "rgba(128, 128, 128, 1.0)",
          "dash": "solid",
          "shape": "linear",
          "width": 1.3
         },
         "marker": {
          "size": 2,
          "symbol": "circle"
         },
         "mode": "markers",
         "name": "C",
         "text": "",
         "type": "scatter",
         "x": [
          0.8674962935144439,
          -0.15169061237904777,
          1.4833116835967546,
          -1.4074514343551905,
          1.6809840507857228,
          -0.7824343697157726,
          -1.1380900973944608,
          -1.1684071193234065,
          -0.0878769934933399,
          -0.18802903883875,
          1.1054096358312044,
          -0.24648969074191718,
          -0.5241680651347467,
          0.035331855455702256,
          0.015225596692327365,
          -0.6060087395337597,
          -0.9434835248285206,
          0.1497847075865502,
          0.1522093133466193,
          1.4150504705341356,
          0.6358530188099831,
          0.41411480056120253,
          0.5012150075195608,
          1.0918677517923927,
          -1.0110630912716843,
          0.7501167863796132,
          0.22526828659737172,
          -0.3928236835144014,
          0.05139529009097846,
          -1.5088301646601956,
          -0.006479746879657132,
          -1.3783917816596891,
          0.4028905799711096,
          -1.239179450863049,
          1.718021008393491,
          0.5505466944824268,
          -0.14824266673830355,
          1.4971862088434158,
          1.7856499631672211,
          -1.5121481986483902,
          -0.6158928496562914,
          -1.553905392676682,
          -0.4806126433270155,
          0.8549312578480122,
          -0.04568548986192174,
          -0.09289049173836152,
          0.6322409552767246,
          -0.5599033007259137,
          -0.3037859876969862,
          0.16983967055496837,
          0.1709607920225609,
          -0.34886082288164394,
          -1.3692790368586323,
          0.7885755016061133,
          -0.07133724885285725,
          -0.3575113346043425,
          0.8439328842517401,
          1.004879695851903,
          -0.36505763244114714,
          0.34469487183119296,
          0.08414626368852046,
          -1.0809642257758973,
          -2.544189181053026,
          -0.011664663423132037,
          -0.6412660010849413,
          0.849998385732044,
          1.622056962493663,
          0.9356600649157409,
          -0.897115091137332,
          0.7381536272834047,
          -0.8793215655655365,
          0.2889625791761557,
          1.554875265954636,
          -0.48248282999102315,
          -0.5391204960250202,
          0.3763552292283802,
          1.8407821584581037,
          0.3211550805423586,
          1.201203797763351,
          0.39424029396382054,
          0.5878383417101924,
          0.6698006096665847,
          -0.8586992507168567,
          -1.6366547297430356,
          0.054812542476560415,
          0.19531981977357643,
          -0.5023449008405783,
          1.359709951480831,
          -0.7040273728122117,
          -2.51023297090885,
          1.774352674744687,
          0.04172615855687068,
          0.35652881894014826,
          0.914906888607246,
          0.27973928313574714,
          -0.6987222670653883,
          -2.0880394552582535,
          0.032666666094802205,
          -0.8203891211559984,
          0.8018099020438711
         ],
         "xaxis": "x12",
         "y": [
          1.7506839868116808,
          -0.05525851995596629,
          0.6170957201984968,
          -0.1115916319829114,
          0.5116816361868437,
          -2.2152101125435837,
          0.3315284364893782,
          0.12061261355873394,
          0.5657298475690731,
          0.528530005982104,
          1.3505673671144591,
          -1.1948625165823614,
          0.1861245268017284,
          1.466340663888806,
          -1.2496218278444502,
          -0.042254756026113054,
          0.5746877175630754,
          -1.4166594196141769,
          -1.1968199850030214,
          -0.8183800016923555,
          -0.5647855815888667,
          1.6581385906754473,
          -0.7466315211949155,
          0.1952774246638472,
          -1.4104910973740832,
          1.4284226905547313,
          -0.7664668283501381,
          -1.0838001767570018,
          0.7010686784174124,
          -0.1023297922421422,
          -1.2886240495582049,
          -0.7061207593027529,
          2.897502161129242,
          0.9010808303981163,
          0.5016339407709492,
          0.9970946254454802,
          -0.47115995979066305,
          -0.1973994499002884,
          1.7604450496094302,
          -0.6051709023066923,
          0.9185178513752467,
          -0.8971569837423113,
          1.092970248153521,
          -2.8136003677014547,
          -0.4576797890519921,
          0.6447060998883003,
          -0.8028938635150691,
          0.003505585948315358,
          0.3383690386122811,
          1.198436831143238,
          2.771847156459742,
          -2.254330916431132,
          0.9530849486491482,
          0.6857462587854266,
          2.026903317173535,
          0.21174591471811552,
          0.22119891318704257,
          -0.05312608477809972,
          -0.7409850974978949,
          1.892017237178089,
          -0.15679681385950367,
          -0.17109223041264868,
          1.6471337568749136,
          0.21920988201479505,
          -0.048131328941061535,
          0.006603176246051127,
          -1.20402950851814,
          1.2085801022634717,
          -0.22433096462997068,
          -1.0454463934053035,
          0.1220757939666129,
          1.3928722662278032,
          -1.508180765613294,
          0.9753571596335696,
          1.0784228637983067,
          0.7306926141166368,
          0.791267501618441,
          -0.8911164913797028,
          -1.1300915430771676,
          -0.06772167392315274,
          -1.5982042392029663,
          -1.1891695259259196,
          0.761386083379142,
          -0.4009140073390794,
          0.2095063908492791,
          0.06821644400313408,
          -0.6041624031835817,
          -0.03061682006821153,
          -0.1142173127149515,
          -1.6513277968691016,
          -1.0150656386360692,
          1.020045683034253,
          -1.839457892151129,
          0.6104771664127984,
          1.2816301431717376,
          -0.5420794843175418,
          0.36656788811570845,
          -0.7064686605718921,
          0.5004953964617794,
          1.0191968371752167
         ],
         "yaxis": "y12"
        },
        {
         "line": {
          "color": "rgba(128, 128, 128, 1.0)",
          "dash": "solid",
          "shape": "linear",
          "width": 1.3
         },
         "marker": {
          "size": 2,
          "symbol": "circle"
         },
         "mode": "markers",
         "name": "D",
         "text": "",
         "type": "scatter",
         "x": [
          0.43539700148335236,
          0.15819395423214852,
          0.62879333196527,
          -0.26401107422169673,
          -1.8324809705325915,
          0.7704629872779027,
          1.7497298283959724,
          -1.0015334595201602,
          -1.718240559825639,
          0.628596523719882,
          -0.42019354274908316,
          2.7136701685643403,
          -0.9378495172398871,
          0.6598021382631747,
          1.6184775733872263,
          1.3954033785382987,
          1.405495874826309,
          -1.166616968739883,
          2.365923532026527,
          1.1133259856604942,
          -1.6813679639527261,
          -0.04667403900552732,
          -0.6363654890464304,
          -1.5425012567014285,
          -1.012741270794969,
          0.12132634073101281,
          1.595602460076769,
          1.7305965984334635,
          -1.9217891095448971,
          1.1860294383645715,
          0.26201847879465384,
          -1.2055378111750752,
          2.3438810173248927,
          1.2086288002904493,
          -1.8314084636430585,
          1.7619781396825958,
          2.1031817281439817,
          -2.5307453072827966,
          1.2761298243307624,
          -1.772353423710465,
          -0.636420642902602,
          -1.930564293340949,
          -1.0610308479700656,
          -0.450655785586209,
          -2.1425651099825824,
          -1.0903966470383508,
          -0.5620779766373142,
          -0.770744501166946,
          0.317708947982711,
          0.1318688172018447,
          -1.2201324264384652,
          -0.19136686704154338,
          -0.06257792497623924,
          0.5936190711859071,
          1.1391272098088527,
          0.7464631766024825,
          -0.8977662361522014,
          0.14140290562352897,
          0.3256123427724348,
          0.9112030544266069,
          0.8357966193733269,
          1.7487601057521938,
          -0.49373510396354875,
          -0.6666213874172607,
          1.1831818138576176,
          -1.0182097832516077,
          -0.04630874727601642,
          -0.9836337689727818,
          1.9926142232426531,
          0.7440871065414701,
          0.28972919333565683,
          -0.5480211897462933,
          0.8413311240763615,
          -0.6346241128971083,
          -0.4398922253755513,
          -0.28149585930036625,
          0.6490498459345291,
          -0.23584960142982708,
          -1.5937987594535374,
          0.051213682792660656,
          -0.374994885556381,
          0.7207560378542024,
          0.5394156502485068,
          1.1572917713327477,
          -2.5643244253052964,
          -0.10181612060765612,
          0.11183773067467831,
          1.1028927065391063,
          -1.3752211222891688,
          2.16105987106691,
          -0.7898043390090209,
          1.6487450904111807,
          -1.7240798592526558,
          0.4254960002374844,
          0.2156919556300176,
          0.2031078608182616,
          0.21648296318241012,
          0.6718965344393238,
          -1.8998227182750862,
          -0.017153916755728384
         ],
         "xaxis": "x13",
         "y": [
          0.8674962935144439,
          -0.15169061237904777,
          1.4833116835967546,
          -1.4074514343551905,
          1.6809840507857228,
          -0.7824343697157726,
          -1.1380900973944608,
          -1.1684071193234065,
          -0.0878769934933399,
          -0.18802903883875,
          1.1054096358312044,
          -0.24648969074191718,
          -0.5241680651347467,
          0.035331855455702256,
          0.015225596692327365,
          -0.6060087395337597,
          -0.9434835248285206,
          0.1497847075865502,
          0.1522093133466193,
          1.4150504705341356,
          0.6358530188099831,
          0.41411480056120253,
          0.5012150075195608,
          1.0918677517923927,
          -1.0110630912716843,
          0.7501167863796132,
          0.22526828659737172,
          -0.3928236835144014,
          0.05139529009097846,
          -1.5088301646601956,
          -0.006479746879657132,
          -1.3783917816596891,
          0.4028905799711096,
          -1.239179450863049,
          1.718021008393491,
          0.5505466944824268,
          -0.14824266673830355,
          1.4971862088434158,
          1.7856499631672211,
          -1.5121481986483902,
          -0.6158928496562914,
          -1.553905392676682,
          -0.4806126433270155,
          0.8549312578480122,
          -0.04568548986192174,
          -0.09289049173836152,
          0.6322409552767246,
          -0.5599033007259137,
          -0.3037859876969862,
          0.16983967055496837,
          0.1709607920225609,
          -0.34886082288164394,
          -1.3692790368586323,
          0.7885755016061133,
          -0.07133724885285725,
          -0.3575113346043425,
          0.8439328842517401,
          1.004879695851903,
          -0.36505763244114714,
          0.34469487183119296,
          0.08414626368852046,
          -1.0809642257758973,
          -2.544189181053026,
          -0.011664663423132037,
          -0.6412660010849413,
          0.849998385732044,
          1.622056962493663,
          0.9356600649157409,
          -0.897115091137332,
          0.7381536272834047,
          -0.8793215655655365,
          0.2889625791761557,
          1.554875265954636,
          -0.48248282999102315,
          -0.5391204960250202,
          0.3763552292283802,
          1.8407821584581037,
          0.3211550805423586,
          1.201203797763351,
          0.39424029396382054,
          0.5878383417101924,
          0.6698006096665847,
          -0.8586992507168567,
          -1.6366547297430356,
          0.054812542476560415,
          0.19531981977357643,
          -0.5023449008405783,
          1.359709951480831,
          -0.7040273728122117,
          -2.51023297090885,
          1.774352674744687,
          0.04172615855687068,
          0.35652881894014826,
          0.914906888607246,
          0.27973928313574714,
          -0.6987222670653883,
          -2.0880394552582535,
          0.032666666094802205,
          -0.8203891211559984,
          0.8018099020438711
         ],
         "yaxis": "y13"
        },
        {
         "line": {
          "color": "rgba(128, 128, 128, 1.0)",
          "dash": "solid",
          "shape": "linear",
          "width": 1.3
         },
         "marker": {
          "size": 2,
          "symbol": "circle"
         },
         "mode": "markers",
         "name": "D",
         "text": "",
         "type": "scatter",
         "x": [
          0.760388682451242,
          -0.3014770718387929,
          -0.8104320504480762,
          1.1583102446320703,
          0.66259937418456,
          -0.8731559685701944,
          -0.10732150644350782,
          -1.4845842008871466,
          -1.1868462655772307,
          1.613590761177109,
          -1.9381099315529704,
          -0.29380824929788424,
          1.3599307756073165,
          -0.36836520730565253,
          -0.3269586169498003,
          -0.8722022296216736,
          1.7599609916589511,
          2.412515853128903,
          -1.1138794684306152,
          1.5653823254598276,
          1.7614719313614335,
          -1.2290358322794215,
          2.6522230722984435,
          1.0163014618558739,
          0.6293809696480948,
          -1.5146156122233023,
          0.016940034354393264,
          0.0032133467236007663,
          -0.5981712356892535,
          0.020951829720675653,
          1.9963821917383087,
          1.0740671422306807,
          0.17809074697460173,
          0.04485989073294413,
          -0.4227495550182459,
          -0.32645695274430736,
          0.698607870034912,
          0.6330148722372047,
          0.2875584885528013,
          1.1234133729510283,
          0.24214275695220294,
          -0.9745143810694096,
          -0.09487224825524246,
          -0.05206076437308604,
          0.1700768924108305,
          1.300218316913883,
          -0.14751521656419564,
          -0.30080352426550006,
          -0.8520916792252314,
          1.1620463903000628,
          1.2476009203676264,
          -0.629125183496713,
          -0.3785357939583569,
          -0.914900498176864,
          0.15739646399040055,
          -0.08110020866252839,
          1.2781757771914946,
          1.9785521600539933,
          -0.07924996180658282,
          -0.17064150415758025,
          -0.33892612512205456,
          -0.8766265534473259,
          -0.8696592484215764,
          1.1323493113477194,
          -1.7050942234370272,
          -0.600405565715628,
          -0.1789375334228437,
          0.2764438144488436,
          -1.3979390762783197,
          1.3262592652981067,
          0.703525942698256,
          1.411777371228823,
          -1.6110804563893522,
          0.39705885749036557,
          -0.24578206196537786,
          -1.0140463874894474,
          0.35097105186424615,
          0.22520868769189759,
          0.11269335584705568,
          -0.6275979165028887,
          0.830374106714317,
          0.21139937581431129,
          -0.5613355709825517,
          0.5599973868588114,
          0.10923587614740028,
          -0.21228235369384083,
          0.9848944487618184,
          0.15230352046132178,
          -0.24908169790355753,
          -0.5547350602916322,
          -0.26024067645453,
          -0.12512543124851477,
          1.4959303828793944,
          -0.8075642744958867,
          -0.7868387528914741,
          0.11502021583953378,
          1.052635171665947,
          -2.005202626886498,
          0.36358094296755,
          -1.292869329621461
         ],
         "xaxis": "x14",
         "y": [
          0.8674962935144439,
          -0.15169061237904777,
          1.4833116835967546,
          -1.4074514343551905,
          1.6809840507857228,
          -0.7824343697157726,
          -1.1380900973944608,
          -1.1684071193234065,
          -0.0878769934933399,
          -0.18802903883875,
          1.1054096358312044,
          -0.24648969074191718,
          -0.5241680651347467,
          0.035331855455702256,
          0.015225596692327365,
          -0.6060087395337597,
          -0.9434835248285206,
          0.1497847075865502,
          0.1522093133466193,
          1.4150504705341356,
          0.6358530188099831,
          0.41411480056120253,
          0.5012150075195608,
          1.0918677517923927,
          -1.0110630912716843,
          0.7501167863796132,
          0.22526828659737172,
          -0.3928236835144014,
          0.05139529009097846,
          -1.5088301646601956,
          -0.006479746879657132,
          -1.3783917816596891,
          0.4028905799711096,
          -1.239179450863049,
          1.718021008393491,
          0.5505466944824268,
          -0.14824266673830355,
          1.4971862088434158,
          1.7856499631672211,
          -1.5121481986483902,
          -0.6158928496562914,
          -1.553905392676682,
          -0.4806126433270155,
          0.8549312578480122,
          -0.04568548986192174,
          -0.09289049173836152,
          0.6322409552767246,
          -0.5599033007259137,
          -0.3037859876969862,
          0.16983967055496837,
          0.1709607920225609,
          -0.34886082288164394,
          -1.3692790368586323,
          0.7885755016061133,
          -0.07133724885285725,
          -0.3575113346043425,
          0.8439328842517401,
          1.004879695851903,
          -0.36505763244114714,
          0.34469487183119296,
          0.08414626368852046,
          -1.0809642257758973,
          -2.544189181053026,
          -0.011664663423132037,
          -0.6412660010849413,
          0.849998385732044,
          1.622056962493663,
          0.9356600649157409,
          -0.897115091137332,
          0.7381536272834047,
          -0.8793215655655365,
          0.2889625791761557,
          1.554875265954636,
          -0.48248282999102315,
          -0.5391204960250202,
          0.3763552292283802,
          1.8407821584581037,
          0.3211550805423586,
          1.201203797763351,
          0.39424029396382054,
          0.5878383417101924,
          0.6698006096665847,
          -0.8586992507168567,
          -1.6366547297430356,
          0.054812542476560415,
          0.19531981977357643,
          -0.5023449008405783,
          1.359709951480831,
          -0.7040273728122117,
          -2.51023297090885,
          1.774352674744687,
          0.04172615855687068,
          0.35652881894014826,
          0.914906888607246,
          0.27973928313574714,
          -0.6987222670653883,
          -2.0880394552582535,
          0.032666666094802205,
          -0.8203891211559984,
          0.8018099020438711
         ],
         "yaxis": "y14"
        },
        {
         "line": {
          "color": "rgba(128, 128, 128, 1.0)",
          "dash": "solid",
          "shape": "linear",
          "width": 1.3
         },
         "marker": {
          "size": 2,
          "symbol": "circle"
         },
         "mode": "markers",
         "name": "D",
         "text": "",
         "type": "scatter",
         "x": [
          1.7506839868116808,
          -0.05525851995596629,
          0.6170957201984968,
          -0.1115916319829114,
          0.5116816361868437,
          -2.2152101125435837,
          0.3315284364893782,
          0.12061261355873394,
          0.5657298475690731,
          0.528530005982104,
          1.3505673671144591,
          -1.1948625165823614,
          0.1861245268017284,
          1.466340663888806,
          -1.2496218278444502,
          -0.042254756026113054,
          0.5746877175630754,
          -1.4166594196141769,
          -1.1968199850030214,
          -0.8183800016923555,
          -0.5647855815888667,
          1.6581385906754473,
          -0.7466315211949155,
          0.1952774246638472,
          -1.4104910973740832,
          1.4284226905547313,
          -0.7664668283501381,
          -1.0838001767570018,
          0.7010686784174124,
          -0.1023297922421422,
          -1.2886240495582049,
          -0.7061207593027529,
          2.897502161129242,
          0.9010808303981163,
          0.5016339407709492,
          0.9970946254454802,
          -0.47115995979066305,
          -0.1973994499002884,
          1.7604450496094302,
          -0.6051709023066923,
          0.9185178513752467,
          -0.8971569837423113,
          1.092970248153521,
          -2.8136003677014547,
          -0.4576797890519921,
          0.6447060998883003,
          -0.8028938635150691,
          0.003505585948315358,
          0.3383690386122811,
          1.198436831143238,
          2.771847156459742,
          -2.254330916431132,
          0.9530849486491482,
          0.6857462587854266,
          2.026903317173535,
          0.21174591471811552,
          0.22119891318704257,
          -0.05312608477809972,
          -0.7409850974978949,
          1.892017237178089,
          -0.15679681385950367,
          -0.17109223041264868,
          1.6471337568749136,
          0.21920988201479505,
          -0.048131328941061535,
          0.006603176246051127,
          -1.20402950851814,
          1.2085801022634717,
          -0.22433096462997068,
          -1.0454463934053035,
          0.1220757939666129,
          1.3928722662278032,
          -1.508180765613294,
          0.9753571596335696,
          1.0784228637983067,
          0.7306926141166368,
          0.791267501618441,
          -0.8911164913797028,
          -1.1300915430771676,
          -0.06772167392315274,
          -1.5982042392029663,
          -1.1891695259259196,
          0.761386083379142,
          -0.4009140073390794,
          0.2095063908492791,
          0.06821644400313408,
          -0.6041624031835817,
          -0.03061682006821153,
          -0.1142173127149515,
          -1.6513277968691016,
          -1.0150656386360692,
          1.020045683034253,
          -1.839457892151129,
          0.6104771664127984,
          1.2816301431717376,
          -0.5420794843175418,
          0.36656788811570845,
          -0.7064686605718921,
          0.5004953964617794,
          1.0191968371752167
         ],
         "xaxis": "x15",
         "y": [
          0.8674962935144439,
          -0.15169061237904777,
          1.4833116835967546,
          -1.4074514343551905,
          1.6809840507857228,
          -0.7824343697157726,
          -1.1380900973944608,
          -1.1684071193234065,
          -0.0878769934933399,
          -0.18802903883875,
          1.1054096358312044,
          -0.24648969074191718,
          -0.5241680651347467,
          0.035331855455702256,
          0.015225596692327365,
          -0.6060087395337597,
          -0.9434835248285206,
          0.1497847075865502,
          0.1522093133466193,
          1.4150504705341356,
          0.6358530188099831,
          0.41411480056120253,
          0.5012150075195608,
          1.0918677517923927,
          -1.0110630912716843,
          0.7501167863796132,
          0.22526828659737172,
          -0.3928236835144014,
          0.05139529009097846,
          -1.5088301646601956,
          -0.006479746879657132,
          -1.3783917816596891,
          0.4028905799711096,
          -1.239179450863049,
          1.718021008393491,
          0.5505466944824268,
          -0.14824266673830355,
          1.4971862088434158,
          1.7856499631672211,
          -1.5121481986483902,
          -0.6158928496562914,
          -1.553905392676682,
          -0.4806126433270155,
          0.8549312578480122,
          -0.04568548986192174,
          -0.09289049173836152,
          0.6322409552767246,
          -0.5599033007259137,
          -0.3037859876969862,
          0.16983967055496837,
          0.1709607920225609,
          -0.34886082288164394,
          -1.3692790368586323,
          0.7885755016061133,
          -0.07133724885285725,
          -0.3575113346043425,
          0.8439328842517401,
          1.004879695851903,
          -0.36505763244114714,
          0.34469487183119296,
          0.08414626368852046,
          -1.0809642257758973,
          -2.544189181053026,
          -0.011664663423132037,
          -0.6412660010849413,
          0.849998385732044,
          1.622056962493663,
          0.9356600649157409,
          -0.897115091137332,
          0.7381536272834047,
          -0.8793215655655365,
          0.2889625791761557,
          1.554875265954636,
          -0.48248282999102315,
          -0.5391204960250202,
          0.3763552292283802,
          1.8407821584581037,
          0.3211550805423586,
          1.201203797763351,
          0.39424029396382054,
          0.5878383417101924,
          0.6698006096665847,
          -0.8586992507168567,
          -1.6366547297430356,
          0.054812542476560415,
          0.19531981977357643,
          -0.5023449008405783,
          1.359709951480831,
          -0.7040273728122117,
          -2.51023297090885,
          1.774352674744687,
          0.04172615855687068,
          0.35652881894014826,
          0.914906888607246,
          0.27973928313574714,
          -0.6987222670653883,
          -2.0880394552582535,
          0.032666666094802205,
          -0.8203891211559984,
          0.8018099020438711
         ],
         "yaxis": "y15"
        },
        {
         "histfunc": "count",
         "histnorm": "",
         "marker": {
          "color": "rgba(128, 0, 128, 1.0)",
          "line": {
           "color": "#4D5663",
           "width": 1.3
          }
         },
         "name": "D",
         "nbinsx": 10,
         "opacity": 0.8,
         "orientation": "v",
         "type": "histogram",
         "x": [
          0.8674962935144439,
          -0.15169061237904777,
          1.4833116835967546,
          -1.4074514343551905,
          1.6809840507857228,
          -0.7824343697157726,
          -1.1380900973944608,
          -1.1684071193234065,
          -0.0878769934933399,
          -0.18802903883875,
          1.1054096358312044,
          -0.24648969074191718,
          -0.5241680651347467,
          0.035331855455702256,
          0.015225596692327365,
          -0.6060087395337597,
          -0.9434835248285206,
          0.1497847075865502,
          0.1522093133466193,
          1.4150504705341356,
          0.6358530188099831,
          0.41411480056120253,
          0.5012150075195608,
          1.0918677517923927,
          -1.0110630912716843,
          0.7501167863796132,
          0.22526828659737172,
          -0.3928236835144014,
          0.05139529009097846,
          -1.5088301646601956,
          -0.006479746879657132,
          -1.3783917816596891,
          0.4028905799711096,
          -1.239179450863049,
          1.718021008393491,
          0.5505466944824268,
          -0.14824266673830355,
          1.4971862088434158,
          1.7856499631672211,
          -1.5121481986483902,
          -0.6158928496562914,
          -1.553905392676682,
          -0.4806126433270155,
          0.8549312578480122,
          -0.04568548986192174,
          -0.09289049173836152,
          0.6322409552767246,
          -0.5599033007259137,
          -0.3037859876969862,
          0.16983967055496837,
          0.1709607920225609,
          -0.34886082288164394,
          -1.3692790368586323,
          0.7885755016061133,
          -0.07133724885285725,
          -0.3575113346043425,
          0.8439328842517401,
          1.004879695851903,
          -0.36505763244114714,
          0.34469487183119296,
          0.08414626368852046,
          -1.0809642257758973,
          -2.544189181053026,
          -0.011664663423132037,
          -0.6412660010849413,
          0.849998385732044,
          1.622056962493663,
          0.9356600649157409,
          -0.897115091137332,
          0.7381536272834047,
          -0.8793215655655365,
          0.2889625791761557,
          1.554875265954636,
          -0.48248282999102315,
          -0.5391204960250202,
          0.3763552292283802,
          1.8407821584581037,
          0.3211550805423586,
          1.201203797763351,
          0.39424029396382054,
          0.5878383417101924,
          0.6698006096665847,
          -0.8586992507168567,
          -1.6366547297430356,
          0.054812542476560415,
          0.19531981977357643,
          -0.5023449008405783,
          1.359709951480831,
          -0.7040273728122117,
          -2.51023297090885,
          1.774352674744687,
          0.04172615855687068,
          0.35652881894014826,
          0.914906888607246,
          0.27973928313574714,
          -0.6987222670653883,
          -2.0880394552582535,
          0.032666666094802205,
          -0.8203891211559984,
          0.8018099020438711
         ],
         "xaxis": "x16",
         "yaxis": "y16"
        }
       ],
       "layout": {
        "bargap": 0.02,
        "legend": {
         "bgcolor": "#F5F6F9",
         "font": {
          "color": "#4D5663"
         }
        },
        "paper_bgcolor": "#F5F6F9",
        "plot_bgcolor": "#F5F6F9",
        "showlegend": false,
        "template": {
         "data": {
          "bar": [
           {
            "error_x": {
             "color": "#2a3f5f"
            },
            "error_y": {
             "color": "#2a3f5f"
            },
            "marker": {
             "line": {
              "color": "#E5ECF6",
              "width": 0.5
             },
             "pattern": {
              "fillmode": "overlay",
              "size": 10,
              "solidity": 0.2
             }
            },
            "type": "bar"
           }
          ],
          "barpolar": [
           {
            "marker": {
             "line": {
              "color": "#E5ECF6",
              "width": 0.5
             },
             "pattern": {
              "fillmode": "overlay",
              "size": 10,
              "solidity": 0.2
             }
            },
            "type": "barpolar"
           }
          ],
          "carpet": [
           {
            "aaxis": {
             "endlinecolor": "#2a3f5f",
             "gridcolor": "white",
             "linecolor": "white",
             "minorgridcolor": "white",
             "startlinecolor": "#2a3f5f"
            },
            "baxis": {
             "endlinecolor": "#2a3f5f",
             "gridcolor": "white",
             "linecolor": "white",
             "minorgridcolor": "white",
             "startlinecolor": "#2a3f5f"
            },
            "type": "carpet"
           }
          ],
          "choropleth": [
           {
            "colorbar": {
             "outlinewidth": 0,
             "ticks": ""
            },
            "type": "choropleth"
           }
          ],
          "contour": [
           {
            "colorbar": {
             "outlinewidth": 0,
             "ticks": ""
            },
            "colorscale": [
             [
              0,
              "#0d0887"
             ],
             [
              0.1111111111111111,
              "#46039f"
             ],
             [
              0.2222222222222222,
              "#7201a8"
             ],
             [
              0.3333333333333333,
              "#9c179e"
             ],
             [
              0.4444444444444444,
              "#bd3786"
             ],
             [
              0.5555555555555556,
              "#d8576b"
             ],
             [
              0.6666666666666666,
              "#ed7953"
             ],
             [
              0.7777777777777778,
              "#fb9f3a"
             ],
             [
              0.8888888888888888,
              "#fdca26"
             ],
             [
              1,
              "#f0f921"
             ]
            ],
            "type": "contour"
           }
          ],
          "contourcarpet": [
           {
            "colorbar": {
             "outlinewidth": 0,
             "ticks": ""
            },
            "type": "contourcarpet"
           }
          ],
          "heatmap": [
           {
            "colorbar": {
             "outlinewidth": 0,
             "ticks": ""
            },
            "colorscale": [
             [
              0,
              "#0d0887"
             ],
             [
              0.1111111111111111,
              "#46039f"
             ],
             [
              0.2222222222222222,
              "#7201a8"
             ],
             [
              0.3333333333333333,
              "#9c179e"
             ],
             [
              0.4444444444444444,
              "#bd3786"
             ],
             [
              0.5555555555555556,
              "#d8576b"
             ],
             [
              0.6666666666666666,
              "#ed7953"
             ],
             [
              0.7777777777777778,
              "#fb9f3a"
             ],
             [
              0.8888888888888888,
              "#fdca26"
             ],
             [
              1,
              "#f0f921"
             ]
            ],
            "type": "heatmap"
           }
          ],
          "heatmapgl": [
           {
            "colorbar": {
             "outlinewidth": 0,
             "ticks": ""
            },
            "colorscale": [
             [
              0,
              "#0d0887"
             ],
             [
              0.1111111111111111,
              "#46039f"
             ],
             [
              0.2222222222222222,
              "#7201a8"
             ],
             [
              0.3333333333333333,
              "#9c179e"
             ],
             [
              0.4444444444444444,
              "#bd3786"
             ],
             [
              0.5555555555555556,
              "#d8576b"
             ],
             [
              0.6666666666666666,
              "#ed7953"
             ],
             [
              0.7777777777777778,
              "#fb9f3a"
             ],
             [
              0.8888888888888888,
              "#fdca26"
             ],
             [
              1,
              "#f0f921"
             ]
            ],
            "type": "heatmapgl"
           }
          ],
          "histogram": [
           {
            "marker": {
             "pattern": {
              "fillmode": "overlay",
              "size": 10,
              "solidity": 0.2
             }
            },
            "type": "histogram"
           }
          ],
          "histogram2d": [
           {
            "colorbar": {
             "outlinewidth": 0,
             "ticks": ""
            },
            "colorscale": [
             [
              0,
              "#0d0887"
             ],
             [
              0.1111111111111111,
              "#46039f"
             ],
             [
              0.2222222222222222,
              "#7201a8"
             ],
             [
              0.3333333333333333,
              "#9c179e"
             ],
             [
              0.4444444444444444,
              "#bd3786"
             ],
             [
              0.5555555555555556,
              "#d8576b"
             ],
             [
              0.6666666666666666,
              "#ed7953"
             ],
             [
              0.7777777777777778,
              "#fb9f3a"
             ],
             [
              0.8888888888888888,
              "#fdca26"
             ],
             [
              1,
              "#f0f921"
             ]
            ],
            "type": "histogram2d"
           }
          ],
          "histogram2dcontour": [
           {
            "colorbar": {
             "outlinewidth": 0,
             "ticks": ""
            },
            "colorscale": [
             [
              0,
              "#0d0887"
             ],
             [
              0.1111111111111111,
              "#46039f"
             ],
             [
              0.2222222222222222,
              "#7201a8"
             ],
             [
              0.3333333333333333,
              "#9c179e"
             ],
             [
              0.4444444444444444,
              "#bd3786"
             ],
             [
              0.5555555555555556,
              "#d8576b"
             ],
             [
              0.6666666666666666,
              "#ed7953"
             ],
             [
              0.7777777777777778,
              "#fb9f3a"
             ],
             [
              0.8888888888888888,
              "#fdca26"
             ],
             [
              1,
              "#f0f921"
             ]
            ],
            "type": "histogram2dcontour"
           }
          ],
          "mesh3d": [
           {
            "colorbar": {
             "outlinewidth": 0,
             "ticks": ""
            },
            "type": "mesh3d"
           }
          ],
          "parcoords": [
           {
            "line": {
             "colorbar": {
              "outlinewidth": 0,
              "ticks": ""
             }
            },
            "type": "parcoords"
           }
          ],
          "pie": [
           {
            "automargin": true,
            "type": "pie"
           }
          ],
          "scatter": [
           {
            "fillpattern": {
             "fillmode": "overlay",
             "size": 10,
             "solidity": 0.2
            },
            "type": "scatter"
           }
          ],
          "scatter3d": [
           {
            "line": {
             "colorbar": {
              "outlinewidth": 0,
              "ticks": ""
             }
            },
            "marker": {
             "colorbar": {
              "outlinewidth": 0,
              "ticks": ""
             }
            },
            "type": "scatter3d"
           }
          ],
          "scattercarpet": [
           {
            "marker": {
             "colorbar": {
              "outlinewidth": 0,
              "ticks": ""
             }
            },
            "type": "scattercarpet"
           }
          ],
          "scattergeo": [
           {
            "marker": {
             "colorbar": {
              "outlinewidth": 0,
              "ticks": ""
             }
            },
            "type": "scattergeo"
           }
          ],
          "scattergl": [
           {
            "marker": {
             "colorbar": {
              "outlinewidth": 0,
              "ticks": ""
             }
            },
            "type": "scattergl"
           }
          ],
          "scattermapbox": [
           {
            "marker": {
             "colorbar": {
              "outlinewidth": 0,
              "ticks": ""
             }
            },
            "type": "scattermapbox"
           }
          ],
          "scatterpolar": [
           {
            "marker": {
             "colorbar": {
              "outlinewidth": 0,
              "ticks": ""
             }
            },
            "type": "scatterpolar"
           }
          ],
          "scatterpolargl": [
           {
            "marker": {
             "colorbar": {
              "outlinewidth": 0,
              "ticks": ""
             }
            },
            "type": "scatterpolargl"
           }
          ],
          "scatterternary": [
           {
            "marker": {
             "colorbar": {
              "outlinewidth": 0,
              "ticks": ""
             }
            },
            "type": "scatterternary"
           }
          ],
          "surface": [
           {
            "colorbar": {
             "outlinewidth": 0,
             "ticks": ""
            },
            "colorscale": [
             [
              0,
              "#0d0887"
             ],
             [
              0.1111111111111111,
              "#46039f"
             ],
             [
              0.2222222222222222,
              "#7201a8"
             ],
             [
              0.3333333333333333,
              "#9c179e"
             ],
             [
              0.4444444444444444,
              "#bd3786"
             ],
             [
              0.5555555555555556,
              "#d8576b"
             ],
             [
              0.6666666666666666,
              "#ed7953"
             ],
             [
              0.7777777777777778,
              "#fb9f3a"
             ],
             [
              0.8888888888888888,
              "#fdca26"
             ],
             [
              1,
              "#f0f921"
             ]
            ],
            "type": "surface"
           }
          ],
          "table": [
           {
            "cells": {
             "fill": {
              "color": "#EBF0F8"
             },
             "line": {
              "color": "white"
             }
            },
            "header": {
             "fill": {
              "color": "#C8D4E3"
             },
             "line": {
              "color": "white"
             }
            },
            "type": "table"
           }
          ]
         },
         "layout": {
          "annotationdefaults": {
           "arrowcolor": "#2a3f5f",
           "arrowhead": 0,
           "arrowwidth": 1
          },
          "autotypenumbers": "strict",
          "coloraxis": {
           "colorbar": {
            "outlinewidth": 0,
            "ticks": ""
           }
          },
          "colorscale": {
           "diverging": [
            [
             0,
             "#8e0152"
            ],
            [
             0.1,
             "#c51b7d"
            ],
            [
             0.2,
             "#de77ae"
            ],
            [
             0.3,
             "#f1b6da"
            ],
            [
             0.4,
             "#fde0ef"
            ],
            [
             0.5,
             "#f7f7f7"
            ],
            [
             0.6,
             "#e6f5d0"
            ],
            [
             0.7,
             "#b8e186"
            ],
            [
             0.8,
             "#7fbc41"
            ],
            [
             0.9,
             "#4d9221"
            ],
            [
             1,
             "#276419"
            ]
           ],
           "sequential": [
            [
             0,
             "#0d0887"
            ],
            [
             0.1111111111111111,
             "#46039f"
            ],
            [
             0.2222222222222222,
             "#7201a8"
            ],
            [
             0.3333333333333333,
             "#9c179e"
            ],
            [
             0.4444444444444444,
             "#bd3786"
            ],
            [
             0.5555555555555556,
             "#d8576b"
            ],
            [
             0.6666666666666666,
             "#ed7953"
            ],
            [
             0.7777777777777778,
             "#fb9f3a"
            ],
            [
             0.8888888888888888,
             "#fdca26"
            ],
            [
             1,
             "#f0f921"
            ]
           ],
           "sequentialminus": [
            [
             0,
             "#0d0887"
            ],
            [
             0.1111111111111111,
             "#46039f"
            ],
            [
             0.2222222222222222,
             "#7201a8"
            ],
            [
             0.3333333333333333,
             "#9c179e"
            ],
            [
             0.4444444444444444,
             "#bd3786"
            ],
            [
             0.5555555555555556,
             "#d8576b"
            ],
            [
             0.6666666666666666,
             "#ed7953"
            ],
            [
             0.7777777777777778,
             "#fb9f3a"
            ],
            [
             0.8888888888888888,
             "#fdca26"
            ],
            [
             1,
             "#f0f921"
            ]
           ]
          },
          "colorway": [
           "#636efa",
           "#EF553B",
           "#00cc96",
           "#ab63fa",
           "#FFA15A",
           "#19d3f3",
           "#FF6692",
           "#B6E880",
           "#FF97FF",
           "#FECB52"
          ],
          "font": {
           "color": "#2a3f5f"
          },
          "geo": {
           "bgcolor": "white",
           "lakecolor": "white",
           "landcolor": "#E5ECF6",
           "showlakes": true,
           "showland": true,
           "subunitcolor": "white"
          },
          "hoverlabel": {
           "align": "left"
          },
          "hovermode": "closest",
          "mapbox": {
           "style": "light"
          },
          "paper_bgcolor": "white",
          "plot_bgcolor": "#E5ECF6",
          "polar": {
           "angularaxis": {
            "gridcolor": "white",
            "linecolor": "white",
            "ticks": ""
           },
           "bgcolor": "#E5ECF6",
           "radialaxis": {
            "gridcolor": "white",
            "linecolor": "white",
            "ticks": ""
           }
          },
          "scene": {
           "xaxis": {
            "backgroundcolor": "#E5ECF6",
            "gridcolor": "white",
            "gridwidth": 2,
            "linecolor": "white",
            "showbackground": true,
            "ticks": "",
            "zerolinecolor": "white"
           },
           "yaxis": {
            "backgroundcolor": "#E5ECF6",
            "gridcolor": "white",
            "gridwidth": 2,
            "linecolor": "white",
            "showbackground": true,
            "ticks": "",
            "zerolinecolor": "white"
           },
           "zaxis": {
            "backgroundcolor": "#E5ECF6",
            "gridcolor": "white",
            "gridwidth": 2,
            "linecolor": "white",
            "showbackground": true,
            "ticks": "",
            "zerolinecolor": "white"
           }
          },
          "shapedefaults": {
           "line": {
            "color": "#2a3f5f"
           }
          },
          "ternary": {
           "aaxis": {
            "gridcolor": "white",
            "linecolor": "white",
            "ticks": ""
           },
           "baxis": {
            "gridcolor": "white",
            "linecolor": "white",
            "ticks": ""
           },
           "bgcolor": "#E5ECF6",
           "caxis": {
            "gridcolor": "white",
            "linecolor": "white",
            "ticks": ""
           }
          },
          "title": {
           "x": 0.05
          },
          "xaxis": {
           "automargin": true,
           "gridcolor": "white",
           "linecolor": "white",
           "ticks": "",
           "title": {
            "standoff": 15
           },
           "zerolinecolor": "white",
           "zerolinewidth": 2
          },
          "yaxis": {
           "automargin": true,
           "gridcolor": "white",
           "linecolor": "white",
           "ticks": "",
           "title": {
            "standoff": 15
           },
           "zerolinecolor": "white",
           "zerolinewidth": 2
          }
         }
        },
        "title": {
         "font": {
          "color": "#4D5663"
         }
        },
        "xaxis": {
         "anchor": "y",
         "domain": [
          0,
          0.2125
         ],
         "gridcolor": "#E1E5ED",
         "showgrid": false,
         "tickfont": {
          "color": "#4D5663"
         },
         "title": {
          "font": {
           "color": "#4D5663"
          },
          "text": ""
         },
         "zerolinecolor": "#E1E5ED"
        },
        "xaxis10": {
         "anchor": "y10",
         "domain": [
          0.2625,
          0.475
         ],
         "gridcolor": "#E1E5ED",
         "showgrid": false,
         "tickfont": {
          "color": "#4D5663"
         },
         "title": {
          "font": {
           "color": "#4D5663"
          },
          "text": ""
         },
         "zerolinecolor": "#E1E5ED"
        },
        "xaxis11": {
         "anchor": "y11",
         "domain": [
          0.525,
          0.7375
         ],
         "gridcolor": "#E1E5ED",
         "showgrid": false,
         "tickfont": {
          "color": "#4D5663"
         },
         "title": {
          "font": {
           "color": "#4D5663"
          },
          "text": ""
         },
         "zerolinecolor": "#E1E5ED"
        },
        "xaxis12": {
         "anchor": "y12",
         "domain": [
          0.7875,
          1
         ],
         "gridcolor": "#E1E5ED",
         "showgrid": false,
         "tickfont": {
          "color": "#4D5663"
         },
         "title": {
          "font": {
           "color": "#4D5663"
          },
          "text": ""
         },
         "zerolinecolor": "#E1E5ED"
        },
        "xaxis13": {
         "anchor": "y13",
         "domain": [
          0,
          0.2125
         ],
         "gridcolor": "#E1E5ED",
         "showgrid": false,
         "tickfont": {
          "color": "#4D5663"
         },
         "title": {
          "font": {
           "color": "#4D5663"
          },
          "text": ""
         },
         "zerolinecolor": "#E1E5ED"
        },
        "xaxis14": {
         "anchor": "y14",
         "domain": [
          0.2625,
          0.475
         ],
         "gridcolor": "#E1E5ED",
         "showgrid": false,
         "tickfont": {
          "color": "#4D5663"
         },
         "title": {
          "font": {
           "color": "#4D5663"
          },
          "text": ""
         },
         "zerolinecolor": "#E1E5ED"
        },
        "xaxis15": {
         "anchor": "y15",
         "domain": [
          0.525,
          0.7375
         ],
         "gridcolor": "#E1E5ED",
         "showgrid": false,
         "tickfont": {
          "color": "#4D5663"
         },
         "title": {
          "font": {
           "color": "#4D5663"
          },
          "text": ""
         },
         "zerolinecolor": "#E1E5ED"
        },
        "xaxis16": {
         "anchor": "y16",
         "domain": [
          0.7875,
          1
         ],
         "gridcolor": "#E1E5ED",
         "showgrid": false,
         "tickfont": {
          "color": "#4D5663"
         },
         "title": {
          "font": {
           "color": "#4D5663"
          },
          "text": ""
         },
         "zerolinecolor": "#E1E5ED"
        },
        "xaxis2": {
         "anchor": "y2",
         "domain": [
          0.2625,
          0.475
         ],
         "gridcolor": "#E1E5ED",
         "showgrid": false,
         "tickfont": {
          "color": "#4D5663"
         },
         "title": {
          "font": {
           "color": "#4D5663"
          },
          "text": ""
         },
         "zerolinecolor": "#E1E5ED"
        },
        "xaxis3": {
         "anchor": "y3",
         "domain": [
          0.525,
          0.7375
         ],
         "gridcolor": "#E1E5ED",
         "showgrid": false,
         "tickfont": {
          "color": "#4D5663"
         },
         "title": {
          "font": {
           "color": "#4D5663"
          },
          "text": ""
         },
         "zerolinecolor": "#E1E5ED"
        },
        "xaxis4": {
         "anchor": "y4",
         "domain": [
          0.7875,
          1
         ],
         "gridcolor": "#E1E5ED",
         "showgrid": false,
         "tickfont": {
          "color": "#4D5663"
         },
         "title": {
          "font": {
           "color": "#4D5663"
          },
          "text": ""
         },
         "zerolinecolor": "#E1E5ED"
        },
        "xaxis5": {
         "anchor": "y5",
         "domain": [
          0,
          0.2125
         ],
         "gridcolor": "#E1E5ED",
         "showgrid": false,
         "tickfont": {
          "color": "#4D5663"
         },
         "title": {
          "font": {
           "color": "#4D5663"
          },
          "text": ""
         },
         "zerolinecolor": "#E1E5ED"
        },
        "xaxis6": {
         "anchor": "y6",
         "domain": [
          0.2625,
          0.475
         ],
         "gridcolor": "#E1E5ED",
         "showgrid": false,
         "tickfont": {
          "color": "#4D5663"
         },
         "title": {
          "font": {
           "color": "#4D5663"
          },
          "text": ""
         },
         "zerolinecolor": "#E1E5ED"
        },
        "xaxis7": {
         "anchor": "y7",
         "domain": [
          0.525,
          0.7375
         ],
         "gridcolor": "#E1E5ED",
         "showgrid": false,
         "tickfont": {
          "color": "#4D5663"
         },
         "title": {
          "font": {
           "color": "#4D5663"
          },
          "text": ""
         },
         "zerolinecolor": "#E1E5ED"
        },
        "xaxis8": {
         "anchor": "y8",
         "domain": [
          0.7875,
          1
         ],
         "gridcolor": "#E1E5ED",
         "showgrid": false,
         "tickfont": {
          "color": "#4D5663"
         },
         "title": {
          "font": {
           "color": "#4D5663"
          },
          "text": ""
         },
         "zerolinecolor": "#E1E5ED"
        },
        "xaxis9": {
         "anchor": "y9",
         "domain": [
          0,
          0.2125
         ],
         "gridcolor": "#E1E5ED",
         "showgrid": false,
         "tickfont": {
          "color": "#4D5663"
         },
         "title": {
          "font": {
           "color": "#4D5663"
          },
          "text": ""
         },
         "zerolinecolor": "#E1E5ED"
        },
        "yaxis": {
         "anchor": "x",
         "domain": [
          0.8025,
          1
         ],
         "gridcolor": "#E1E5ED",
         "showgrid": false,
         "tickfont": {
          "color": "#4D5663"
         },
         "title": {
          "font": {
           "color": "#4D5663"
          },
          "text": ""
         },
         "zerolinecolor": "#E1E5ED"
        },
        "yaxis10": {
         "anchor": "x10",
         "domain": [
          0.2675,
          0.465
         ],
         "gridcolor": "#E1E5ED",
         "showgrid": false,
         "tickfont": {
          "color": "#4D5663"
         },
         "title": {
          "font": {
           "color": "#4D5663"
          },
          "text": ""
         },
         "zerolinecolor": "#E1E5ED"
        },
        "yaxis11": {
         "anchor": "x11",
         "domain": [
          0.2675,
          0.465
         ],
         "gridcolor": "#E1E5ED",
         "showgrid": false,
         "tickfont": {
          "color": "#4D5663"
         },
         "title": {
          "font": {
           "color": "#4D5663"
          },
          "text": ""
         },
         "zerolinecolor": "#E1E5ED"
        },
        "yaxis12": {
         "anchor": "x12",
         "domain": [
          0.2675,
          0.465
         ],
         "gridcolor": "#E1E5ED",
         "showgrid": false,
         "tickfont": {
          "color": "#4D5663"
         },
         "title": {
          "font": {
           "color": "#4D5663"
          },
          "text": ""
         },
         "zerolinecolor": "#E1E5ED"
        },
        "yaxis13": {
         "anchor": "x13",
         "domain": [
          0,
          0.1975
         ],
         "gridcolor": "#E1E5ED",
         "showgrid": false,
         "tickfont": {
          "color": "#4D5663"
         },
         "title": {
          "font": {
           "color": "#4D5663"
          },
          "text": ""
         },
         "zerolinecolor": "#E1E5ED"
        },
        "yaxis14": {
         "anchor": "x14",
         "domain": [
          0,
          0.1975
         ],
         "gridcolor": "#E1E5ED",
         "showgrid": false,
         "tickfont": {
          "color": "#4D5663"
         },
         "title": {
          "font": {
           "color": "#4D5663"
          },
          "text": ""
         },
         "zerolinecolor": "#E1E5ED"
        },
        "yaxis15": {
         "anchor": "x15",
         "domain": [
          0,
          0.1975
         ],
         "gridcolor": "#E1E5ED",
         "showgrid": false,
         "tickfont": {
          "color": "#4D5663"
         },
         "title": {
          "font": {
           "color": "#4D5663"
          },
          "text": ""
         },
         "zerolinecolor": "#E1E5ED"
        },
        "yaxis16": {
         "anchor": "x16",
         "domain": [
          0,
          0.1975
         ],
         "gridcolor": "#E1E5ED",
         "showgrid": false,
         "tickfont": {
          "color": "#4D5663"
         },
         "title": {
          "font": {
           "color": "#4D5663"
          },
          "text": ""
         },
         "zerolinecolor": "#E1E5ED"
        },
        "yaxis2": {
         "anchor": "x2",
         "domain": [
          0.8025,
          1
         ],
         "gridcolor": "#E1E5ED",
         "showgrid": false,
         "tickfont": {
          "color": "#4D5663"
         },
         "title": {
          "font": {
           "color": "#4D5663"
          },
          "text": ""
         },
         "zerolinecolor": "#E1E5ED"
        },
        "yaxis3": {
         "anchor": "x3",
         "domain": [
          0.8025,
          1
         ],
         "gridcolor": "#E1E5ED",
         "showgrid": false,
         "tickfont": {
          "color": "#4D5663"
         },
         "title": {
          "font": {
           "color": "#4D5663"
          },
          "text": ""
         },
         "zerolinecolor": "#E1E5ED"
        },
        "yaxis4": {
         "anchor": "x4",
         "domain": [
          0.8025,
          1
         ],
         "gridcolor": "#E1E5ED",
         "showgrid": false,
         "tickfont": {
          "color": "#4D5663"
         },
         "title": {
          "font": {
           "color": "#4D5663"
          },
          "text": ""
         },
         "zerolinecolor": "#E1E5ED"
        },
        "yaxis5": {
         "anchor": "x5",
         "domain": [
          0.535,
          0.7325
         ],
         "gridcolor": "#E1E5ED",
         "showgrid": false,
         "tickfont": {
          "color": "#4D5663"
         },
         "title": {
          "font": {
           "color": "#4D5663"
          },
          "text": ""
         },
         "zerolinecolor": "#E1E5ED"
        },
        "yaxis6": {
         "anchor": "x6",
         "domain": [
          0.535,
          0.7325
         ],
         "gridcolor": "#E1E5ED",
         "showgrid": false,
         "tickfont": {
          "color": "#4D5663"
         },
         "title": {
          "font": {
           "color": "#4D5663"
          },
          "text": ""
         },
         "zerolinecolor": "#E1E5ED"
        },
        "yaxis7": {
         "anchor": "x7",
         "domain": [
          0.535,
          0.7325
         ],
         "gridcolor": "#E1E5ED",
         "showgrid": false,
         "tickfont": {
          "color": "#4D5663"
         },
         "title": {
          "font": {
           "color": "#4D5663"
          },
          "text": ""
         },
         "zerolinecolor": "#E1E5ED"
        },
        "yaxis8": {
         "anchor": "x8",
         "domain": [
          0.535,
          0.7325
         ],
         "gridcolor": "#E1E5ED",
         "showgrid": false,
         "tickfont": {
          "color": "#4D5663"
         },
         "title": {
          "font": {
           "color": "#4D5663"
          },
          "text": ""
         },
         "zerolinecolor": "#E1E5ED"
        },
        "yaxis9": {
         "anchor": "x9",
         "domain": [
          0.2675,
          0.465
         ],
         "gridcolor": "#E1E5ED",
         "showgrid": false,
         "tickfont": {
          "color": "#4D5663"
         },
         "title": {
          "font": {
           "color": "#4D5663"
          },
          "text": ""
         },
         "zerolinecolor": "#E1E5ED"
        }
       }
      },
      "text/html": [
       "<div>                            <div id=\"1b4c8461-67d4-43ad-8dd5-1765e9404764\" class=\"plotly-graph-div\" style=\"height:525px; width:100%;\"></div>            <script type=\"text/javascript\">                require([\"plotly\"], function(Plotly) {                    window.PLOTLYENV=window.PLOTLYENV || {};\n",
       "                    window.PLOTLYENV.BASE_URL='https://plot.ly';                                    if (document.getElementById(\"1b4c8461-67d4-43ad-8dd5-1765e9404764\")) {                    Plotly.newPlot(                        \"1b4c8461-67d4-43ad-8dd5-1765e9404764\",                        [{\"histfunc\":\"count\",\"histnorm\":\"\",\"marker\":{\"color\":\"rgba(255, 153, 51, 1.0)\",\"line\":{\"color\":\"#4D5663\",\"width\":1.3}},\"name\":\"A\",\"nbinsx\":10,\"opacity\":0.8,\"orientation\":\"v\",\"x\":[0.43539700148335236,0.15819395423214852,0.62879333196527,-0.26401107422169673,-1.8324809705325915,0.7704629872779027,1.7497298283959724,-1.0015334595201602,-1.718240559825639,0.628596523719882,-0.42019354274908316,2.7136701685643403,-0.9378495172398871,0.6598021382631747,1.6184775733872263,1.3954033785382987,1.405495874826309,-1.166616968739883,2.365923532026527,1.1133259856604942,-1.6813679639527261,-0.04667403900552732,-0.6363654890464304,-1.5425012567014285,-1.012741270794969,0.12132634073101281,1.595602460076769,1.7305965984334635,-1.9217891095448971,1.1860294383645715,0.26201847879465384,-1.2055378111750752,2.3438810173248927,1.2086288002904493,-1.8314084636430585,1.7619781396825958,2.1031817281439817,-2.5307453072827966,1.2761298243307624,-1.772353423710465,-0.636420642902602,-1.930564293340949,-1.0610308479700656,-0.450655785586209,-2.1425651099825824,-1.0903966470383508,-0.5620779766373142,-0.770744501166946,0.317708947982711,0.1318688172018447,-1.2201324264384652,-0.19136686704154338,-0.06257792497623924,0.5936190711859071,1.1391272098088527,0.7464631766024825,-0.8977662361522014,0.14140290562352897,0.3256123427724348,0.9112030544266069,0.8357966193733269,1.7487601057521938,-0.49373510396354875,-0.6666213874172607,1.1831818138576176,-1.0182097832516077,-0.04630874727601642,-0.9836337689727818,1.9926142232426531,0.7440871065414701,0.28972919333565683,-0.5480211897462933,0.8413311240763615,-0.6346241128971083,-0.4398922253755513,-0.28149585930036625,0.6490498459345291,-0.23584960142982708,-1.5937987594535374,0.051213682792660656,-0.374994885556381,0.7207560378542024,0.5394156502485068,1.1572917713327477,-2.5643244253052964,-0.10181612060765612,0.11183773067467831,1.1028927065391063,-1.3752211222891688,2.16105987106691,-0.7898043390090209,1.6487450904111807,-1.7240798592526558,0.4254960002374844,0.2156919556300176,0.2031078608182616,0.21648296318241012,0.6718965344393238,-1.8998227182750862,-0.017153916755728384],\"xaxis\":\"x\",\"yaxis\":\"y\",\"type\":\"histogram\"},{\"line\":{\"color\":\"rgba(128, 128, 128, 1.0)\",\"dash\":\"solid\",\"shape\":\"linear\",\"width\":1.3},\"marker\":{\"size\":2,\"symbol\":\"circle\"},\"mode\":\"markers\",\"name\":\"A\",\"text\":\"\",\"x\":[0.760388682451242,-0.3014770718387929,-0.8104320504480762,1.1583102446320703,0.66259937418456,-0.8731559685701944,-0.10732150644350782,-1.4845842008871466,-1.1868462655772307,1.613590761177109,-1.9381099315529704,-0.29380824929788424,1.3599307756073165,-0.36836520730565253,-0.3269586169498003,-0.8722022296216736,1.7599609916589511,2.412515853128903,-1.1138794684306152,1.5653823254598276,1.7614719313614335,-1.2290358322794215,2.6522230722984435,1.0163014618558739,0.6293809696480948,-1.5146156122233023,0.016940034354393264,0.0032133467236007663,-0.5981712356892535,0.020951829720675653,1.9963821917383087,1.0740671422306807,0.17809074697460173,0.04485989073294413,-0.4227495550182459,-0.32645695274430736,0.698607870034912,0.6330148722372047,0.2875584885528013,1.1234133729510283,0.24214275695220294,-0.9745143810694096,-0.09487224825524246,-0.05206076437308604,0.1700768924108305,1.300218316913883,-0.14751521656419564,-0.30080352426550006,-0.8520916792252314,1.1620463903000628,1.2476009203676264,-0.629125183496713,-0.3785357939583569,-0.914900498176864,0.15739646399040055,-0.08110020866252839,1.2781757771914946,1.9785521600539933,-0.07924996180658282,-0.17064150415758025,-0.33892612512205456,-0.8766265534473259,-0.8696592484215764,1.1323493113477194,-1.7050942234370272,-0.600405565715628,-0.1789375334228437,0.2764438144488436,-1.3979390762783197,1.3262592652981067,0.703525942698256,1.411777371228823,-1.6110804563893522,0.39705885749036557,-0.24578206196537786,-1.0140463874894474,0.35097105186424615,0.22520868769189759,0.11269335584705568,-0.6275979165028887,0.830374106714317,0.21139937581431129,-0.5613355709825517,0.5599973868588114,0.10923587614740028,-0.21228235369384083,0.9848944487618184,0.15230352046132178,-0.24908169790355753,-0.5547350602916322,-0.26024067645453,-0.12512543124851477,1.4959303828793944,-0.8075642744958867,-0.7868387528914741,0.11502021583953378,1.052635171665947,-2.005202626886498,0.36358094296755,-1.292869329621461],\"xaxis\":\"x2\",\"y\":[0.43539700148335236,0.15819395423214852,0.62879333196527,-0.26401107422169673,-1.8324809705325915,0.7704629872779027,1.7497298283959724,-1.0015334595201602,-1.718240559825639,0.628596523719882,-0.42019354274908316,2.7136701685643403,-0.9378495172398871,0.6598021382631747,1.6184775733872263,1.3954033785382987,1.405495874826309,-1.166616968739883,2.365923532026527,1.1133259856604942,-1.6813679639527261,-0.04667403900552732,-0.6363654890464304,-1.5425012567014285,-1.012741270794969,0.12132634073101281,1.595602460076769,1.7305965984334635,-1.9217891095448971,1.1860294383645715,0.26201847879465384,-1.2055378111750752,2.3438810173248927,1.2086288002904493,-1.8314084636430585,1.7619781396825958,2.1031817281439817,-2.5307453072827966,1.2761298243307624,-1.772353423710465,-0.636420642902602,-1.930564293340949,-1.0610308479700656,-0.450655785586209,-2.1425651099825824,-1.0903966470383508,-0.5620779766373142,-0.770744501166946,0.317708947982711,0.1318688172018447,-1.2201324264384652,-0.19136686704154338,-0.06257792497623924,0.5936190711859071,1.1391272098088527,0.7464631766024825,-0.8977662361522014,0.14140290562352897,0.3256123427724348,0.9112030544266069,0.8357966193733269,1.7487601057521938,-0.49373510396354875,-0.6666213874172607,1.1831818138576176,-1.0182097832516077,-0.04630874727601642,-0.9836337689727818,1.9926142232426531,0.7440871065414701,0.28972919333565683,-0.5480211897462933,0.8413311240763615,-0.6346241128971083,-0.4398922253755513,-0.28149585930036625,0.6490498459345291,-0.23584960142982708,-1.5937987594535374,0.051213682792660656,-0.374994885556381,0.7207560378542024,0.5394156502485068,1.1572917713327477,-2.5643244253052964,-0.10181612060765612,0.11183773067467831,1.1028927065391063,-1.3752211222891688,2.16105987106691,-0.7898043390090209,1.6487450904111807,-1.7240798592526558,0.4254960002374844,0.2156919556300176,0.2031078608182616,0.21648296318241012,0.6718965344393238,-1.8998227182750862,-0.017153916755728384],\"yaxis\":\"y2\",\"type\":\"scatter\"},{\"line\":{\"color\":\"rgba(128, 128, 128, 1.0)\",\"dash\":\"solid\",\"shape\":\"linear\",\"width\":1.3},\"marker\":{\"size\":2,\"symbol\":\"circle\"},\"mode\":\"markers\",\"name\":\"A\",\"text\":\"\",\"x\":[1.7506839868116808,-0.05525851995596629,0.6170957201984968,-0.1115916319829114,0.5116816361868437,-2.2152101125435837,0.3315284364893782,0.12061261355873394,0.5657298475690731,0.528530005982104,1.3505673671144591,-1.1948625165823614,0.1861245268017284,1.466340663888806,-1.2496218278444502,-0.042254756026113054,0.5746877175630754,-1.4166594196141769,-1.1968199850030214,-0.8183800016923555,-0.5647855815888667,1.6581385906754473,-0.7466315211949155,0.1952774246638472,-1.4104910973740832,1.4284226905547313,-0.7664668283501381,-1.0838001767570018,0.7010686784174124,-0.1023297922421422,-1.2886240495582049,-0.7061207593027529,2.897502161129242,0.9010808303981163,0.5016339407709492,0.9970946254454802,-0.47115995979066305,-0.1973994499002884,1.7604450496094302,-0.6051709023066923,0.9185178513752467,-0.8971569837423113,1.092970248153521,-2.8136003677014547,-0.4576797890519921,0.6447060998883003,-0.8028938635150691,0.003505585948315358,0.3383690386122811,1.198436831143238,2.771847156459742,-2.254330916431132,0.9530849486491482,0.6857462587854266,2.026903317173535,0.21174591471811552,0.22119891318704257,-0.05312608477809972,-0.7409850974978949,1.892017237178089,-0.15679681385950367,-0.17109223041264868,1.6471337568749136,0.21920988201479505,-0.048131328941061535,0.006603176246051127,-1.20402950851814,1.2085801022634717,-0.22433096462997068,-1.0454463934053035,0.1220757939666129,1.3928722662278032,-1.508180765613294,0.9753571596335696,1.0784228637983067,0.7306926141166368,0.791267501618441,-0.8911164913797028,-1.1300915430771676,-0.06772167392315274,-1.5982042392029663,-1.1891695259259196,0.761386083379142,-0.4009140073390794,0.2095063908492791,0.06821644400313408,-0.6041624031835817,-0.03061682006821153,-0.1142173127149515,-1.6513277968691016,-1.0150656386360692,1.020045683034253,-1.839457892151129,0.6104771664127984,1.2816301431717376,-0.5420794843175418,0.36656788811570845,-0.7064686605718921,0.5004953964617794,1.0191968371752167],\"xaxis\":\"x3\",\"y\":[0.43539700148335236,0.15819395423214852,0.62879333196527,-0.26401107422169673,-1.8324809705325915,0.7704629872779027,1.7497298283959724,-1.0015334595201602,-1.718240559825639,0.628596523719882,-0.42019354274908316,2.7136701685643403,-0.9378495172398871,0.6598021382631747,1.6184775733872263,1.3954033785382987,1.405495874826309,-1.166616968739883,2.365923532026527,1.1133259856604942,-1.6813679639527261,-0.04667403900552732,-0.6363654890464304,-1.5425012567014285,-1.012741270794969,0.12132634073101281,1.595602460076769,1.7305965984334635,-1.9217891095448971,1.1860294383645715,0.26201847879465384,-1.2055378111750752,2.3438810173248927,1.2086288002904493,-1.8314084636430585,1.7619781396825958,2.1031817281439817,-2.5307453072827966,1.2761298243307624,-1.772353423710465,-0.636420642902602,-1.930564293340949,-1.0610308479700656,-0.450655785586209,-2.1425651099825824,-1.0903966470383508,-0.5620779766373142,-0.770744501166946,0.317708947982711,0.1318688172018447,-1.2201324264384652,-0.19136686704154338,-0.06257792497623924,0.5936190711859071,1.1391272098088527,0.7464631766024825,-0.8977662361522014,0.14140290562352897,0.3256123427724348,0.9112030544266069,0.8357966193733269,1.7487601057521938,-0.49373510396354875,-0.6666213874172607,1.1831818138576176,-1.0182097832516077,-0.04630874727601642,-0.9836337689727818,1.9926142232426531,0.7440871065414701,0.28972919333565683,-0.5480211897462933,0.8413311240763615,-0.6346241128971083,-0.4398922253755513,-0.28149585930036625,0.6490498459345291,-0.23584960142982708,-1.5937987594535374,0.051213682792660656,-0.374994885556381,0.7207560378542024,0.5394156502485068,1.1572917713327477,-2.5643244253052964,-0.10181612060765612,0.11183773067467831,1.1028927065391063,-1.3752211222891688,2.16105987106691,-0.7898043390090209,1.6487450904111807,-1.7240798592526558,0.4254960002374844,0.2156919556300176,0.2031078608182616,0.21648296318241012,0.6718965344393238,-1.8998227182750862,-0.017153916755728384],\"yaxis\":\"y3\",\"type\":\"scatter\"},{\"line\":{\"color\":\"rgba(128, 128, 128, 1.0)\",\"dash\":\"solid\",\"shape\":\"linear\",\"width\":1.3},\"marker\":{\"size\":2,\"symbol\":\"circle\"},\"mode\":\"markers\",\"name\":\"A\",\"text\":\"\",\"x\":[0.8674962935144439,-0.15169061237904777,1.4833116835967546,-1.4074514343551905,1.6809840507857228,-0.7824343697157726,-1.1380900973944608,-1.1684071193234065,-0.0878769934933399,-0.18802903883875,1.1054096358312044,-0.24648969074191718,-0.5241680651347467,0.035331855455702256,0.015225596692327365,-0.6060087395337597,-0.9434835248285206,0.1497847075865502,0.1522093133466193,1.4150504705341356,0.6358530188099831,0.41411480056120253,0.5012150075195608,1.0918677517923927,-1.0110630912716843,0.7501167863796132,0.22526828659737172,-0.3928236835144014,0.05139529009097846,-1.5088301646601956,-0.006479746879657132,-1.3783917816596891,0.4028905799711096,-1.239179450863049,1.718021008393491,0.5505466944824268,-0.14824266673830355,1.4971862088434158,1.7856499631672211,-1.5121481986483902,-0.6158928496562914,-1.553905392676682,-0.4806126433270155,0.8549312578480122,-0.04568548986192174,-0.09289049173836152,0.6322409552767246,-0.5599033007259137,-0.3037859876969862,0.16983967055496837,0.1709607920225609,-0.34886082288164394,-1.3692790368586323,0.7885755016061133,-0.07133724885285725,-0.3575113346043425,0.8439328842517401,1.004879695851903,-0.36505763244114714,0.34469487183119296,0.08414626368852046,-1.0809642257758973,-2.544189181053026,-0.011664663423132037,-0.6412660010849413,0.849998385732044,1.622056962493663,0.9356600649157409,-0.897115091137332,0.7381536272834047,-0.8793215655655365,0.2889625791761557,1.554875265954636,-0.48248282999102315,-0.5391204960250202,0.3763552292283802,1.8407821584581037,0.3211550805423586,1.201203797763351,0.39424029396382054,0.5878383417101924,0.6698006096665847,-0.8586992507168567,-1.6366547297430356,0.054812542476560415,0.19531981977357643,-0.5023449008405783,1.359709951480831,-0.7040273728122117,-2.51023297090885,1.774352674744687,0.04172615855687068,0.35652881894014826,0.914906888607246,0.27973928313574714,-0.6987222670653883,-2.0880394552582535,0.032666666094802205,-0.8203891211559984,0.8018099020438711],\"xaxis\":\"x4\",\"y\":[0.43539700148335236,0.15819395423214852,0.62879333196527,-0.26401107422169673,-1.8324809705325915,0.7704629872779027,1.7497298283959724,-1.0015334595201602,-1.718240559825639,0.628596523719882,-0.42019354274908316,2.7136701685643403,-0.9378495172398871,0.6598021382631747,1.6184775733872263,1.3954033785382987,1.405495874826309,-1.166616968739883,2.365923532026527,1.1133259856604942,-1.6813679639527261,-0.04667403900552732,-0.6363654890464304,-1.5425012567014285,-1.012741270794969,0.12132634073101281,1.595602460076769,1.7305965984334635,-1.9217891095448971,1.1860294383645715,0.26201847879465384,-1.2055378111750752,2.3438810173248927,1.2086288002904493,-1.8314084636430585,1.7619781396825958,2.1031817281439817,-2.5307453072827966,1.2761298243307624,-1.772353423710465,-0.636420642902602,-1.930564293340949,-1.0610308479700656,-0.450655785586209,-2.1425651099825824,-1.0903966470383508,-0.5620779766373142,-0.770744501166946,0.317708947982711,0.1318688172018447,-1.2201324264384652,-0.19136686704154338,-0.06257792497623924,0.5936190711859071,1.1391272098088527,0.7464631766024825,-0.8977662361522014,0.14140290562352897,0.3256123427724348,0.9112030544266069,0.8357966193733269,1.7487601057521938,-0.49373510396354875,-0.6666213874172607,1.1831818138576176,-1.0182097832516077,-0.04630874727601642,-0.9836337689727818,1.9926142232426531,0.7440871065414701,0.28972919333565683,-0.5480211897462933,0.8413311240763615,-0.6346241128971083,-0.4398922253755513,-0.28149585930036625,0.6490498459345291,-0.23584960142982708,-1.5937987594535374,0.051213682792660656,-0.374994885556381,0.7207560378542024,0.5394156502485068,1.1572917713327477,-2.5643244253052964,-0.10181612060765612,0.11183773067467831,1.1028927065391063,-1.3752211222891688,2.16105987106691,-0.7898043390090209,1.6487450904111807,-1.7240798592526558,0.4254960002374844,0.2156919556300176,0.2031078608182616,0.21648296318241012,0.6718965344393238,-1.8998227182750862,-0.017153916755728384],\"yaxis\":\"y4\",\"type\":\"scatter\"},{\"line\":{\"color\":\"rgba(128, 128, 128, 1.0)\",\"dash\":\"solid\",\"shape\":\"linear\",\"width\":1.3},\"marker\":{\"size\":2,\"symbol\":\"circle\"},\"mode\":\"markers\",\"name\":\"B\",\"text\":\"\",\"x\":[0.43539700148335236,0.15819395423214852,0.62879333196527,-0.26401107422169673,-1.8324809705325915,0.7704629872779027,1.7497298283959724,-1.0015334595201602,-1.718240559825639,0.628596523719882,-0.42019354274908316,2.7136701685643403,-0.9378495172398871,0.6598021382631747,1.6184775733872263,1.3954033785382987,1.405495874826309,-1.166616968739883,2.365923532026527,1.1133259856604942,-1.6813679639527261,-0.04667403900552732,-0.6363654890464304,-1.5425012567014285,-1.012741270794969,0.12132634073101281,1.595602460076769,1.7305965984334635,-1.9217891095448971,1.1860294383645715,0.26201847879465384,-1.2055378111750752,2.3438810173248927,1.2086288002904493,-1.8314084636430585,1.7619781396825958,2.1031817281439817,-2.5307453072827966,1.2761298243307624,-1.772353423710465,-0.636420642902602,-1.930564293340949,-1.0610308479700656,-0.450655785586209,-2.1425651099825824,-1.0903966470383508,-0.5620779766373142,-0.770744501166946,0.317708947982711,0.1318688172018447,-1.2201324264384652,-0.19136686704154338,-0.06257792497623924,0.5936190711859071,1.1391272098088527,0.7464631766024825,-0.8977662361522014,0.14140290562352897,0.3256123427724348,0.9112030544266069,0.8357966193733269,1.7487601057521938,-0.49373510396354875,-0.6666213874172607,1.1831818138576176,-1.0182097832516077,-0.04630874727601642,-0.9836337689727818,1.9926142232426531,0.7440871065414701,0.28972919333565683,-0.5480211897462933,0.8413311240763615,-0.6346241128971083,-0.4398922253755513,-0.28149585930036625,0.6490498459345291,-0.23584960142982708,-1.5937987594535374,0.051213682792660656,-0.374994885556381,0.7207560378542024,0.5394156502485068,1.1572917713327477,-2.5643244253052964,-0.10181612060765612,0.11183773067467831,1.1028927065391063,-1.3752211222891688,2.16105987106691,-0.7898043390090209,1.6487450904111807,-1.7240798592526558,0.4254960002374844,0.2156919556300176,0.2031078608182616,0.21648296318241012,0.6718965344393238,-1.8998227182750862,-0.017153916755728384],\"xaxis\":\"x5\",\"y\":[0.760388682451242,-0.3014770718387929,-0.8104320504480762,1.1583102446320703,0.66259937418456,-0.8731559685701944,-0.10732150644350782,-1.4845842008871466,-1.1868462655772307,1.613590761177109,-1.9381099315529704,-0.29380824929788424,1.3599307756073165,-0.36836520730565253,-0.3269586169498003,-0.8722022296216736,1.7599609916589511,2.412515853128903,-1.1138794684306152,1.5653823254598276,1.7614719313614335,-1.2290358322794215,2.6522230722984435,1.0163014618558739,0.6293809696480948,-1.5146156122233023,0.016940034354393264,0.0032133467236007663,-0.5981712356892535,0.020951829720675653,1.9963821917383087,1.0740671422306807,0.17809074697460173,0.04485989073294413,-0.4227495550182459,-0.32645695274430736,0.698607870034912,0.6330148722372047,0.2875584885528013,1.1234133729510283,0.24214275695220294,-0.9745143810694096,-0.09487224825524246,-0.05206076437308604,0.1700768924108305,1.300218316913883,-0.14751521656419564,-0.30080352426550006,-0.8520916792252314,1.1620463903000628,1.2476009203676264,-0.629125183496713,-0.3785357939583569,-0.914900498176864,0.15739646399040055,-0.08110020866252839,1.2781757771914946,1.9785521600539933,-0.07924996180658282,-0.17064150415758025,-0.33892612512205456,-0.8766265534473259,-0.8696592484215764,1.1323493113477194,-1.7050942234370272,-0.600405565715628,-0.1789375334228437,0.2764438144488436,-1.3979390762783197,1.3262592652981067,0.703525942698256,1.411777371228823,-1.6110804563893522,0.39705885749036557,-0.24578206196537786,-1.0140463874894474,0.35097105186424615,0.22520868769189759,0.11269335584705568,-0.6275979165028887,0.830374106714317,0.21139937581431129,-0.5613355709825517,0.5599973868588114,0.10923587614740028,-0.21228235369384083,0.9848944487618184,0.15230352046132178,-0.24908169790355753,-0.5547350602916322,-0.26024067645453,-0.12512543124851477,1.4959303828793944,-0.8075642744958867,-0.7868387528914741,0.11502021583953378,1.052635171665947,-2.005202626886498,0.36358094296755,-1.292869329621461],\"yaxis\":\"y5\",\"type\":\"scatter\"},{\"histfunc\":\"count\",\"histnorm\":\"\",\"marker\":{\"color\":\"rgba(55, 128, 191, 1.0)\",\"line\":{\"color\":\"#4D5663\",\"width\":1.3}},\"name\":\"B\",\"nbinsx\":10,\"opacity\":0.8,\"orientation\":\"v\",\"x\":[0.760388682451242,-0.3014770718387929,-0.8104320504480762,1.1583102446320703,0.66259937418456,-0.8731559685701944,-0.10732150644350782,-1.4845842008871466,-1.1868462655772307,1.613590761177109,-1.9381099315529704,-0.29380824929788424,1.3599307756073165,-0.36836520730565253,-0.3269586169498003,-0.8722022296216736,1.7599609916589511,2.412515853128903,-1.1138794684306152,1.5653823254598276,1.7614719313614335,-1.2290358322794215,2.6522230722984435,1.0163014618558739,0.6293809696480948,-1.5146156122233023,0.016940034354393264,0.0032133467236007663,-0.5981712356892535,0.020951829720675653,1.9963821917383087,1.0740671422306807,0.17809074697460173,0.04485989073294413,-0.4227495550182459,-0.32645695274430736,0.698607870034912,0.6330148722372047,0.2875584885528013,1.1234133729510283,0.24214275695220294,-0.9745143810694096,-0.09487224825524246,-0.05206076437308604,0.1700768924108305,1.300218316913883,-0.14751521656419564,-0.30080352426550006,-0.8520916792252314,1.1620463903000628,1.2476009203676264,-0.629125183496713,-0.3785357939583569,-0.914900498176864,0.15739646399040055,-0.08110020866252839,1.2781757771914946,1.9785521600539933,-0.07924996180658282,-0.17064150415758025,-0.33892612512205456,-0.8766265534473259,-0.8696592484215764,1.1323493113477194,-1.7050942234370272,-0.600405565715628,-0.1789375334228437,0.2764438144488436,-1.3979390762783197,1.3262592652981067,0.703525942698256,1.411777371228823,-1.6110804563893522,0.39705885749036557,-0.24578206196537786,-1.0140463874894474,0.35097105186424615,0.22520868769189759,0.11269335584705568,-0.6275979165028887,0.830374106714317,0.21139937581431129,-0.5613355709825517,0.5599973868588114,0.10923587614740028,-0.21228235369384083,0.9848944487618184,0.15230352046132178,-0.24908169790355753,-0.5547350602916322,-0.26024067645453,-0.12512543124851477,1.4959303828793944,-0.8075642744958867,-0.7868387528914741,0.11502021583953378,1.052635171665947,-2.005202626886498,0.36358094296755,-1.292869329621461],\"xaxis\":\"x6\",\"yaxis\":\"y6\",\"type\":\"histogram\"},{\"line\":{\"color\":\"rgba(128, 128, 128, 1.0)\",\"dash\":\"solid\",\"shape\":\"linear\",\"width\":1.3},\"marker\":{\"size\":2,\"symbol\":\"circle\"},\"mode\":\"markers\",\"name\":\"B\",\"text\":\"\",\"x\":[1.7506839868116808,-0.05525851995596629,0.6170957201984968,-0.1115916319829114,0.5116816361868437,-2.2152101125435837,0.3315284364893782,0.12061261355873394,0.5657298475690731,0.528530005982104,1.3505673671144591,-1.1948625165823614,0.1861245268017284,1.466340663888806,-1.2496218278444502,-0.042254756026113054,0.5746877175630754,-1.4166594196141769,-1.1968199850030214,-0.8183800016923555,-0.5647855815888667,1.6581385906754473,-0.7466315211949155,0.1952774246638472,-1.4104910973740832,1.4284226905547313,-0.7664668283501381,-1.0838001767570018,0.7010686784174124,-0.1023297922421422,-1.2886240495582049,-0.7061207593027529,2.897502161129242,0.9010808303981163,0.5016339407709492,0.9970946254454802,-0.47115995979066305,-0.1973994499002884,1.7604450496094302,-0.6051709023066923,0.9185178513752467,-0.8971569837423113,1.092970248153521,-2.8136003677014547,-0.4576797890519921,0.6447060998883003,-0.8028938635150691,0.003505585948315358,0.3383690386122811,1.198436831143238,2.771847156459742,-2.254330916431132,0.9530849486491482,0.6857462587854266,2.026903317173535,0.21174591471811552,0.22119891318704257,-0.05312608477809972,-0.7409850974978949,1.892017237178089,-0.15679681385950367,-0.17109223041264868,1.6471337568749136,0.21920988201479505,-0.048131328941061535,0.006603176246051127,-1.20402950851814,1.2085801022634717,-0.22433096462997068,-1.0454463934053035,0.1220757939666129,1.3928722662278032,-1.508180765613294,0.9753571596335696,1.0784228637983067,0.7306926141166368,0.791267501618441,-0.8911164913797028,-1.1300915430771676,-0.06772167392315274,-1.5982042392029663,-1.1891695259259196,0.761386083379142,-0.4009140073390794,0.2095063908492791,0.06821644400313408,-0.6041624031835817,-0.03061682006821153,-0.1142173127149515,-1.6513277968691016,-1.0150656386360692,1.020045683034253,-1.839457892151129,0.6104771664127984,1.2816301431717376,-0.5420794843175418,0.36656788811570845,-0.7064686605718921,0.5004953964617794,1.0191968371752167],\"xaxis\":\"x7\",\"y\":[0.760388682451242,-0.3014770718387929,-0.8104320504480762,1.1583102446320703,0.66259937418456,-0.8731559685701944,-0.10732150644350782,-1.4845842008871466,-1.1868462655772307,1.613590761177109,-1.9381099315529704,-0.29380824929788424,1.3599307756073165,-0.36836520730565253,-0.3269586169498003,-0.8722022296216736,1.7599609916589511,2.412515853128903,-1.1138794684306152,1.5653823254598276,1.7614719313614335,-1.2290358322794215,2.6522230722984435,1.0163014618558739,0.6293809696480948,-1.5146156122233023,0.016940034354393264,0.0032133467236007663,-0.5981712356892535,0.020951829720675653,1.9963821917383087,1.0740671422306807,0.17809074697460173,0.04485989073294413,-0.4227495550182459,-0.32645695274430736,0.698607870034912,0.6330148722372047,0.2875584885528013,1.1234133729510283,0.24214275695220294,-0.9745143810694096,-0.09487224825524246,-0.05206076437308604,0.1700768924108305,1.300218316913883,-0.14751521656419564,-0.30080352426550006,-0.8520916792252314,1.1620463903000628,1.2476009203676264,-0.629125183496713,-0.3785357939583569,-0.914900498176864,0.15739646399040055,-0.08110020866252839,1.2781757771914946,1.9785521600539933,-0.07924996180658282,-0.17064150415758025,-0.33892612512205456,-0.8766265534473259,-0.8696592484215764,1.1323493113477194,-1.7050942234370272,-0.600405565715628,-0.1789375334228437,0.2764438144488436,-1.3979390762783197,1.3262592652981067,0.703525942698256,1.411777371228823,-1.6110804563893522,0.39705885749036557,-0.24578206196537786,-1.0140463874894474,0.35097105186424615,0.22520868769189759,0.11269335584705568,-0.6275979165028887,0.830374106714317,0.21139937581431129,-0.5613355709825517,0.5599973868588114,0.10923587614740028,-0.21228235369384083,0.9848944487618184,0.15230352046132178,-0.24908169790355753,-0.5547350602916322,-0.26024067645453,-0.12512543124851477,1.4959303828793944,-0.8075642744958867,-0.7868387528914741,0.11502021583953378,1.052635171665947,-2.005202626886498,0.36358094296755,-1.292869329621461],\"yaxis\":\"y7\",\"type\":\"scatter\"},{\"line\":{\"color\":\"rgba(128, 128, 128, 1.0)\",\"dash\":\"solid\",\"shape\":\"linear\",\"width\":1.3},\"marker\":{\"size\":2,\"symbol\":\"circle\"},\"mode\":\"markers\",\"name\":\"B\",\"text\":\"\",\"x\":[0.8674962935144439,-0.15169061237904777,1.4833116835967546,-1.4074514343551905,1.6809840507857228,-0.7824343697157726,-1.1380900973944608,-1.1684071193234065,-0.0878769934933399,-0.18802903883875,1.1054096358312044,-0.24648969074191718,-0.5241680651347467,0.035331855455702256,0.015225596692327365,-0.6060087395337597,-0.9434835248285206,0.1497847075865502,0.1522093133466193,1.4150504705341356,0.6358530188099831,0.41411480056120253,0.5012150075195608,1.0918677517923927,-1.0110630912716843,0.7501167863796132,0.22526828659737172,-0.3928236835144014,0.05139529009097846,-1.5088301646601956,-0.006479746879657132,-1.3783917816596891,0.4028905799711096,-1.239179450863049,1.718021008393491,0.5505466944824268,-0.14824266673830355,1.4971862088434158,1.7856499631672211,-1.5121481986483902,-0.6158928496562914,-1.553905392676682,-0.4806126433270155,0.8549312578480122,-0.04568548986192174,-0.09289049173836152,0.6322409552767246,-0.5599033007259137,-0.3037859876969862,0.16983967055496837,0.1709607920225609,-0.34886082288164394,-1.3692790368586323,0.7885755016061133,-0.07133724885285725,-0.3575113346043425,0.8439328842517401,1.004879695851903,-0.36505763244114714,0.34469487183119296,0.08414626368852046,-1.0809642257758973,-2.544189181053026,-0.011664663423132037,-0.6412660010849413,0.849998385732044,1.622056962493663,0.9356600649157409,-0.897115091137332,0.7381536272834047,-0.8793215655655365,0.2889625791761557,1.554875265954636,-0.48248282999102315,-0.5391204960250202,0.3763552292283802,1.8407821584581037,0.3211550805423586,1.201203797763351,0.39424029396382054,0.5878383417101924,0.6698006096665847,-0.8586992507168567,-1.6366547297430356,0.054812542476560415,0.19531981977357643,-0.5023449008405783,1.359709951480831,-0.7040273728122117,-2.51023297090885,1.774352674744687,0.04172615855687068,0.35652881894014826,0.914906888607246,0.27973928313574714,-0.6987222670653883,-2.0880394552582535,0.032666666094802205,-0.8203891211559984,0.8018099020438711],\"xaxis\":\"x8\",\"y\":[0.760388682451242,-0.3014770718387929,-0.8104320504480762,1.1583102446320703,0.66259937418456,-0.8731559685701944,-0.10732150644350782,-1.4845842008871466,-1.1868462655772307,1.613590761177109,-1.9381099315529704,-0.29380824929788424,1.3599307756073165,-0.36836520730565253,-0.3269586169498003,-0.8722022296216736,1.7599609916589511,2.412515853128903,-1.1138794684306152,1.5653823254598276,1.7614719313614335,-1.2290358322794215,2.6522230722984435,1.0163014618558739,0.6293809696480948,-1.5146156122233023,0.016940034354393264,0.0032133467236007663,-0.5981712356892535,0.020951829720675653,1.9963821917383087,1.0740671422306807,0.17809074697460173,0.04485989073294413,-0.4227495550182459,-0.32645695274430736,0.698607870034912,0.6330148722372047,0.2875584885528013,1.1234133729510283,0.24214275695220294,-0.9745143810694096,-0.09487224825524246,-0.05206076437308604,0.1700768924108305,1.300218316913883,-0.14751521656419564,-0.30080352426550006,-0.8520916792252314,1.1620463903000628,1.2476009203676264,-0.629125183496713,-0.3785357939583569,-0.914900498176864,0.15739646399040055,-0.08110020866252839,1.2781757771914946,1.9785521600539933,-0.07924996180658282,-0.17064150415758025,-0.33892612512205456,-0.8766265534473259,-0.8696592484215764,1.1323493113477194,-1.7050942234370272,-0.600405565715628,-0.1789375334228437,0.2764438144488436,-1.3979390762783197,1.3262592652981067,0.703525942698256,1.411777371228823,-1.6110804563893522,0.39705885749036557,-0.24578206196537786,-1.0140463874894474,0.35097105186424615,0.22520868769189759,0.11269335584705568,-0.6275979165028887,0.830374106714317,0.21139937581431129,-0.5613355709825517,0.5599973868588114,0.10923587614740028,-0.21228235369384083,0.9848944487618184,0.15230352046132178,-0.24908169790355753,-0.5547350602916322,-0.26024067645453,-0.12512543124851477,1.4959303828793944,-0.8075642744958867,-0.7868387528914741,0.11502021583953378,1.052635171665947,-2.005202626886498,0.36358094296755,-1.292869329621461],\"yaxis\":\"y8\",\"type\":\"scatter\"},{\"line\":{\"color\":\"rgba(128, 128, 128, 1.0)\",\"dash\":\"solid\",\"shape\":\"linear\",\"width\":1.3},\"marker\":{\"size\":2,\"symbol\":\"circle\"},\"mode\":\"markers\",\"name\":\"C\",\"text\":\"\",\"x\":[0.43539700148335236,0.15819395423214852,0.62879333196527,-0.26401107422169673,-1.8324809705325915,0.7704629872779027,1.7497298283959724,-1.0015334595201602,-1.718240559825639,0.628596523719882,-0.42019354274908316,2.7136701685643403,-0.9378495172398871,0.6598021382631747,1.6184775733872263,1.3954033785382987,1.405495874826309,-1.166616968739883,2.365923532026527,1.1133259856604942,-1.6813679639527261,-0.04667403900552732,-0.6363654890464304,-1.5425012567014285,-1.012741270794969,0.12132634073101281,1.595602460076769,1.7305965984334635,-1.9217891095448971,1.1860294383645715,0.26201847879465384,-1.2055378111750752,2.3438810173248927,1.2086288002904493,-1.8314084636430585,1.7619781396825958,2.1031817281439817,-2.5307453072827966,1.2761298243307624,-1.772353423710465,-0.636420642902602,-1.930564293340949,-1.0610308479700656,-0.450655785586209,-2.1425651099825824,-1.0903966470383508,-0.5620779766373142,-0.770744501166946,0.317708947982711,0.1318688172018447,-1.2201324264384652,-0.19136686704154338,-0.06257792497623924,0.5936190711859071,1.1391272098088527,0.7464631766024825,-0.8977662361522014,0.14140290562352897,0.3256123427724348,0.9112030544266069,0.8357966193733269,1.7487601057521938,-0.49373510396354875,-0.6666213874172607,1.1831818138576176,-1.0182097832516077,-0.04630874727601642,-0.9836337689727818,1.9926142232426531,0.7440871065414701,0.28972919333565683,-0.5480211897462933,0.8413311240763615,-0.6346241128971083,-0.4398922253755513,-0.28149585930036625,0.6490498459345291,-0.23584960142982708,-1.5937987594535374,0.051213682792660656,-0.374994885556381,0.7207560378542024,0.5394156502485068,1.1572917713327477,-2.5643244253052964,-0.10181612060765612,0.11183773067467831,1.1028927065391063,-1.3752211222891688,2.16105987106691,-0.7898043390090209,1.6487450904111807,-1.7240798592526558,0.4254960002374844,0.2156919556300176,0.2031078608182616,0.21648296318241012,0.6718965344393238,-1.8998227182750862,-0.017153916755728384],\"xaxis\":\"x9\",\"y\":[1.7506839868116808,-0.05525851995596629,0.6170957201984968,-0.1115916319829114,0.5116816361868437,-2.2152101125435837,0.3315284364893782,0.12061261355873394,0.5657298475690731,0.528530005982104,1.3505673671144591,-1.1948625165823614,0.1861245268017284,1.466340663888806,-1.2496218278444502,-0.042254756026113054,0.5746877175630754,-1.4166594196141769,-1.1968199850030214,-0.8183800016923555,-0.5647855815888667,1.6581385906754473,-0.7466315211949155,0.1952774246638472,-1.4104910973740832,1.4284226905547313,-0.7664668283501381,-1.0838001767570018,0.7010686784174124,-0.1023297922421422,-1.2886240495582049,-0.7061207593027529,2.897502161129242,0.9010808303981163,0.5016339407709492,0.9970946254454802,-0.47115995979066305,-0.1973994499002884,1.7604450496094302,-0.6051709023066923,0.9185178513752467,-0.8971569837423113,1.092970248153521,-2.8136003677014547,-0.4576797890519921,0.6447060998883003,-0.8028938635150691,0.003505585948315358,0.3383690386122811,1.198436831143238,2.771847156459742,-2.254330916431132,0.9530849486491482,0.6857462587854266,2.026903317173535,0.21174591471811552,0.22119891318704257,-0.05312608477809972,-0.7409850974978949,1.892017237178089,-0.15679681385950367,-0.17109223041264868,1.6471337568749136,0.21920988201479505,-0.048131328941061535,0.006603176246051127,-1.20402950851814,1.2085801022634717,-0.22433096462997068,-1.0454463934053035,0.1220757939666129,1.3928722662278032,-1.508180765613294,0.9753571596335696,1.0784228637983067,0.7306926141166368,0.791267501618441,-0.8911164913797028,-1.1300915430771676,-0.06772167392315274,-1.5982042392029663,-1.1891695259259196,0.761386083379142,-0.4009140073390794,0.2095063908492791,0.06821644400313408,-0.6041624031835817,-0.03061682006821153,-0.1142173127149515,-1.6513277968691016,-1.0150656386360692,1.020045683034253,-1.839457892151129,0.6104771664127984,1.2816301431717376,-0.5420794843175418,0.36656788811570845,-0.7064686605718921,0.5004953964617794,1.0191968371752167],\"yaxis\":\"y9\",\"type\":\"scatter\"},{\"line\":{\"color\":\"rgba(128, 128, 128, 1.0)\",\"dash\":\"solid\",\"shape\":\"linear\",\"width\":1.3},\"marker\":{\"size\":2,\"symbol\":\"circle\"},\"mode\":\"markers\",\"name\":\"C\",\"text\":\"\",\"x\":[0.760388682451242,-0.3014770718387929,-0.8104320504480762,1.1583102446320703,0.66259937418456,-0.8731559685701944,-0.10732150644350782,-1.4845842008871466,-1.1868462655772307,1.613590761177109,-1.9381099315529704,-0.29380824929788424,1.3599307756073165,-0.36836520730565253,-0.3269586169498003,-0.8722022296216736,1.7599609916589511,2.412515853128903,-1.1138794684306152,1.5653823254598276,1.7614719313614335,-1.2290358322794215,2.6522230722984435,1.0163014618558739,0.6293809696480948,-1.5146156122233023,0.016940034354393264,0.0032133467236007663,-0.5981712356892535,0.020951829720675653,1.9963821917383087,1.0740671422306807,0.17809074697460173,0.04485989073294413,-0.4227495550182459,-0.32645695274430736,0.698607870034912,0.6330148722372047,0.2875584885528013,1.1234133729510283,0.24214275695220294,-0.9745143810694096,-0.09487224825524246,-0.05206076437308604,0.1700768924108305,1.300218316913883,-0.14751521656419564,-0.30080352426550006,-0.8520916792252314,1.1620463903000628,1.2476009203676264,-0.629125183496713,-0.3785357939583569,-0.914900498176864,0.15739646399040055,-0.08110020866252839,1.2781757771914946,1.9785521600539933,-0.07924996180658282,-0.17064150415758025,-0.33892612512205456,-0.8766265534473259,-0.8696592484215764,1.1323493113477194,-1.7050942234370272,-0.600405565715628,-0.1789375334228437,0.2764438144488436,-1.3979390762783197,1.3262592652981067,0.703525942698256,1.411777371228823,-1.6110804563893522,0.39705885749036557,-0.24578206196537786,-1.0140463874894474,0.35097105186424615,0.22520868769189759,0.11269335584705568,-0.6275979165028887,0.830374106714317,0.21139937581431129,-0.5613355709825517,0.5599973868588114,0.10923587614740028,-0.21228235369384083,0.9848944487618184,0.15230352046132178,-0.24908169790355753,-0.5547350602916322,-0.26024067645453,-0.12512543124851477,1.4959303828793944,-0.8075642744958867,-0.7868387528914741,0.11502021583953378,1.052635171665947,-2.005202626886498,0.36358094296755,-1.292869329621461],\"xaxis\":\"x10\",\"y\":[1.7506839868116808,-0.05525851995596629,0.6170957201984968,-0.1115916319829114,0.5116816361868437,-2.2152101125435837,0.3315284364893782,0.12061261355873394,0.5657298475690731,0.528530005982104,1.3505673671144591,-1.1948625165823614,0.1861245268017284,1.466340663888806,-1.2496218278444502,-0.042254756026113054,0.5746877175630754,-1.4166594196141769,-1.1968199850030214,-0.8183800016923555,-0.5647855815888667,1.6581385906754473,-0.7466315211949155,0.1952774246638472,-1.4104910973740832,1.4284226905547313,-0.7664668283501381,-1.0838001767570018,0.7010686784174124,-0.1023297922421422,-1.2886240495582049,-0.7061207593027529,2.897502161129242,0.9010808303981163,0.5016339407709492,0.9970946254454802,-0.47115995979066305,-0.1973994499002884,1.7604450496094302,-0.6051709023066923,0.9185178513752467,-0.8971569837423113,1.092970248153521,-2.8136003677014547,-0.4576797890519921,0.6447060998883003,-0.8028938635150691,0.003505585948315358,0.3383690386122811,1.198436831143238,2.771847156459742,-2.254330916431132,0.9530849486491482,0.6857462587854266,2.026903317173535,0.21174591471811552,0.22119891318704257,-0.05312608477809972,-0.7409850974978949,1.892017237178089,-0.15679681385950367,-0.17109223041264868,1.6471337568749136,0.21920988201479505,-0.048131328941061535,0.006603176246051127,-1.20402950851814,1.2085801022634717,-0.22433096462997068,-1.0454463934053035,0.1220757939666129,1.3928722662278032,-1.508180765613294,0.9753571596335696,1.0784228637983067,0.7306926141166368,0.791267501618441,-0.8911164913797028,-1.1300915430771676,-0.06772167392315274,-1.5982042392029663,-1.1891695259259196,0.761386083379142,-0.4009140073390794,0.2095063908492791,0.06821644400313408,-0.6041624031835817,-0.03061682006821153,-0.1142173127149515,-1.6513277968691016,-1.0150656386360692,1.020045683034253,-1.839457892151129,0.6104771664127984,1.2816301431717376,-0.5420794843175418,0.36656788811570845,-0.7064686605718921,0.5004953964617794,1.0191968371752167],\"yaxis\":\"y10\",\"type\":\"scatter\"},{\"histfunc\":\"count\",\"histnorm\":\"\",\"marker\":{\"color\":\"rgba(50, 171, 96, 1.0)\",\"line\":{\"color\":\"#4D5663\",\"width\":1.3}},\"name\":\"C\",\"nbinsx\":10,\"opacity\":0.8,\"orientation\":\"v\",\"x\":[1.7506839868116808,-0.05525851995596629,0.6170957201984968,-0.1115916319829114,0.5116816361868437,-2.2152101125435837,0.3315284364893782,0.12061261355873394,0.5657298475690731,0.528530005982104,1.3505673671144591,-1.1948625165823614,0.1861245268017284,1.466340663888806,-1.2496218278444502,-0.042254756026113054,0.5746877175630754,-1.4166594196141769,-1.1968199850030214,-0.8183800016923555,-0.5647855815888667,1.6581385906754473,-0.7466315211949155,0.1952774246638472,-1.4104910973740832,1.4284226905547313,-0.7664668283501381,-1.0838001767570018,0.7010686784174124,-0.1023297922421422,-1.2886240495582049,-0.7061207593027529,2.897502161129242,0.9010808303981163,0.5016339407709492,0.9970946254454802,-0.47115995979066305,-0.1973994499002884,1.7604450496094302,-0.6051709023066923,0.9185178513752467,-0.8971569837423113,1.092970248153521,-2.8136003677014547,-0.4576797890519921,0.6447060998883003,-0.8028938635150691,0.003505585948315358,0.3383690386122811,1.198436831143238,2.771847156459742,-2.254330916431132,0.9530849486491482,0.6857462587854266,2.026903317173535,0.21174591471811552,0.22119891318704257,-0.05312608477809972,-0.7409850974978949,1.892017237178089,-0.15679681385950367,-0.17109223041264868,1.6471337568749136,0.21920988201479505,-0.048131328941061535,0.006603176246051127,-1.20402950851814,1.2085801022634717,-0.22433096462997068,-1.0454463934053035,0.1220757939666129,1.3928722662278032,-1.508180765613294,0.9753571596335696,1.0784228637983067,0.7306926141166368,0.791267501618441,-0.8911164913797028,-1.1300915430771676,-0.06772167392315274,-1.5982042392029663,-1.1891695259259196,0.761386083379142,-0.4009140073390794,0.2095063908492791,0.06821644400313408,-0.6041624031835817,-0.03061682006821153,-0.1142173127149515,-1.6513277968691016,-1.0150656386360692,1.020045683034253,-1.839457892151129,0.6104771664127984,1.2816301431717376,-0.5420794843175418,0.36656788811570845,-0.7064686605718921,0.5004953964617794,1.0191968371752167],\"xaxis\":\"x11\",\"yaxis\":\"y11\",\"type\":\"histogram\"},{\"line\":{\"color\":\"rgba(128, 128, 128, 1.0)\",\"dash\":\"solid\",\"shape\":\"linear\",\"width\":1.3},\"marker\":{\"size\":2,\"symbol\":\"circle\"},\"mode\":\"markers\",\"name\":\"C\",\"text\":\"\",\"x\":[0.8674962935144439,-0.15169061237904777,1.4833116835967546,-1.4074514343551905,1.6809840507857228,-0.7824343697157726,-1.1380900973944608,-1.1684071193234065,-0.0878769934933399,-0.18802903883875,1.1054096358312044,-0.24648969074191718,-0.5241680651347467,0.035331855455702256,0.015225596692327365,-0.6060087395337597,-0.9434835248285206,0.1497847075865502,0.1522093133466193,1.4150504705341356,0.6358530188099831,0.41411480056120253,0.5012150075195608,1.0918677517923927,-1.0110630912716843,0.7501167863796132,0.22526828659737172,-0.3928236835144014,0.05139529009097846,-1.5088301646601956,-0.006479746879657132,-1.3783917816596891,0.4028905799711096,-1.239179450863049,1.718021008393491,0.5505466944824268,-0.14824266673830355,1.4971862088434158,1.7856499631672211,-1.5121481986483902,-0.6158928496562914,-1.553905392676682,-0.4806126433270155,0.8549312578480122,-0.04568548986192174,-0.09289049173836152,0.6322409552767246,-0.5599033007259137,-0.3037859876969862,0.16983967055496837,0.1709607920225609,-0.34886082288164394,-1.3692790368586323,0.7885755016061133,-0.07133724885285725,-0.3575113346043425,0.8439328842517401,1.004879695851903,-0.36505763244114714,0.34469487183119296,0.08414626368852046,-1.0809642257758973,-2.544189181053026,-0.011664663423132037,-0.6412660010849413,0.849998385732044,1.622056962493663,0.9356600649157409,-0.897115091137332,0.7381536272834047,-0.8793215655655365,0.2889625791761557,1.554875265954636,-0.48248282999102315,-0.5391204960250202,0.3763552292283802,1.8407821584581037,0.3211550805423586,1.201203797763351,0.39424029396382054,0.5878383417101924,0.6698006096665847,-0.8586992507168567,-1.6366547297430356,0.054812542476560415,0.19531981977357643,-0.5023449008405783,1.359709951480831,-0.7040273728122117,-2.51023297090885,1.774352674744687,0.04172615855687068,0.35652881894014826,0.914906888607246,0.27973928313574714,-0.6987222670653883,-2.0880394552582535,0.032666666094802205,-0.8203891211559984,0.8018099020438711],\"xaxis\":\"x12\",\"y\":[1.7506839868116808,-0.05525851995596629,0.6170957201984968,-0.1115916319829114,0.5116816361868437,-2.2152101125435837,0.3315284364893782,0.12061261355873394,0.5657298475690731,0.528530005982104,1.3505673671144591,-1.1948625165823614,0.1861245268017284,1.466340663888806,-1.2496218278444502,-0.042254756026113054,0.5746877175630754,-1.4166594196141769,-1.1968199850030214,-0.8183800016923555,-0.5647855815888667,1.6581385906754473,-0.7466315211949155,0.1952774246638472,-1.4104910973740832,1.4284226905547313,-0.7664668283501381,-1.0838001767570018,0.7010686784174124,-0.1023297922421422,-1.2886240495582049,-0.7061207593027529,2.897502161129242,0.9010808303981163,0.5016339407709492,0.9970946254454802,-0.47115995979066305,-0.1973994499002884,1.7604450496094302,-0.6051709023066923,0.9185178513752467,-0.8971569837423113,1.092970248153521,-2.8136003677014547,-0.4576797890519921,0.6447060998883003,-0.8028938635150691,0.003505585948315358,0.3383690386122811,1.198436831143238,2.771847156459742,-2.254330916431132,0.9530849486491482,0.6857462587854266,2.026903317173535,0.21174591471811552,0.22119891318704257,-0.05312608477809972,-0.7409850974978949,1.892017237178089,-0.15679681385950367,-0.17109223041264868,1.6471337568749136,0.21920988201479505,-0.048131328941061535,0.006603176246051127,-1.20402950851814,1.2085801022634717,-0.22433096462997068,-1.0454463934053035,0.1220757939666129,1.3928722662278032,-1.508180765613294,0.9753571596335696,1.0784228637983067,0.7306926141166368,0.791267501618441,-0.8911164913797028,-1.1300915430771676,-0.06772167392315274,-1.5982042392029663,-1.1891695259259196,0.761386083379142,-0.4009140073390794,0.2095063908492791,0.06821644400313408,-0.6041624031835817,-0.03061682006821153,-0.1142173127149515,-1.6513277968691016,-1.0150656386360692,1.020045683034253,-1.839457892151129,0.6104771664127984,1.2816301431717376,-0.5420794843175418,0.36656788811570845,-0.7064686605718921,0.5004953964617794,1.0191968371752167],\"yaxis\":\"y12\",\"type\":\"scatter\"},{\"line\":{\"color\":\"rgba(128, 128, 128, 1.0)\",\"dash\":\"solid\",\"shape\":\"linear\",\"width\":1.3},\"marker\":{\"size\":2,\"symbol\":\"circle\"},\"mode\":\"markers\",\"name\":\"D\",\"text\":\"\",\"x\":[0.43539700148335236,0.15819395423214852,0.62879333196527,-0.26401107422169673,-1.8324809705325915,0.7704629872779027,1.7497298283959724,-1.0015334595201602,-1.718240559825639,0.628596523719882,-0.42019354274908316,2.7136701685643403,-0.9378495172398871,0.6598021382631747,1.6184775733872263,1.3954033785382987,1.405495874826309,-1.166616968739883,2.365923532026527,1.1133259856604942,-1.6813679639527261,-0.04667403900552732,-0.6363654890464304,-1.5425012567014285,-1.012741270794969,0.12132634073101281,1.595602460076769,1.7305965984334635,-1.9217891095448971,1.1860294383645715,0.26201847879465384,-1.2055378111750752,2.3438810173248927,1.2086288002904493,-1.8314084636430585,1.7619781396825958,2.1031817281439817,-2.5307453072827966,1.2761298243307624,-1.772353423710465,-0.636420642902602,-1.930564293340949,-1.0610308479700656,-0.450655785586209,-2.1425651099825824,-1.0903966470383508,-0.5620779766373142,-0.770744501166946,0.317708947982711,0.1318688172018447,-1.2201324264384652,-0.19136686704154338,-0.06257792497623924,0.5936190711859071,1.1391272098088527,0.7464631766024825,-0.8977662361522014,0.14140290562352897,0.3256123427724348,0.9112030544266069,0.8357966193733269,1.7487601057521938,-0.49373510396354875,-0.6666213874172607,1.1831818138576176,-1.0182097832516077,-0.04630874727601642,-0.9836337689727818,1.9926142232426531,0.7440871065414701,0.28972919333565683,-0.5480211897462933,0.8413311240763615,-0.6346241128971083,-0.4398922253755513,-0.28149585930036625,0.6490498459345291,-0.23584960142982708,-1.5937987594535374,0.051213682792660656,-0.374994885556381,0.7207560378542024,0.5394156502485068,1.1572917713327477,-2.5643244253052964,-0.10181612060765612,0.11183773067467831,1.1028927065391063,-1.3752211222891688,2.16105987106691,-0.7898043390090209,1.6487450904111807,-1.7240798592526558,0.4254960002374844,0.2156919556300176,0.2031078608182616,0.21648296318241012,0.6718965344393238,-1.8998227182750862,-0.017153916755728384],\"xaxis\":\"x13\",\"y\":[0.8674962935144439,-0.15169061237904777,1.4833116835967546,-1.4074514343551905,1.6809840507857228,-0.7824343697157726,-1.1380900973944608,-1.1684071193234065,-0.0878769934933399,-0.18802903883875,1.1054096358312044,-0.24648969074191718,-0.5241680651347467,0.035331855455702256,0.015225596692327365,-0.6060087395337597,-0.9434835248285206,0.1497847075865502,0.1522093133466193,1.4150504705341356,0.6358530188099831,0.41411480056120253,0.5012150075195608,1.0918677517923927,-1.0110630912716843,0.7501167863796132,0.22526828659737172,-0.3928236835144014,0.05139529009097846,-1.5088301646601956,-0.006479746879657132,-1.3783917816596891,0.4028905799711096,-1.239179450863049,1.718021008393491,0.5505466944824268,-0.14824266673830355,1.4971862088434158,1.7856499631672211,-1.5121481986483902,-0.6158928496562914,-1.553905392676682,-0.4806126433270155,0.8549312578480122,-0.04568548986192174,-0.09289049173836152,0.6322409552767246,-0.5599033007259137,-0.3037859876969862,0.16983967055496837,0.1709607920225609,-0.34886082288164394,-1.3692790368586323,0.7885755016061133,-0.07133724885285725,-0.3575113346043425,0.8439328842517401,1.004879695851903,-0.36505763244114714,0.34469487183119296,0.08414626368852046,-1.0809642257758973,-2.544189181053026,-0.011664663423132037,-0.6412660010849413,0.849998385732044,1.622056962493663,0.9356600649157409,-0.897115091137332,0.7381536272834047,-0.8793215655655365,0.2889625791761557,1.554875265954636,-0.48248282999102315,-0.5391204960250202,0.3763552292283802,1.8407821584581037,0.3211550805423586,1.201203797763351,0.39424029396382054,0.5878383417101924,0.6698006096665847,-0.8586992507168567,-1.6366547297430356,0.054812542476560415,0.19531981977357643,-0.5023449008405783,1.359709951480831,-0.7040273728122117,-2.51023297090885,1.774352674744687,0.04172615855687068,0.35652881894014826,0.914906888607246,0.27973928313574714,-0.6987222670653883,-2.0880394552582535,0.032666666094802205,-0.8203891211559984,0.8018099020438711],\"yaxis\":\"y13\",\"type\":\"scatter\"},{\"line\":{\"color\":\"rgba(128, 128, 128, 1.0)\",\"dash\":\"solid\",\"shape\":\"linear\",\"width\":1.3},\"marker\":{\"size\":2,\"symbol\":\"circle\"},\"mode\":\"markers\",\"name\":\"D\",\"text\":\"\",\"x\":[0.760388682451242,-0.3014770718387929,-0.8104320504480762,1.1583102446320703,0.66259937418456,-0.8731559685701944,-0.10732150644350782,-1.4845842008871466,-1.1868462655772307,1.613590761177109,-1.9381099315529704,-0.29380824929788424,1.3599307756073165,-0.36836520730565253,-0.3269586169498003,-0.8722022296216736,1.7599609916589511,2.412515853128903,-1.1138794684306152,1.5653823254598276,1.7614719313614335,-1.2290358322794215,2.6522230722984435,1.0163014618558739,0.6293809696480948,-1.5146156122233023,0.016940034354393264,0.0032133467236007663,-0.5981712356892535,0.020951829720675653,1.9963821917383087,1.0740671422306807,0.17809074697460173,0.04485989073294413,-0.4227495550182459,-0.32645695274430736,0.698607870034912,0.6330148722372047,0.2875584885528013,1.1234133729510283,0.24214275695220294,-0.9745143810694096,-0.09487224825524246,-0.05206076437308604,0.1700768924108305,1.300218316913883,-0.14751521656419564,-0.30080352426550006,-0.8520916792252314,1.1620463903000628,1.2476009203676264,-0.629125183496713,-0.3785357939583569,-0.914900498176864,0.15739646399040055,-0.08110020866252839,1.2781757771914946,1.9785521600539933,-0.07924996180658282,-0.17064150415758025,-0.33892612512205456,-0.8766265534473259,-0.8696592484215764,1.1323493113477194,-1.7050942234370272,-0.600405565715628,-0.1789375334228437,0.2764438144488436,-1.3979390762783197,1.3262592652981067,0.703525942698256,1.411777371228823,-1.6110804563893522,0.39705885749036557,-0.24578206196537786,-1.0140463874894474,0.35097105186424615,0.22520868769189759,0.11269335584705568,-0.6275979165028887,0.830374106714317,0.21139937581431129,-0.5613355709825517,0.5599973868588114,0.10923587614740028,-0.21228235369384083,0.9848944487618184,0.15230352046132178,-0.24908169790355753,-0.5547350602916322,-0.26024067645453,-0.12512543124851477,1.4959303828793944,-0.8075642744958867,-0.7868387528914741,0.11502021583953378,1.052635171665947,-2.005202626886498,0.36358094296755,-1.292869329621461],\"xaxis\":\"x14\",\"y\":[0.8674962935144439,-0.15169061237904777,1.4833116835967546,-1.4074514343551905,1.6809840507857228,-0.7824343697157726,-1.1380900973944608,-1.1684071193234065,-0.0878769934933399,-0.18802903883875,1.1054096358312044,-0.24648969074191718,-0.5241680651347467,0.035331855455702256,0.015225596692327365,-0.6060087395337597,-0.9434835248285206,0.1497847075865502,0.1522093133466193,1.4150504705341356,0.6358530188099831,0.41411480056120253,0.5012150075195608,1.0918677517923927,-1.0110630912716843,0.7501167863796132,0.22526828659737172,-0.3928236835144014,0.05139529009097846,-1.5088301646601956,-0.006479746879657132,-1.3783917816596891,0.4028905799711096,-1.239179450863049,1.718021008393491,0.5505466944824268,-0.14824266673830355,1.4971862088434158,1.7856499631672211,-1.5121481986483902,-0.6158928496562914,-1.553905392676682,-0.4806126433270155,0.8549312578480122,-0.04568548986192174,-0.09289049173836152,0.6322409552767246,-0.5599033007259137,-0.3037859876969862,0.16983967055496837,0.1709607920225609,-0.34886082288164394,-1.3692790368586323,0.7885755016061133,-0.07133724885285725,-0.3575113346043425,0.8439328842517401,1.004879695851903,-0.36505763244114714,0.34469487183119296,0.08414626368852046,-1.0809642257758973,-2.544189181053026,-0.011664663423132037,-0.6412660010849413,0.849998385732044,1.622056962493663,0.9356600649157409,-0.897115091137332,0.7381536272834047,-0.8793215655655365,0.2889625791761557,1.554875265954636,-0.48248282999102315,-0.5391204960250202,0.3763552292283802,1.8407821584581037,0.3211550805423586,1.201203797763351,0.39424029396382054,0.5878383417101924,0.6698006096665847,-0.8586992507168567,-1.6366547297430356,0.054812542476560415,0.19531981977357643,-0.5023449008405783,1.359709951480831,-0.7040273728122117,-2.51023297090885,1.774352674744687,0.04172615855687068,0.35652881894014826,0.914906888607246,0.27973928313574714,-0.6987222670653883,-2.0880394552582535,0.032666666094802205,-0.8203891211559984,0.8018099020438711],\"yaxis\":\"y14\",\"type\":\"scatter\"},{\"line\":{\"color\":\"rgba(128, 128, 128, 1.0)\",\"dash\":\"solid\",\"shape\":\"linear\",\"width\":1.3},\"marker\":{\"size\":2,\"symbol\":\"circle\"},\"mode\":\"markers\",\"name\":\"D\",\"text\":\"\",\"x\":[1.7506839868116808,-0.05525851995596629,0.6170957201984968,-0.1115916319829114,0.5116816361868437,-2.2152101125435837,0.3315284364893782,0.12061261355873394,0.5657298475690731,0.528530005982104,1.3505673671144591,-1.1948625165823614,0.1861245268017284,1.466340663888806,-1.2496218278444502,-0.042254756026113054,0.5746877175630754,-1.4166594196141769,-1.1968199850030214,-0.8183800016923555,-0.5647855815888667,1.6581385906754473,-0.7466315211949155,0.1952774246638472,-1.4104910973740832,1.4284226905547313,-0.7664668283501381,-1.0838001767570018,0.7010686784174124,-0.1023297922421422,-1.2886240495582049,-0.7061207593027529,2.897502161129242,0.9010808303981163,0.5016339407709492,0.9970946254454802,-0.47115995979066305,-0.1973994499002884,1.7604450496094302,-0.6051709023066923,0.9185178513752467,-0.8971569837423113,1.092970248153521,-2.8136003677014547,-0.4576797890519921,0.6447060998883003,-0.8028938635150691,0.003505585948315358,0.3383690386122811,1.198436831143238,2.771847156459742,-2.254330916431132,0.9530849486491482,0.6857462587854266,2.026903317173535,0.21174591471811552,0.22119891318704257,-0.05312608477809972,-0.7409850974978949,1.892017237178089,-0.15679681385950367,-0.17109223041264868,1.6471337568749136,0.21920988201479505,-0.048131328941061535,0.006603176246051127,-1.20402950851814,1.2085801022634717,-0.22433096462997068,-1.0454463934053035,0.1220757939666129,1.3928722662278032,-1.508180765613294,0.9753571596335696,1.0784228637983067,0.7306926141166368,0.791267501618441,-0.8911164913797028,-1.1300915430771676,-0.06772167392315274,-1.5982042392029663,-1.1891695259259196,0.761386083379142,-0.4009140073390794,0.2095063908492791,0.06821644400313408,-0.6041624031835817,-0.03061682006821153,-0.1142173127149515,-1.6513277968691016,-1.0150656386360692,1.020045683034253,-1.839457892151129,0.6104771664127984,1.2816301431717376,-0.5420794843175418,0.36656788811570845,-0.7064686605718921,0.5004953964617794,1.0191968371752167],\"xaxis\":\"x15\",\"y\":[0.8674962935144439,-0.15169061237904777,1.4833116835967546,-1.4074514343551905,1.6809840507857228,-0.7824343697157726,-1.1380900973944608,-1.1684071193234065,-0.0878769934933399,-0.18802903883875,1.1054096358312044,-0.24648969074191718,-0.5241680651347467,0.035331855455702256,0.015225596692327365,-0.6060087395337597,-0.9434835248285206,0.1497847075865502,0.1522093133466193,1.4150504705341356,0.6358530188099831,0.41411480056120253,0.5012150075195608,1.0918677517923927,-1.0110630912716843,0.7501167863796132,0.22526828659737172,-0.3928236835144014,0.05139529009097846,-1.5088301646601956,-0.006479746879657132,-1.3783917816596891,0.4028905799711096,-1.239179450863049,1.718021008393491,0.5505466944824268,-0.14824266673830355,1.4971862088434158,1.7856499631672211,-1.5121481986483902,-0.6158928496562914,-1.553905392676682,-0.4806126433270155,0.8549312578480122,-0.04568548986192174,-0.09289049173836152,0.6322409552767246,-0.5599033007259137,-0.3037859876969862,0.16983967055496837,0.1709607920225609,-0.34886082288164394,-1.3692790368586323,0.7885755016061133,-0.07133724885285725,-0.3575113346043425,0.8439328842517401,1.004879695851903,-0.36505763244114714,0.34469487183119296,0.08414626368852046,-1.0809642257758973,-2.544189181053026,-0.011664663423132037,-0.6412660010849413,0.849998385732044,1.622056962493663,0.9356600649157409,-0.897115091137332,0.7381536272834047,-0.8793215655655365,0.2889625791761557,1.554875265954636,-0.48248282999102315,-0.5391204960250202,0.3763552292283802,1.8407821584581037,0.3211550805423586,1.201203797763351,0.39424029396382054,0.5878383417101924,0.6698006096665847,-0.8586992507168567,-1.6366547297430356,0.054812542476560415,0.19531981977357643,-0.5023449008405783,1.359709951480831,-0.7040273728122117,-2.51023297090885,1.774352674744687,0.04172615855687068,0.35652881894014826,0.914906888607246,0.27973928313574714,-0.6987222670653883,-2.0880394552582535,0.032666666094802205,-0.8203891211559984,0.8018099020438711],\"yaxis\":\"y15\",\"type\":\"scatter\"},{\"histfunc\":\"count\",\"histnorm\":\"\",\"marker\":{\"color\":\"rgba(128, 0, 128, 1.0)\",\"line\":{\"color\":\"#4D5663\",\"width\":1.3}},\"name\":\"D\",\"nbinsx\":10,\"opacity\":0.8,\"orientation\":\"v\",\"x\":[0.8674962935144439,-0.15169061237904777,1.4833116835967546,-1.4074514343551905,1.6809840507857228,-0.7824343697157726,-1.1380900973944608,-1.1684071193234065,-0.0878769934933399,-0.18802903883875,1.1054096358312044,-0.24648969074191718,-0.5241680651347467,0.035331855455702256,0.015225596692327365,-0.6060087395337597,-0.9434835248285206,0.1497847075865502,0.1522093133466193,1.4150504705341356,0.6358530188099831,0.41411480056120253,0.5012150075195608,1.0918677517923927,-1.0110630912716843,0.7501167863796132,0.22526828659737172,-0.3928236835144014,0.05139529009097846,-1.5088301646601956,-0.006479746879657132,-1.3783917816596891,0.4028905799711096,-1.239179450863049,1.718021008393491,0.5505466944824268,-0.14824266673830355,1.4971862088434158,1.7856499631672211,-1.5121481986483902,-0.6158928496562914,-1.553905392676682,-0.4806126433270155,0.8549312578480122,-0.04568548986192174,-0.09289049173836152,0.6322409552767246,-0.5599033007259137,-0.3037859876969862,0.16983967055496837,0.1709607920225609,-0.34886082288164394,-1.3692790368586323,0.7885755016061133,-0.07133724885285725,-0.3575113346043425,0.8439328842517401,1.004879695851903,-0.36505763244114714,0.34469487183119296,0.08414626368852046,-1.0809642257758973,-2.544189181053026,-0.011664663423132037,-0.6412660010849413,0.849998385732044,1.622056962493663,0.9356600649157409,-0.897115091137332,0.7381536272834047,-0.8793215655655365,0.2889625791761557,1.554875265954636,-0.48248282999102315,-0.5391204960250202,0.3763552292283802,1.8407821584581037,0.3211550805423586,1.201203797763351,0.39424029396382054,0.5878383417101924,0.6698006096665847,-0.8586992507168567,-1.6366547297430356,0.054812542476560415,0.19531981977357643,-0.5023449008405783,1.359709951480831,-0.7040273728122117,-2.51023297090885,1.774352674744687,0.04172615855687068,0.35652881894014826,0.914906888607246,0.27973928313574714,-0.6987222670653883,-2.0880394552582535,0.032666666094802205,-0.8203891211559984,0.8018099020438711],\"xaxis\":\"x16\",\"yaxis\":\"y16\",\"type\":\"histogram\"}],                        {\"bargap\":0.02,\"legend\":{\"bgcolor\":\"#F5F6F9\",\"font\":{\"color\":\"#4D5663\"}},\"paper_bgcolor\":\"#F5F6F9\",\"plot_bgcolor\":\"#F5F6F9\",\"showlegend\":false,\"template\":{\"data\":{\"barpolar\":[{\"marker\":{\"line\":{\"color\":\"#E5ECF6\",\"width\":0.5},\"pattern\":{\"fillmode\":\"overlay\",\"size\":10,\"solidity\":0.2}},\"type\":\"barpolar\"}],\"bar\":[{\"error_x\":{\"color\":\"#2a3f5f\"},\"error_y\":{\"color\":\"#2a3f5f\"},\"marker\":{\"line\":{\"color\":\"#E5ECF6\",\"width\":0.5},\"pattern\":{\"fillmode\":\"overlay\",\"size\":10,\"solidity\":0.2}},\"type\":\"bar\"}],\"carpet\":[{\"aaxis\":{\"endlinecolor\":\"#2a3f5f\",\"gridcolor\":\"white\",\"linecolor\":\"white\",\"minorgridcolor\":\"white\",\"startlinecolor\":\"#2a3f5f\"},\"baxis\":{\"endlinecolor\":\"#2a3f5f\",\"gridcolor\":\"white\",\"linecolor\":\"white\",\"minorgridcolor\":\"white\",\"startlinecolor\":\"#2a3f5f\"},\"type\":\"carpet\"}],\"choropleth\":[{\"colorbar\":{\"outlinewidth\":0,\"ticks\":\"\"},\"type\":\"choropleth\"}],\"contourcarpet\":[{\"colorbar\":{\"outlinewidth\":0,\"ticks\":\"\"},\"type\":\"contourcarpet\"}],\"contour\":[{\"colorbar\":{\"outlinewidth\":0,\"ticks\":\"\"},\"colorscale\":[[0.0,\"#0d0887\"],[0.1111111111111111,\"#46039f\"],[0.2222222222222222,\"#7201a8\"],[0.3333333333333333,\"#9c179e\"],[0.4444444444444444,\"#bd3786\"],[0.5555555555555556,\"#d8576b\"],[0.6666666666666666,\"#ed7953\"],[0.7777777777777778,\"#fb9f3a\"],[0.8888888888888888,\"#fdca26\"],[1.0,\"#f0f921\"]],\"type\":\"contour\"}],\"heatmapgl\":[{\"colorbar\":{\"outlinewidth\":0,\"ticks\":\"\"},\"colorscale\":[[0.0,\"#0d0887\"],[0.1111111111111111,\"#46039f\"],[0.2222222222222222,\"#7201a8\"],[0.3333333333333333,\"#9c179e\"],[0.4444444444444444,\"#bd3786\"],[0.5555555555555556,\"#d8576b\"],[0.6666666666666666,\"#ed7953\"],[0.7777777777777778,\"#fb9f3a\"],[0.8888888888888888,\"#fdca26\"],[1.0,\"#f0f921\"]],\"type\":\"heatmapgl\"}],\"heatmap\":[{\"colorbar\":{\"outlinewidth\":0,\"ticks\":\"\"},\"colorscale\":[[0.0,\"#0d0887\"],[0.1111111111111111,\"#46039f\"],[0.2222222222222222,\"#7201a8\"],[0.3333333333333333,\"#9c179e\"],[0.4444444444444444,\"#bd3786\"],[0.5555555555555556,\"#d8576b\"],[0.6666666666666666,\"#ed7953\"],[0.7777777777777778,\"#fb9f3a\"],[0.8888888888888888,\"#fdca26\"],[1.0,\"#f0f921\"]],\"type\":\"heatmap\"}],\"histogram2dcontour\":[{\"colorbar\":{\"outlinewidth\":0,\"ticks\":\"\"},\"colorscale\":[[0.0,\"#0d0887\"],[0.1111111111111111,\"#46039f\"],[0.2222222222222222,\"#7201a8\"],[0.3333333333333333,\"#9c179e\"],[0.4444444444444444,\"#bd3786\"],[0.5555555555555556,\"#d8576b\"],[0.6666666666666666,\"#ed7953\"],[0.7777777777777778,\"#fb9f3a\"],[0.8888888888888888,\"#fdca26\"],[1.0,\"#f0f921\"]],\"type\":\"histogram2dcontour\"}],\"histogram2d\":[{\"colorbar\":{\"outlinewidth\":0,\"ticks\":\"\"},\"colorscale\":[[0.0,\"#0d0887\"],[0.1111111111111111,\"#46039f\"],[0.2222222222222222,\"#7201a8\"],[0.3333333333333333,\"#9c179e\"],[0.4444444444444444,\"#bd3786\"],[0.5555555555555556,\"#d8576b\"],[0.6666666666666666,\"#ed7953\"],[0.7777777777777778,\"#fb9f3a\"],[0.8888888888888888,\"#fdca26\"],[1.0,\"#f0f921\"]],\"type\":\"histogram2d\"}],\"histogram\":[{\"marker\":{\"pattern\":{\"fillmode\":\"overlay\",\"size\":10,\"solidity\":0.2}},\"type\":\"histogram\"}],\"mesh3d\":[{\"colorbar\":{\"outlinewidth\":0,\"ticks\":\"\"},\"type\":\"mesh3d\"}],\"parcoords\":[{\"line\":{\"colorbar\":{\"outlinewidth\":0,\"ticks\":\"\"}},\"type\":\"parcoords\"}],\"pie\":[{\"automargin\":true,\"type\":\"pie\"}],\"scatter3d\":[{\"line\":{\"colorbar\":{\"outlinewidth\":0,\"ticks\":\"\"}},\"marker\":{\"colorbar\":{\"outlinewidth\":0,\"ticks\":\"\"}},\"type\":\"scatter3d\"}],\"scattercarpet\":[{\"marker\":{\"colorbar\":{\"outlinewidth\":0,\"ticks\":\"\"}},\"type\":\"scattercarpet\"}],\"scattergeo\":[{\"marker\":{\"colorbar\":{\"outlinewidth\":0,\"ticks\":\"\"}},\"type\":\"scattergeo\"}],\"scattergl\":[{\"marker\":{\"colorbar\":{\"outlinewidth\":0,\"ticks\":\"\"}},\"type\":\"scattergl\"}],\"scattermapbox\":[{\"marker\":{\"colorbar\":{\"outlinewidth\":0,\"ticks\":\"\"}},\"type\":\"scattermapbox\"}],\"scatterpolargl\":[{\"marker\":{\"colorbar\":{\"outlinewidth\":0,\"ticks\":\"\"}},\"type\":\"scatterpolargl\"}],\"scatterpolar\":[{\"marker\":{\"colorbar\":{\"outlinewidth\":0,\"ticks\":\"\"}},\"type\":\"scatterpolar\"}],\"scatter\":[{\"fillpattern\":{\"fillmode\":\"overlay\",\"size\":10,\"solidity\":0.2},\"type\":\"scatter\"}],\"scatterternary\":[{\"marker\":{\"colorbar\":{\"outlinewidth\":0,\"ticks\":\"\"}},\"type\":\"scatterternary\"}],\"surface\":[{\"colorbar\":{\"outlinewidth\":0,\"ticks\":\"\"},\"colorscale\":[[0.0,\"#0d0887\"],[0.1111111111111111,\"#46039f\"],[0.2222222222222222,\"#7201a8\"],[0.3333333333333333,\"#9c179e\"],[0.4444444444444444,\"#bd3786\"],[0.5555555555555556,\"#d8576b\"],[0.6666666666666666,\"#ed7953\"],[0.7777777777777778,\"#fb9f3a\"],[0.8888888888888888,\"#fdca26\"],[1.0,\"#f0f921\"]],\"type\":\"surface\"}],\"table\":[{\"cells\":{\"fill\":{\"color\":\"#EBF0F8\"},\"line\":{\"color\":\"white\"}},\"header\":{\"fill\":{\"color\":\"#C8D4E3\"},\"line\":{\"color\":\"white\"}},\"type\":\"table\"}]},\"layout\":{\"annotationdefaults\":{\"arrowcolor\":\"#2a3f5f\",\"arrowhead\":0,\"arrowwidth\":1},\"autotypenumbers\":\"strict\",\"coloraxis\":{\"colorbar\":{\"outlinewidth\":0,\"ticks\":\"\"}},\"colorscale\":{\"diverging\":[[0,\"#8e0152\"],[0.1,\"#c51b7d\"],[0.2,\"#de77ae\"],[0.3,\"#f1b6da\"],[0.4,\"#fde0ef\"],[0.5,\"#f7f7f7\"],[0.6,\"#e6f5d0\"],[0.7,\"#b8e186\"],[0.8,\"#7fbc41\"],[0.9,\"#4d9221\"],[1,\"#276419\"]],\"sequential\":[[0.0,\"#0d0887\"],[0.1111111111111111,\"#46039f\"],[0.2222222222222222,\"#7201a8\"],[0.3333333333333333,\"#9c179e\"],[0.4444444444444444,\"#bd3786\"],[0.5555555555555556,\"#d8576b\"],[0.6666666666666666,\"#ed7953\"],[0.7777777777777778,\"#fb9f3a\"],[0.8888888888888888,\"#fdca26\"],[1.0,\"#f0f921\"]],\"sequentialminus\":[[0.0,\"#0d0887\"],[0.1111111111111111,\"#46039f\"],[0.2222222222222222,\"#7201a8\"],[0.3333333333333333,\"#9c179e\"],[0.4444444444444444,\"#bd3786\"],[0.5555555555555556,\"#d8576b\"],[0.6666666666666666,\"#ed7953\"],[0.7777777777777778,\"#fb9f3a\"],[0.8888888888888888,\"#fdca26\"],[1.0,\"#f0f921\"]]},\"colorway\":[\"#636efa\",\"#EF553B\",\"#00cc96\",\"#ab63fa\",\"#FFA15A\",\"#19d3f3\",\"#FF6692\",\"#B6E880\",\"#FF97FF\",\"#FECB52\"],\"font\":{\"color\":\"#2a3f5f\"},\"geo\":{\"bgcolor\":\"white\",\"lakecolor\":\"white\",\"landcolor\":\"#E5ECF6\",\"showlakes\":true,\"showland\":true,\"subunitcolor\":\"white\"},\"hoverlabel\":{\"align\":\"left\"},\"hovermode\":\"closest\",\"mapbox\":{\"style\":\"light\"},\"paper_bgcolor\":\"white\",\"plot_bgcolor\":\"#E5ECF6\",\"polar\":{\"angularaxis\":{\"gridcolor\":\"white\",\"linecolor\":\"white\",\"ticks\":\"\"},\"bgcolor\":\"#E5ECF6\",\"radialaxis\":{\"gridcolor\":\"white\",\"linecolor\":\"white\",\"ticks\":\"\"}},\"scene\":{\"xaxis\":{\"backgroundcolor\":\"#E5ECF6\",\"gridcolor\":\"white\",\"gridwidth\":2,\"linecolor\":\"white\",\"showbackground\":true,\"ticks\":\"\",\"zerolinecolor\":\"white\"},\"yaxis\":{\"backgroundcolor\":\"#E5ECF6\",\"gridcolor\":\"white\",\"gridwidth\":2,\"linecolor\":\"white\",\"showbackground\":true,\"ticks\":\"\",\"zerolinecolor\":\"white\"},\"zaxis\":{\"backgroundcolor\":\"#E5ECF6\",\"gridcolor\":\"white\",\"gridwidth\":2,\"linecolor\":\"white\",\"showbackground\":true,\"ticks\":\"\",\"zerolinecolor\":\"white\"}},\"shapedefaults\":{\"line\":{\"color\":\"#2a3f5f\"}},\"ternary\":{\"aaxis\":{\"gridcolor\":\"white\",\"linecolor\":\"white\",\"ticks\":\"\"},\"baxis\":{\"gridcolor\":\"white\",\"linecolor\":\"white\",\"ticks\":\"\"},\"bgcolor\":\"#E5ECF6\",\"caxis\":{\"gridcolor\":\"white\",\"linecolor\":\"white\",\"ticks\":\"\"}},\"title\":{\"x\":0.05},\"xaxis\":{\"automargin\":true,\"gridcolor\":\"white\",\"linecolor\":\"white\",\"ticks\":\"\",\"title\":{\"standoff\":15},\"zerolinecolor\":\"white\",\"zerolinewidth\":2},\"yaxis\":{\"automargin\":true,\"gridcolor\":\"white\",\"linecolor\":\"white\",\"ticks\":\"\",\"title\":{\"standoff\":15},\"zerolinecolor\":\"white\",\"zerolinewidth\":2}}},\"title\":{\"font\":{\"color\":\"#4D5663\"}},\"xaxis\":{\"anchor\":\"y\",\"domain\":[0.0,0.2125],\"gridcolor\":\"#E1E5ED\",\"showgrid\":false,\"tickfont\":{\"color\":\"#4D5663\"},\"title\":{\"font\":{\"color\":\"#4D5663\"},\"text\":\"\"},\"zerolinecolor\":\"#E1E5ED\"},\"yaxis\":{\"anchor\":\"x\",\"domain\":[0.8025,1.0],\"gridcolor\":\"#E1E5ED\",\"showgrid\":false,\"tickfont\":{\"color\":\"#4D5663\"},\"title\":{\"font\":{\"color\":\"#4D5663\"},\"text\":\"\"},\"zerolinecolor\":\"#E1E5ED\"},\"xaxis2\":{\"anchor\":\"y2\",\"domain\":[0.2625,0.475],\"gridcolor\":\"#E1E5ED\",\"showgrid\":false,\"tickfont\":{\"color\":\"#4D5663\"},\"title\":{\"font\":{\"color\":\"#4D5663\"},\"text\":\"\"},\"zerolinecolor\":\"#E1E5ED\"},\"yaxis2\":{\"anchor\":\"x2\",\"domain\":[0.8025,1.0],\"gridcolor\":\"#E1E5ED\",\"showgrid\":false,\"tickfont\":{\"color\":\"#4D5663\"},\"title\":{\"font\":{\"color\":\"#4D5663\"},\"text\":\"\"},\"zerolinecolor\":\"#E1E5ED\"},\"xaxis3\":{\"anchor\":\"y3\",\"domain\":[0.525,0.7375],\"gridcolor\":\"#E1E5ED\",\"showgrid\":false,\"tickfont\":{\"color\":\"#4D5663\"},\"title\":{\"font\":{\"color\":\"#4D5663\"},\"text\":\"\"},\"zerolinecolor\":\"#E1E5ED\"},\"yaxis3\":{\"anchor\":\"x3\",\"domain\":[0.8025,1.0],\"gridcolor\":\"#E1E5ED\",\"showgrid\":false,\"tickfont\":{\"color\":\"#4D5663\"},\"title\":{\"font\":{\"color\":\"#4D5663\"},\"text\":\"\"},\"zerolinecolor\":\"#E1E5ED\"},\"xaxis4\":{\"anchor\":\"y4\",\"domain\":[0.7875,1.0],\"gridcolor\":\"#E1E5ED\",\"showgrid\":false,\"tickfont\":{\"color\":\"#4D5663\"},\"title\":{\"font\":{\"color\":\"#4D5663\"},\"text\":\"\"},\"zerolinecolor\":\"#E1E5ED\"},\"yaxis4\":{\"anchor\":\"x4\",\"domain\":[0.8025,1.0],\"gridcolor\":\"#E1E5ED\",\"showgrid\":false,\"tickfont\":{\"color\":\"#4D5663\"},\"title\":{\"font\":{\"color\":\"#4D5663\"},\"text\":\"\"},\"zerolinecolor\":\"#E1E5ED\"},\"xaxis5\":{\"anchor\":\"y5\",\"domain\":[0.0,0.2125],\"gridcolor\":\"#E1E5ED\",\"showgrid\":false,\"tickfont\":{\"color\":\"#4D5663\"},\"title\":{\"font\":{\"color\":\"#4D5663\"},\"text\":\"\"},\"zerolinecolor\":\"#E1E5ED\"},\"yaxis5\":{\"anchor\":\"x5\",\"domain\":[0.535,0.7325],\"gridcolor\":\"#E1E5ED\",\"showgrid\":false,\"tickfont\":{\"color\":\"#4D5663\"},\"title\":{\"font\":{\"color\":\"#4D5663\"},\"text\":\"\"},\"zerolinecolor\":\"#E1E5ED\"},\"xaxis6\":{\"anchor\":\"y6\",\"domain\":[0.2625,0.475],\"gridcolor\":\"#E1E5ED\",\"showgrid\":false,\"tickfont\":{\"color\":\"#4D5663\"},\"title\":{\"font\":{\"color\":\"#4D5663\"},\"text\":\"\"},\"zerolinecolor\":\"#E1E5ED\"},\"yaxis6\":{\"anchor\":\"x6\",\"domain\":[0.535,0.7325],\"gridcolor\":\"#E1E5ED\",\"showgrid\":false,\"tickfont\":{\"color\":\"#4D5663\"},\"title\":{\"font\":{\"color\":\"#4D5663\"},\"text\":\"\"},\"zerolinecolor\":\"#E1E5ED\"},\"xaxis7\":{\"anchor\":\"y7\",\"domain\":[0.525,0.7375],\"gridcolor\":\"#E1E5ED\",\"showgrid\":false,\"tickfont\":{\"color\":\"#4D5663\"},\"title\":{\"font\":{\"color\":\"#4D5663\"},\"text\":\"\"},\"zerolinecolor\":\"#E1E5ED\"},\"yaxis7\":{\"anchor\":\"x7\",\"domain\":[0.535,0.7325],\"gridcolor\":\"#E1E5ED\",\"showgrid\":false,\"tickfont\":{\"color\":\"#4D5663\"},\"title\":{\"font\":{\"color\":\"#4D5663\"},\"text\":\"\"},\"zerolinecolor\":\"#E1E5ED\"},\"xaxis8\":{\"anchor\":\"y8\",\"domain\":[0.7875,1.0],\"gridcolor\":\"#E1E5ED\",\"showgrid\":false,\"tickfont\":{\"color\":\"#4D5663\"},\"title\":{\"font\":{\"color\":\"#4D5663\"},\"text\":\"\"},\"zerolinecolor\":\"#E1E5ED\"},\"yaxis8\":{\"anchor\":\"x8\",\"domain\":[0.535,0.7325],\"gridcolor\":\"#E1E5ED\",\"showgrid\":false,\"tickfont\":{\"color\":\"#4D5663\"},\"title\":{\"font\":{\"color\":\"#4D5663\"},\"text\":\"\"},\"zerolinecolor\":\"#E1E5ED\"},\"xaxis9\":{\"anchor\":\"y9\",\"domain\":[0.0,0.2125],\"gridcolor\":\"#E1E5ED\",\"showgrid\":false,\"tickfont\":{\"color\":\"#4D5663\"},\"title\":{\"font\":{\"color\":\"#4D5663\"},\"text\":\"\"},\"zerolinecolor\":\"#E1E5ED\"},\"yaxis9\":{\"anchor\":\"x9\",\"domain\":[0.2675,0.465],\"gridcolor\":\"#E1E5ED\",\"showgrid\":false,\"tickfont\":{\"color\":\"#4D5663\"},\"title\":{\"font\":{\"color\":\"#4D5663\"},\"text\":\"\"},\"zerolinecolor\":\"#E1E5ED\"},\"xaxis10\":{\"anchor\":\"y10\",\"domain\":[0.2625,0.475],\"gridcolor\":\"#E1E5ED\",\"showgrid\":false,\"tickfont\":{\"color\":\"#4D5663\"},\"title\":{\"font\":{\"color\":\"#4D5663\"},\"text\":\"\"},\"zerolinecolor\":\"#E1E5ED\"},\"yaxis10\":{\"anchor\":\"x10\",\"domain\":[0.2675,0.465],\"gridcolor\":\"#E1E5ED\",\"showgrid\":false,\"tickfont\":{\"color\":\"#4D5663\"},\"title\":{\"font\":{\"color\":\"#4D5663\"},\"text\":\"\"},\"zerolinecolor\":\"#E1E5ED\"},\"xaxis11\":{\"anchor\":\"y11\",\"domain\":[0.525,0.7375],\"gridcolor\":\"#E1E5ED\",\"showgrid\":false,\"tickfont\":{\"color\":\"#4D5663\"},\"title\":{\"font\":{\"color\":\"#4D5663\"},\"text\":\"\"},\"zerolinecolor\":\"#E1E5ED\"},\"yaxis11\":{\"anchor\":\"x11\",\"domain\":[0.2675,0.465],\"gridcolor\":\"#E1E5ED\",\"showgrid\":false,\"tickfont\":{\"color\":\"#4D5663\"},\"title\":{\"font\":{\"color\":\"#4D5663\"},\"text\":\"\"},\"zerolinecolor\":\"#E1E5ED\"},\"xaxis12\":{\"anchor\":\"y12\",\"domain\":[0.7875,1.0],\"gridcolor\":\"#E1E5ED\",\"showgrid\":false,\"tickfont\":{\"color\":\"#4D5663\"},\"title\":{\"font\":{\"color\":\"#4D5663\"},\"text\":\"\"},\"zerolinecolor\":\"#E1E5ED\"},\"yaxis12\":{\"anchor\":\"x12\",\"domain\":[0.2675,0.465],\"gridcolor\":\"#E1E5ED\",\"showgrid\":false,\"tickfont\":{\"color\":\"#4D5663\"},\"title\":{\"font\":{\"color\":\"#4D5663\"},\"text\":\"\"},\"zerolinecolor\":\"#E1E5ED\"},\"xaxis13\":{\"anchor\":\"y13\",\"domain\":[0.0,0.2125],\"gridcolor\":\"#E1E5ED\",\"showgrid\":false,\"tickfont\":{\"color\":\"#4D5663\"},\"title\":{\"font\":{\"color\":\"#4D5663\"},\"text\":\"\"},\"zerolinecolor\":\"#E1E5ED\"},\"yaxis13\":{\"anchor\":\"x13\",\"domain\":[0.0,0.1975],\"gridcolor\":\"#E1E5ED\",\"showgrid\":false,\"tickfont\":{\"color\":\"#4D5663\"},\"title\":{\"font\":{\"color\":\"#4D5663\"},\"text\":\"\"},\"zerolinecolor\":\"#E1E5ED\"},\"xaxis14\":{\"anchor\":\"y14\",\"domain\":[0.2625,0.475],\"gridcolor\":\"#E1E5ED\",\"showgrid\":false,\"tickfont\":{\"color\":\"#4D5663\"},\"title\":{\"font\":{\"color\":\"#4D5663\"},\"text\":\"\"},\"zerolinecolor\":\"#E1E5ED\"},\"yaxis14\":{\"anchor\":\"x14\",\"domain\":[0.0,0.1975],\"gridcolor\":\"#E1E5ED\",\"showgrid\":false,\"tickfont\":{\"color\":\"#4D5663\"},\"title\":{\"font\":{\"color\":\"#4D5663\"},\"text\":\"\"},\"zerolinecolor\":\"#E1E5ED\"},\"xaxis15\":{\"anchor\":\"y15\",\"domain\":[0.525,0.7375],\"gridcolor\":\"#E1E5ED\",\"showgrid\":false,\"tickfont\":{\"color\":\"#4D5663\"},\"title\":{\"font\":{\"color\":\"#4D5663\"},\"text\":\"\"},\"zerolinecolor\":\"#E1E5ED\"},\"yaxis15\":{\"anchor\":\"x15\",\"domain\":[0.0,0.1975],\"gridcolor\":\"#E1E5ED\",\"showgrid\":false,\"tickfont\":{\"color\":\"#4D5663\"},\"title\":{\"font\":{\"color\":\"#4D5663\"},\"text\":\"\"},\"zerolinecolor\":\"#E1E5ED\"},\"xaxis16\":{\"anchor\":\"y16\",\"domain\":[0.7875,1.0],\"gridcolor\":\"#E1E5ED\",\"showgrid\":false,\"tickfont\":{\"color\":\"#4D5663\"},\"title\":{\"font\":{\"color\":\"#4D5663\"},\"text\":\"\"},\"zerolinecolor\":\"#E1E5ED\"},\"yaxis16\":{\"anchor\":\"x16\",\"domain\":[0.0,0.1975],\"gridcolor\":\"#E1E5ED\",\"showgrid\":false,\"tickfont\":{\"color\":\"#4D5663\"},\"title\":{\"font\":{\"color\":\"#4D5663\"},\"text\":\"\"},\"zerolinecolor\":\"#E1E5ED\"}},                        {\"showLink\": true, \"linkText\": \"Export to plot.ly\", \"plotlyServerURL\": \"https://plot.ly\", \"responsive\": true}                    ).then(function(){\n",
       "                            \n",
       "var gd = document.getElementById('1b4c8461-67d4-43ad-8dd5-1765e9404764');\n",
       "var x = new MutationObserver(function (mutations, observer) {{\n",
       "        var display = window.getComputedStyle(gd).display;\n",
       "        if (!display || display === 'none') {{\n",
       "            console.log([gd, 'removed!']);\n",
       "            Plotly.purge(gd);\n",
       "            observer.disconnect();\n",
       "        }}\n",
       "}});\n",
       "\n",
       "// Listen for the removal of the full notebook cells\n",
       "var notebookContainer = gd.closest('#notebook-container');\n",
       "if (notebookContainer) {{\n",
       "    x.observe(notebookContainer, {childList: true});\n",
       "}}\n",
       "\n",
       "// Listen for the clearing of the current output cell\n",
       "var outputEl = gd.closest('.output');\n",
       "if (outputEl) {{\n",
       "    x.observe(outputEl, {childList: true});\n",
       "}}\n",
       "\n",
       "                        })                };                });            </script>        </div>"
      ]
     },
     "metadata": {},
     "output_type": "display_data"
    }
   ],
   "source": [
    "df.scatter_matrix() # do this with care on very large datasets"
   ]
  }
 ],
 "metadata": {
  "kernelspec": {
   "display_name": "Python 3 (ipykernel)",
   "language": "python",
   "name": "python3"
  },
  "language_info": {
   "codemirror_mode": {
    "name": "ipython",
    "version": 3
   },
   "file_extension": ".py",
   "mimetype": "text/x-python",
   "name": "python",
   "nbconvert_exporter": "python",
   "pygments_lexer": "ipython3",
   "version": "3.9.13"
  }
 },
 "nbformat": 4,
 "nbformat_minor": 5
}
